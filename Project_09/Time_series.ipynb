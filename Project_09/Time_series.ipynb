{
 "cells": [
  {
   "cell_type": "markdown",
   "metadata": {
    "toc": true
   },
   "source": [
    "<h1>Содержание<span class=\"tocSkip\"></span></h1>\n",
    "<div class=\"toc\"><ul class=\"toc-item\"><li><span><a href=\"#Подготовка\" data-toc-modified-id=\"Подготовка-1\"><span class=\"toc-item-num\">1&nbsp;&nbsp;</span>Подготовка</a></span></li><li><span><a href=\"#Анализ\" data-toc-modified-id=\"Анализ-2\"><span class=\"toc-item-num\">2&nbsp;&nbsp;</span>Анализ</a></span></li><li><span><a href=\"#Обучение\" data-toc-modified-id=\"Обучение-3\"><span class=\"toc-item-num\">3&nbsp;&nbsp;</span>Обучение</a></span><ul class=\"toc-item\"><li><span><a href=\"#Создание-новых-признаков\" data-toc-modified-id=\"Создание-новых-признаков-3.1\"><span class=\"toc-item-num\">3.1&nbsp;&nbsp;</span>Создание новых признаков</a></span></li><li><span><a href=\"#Выбор-лучшей-модели\" data-toc-modified-id=\"Выбор-лучшей-модели-3.2\"><span class=\"toc-item-num\">3.2&nbsp;&nbsp;</span>Выбор лучшей модели</a></span></li></ul></li><li><span><a href=\"#Тестирование\" data-toc-modified-id=\"Тестирование-4\"><span class=\"toc-item-num\">4&nbsp;&nbsp;</span>Тестирование</a></span></li><li><span><a href=\"#Общий-вывод\" data-toc-modified-id=\"Общий-вывод-5\"><span class=\"toc-item-num\">5&nbsp;&nbsp;</span>Общий вывод</a></span></li></ul></div>"
   ]
  },
  {
   "cell_type": "markdown",
   "metadata": {},
   "source": [
    "#  Проект \"Прогнозирование заказов такси\""
   ]
  },
  {
   "cell_type": "markdown",
   "metadata": {},
   "source": [
    "Компания «Чётенькое такси» собрала исторические данные о заказах такси в аэропортах. Чтобы привлекать больше водителей в период пиковой нагрузки, нужно спрогнозировать количество заказов такси на следующий час. \n",
    "\n",
    "Необходимо построить модель предсказания количество заказов такси на следующий час, с условием:\n",
    "- значение метрики *RMSE* на тестовой выборке должно быть не больше 48.\n",
    "\n",
    "Компания предоставила исторические данные, которые лежат в файле `taxi.csv`. Количество заказов находится в столбце `num_orders` (от англ. *number of orders*, «число заказов»)."
   ]
  },
  {
   "cell_type": "markdown",
   "metadata": {},
   "source": [
    "## Подготовка"
   ]
  },
  {
   "cell_type": "markdown",
   "metadata": {},
   "source": [
    "Для начала работы импортируем все необходимые в прокте библиотеки:"
   ]
  },
  {
   "cell_type": "code",
   "execution_count": 1,
   "metadata": {},
   "outputs": [],
   "source": [
    "! pip install scikit-learn --upgrade -q"
   ]
  },
  {
   "cell_type": "code",
   "execution_count": 2,
   "metadata": {},
   "outputs": [],
   "source": [
    "import pandas as pd \n",
    "import matplotlib.pyplot as plt\n",
    "import numpy as np\n",
    "\n",
    "from statsmodels. tsa.stattools import adfuller\n",
    "\n",
    "from statsmodels.tsa.seasonal import seasonal_decompose\n",
    "\n",
    "from sklearn.model_selection import train_test_split, RandomizedSearchCV, TimeSeriesSplit\n",
    "\n",
    "from sklearn.pipeline import Pipeline\n",
    "\n",
    "from sklearn.linear_model import LinearRegression\n",
    "from sklearn.tree import DecisionTreeRegressor\n",
    "from sklearn.svm import SVR\n",
    "from lightgbm import LGBMRegressor\n",
    "from xgboost import XGBRegressor\n",
    "from catboost import CatBoostRegressor\n",
    "from sklearn.dummy import DummyRegressor\n",
    "\n",
    "from sklearn.metrics import root_mean_squared_error"
   ]
  },
  {
   "cell_type": "markdown",
   "metadata": {},
   "source": [
    "Загрузим данные о поездках и посмотрим на них:"
   ]
  },
  {
   "cell_type": "code",
   "execution_count": 3,
   "metadata": {},
   "outputs": [
    {
     "data": {
      "text/html": [
       "<div>\n",
       "<style scoped>\n",
       "    .dataframe tbody tr th:only-of-type {\n",
       "        vertical-align: middle;\n",
       "    }\n",
       "\n",
       "    .dataframe tbody tr th {\n",
       "        vertical-align: top;\n",
       "    }\n",
       "\n",
       "    .dataframe thead th {\n",
       "        text-align: right;\n",
       "    }\n",
       "</style>\n",
       "<table border=\"1\" class=\"dataframe\">\n",
       "  <thead>\n",
       "    <tr style=\"text-align: right;\">\n",
       "      <th></th>\n",
       "      <th>num_orders</th>\n",
       "    </tr>\n",
       "    <tr>\n",
       "      <th>datetime</th>\n",
       "      <th></th>\n",
       "    </tr>\n",
       "  </thead>\n",
       "  <tbody>\n",
       "    <tr>\n",
       "      <th>2018-03-01 00:00:00</th>\n",
       "      <td>9</td>\n",
       "    </tr>\n",
       "    <tr>\n",
       "      <th>2018-03-01 00:10:00</th>\n",
       "      <td>14</td>\n",
       "    </tr>\n",
       "    <tr>\n",
       "      <th>2018-03-01 00:20:00</th>\n",
       "      <td>28</td>\n",
       "    </tr>\n",
       "    <tr>\n",
       "      <th>2018-03-01 00:30:00</th>\n",
       "      <td>20</td>\n",
       "    </tr>\n",
       "    <tr>\n",
       "      <th>2018-03-01 00:40:00</th>\n",
       "      <td>32</td>\n",
       "    </tr>\n",
       "    <tr>\n",
       "      <th>2018-03-01 00:50:00</th>\n",
       "      <td>21</td>\n",
       "    </tr>\n",
       "    <tr>\n",
       "      <th>2018-03-01 01:00:00</th>\n",
       "      <td>7</td>\n",
       "    </tr>\n",
       "    <tr>\n",
       "      <th>2018-03-01 01:10:00</th>\n",
       "      <td>5</td>\n",
       "    </tr>\n",
       "    <tr>\n",
       "      <th>2018-03-01 01:20:00</th>\n",
       "      <td>17</td>\n",
       "    </tr>\n",
       "    <tr>\n",
       "      <th>2018-03-01 01:30:00</th>\n",
       "      <td>12</td>\n",
       "    </tr>\n",
       "  </tbody>\n",
       "</table>\n",
       "</div>"
      ],
      "text/plain": [
       "                     num_orders\n",
       "datetime                       \n",
       "2018-03-01 00:00:00           9\n",
       "2018-03-01 00:10:00          14\n",
       "2018-03-01 00:20:00          28\n",
       "2018-03-01 00:30:00          20\n",
       "2018-03-01 00:40:00          32\n",
       "2018-03-01 00:50:00          21\n",
       "2018-03-01 01:00:00           7\n",
       "2018-03-01 01:10:00           5\n",
       "2018-03-01 01:20:00          17\n",
       "2018-03-01 01:30:00          12"
      ]
     },
     "execution_count": 3,
     "metadata": {},
     "output_type": "execute_result"
    }
   ],
   "source": [
    "# Считываем данные и сохраняем в переменную taxi, сразу сделаем индексами дату и укажем формат даты индексам\n",
    "try:\n",
    "    taxi = pd.read_csv('/datasets/taxi.csv', index_col=[0], parse_dates=[0])\n",
    "except:\n",
    "    taxi = pd.read_csv('https://code.s3.yandex.net/datasets/taxi.csv', index_col=[0], parse_dates=[0])\n",
    "    \n",
    "# выводим первые 10 строк taxi\n",
    "taxi.head(10)"
   ]
  },
  {
   "cell_type": "markdown",
   "metadata": {},
   "source": [
    "Проверим даты на монотонность и посмотрим на информацию о датафрейме:"
   ]
  },
  {
   "cell_type": "code",
   "execution_count": 4,
   "metadata": {},
   "outputs": [
    {
     "name": "stdout",
     "output_type": "stream",
     "text": [
      "В хронологическом ли порядке расположены даты и время: True\n",
      "\n",
      "<class 'pandas.core.frame.DataFrame'>\n",
      "DatetimeIndex: 26496 entries, 2018-03-01 00:00:00 to 2018-08-31 23:50:00\n",
      "Data columns (total 1 columns):\n",
      " #   Column      Non-Null Count  Dtype\n",
      "---  ------      --------------  -----\n",
      " 0   num_orders  26496 non-null  int64\n",
      "dtypes: int64(1)\n",
      "memory usage: 414.0 KB\n"
     ]
    }
   ],
   "source": [
    "# сортировка индексов (дат) по возрастанию\n",
    "taxi = taxi.sort_index()\n",
    "\n",
    "print(f'В хронологическом ли порядке расположены даты и время: {taxi.index.is_monotonic}\\n')\n",
    "taxi.info()"
   ]
  },
  {
   "cell_type": "markdown",
   "metadata": {},
   "source": [
    "Вывод:\n",
    "- данные расположены в хронологическом порядке;\n",
    "- в нашем распоряжении находятся данные с марта по по август;\n",
    "- тип `num_orders` корректный, пропусков нет.\n",
    "\n",
    "Посмотрим на информацию о количестве заказов в датафрейме с помощью метода `describe`:"
   ]
  },
  {
   "cell_type": "code",
   "execution_count": 5,
   "metadata": {},
   "outputs": [
    {
     "data": {
      "text/html": [
       "<div>\n",
       "<style scoped>\n",
       "    .dataframe tbody tr th:only-of-type {\n",
       "        vertical-align: middle;\n",
       "    }\n",
       "\n",
       "    .dataframe tbody tr th {\n",
       "        vertical-align: top;\n",
       "    }\n",
       "\n",
       "    .dataframe thead th {\n",
       "        text-align: right;\n",
       "    }\n",
       "</style>\n",
       "<table border=\"1\" class=\"dataframe\">\n",
       "  <thead>\n",
       "    <tr style=\"text-align: right;\">\n",
       "      <th></th>\n",
       "      <th>num_orders</th>\n",
       "    </tr>\n",
       "  </thead>\n",
       "  <tbody>\n",
       "    <tr>\n",
       "      <th>count</th>\n",
       "      <td>26496.000000</td>\n",
       "    </tr>\n",
       "    <tr>\n",
       "      <th>mean</th>\n",
       "      <td>14.070463</td>\n",
       "    </tr>\n",
       "    <tr>\n",
       "      <th>std</th>\n",
       "      <td>9.211330</td>\n",
       "    </tr>\n",
       "    <tr>\n",
       "      <th>min</th>\n",
       "      <td>0.000000</td>\n",
       "    </tr>\n",
       "    <tr>\n",
       "      <th>25%</th>\n",
       "      <td>8.000000</td>\n",
       "    </tr>\n",
       "    <tr>\n",
       "      <th>50%</th>\n",
       "      <td>13.000000</td>\n",
       "    </tr>\n",
       "    <tr>\n",
       "      <th>75%</th>\n",
       "      <td>19.000000</td>\n",
       "    </tr>\n",
       "    <tr>\n",
       "      <th>max</th>\n",
       "      <td>119.000000</td>\n",
       "    </tr>\n",
       "  </tbody>\n",
       "</table>\n",
       "</div>"
      ],
      "text/plain": [
       "         num_orders\n",
       "count  26496.000000\n",
       "mean      14.070463\n",
       "std        9.211330\n",
       "min        0.000000\n",
       "25%        8.000000\n",
       "50%       13.000000\n",
       "75%       19.000000\n",
       "max      119.000000"
      ]
     },
     "execution_count": 5,
     "metadata": {},
     "output_type": "execute_result"
    }
   ],
   "source": [
    "# информация о количестве заказов\n",
    "taxi.describe()"
   ]
  },
  {
   "cell_type": "markdown",
   "metadata": {},
   "source": [
    "Бывает от нуля до 119 заказов за 10 минут,  а в среднем 14 заказов в 10 минут.\n",
    "\n",
    "Т.к. необходимо построить модель пронозирования заказов на следующий **час**, выполним ресемплирование данных по одному часу:"
   ]
  },
  {
   "cell_type": "code",
   "execution_count": 6,
   "metadata": {},
   "outputs": [
    {
     "name": "stdout",
     "output_type": "stream",
     "text": [
      "Размер датафрейма после ресемплирования: (4416, 1)\n"
     ]
    }
   ],
   "source": [
    "# ресемплирование данных по одному часу\n",
    "taxi = taxi.resample('1H').sum()\n",
    "\n",
    "print(f'Размер датафрейма после ресемплирования: {taxi.shape}')"
   ]
  },
  {
   "cell_type": "markdown",
   "metadata": {},
   "source": [
    "Датафрейм \"похудел\" в 6 раз."
   ]
  },
  {
   "cell_type": "markdown",
   "metadata": {},
   "source": [
    "Вывод:\n",
    "- данные считались корректно;\n",
    "- тип данных корректен;\n",
    "- имеется информация о заказах в хронологическом порядке с марта по август 2018 г.;\n",
    "- выполенено ресемплирование по одному часу."
   ]
  },
  {
   "cell_type": "markdown",
   "metadata": {},
   "source": [
    "## Анализ"
   ]
  },
  {
   "cell_type": "markdown",
   "metadata": {},
   "source": [
    "Посмотрим на график скользящего среднего количества заказов в час, рассчитанное за 3 суток (72 часа):"
   ]
  },
  {
   "cell_type": "code",
   "execution_count": 7,
   "metadata": {},
   "outputs": [
    {
     "data": {
      "image/png": "[encoded data removed]",
      "text/plain": [
       "<Figure size 1296x648 with 1 Axes>"
      ]
     },
     "metadata": {
      "needs_background": "light"
     },
     "output_type": "display_data"
    }
   ],
   "source": [
    "# фигура для графика\n",
    "fig, axes = plt.subplots(figsize=(18, 9))\n",
    "\n",
    "# построение графика\n",
    "taxi.plot(ax=axes)\n",
    "taxi.shift().rolling(72).mean().plot(ax=axes)\n",
    "plt.legend(['Количество заказов в час', 'Скользящее среднее количество заказов в час'], fontsize=15)\n",
    "plt.title('График скользящего среднего количества заказов в час', fontsize=20, y=1.05)\n",
    "plt.xlabel('Дата', fontsize=15)\n",
    "plt.ylabel('Количество заказов в час', fontsize=15)\n",
    "plt.grid()\n",
    "plt.show()"
   ]
  },
  {
   "cell_type": "markdown",
   "metadata": {},
   "source": [
    "На графике видна тенденция к увеличению количесвтва заказов в час.\n",
    "\n",
    "Теперь проверим, является ли временной ряд стационарным, для этого выполним расширенный тест Дики-Фуллера, в котором будем использовать следующие гипотезы:\n",
    "\n",
    "- нулевая гипотеза: временной ряд является нестационарным (он имеет некоторую структуру, зависящую от времени, и не имеет постоянной дисперсии во времени)\n",
    "- альтернативная гипотеза: временной ряд является стационарным.\n",
    "\n",
    "Проверим эти гипотезы при разных уровнях значимости:"
   ]
  },
  {
   "cell_type": "code",
   "execution_count": 8,
   "metadata": {},
   "outputs": [
    {
     "name": "stdout",
     "output_type": "stream",
     "text": [
      "p-value: 0.029\n",
      "\n",
      "Проверка гипотез при уровне значимости alpha: 0.05\n",
      "Отвергаем нулевую гипотезу - временной ряд стационарный\n",
      "\n",
      "Проверка гипотез при уровне значимости alpha: 0.01\n",
      "Нет оснований отвергнуть нулевую гипотезу - временной ряд нестационарный\n"
     ]
    }
   ],
   "source": [
    "# уровни значимости 5% и 1%\n",
    "alpha_1 = 0.05\n",
    "alpha_2 = 0.01\n",
    "\n",
    "# проведение теста Дики-Фуллера на стационарность\n",
    "result = adfuller(taxi)\n",
    "\n",
    "print(f'p-value: {result[1].round(3)}')\n",
    "\n",
    "for i in alpha_1, alpha_2:\n",
    "    print(f'\\nПроверка гипотез при уровне значимости alpha: {i}')\n",
    "    if result[1] < i:\n",
    "        print(\"Отвергаем нулевую гипотезу - временной ряд стационарный\")\n",
    "    else:\n",
    "        print(\"Нет оснований отвергнуть нулевую гипотезу - временной ряд нестационарный\")"
   ]
  },
  {
   "cell_type": "markdown",
   "metadata": {},
   "source": [
    "Значение `p-value` получилось между двумя уровнями значимости и если брать уровень значимости в 5%, то ряд можно считать стационарным, а если брать уровень значимости в 1% - ряд нельзя считать стационарным, но 1% это уж слишком жесткий критерий, поэтому будем считать что наш ряд стационарен."
   ]
  },
  {
   "cell_type": "markdown",
   "metadata": {},
   "source": [
    "Посмотрим на тренды и сезонность:"
   ]
  },
  {
   "cell_type": "code",
   "execution_count": 9,
   "metadata": {},
   "outputs": [],
   "source": [
    "# разложение временного ряда на составляющие\n",
    "decomposed = seasonal_decompose(taxi)"
   ]
  },
  {
   "cell_type": "code",
   "execution_count": 10,
   "metadata": {},
   "outputs": [
    {
     "data": {
      "image/png": "[encoded data removed]",
      "text/plain": [
       "<Figure size 1296x1296 with 2 Axes>"
      ]
     },
     "metadata": {
      "needs_background": "light"
     },
     "output_type": "display_data"
    }
   ],
   "source": [
    "# построение фигуры для графиков\n",
    "fig, axes = plt.subplots(2, 1, figsize=(18, 18))\n",
    "\n",
    "# построение графика тренда\n",
    "decomposed.trend.plot(ax=axes[0], grid=True)\n",
    "axes[0].set_title('Тренд', fontsize=20)\n",
    "axes[0].set_xlabel('Месяц', fontsize=15)\n",
    "axes[0].set_ylabel('Количество заказов', fontsize=15)\n",
    "\n",
    "# построение графика сезонности\n",
    "decomposed.seasonal.plot(ax=axes[1], grid=True)\n",
    "axes[1].set_title('Сезонность', fontsize=20)\n",
    "axes[1].set_xlabel('Месяц', fontsize=15)\n",
    "axes[1].set_ylabel('Количество заказов', fontsize=15)\n",
    "\n",
    "plt.show()"
   ]
  },
  {
   "cell_type": "markdown",
   "metadata": {},
   "source": [
    "На графике виден тренд к повышению количества заказов с начала апреля, но чтобы говорить про сезонность недостаточно данных (всего пол года).\n",
    "\n",
    "Уменьшим масштаб до двух дней:"
   ]
  },
  {
   "cell_type": "code",
   "execution_count": 11,
   "metadata": {},
   "outputs": [
    {
     "data": {
      "image/png": "[encoded data removed]",
      "text/plain": [
       "<Figure size 1296x432 with 1 Axes>"
      ]
     },
     "metadata": {
      "needs_background": "light"
     },
     "output_type": "display_data"
    }
   ],
   "source": [
    "# построение графика сезонности по часам\n",
    "decomposed.seasonal['2018-03-01':'2018-03-02'].plot(figsize=(18, 6), grid=True)\n",
    "plt.title('Сезонность по часам', fontsize=20)\n",
    "plt.xlabel('Время', fontsize=15)\n",
    "plt.ylabel('Количество заказов', fontsize=15)\n",
    "plt.show()"
   ]
  },
  {
   "cell_type": "markdown",
   "metadata": {},
   "source": [
    "По графику видно, что:\n",
    "- около 6 утра, самое малое количество заказов;\n",
    "- потом идет несколько пиков в 10 утра и 16 дня;\n",
    "- всех больше заказов в полночь.\n",
    "\n",
    "Посмотрим на сезонность при ресемплировании данных по одному дню:"
   ]
  },
  {
   "cell_type": "code",
   "execution_count": 12,
   "metadata": {},
   "outputs": [
    {
     "data": {
      "image/png": "[encoded data removed]",
      "text/plain": [
       "<Figure size 1296x432 with 1 Axes>"
      ]
     },
     "metadata": {
      "needs_background": "light"
     },
     "output_type": "display_data"
    }
   ],
   "source": [
    "# построение графика сезонности по дням\n",
    "seasonal_decompose(taxi.resample('1D').sum()).seasonal['2018-03-05':'2018-03-12'].plot(figsize=(18, 6), grid=True)\n",
    "plt.title('Сезонность по дням', fontsize=20)\n",
    "plt.xlabel('день', fontsize=15)\n",
    "plt.ylabel('Количество заказов', fontsize=15)\n",
    "plt.show()"
   ]
  },
  {
   "cell_type": "markdown",
   "metadata": {},
   "source": [
    "На графике видно, что:\n",
    "- по понедельникам (пятое марта был понедельник) и пятницам больше заказов;\n",
    "- по вторникам и воскресеньям заказов меньше всех."
   ]
  },
  {
   "cell_type": "markdown",
   "metadata": {},
   "source": [
    "Вывод:\n",
    "- есть тренд к увеличению количества заказов в час;\n",
    "- при уровне значимости в 5% ряд можно считать стационарным;\n",
    "- есть пики заказов в 10, 16 и 00 часов дня;\n",
    "- в понедельник и пятницу больше всего заказов."
   ]
  },
  {
   "cell_type": "markdown",
   "metadata": {},
   "source": [
    "## Обучение"
   ]
  },
  {
   "cell_type": "markdown",
   "metadata": {},
   "source": [
    "### Создание новых признаков"
   ]
  },
  {
   "cell_type": "markdown",
   "metadata": {},
   "source": [
    "С помощью функции `new_features` добавим несколько новых признаков:\n",
    "- календарные признаки (год и месяц не будем вводить, т.к. данные всего за пол года):\n",
    "    - день месяца `day`;\n",
    "    - день недели `day_of_week`;\n",
    "- отстающие значения:\n",
    "    - до 24 часов: `lag_1` ... `lag_24`;\n",
    "- скользящее среднее за 6 часов `rolling_mean`:"
   ]
  },
  {
   "cell_type": "code",
   "execution_count": 13,
   "metadata": {},
   "outputs": [],
   "source": [
    "# функция для создания новых признаков\n",
    "def new_features(data, target, lag, rolling_mean_size):\n",
    "    # data - датафрейм\n",
    "    # target - целевой признак\n",
    "    # lag - величина отставание\n",
    "    # rolling_mean_size - размер окна скользящего среднего\n",
    "    \n",
    "    # создание копии датафрейма\n",
    "    df = data.copy()\n",
    "    \n",
    "    # создание календарных признаков\n",
    "    df['day'] = df.index.day\n",
    "    df['day_of_week'] = df.index.dayofweek\n",
    "    \n",
    "    # создание отстающих значений\n",
    "    for i in range(1, lag + 1):\n",
    "        df['lag_' + str(i)] = df[target].shift(i)\n",
    "\n",
    "    # создание скользящего среднего\n",
    "    df['rolling_mean'] = df[target].shift().rolling(rolling_mean_size).mean()\n",
    "    \n",
    "    # возвращение датфрейма с удалением строк с пропусками\n",
    "    return df.dropna()"
   ]
  },
  {
   "cell_type": "code",
   "execution_count": 14,
   "metadata": {},
   "outputs": [
    {
     "name": "stdout",
     "output_type": "stream",
     "text": [
      "Размер taxi_final: (4392, 28)\n"
     ]
    }
   ],
   "source": [
    "# добавление новых признаков\n",
    "taxi_final = new_features(taxi, 'num_orders', 24, 6)\n",
    "\n",
    "print(f'Размер taxi_final: {taxi_final.shape}')"
   ]
  },
  {
   "cell_type": "markdown",
   "metadata": {},
   "source": [
    "Данные готовы, теперь их можно разделить их на тренировочную и тестовую выборки, в соотношении 9:1"
   ]
  },
  {
   "cell_type": "code",
   "execution_count": 15,
   "metadata": {},
   "outputs": [],
   "source": [
    "# разделение на тренировочную и тестовую выборки\n",
    "X_train, X_test, y_train, y_test = train_test_split(\n",
    "    taxi_final.drop('num_orders', axis=1),\n",
    "    taxi_final['num_orders'],\n",
    "    test_size = 0.1, \n",
    "    shuffle=False # разделение без перемешивания\n",
    ")"
   ]
  },
  {
   "cell_type": "code",
   "execution_count": 16,
   "metadata": {
    "scrolled": true
   },
   "outputs": [
    {
     "name": "stdout",
     "output_type": "stream",
     "text": [
      "\n",
      "Размер тренировочной выборки X_train: (3952, 27)\n",
      "Размер тренировочного целевого признака y_train: (3952,)\n",
      "Размер тестовой выборки X_test: (440, 27)\n",
      "Размер тестового целевого признака y_test: (440,)\n",
      "\n"
     ]
    }
   ],
   "source": [
    "print(f'''\n",
    "Размер тренировочной выборки X_train: {X_train.shape}\n",
    "Размер тренировочного целевого признака y_train: {y_train.shape}\n",
    "Размер тестовой выборки X_test: {X_test.shape}\n",
    "Размер тестового целевого признака y_test: {y_test.shape}\n",
    "''')"
   ]
  },
  {
   "cell_type": "markdown",
   "metadata": {},
   "source": [
    "Разделение прошло корректно."
   ]
  },
  {
   "cell_type": "markdown",
   "metadata": {},
   "source": [
    "### Выбор лучшей модели"
   ]
  },
  {
   "cell_type": "markdown",
   "metadata": {},
   "source": [
    "Теперь создадим пайплайн для модели: "
   ]
  },
  {
   "cell_type": "code",
   "execution_count": 17,
   "metadata": {},
   "outputs": [],
   "source": [
    "# создание пайплайна:\n",
    "pipe_model = Pipeline([\n",
    "    ('models', LinearRegression())\n",
    "])"
   ]
  },
  {
   "cell_type": "markdown",
   "metadata": {},
   "source": [
    "Теперь создадим словарь с моделями с гиперпараметрами:\n",
    "- `LinearRegression()`;\n",
    "- `DecisionTreeRegressor()`:\n",
    "    - `max_depth` - ограничение максимальной глубины дерева;\n",
    "    - `max_features` - число листьев;\n",
    "    - `min_samples_leaf` - минимальное число объектов в листе;\n",
    "- `LGBMRegressor()`:\n",
    "    - `max_depth` - максимальная глубина дерева;\n",
    "- `SVR`:\n",
    "    - `kernel` - ядро;\n",
    "- `XGBRegressor`:\n",
    "    - `max_depth` - ограничение максимальной глубины дерева;\n",
    "- `CatBoostRegressor`:\n",
    "    - `depth` - ограничение максимальной глубины дерева"
   ]
  },
  {
   "cell_type": "code",
   "execution_count": 18,
   "metadata": {},
   "outputs": [],
   "source": [
    "param_grid = [\n",
    "    # словарь для модели LinearRegression() \n",
    "    {\n",
    "        'models':[LinearRegression()] # модель\n",
    "    },\n",
    "    \n",
    "    # словарь для модели DecisionTreeRegressor()\n",
    "    {\n",
    "        'models': [DecisionTreeRegressor(random_state=33)], # модель\n",
    "        'models__max_depth': range(8, 15), # ограничение максимальной глубины дерева\n",
    "        'models__max_features': ['sqrt', 'log2', None], # число листьев\n",
    "        'models__min_samples_leaf': [1, 3, 5] # минимальное число объектов в листе\n",
    "    },\n",
    "    \n",
    "    # словарь для модели LGBMRegressor()\n",
    "    {\n",
    "        'models': [LGBMRegressor(random_state=33)], # модель\n",
    "        'models__max_depth': range(5, 8) # максимальная глубина дерева\n",
    "    },\n",
    "    \n",
    "    # словарь для модели SVR()\n",
    "    {\n",
    "        'models': [SVR()], # модель\n",
    "        'models__kernel': ['linear', 'poly', 'rbf'] # ядро\n",
    "    },\n",
    "    \n",
    "    # словарь для модели XGBRegressor()\n",
    "    {\n",
    "        'models': [XGBRegressor(random_state=33)], # модель\n",
    "        'models__max_depth': range(5, 8), # ограничение максимальной глубины дерева\n",
    "    },\n",
    "    \n",
    "    # словарь для модели CatBoostRegressor()\n",
    "    {\n",
    "        'models': [CatBoostRegressor(random_state=33, verbose=200)], # модель\n",
    "        'models__depth': range(5, 8) # ограничение максимальной глубины дерева\n",
    "    }\n",
    "    \n",
    "]"
   ]
  },
  {
   "cell_type": "markdown",
   "metadata": {},
   "source": [
    "Теперь с помощью `RandomizedSearchCV` выберем лучшую модель:"
   ]
  },
  {
   "cell_type": "code",
   "execution_count": 19,
   "metadata": {},
   "outputs": [],
   "source": [
    "# выбор лучшей модели с помощью RandomizedSearchCV\n",
    "rs = RandomizedSearchCV(\n",
    "    pipe_model, \n",
    "    param_grid,\n",
    "    random_state=33,\n",
    "    cv=TimeSeriesSplit(),\n",
    "    scoring='neg_root_mean_squared_error',\n",
    "    n_jobs=-1\n",
    ")"
   ]
  },
  {
   "cell_type": "code",
   "execution_count": 20,
   "metadata": {},
   "outputs": [
    {
     "name": "stdout",
     "output_type": "stream",
     "text": [
      "Learning rate set to 0.03836\n",
      "0:\tlearn: 29.1369405\ttotal: 219ms\tremaining: 3m 38s\n",
      "200:\tlearn: 13.3648139\ttotal: 1.91s\tremaining: 7.59s\n",
      "400:\tlearn: 9.7211681\ttotal: 3.49s\tremaining: 5.22s\n",
      "600:\tlearn: 7.3119932\ttotal: 5.51s\tremaining: 3.66s\n",
      "800:\tlearn: 5.4828178\ttotal: 7s\tremaining: 1.74s\n",
      "999:\tlearn: 4.2037025\ttotal: 8.38s\tremaining: 0us\n",
      "Learning rate set to 0.042779\n",
      "0:\tlearn: 29.8208012\ttotal: 3.48ms\tremaining: 3.48s\n",
      "200:\tlearn: 15.4694725\ttotal: 1.93s\tremaining: 7.67s\n",
      "400:\tlearn: 12.3705234\ttotal: 4.27s\tremaining: 6.38s\n",
      "600:\tlearn: 10.2016744\ttotal: 6.1s\tremaining: 4.05s\n",
      "800:\tlearn: 8.3863213\ttotal: 8.63s\tremaining: 2.14s\n",
      "999:\tlearn: 7.0039870\ttotal: 10.6s\tremaining: 0us\n",
      "Learning rate set to 0.045602\n",
      "0:\tlearn: 31.3060696\ttotal: 4.19ms\tremaining: 4.18s\n",
      "200:\tlearn: 16.5952919\ttotal: 2.03s\tremaining: 8.07s\n",
      "400:\tlearn: 13.9071850\ttotal: 2.67s\tremaining: 3.98s\n",
      "600:\tlearn: 11.8353780\ttotal: 3.32s\tremaining: 2.21s\n",
      "800:\tlearn: 10.3050203\ttotal: 4.06s\tremaining: 1.01s\n",
      "999:\tlearn: 8.9980018\ttotal: 4.81s\tremaining: 0us\n",
      "Learning rate set to 0.047719\n",
      "0:\tlearn: 32.6606701\ttotal: 3.89ms\tremaining: 3.88s\n",
      "200:\tlearn: 17.9443666\ttotal: 1.11s\tremaining: 4.4s\n",
      "400:\tlearn: 15.2604318\ttotal: 1.81s\tremaining: 2.7s\n",
      "600:\tlearn: 13.2868988\ttotal: 2.62s\tremaining: 1.74s\n",
      "800:\tlearn: 11.7753405\ttotal: 3.42s\tremaining: 850ms\n",
      "999:\tlearn: 10.5418834\ttotal: 4.22s\tremaining: 0us\n",
      "Learning rate set to 0.049429\n",
      "0:\tlearn: 34.0185703\ttotal: 6.93ms\tremaining: 6.92s\n",
      "200:\tlearn: 19.2088040\ttotal: 973ms\tremaining: 3.87s\n",
      "400:\tlearn: 16.5359249\ttotal: 1.92s\tremaining: 2.87s\n",
      "600:\tlearn: 14.5845291\ttotal: 2.96s\tremaining: 1.97s\n",
      "800:\tlearn: 13.1951322\ttotal: 3.78s\tremaining: 938ms\n",
      "999:\tlearn: 12.0102215\ttotal: 4.93s\tremaining: 0us\n",
      "Learning rate set to 0.050872\n",
      "0:\tlearn: 37.8239358\ttotal: 8.01ms\tremaining: 8.01s\n",
      "200:\tlearn: 21.3926999\ttotal: 1.21s\tremaining: 4.79s\n",
      "400:\tlearn: 18.4170607\ttotal: 2.36s\tremaining: 3.52s\n",
      "600:\tlearn: 16.4163017\ttotal: 3.42s\tremaining: 2.27s\n",
      "800:\tlearn: 14.8739913\ttotal: 4.45s\tremaining: 1.11s\n",
      "999:\tlearn: 13.6255485\ttotal: 5.27s\tremaining: 0us\n",
      "\n",
      "Лучшая модель и её параметры:\n",
      "\n",
      " {'models__depth': 5, 'models': <catboost.core.CatBoostRegressor object at 0x7f7343392d60>}\n",
      "\n",
      "Метрика RMSE лучшей модели на тренировочной выборке: 24.93\n"
     ]
    }
   ],
   "source": [
    "# обучение лучшей модели на тренировочной выборке\n",
    "rs.fit(X_train, y_train)\n",
    "\n",
    "print('\\nЛучшая модель и её параметры:\\n\\n', rs.best_params_)\n",
    "print ('\\nМетрика RMSE лучшей модели на тренировочной выборке:', -(rs.best_score_.round(2)))"
   ]
  },
  {
   "cell_type": "markdown",
   "metadata": {},
   "source": [
    "Лучшей моделью стала модель `CatBoostRegressor` с максимальной глубиной дерева `depth`равной 5 и `RMSE` равным 24,93."
   ]
  },
  {
   "cell_type": "markdown",
   "metadata": {},
   "source": [
    "## Тестирование"
   ]
  },
  {
   "cell_type": "markdown",
   "metadata": {},
   "source": [
    "Извлечем лучшую модель, обучим ее на тренировочных данных, получим предсказания на тестовых и помотрим на метрику `RMSE`:"
   ]
  },
  {
   "cell_type": "code",
   "execution_count": 21,
   "metadata": {},
   "outputs": [],
   "source": [
    "# получение лучшей модели\n",
    "best_model = rs.best_estimator_"
   ]
  },
  {
   "cell_type": "code",
   "execution_count": 22,
   "metadata": {},
   "outputs": [
    {
     "name": "stdout",
     "output_type": "stream",
     "text": [
      "Learning rate set to 0.050872\n",
      "0:\tlearn: 37.8239358\ttotal: 4.21ms\tremaining: 4.21s\n",
      "200:\tlearn: 21.3926999\ttotal: 1.05s\tremaining: 4.18s\n",
      "400:\tlearn: 18.4170607\ttotal: 1.97s\tremaining: 2.94s\n",
      "600:\tlearn: 16.4163017\ttotal: 3.1s\tremaining: 2.06s\n",
      "800:\tlearn: 14.8739913\ttotal: 4.08s\tremaining: 1.01s\n",
      "999:\tlearn: 13.6255485\ttotal: 5s\tremaining: 0us\n"
     ]
    },
    {
     "data": {
      "text/html": [
       "<style>#sk-container-id-1 {\n",
       "  /* Definition of color scheme common for light and dark mode */\n",
       "  --sklearn-color-text: black;\n",
       "  --sklearn-color-line: gray;\n",
       "  /* Definition of color scheme for unfitted estimators */\n",
       "  --sklearn-color-unfitted-level-0: #fff5e6;\n",
       "  --sklearn-color-unfitted-level-1: #f6e4d2;\n",
       "  --sklearn-color-unfitted-level-2: #ffe0b3;\n",
       "  --sklearn-color-unfitted-level-3: chocolate;\n",
       "  /* Definition of color scheme for fitted estimators */\n",
       "  --sklearn-color-fitted-level-0: #f0f8ff;\n",
       "  --sklearn-color-fitted-level-1: #d4ebff;\n",
       "  --sklearn-color-fitted-level-2: #b3dbfd;\n",
       "  --sklearn-color-fitted-level-3: cornflowerblue;\n",
       "\n",
       "  /* Specific color for light theme */\n",
       "  --sklearn-color-text-on-default-background: var(--sg-text-color, var(--theme-code-foreground, var(--jp-content-font-color1, black)));\n",
       "  --sklearn-color-background: var(--sg-background-color, var(--theme-background, var(--jp-layout-color0, white)));\n",
       "  --sklearn-color-border-box: var(--sg-text-color, var(--theme-code-foreground, var(--jp-content-font-color1, black)));\n",
       "  --sklearn-color-icon: #696969;\n",
       "\n",
       "  @media (prefers-color-scheme: dark) {\n",
       "    /* Redefinition of color scheme for dark theme */\n",
       "    --sklearn-color-text-on-default-background: var(--sg-text-color, var(--theme-code-foreground, var(--jp-content-font-color1, white)));\n",
       "    --sklearn-color-background: var(--sg-background-color, var(--theme-background, var(--jp-layout-color0, #111)));\n",
       "    --sklearn-color-border-box: var(--sg-text-color, var(--theme-code-foreground, var(--jp-content-font-color1, white)));\n",
       "    --sklearn-color-icon: #878787;\n",
       "  }\n",
       "}\n",
       "\n",
       "#sk-container-id-1 {\n",
       "  color: var(--sklearn-color-text);\n",
       "}\n",
       "\n",
       "#sk-container-id-1 pre {\n",
       "  padding: 0;\n",
       "}\n",
       "\n",
       "#sk-container-id-1 input.sk-hidden--visually {\n",
       "  border: 0;\n",
       "  clip: rect(1px 1px 1px 1px);\n",
       "  clip: rect(1px, 1px, 1px, 1px);\n",
       "  height: 1px;\n",
       "  margin: -1px;\n",
       "  overflow: hidden;\n",
       "  padding: 0;\n",
       "  position: absolute;\n",
       "  width: 1px;\n",
       "}\n",
       "\n",
       "#sk-container-id-1 div.sk-dashed-wrapped {\n",
       "  border: 1px dashed var(--sklearn-color-line);\n",
       "  margin: 0 0.4em 0.5em 0.4em;\n",
       "  box-sizing: border-box;\n",
       "  padding-bottom: 0.4em;\n",
       "  background-color: var(--sklearn-color-background);\n",
       "}\n",
       "\n",
       "#sk-container-id-1 div.sk-container {\n",
       "  /* jupyter's `normalize.less` sets `[hidden] { display: none; }`\n",
       "     but bootstrap.min.css set `[hidden] { display: none !important; }`\n",
       "     so we also need the `!important` here to be able to override the\n",
       "     default hidden behavior on the sphinx rendered scikit-learn.org.\n",
       "     See: https://github.com/scikit-learn/scikit-learn/issues/21755 */\n",
       "  display: inline-block !important;\n",
       "  position: relative;\n",
       "}\n",
       "\n",
       "#sk-container-id-1 div.sk-text-repr-fallback {\n",
       "  display: none;\n",
       "}\n",
       "\n",
       "div.sk-parallel-item,\n",
       "div.sk-serial,\n",
       "div.sk-item {\n",
       "  /* draw centered vertical line to link estimators */\n",
       "  background-image: linear-gradient(var(--sklearn-color-text-on-default-background), var(--sklearn-color-text-on-default-background));\n",
       "  background-size: 2px 100%;\n",
       "  background-repeat: no-repeat;\n",
       "  background-position: center center;\n",
       "}\n",
       "\n",
       "/* Parallel-specific style estimator block */\n",
       "\n",
       "#sk-container-id-1 div.sk-parallel-item::after {\n",
       "  content: \"\";\n",
       "  width: 100%;\n",
       "  border-bottom: 2px solid var(--sklearn-color-text-on-default-background);\n",
       "  flex-grow: 1;\n",
       "}\n",
       "\n",
       "#sk-container-id-1 div.sk-parallel {\n",
       "  display: flex;\n",
       "  align-items: stretch;\n",
       "  justify-content: center;\n",
       "  background-color: var(--sklearn-color-background);\n",
       "  position: relative;\n",
       "}\n",
       "\n",
       "#sk-container-id-1 div.sk-parallel-item {\n",
       "  display: flex;\n",
       "  flex-direction: column;\n",
       "}\n",
       "\n",
       "#sk-container-id-1 div.sk-parallel-item:first-child::after {\n",
       "  align-self: flex-end;\n",
       "  width: 50%;\n",
       "}\n",
       "\n",
       "#sk-container-id-1 div.sk-parallel-item:last-child::after {\n",
       "  align-self: flex-start;\n",
       "  width: 50%;\n",
       "}\n",
       "\n",
       "#sk-container-id-1 div.sk-parallel-item:only-child::after {\n",
       "  width: 0;\n",
       "}\n",
       "\n",
       "/* Serial-specific style estimator block */\n",
       "\n",
       "#sk-container-id-1 div.sk-serial {\n",
       "  display: flex;\n",
       "  flex-direction: column;\n",
       "  align-items: center;\n",
       "  background-color: var(--sklearn-color-background);\n",
       "  padding-right: 1em;\n",
       "  padding-left: 1em;\n",
       "}\n",
       "\n",
       "\n",
       "/* Toggleable style: style used for estimator/Pipeline/ColumnTransformer box that is\n",
       "clickable and can be expanded/collapsed.\n",
       "- Pipeline and ColumnTransformer use this feature and define the default style\n",
       "- Estimators will overwrite some part of the style using the `sk-estimator` class\n",
       "*/\n",
       "\n",
       "/* Pipeline and ColumnTransformer style (default) */\n",
       "\n",
       "#sk-container-id-1 div.sk-toggleable {\n",
       "  /* Default theme specific background. It is overwritten whether we have a\n",
       "  specific estimator or a Pipeline/ColumnTransformer */\n",
       "  background-color: var(--sklearn-color-background);\n",
       "}\n",
       "\n",
       "/* Toggleable label */\n",
       "#sk-container-id-1 label.sk-toggleable__label {\n",
       "  cursor: pointer;\n",
       "  display: block;\n",
       "  width: 100%;\n",
       "  margin-bottom: 0;\n",
       "  padding: 0.5em;\n",
       "  box-sizing: border-box;\n",
       "  text-align: center;\n",
       "}\n",
       "\n",
       "#sk-container-id-1 label.sk-toggleable__label-arrow:before {\n",
       "  /* Arrow on the left of the label */\n",
       "  content: \"▸\";\n",
       "  float: left;\n",
       "  margin-right: 0.25em;\n",
       "  color: var(--sklearn-color-icon);\n",
       "}\n",
       "\n",
       "#sk-container-id-1 label.sk-toggleable__label-arrow:hover:before {\n",
       "  color: var(--sklearn-color-text);\n",
       "}\n",
       "\n",
       "/* Toggleable content - dropdown */\n",
       "\n",
       "#sk-container-id-1 div.sk-toggleable__content {\n",
       "  max-height: 0;\n",
       "  max-width: 0;\n",
       "  overflow: hidden;\n",
       "  text-align: left;\n",
       "  /* unfitted */\n",
       "  background-color: var(--sklearn-color-unfitted-level-0);\n",
       "}\n",
       "\n",
       "#sk-container-id-1 div.sk-toggleable__content.fitted {\n",
       "  /* fitted */\n",
       "  background-color: var(--sklearn-color-fitted-level-0);\n",
       "}\n",
       "\n",
       "#sk-container-id-1 div.sk-toggleable__content pre {\n",
       "  margin: 0.2em;\n",
       "  border-radius: 0.25em;\n",
       "  color: var(--sklearn-color-text);\n",
       "  /* unfitted */\n",
       "  background-color: var(--sklearn-color-unfitted-level-0);\n",
       "}\n",
       "\n",
       "#sk-container-id-1 div.sk-toggleable__content.fitted pre {\n",
       "  /* unfitted */\n",
       "  background-color: var(--sklearn-color-fitted-level-0);\n",
       "}\n",
       "\n",
       "#sk-container-id-1 input.sk-toggleable__control:checked~div.sk-toggleable__content {\n",
       "  /* Expand drop-down */\n",
       "  max-height: 200px;\n",
       "  max-width: 100%;\n",
       "  overflow: auto;\n",
       "}\n",
       "\n",
       "#sk-container-id-1 input.sk-toggleable__control:checked~label.sk-toggleable__label-arrow:before {\n",
       "  content: \"▾\";\n",
       "}\n",
       "\n",
       "/* Pipeline/ColumnTransformer-specific style */\n",
       "\n",
       "#sk-container-id-1 div.sk-label input.sk-toggleable__control:checked~label.sk-toggleable__label {\n",
       "  color: var(--sklearn-color-text);\n",
       "  background-color: var(--sklearn-color-unfitted-level-2);\n",
       "}\n",
       "\n",
       "#sk-container-id-1 div.sk-label.fitted input.sk-toggleable__control:checked~label.sk-toggleable__label {\n",
       "  background-color: var(--sklearn-color-fitted-level-2);\n",
       "}\n",
       "\n",
       "/* Estimator-specific style */\n",
       "\n",
       "/* Colorize estimator box */\n",
       "#sk-container-id-1 div.sk-estimator input.sk-toggleable__control:checked~label.sk-toggleable__label {\n",
       "  /* unfitted */\n",
       "  background-color: var(--sklearn-color-unfitted-level-2);\n",
       "}\n",
       "\n",
       "#sk-container-id-1 div.sk-estimator.fitted input.sk-toggleable__control:checked~label.sk-toggleable__label {\n",
       "  /* fitted */\n",
       "  background-color: var(--sklearn-color-fitted-level-2);\n",
       "}\n",
       "\n",
       "#sk-container-id-1 div.sk-label label.sk-toggleable__label,\n",
       "#sk-container-id-1 div.sk-label label {\n",
       "  /* The background is the default theme color */\n",
       "  color: var(--sklearn-color-text-on-default-background);\n",
       "}\n",
       "\n",
       "/* On hover, darken the color of the background */\n",
       "#sk-container-id-1 div.sk-label:hover label.sk-toggleable__label {\n",
       "  color: var(--sklearn-color-text);\n",
       "  background-color: var(--sklearn-color-unfitted-level-2);\n",
       "}\n",
       "\n",
       "/* Label box, darken color on hover, fitted */\n",
       "#sk-container-id-1 div.sk-label.fitted:hover label.sk-toggleable__label.fitted {\n",
       "  color: var(--sklearn-color-text);\n",
       "  background-color: var(--sklearn-color-fitted-level-2);\n",
       "}\n",
       "\n",
       "/* Estimator label */\n",
       "\n",
       "#sk-container-id-1 div.sk-label label {\n",
       "  font-family: monospace;\n",
       "  font-weight: bold;\n",
       "  display: inline-block;\n",
       "  line-height: 1.2em;\n",
       "}\n",
       "\n",
       "#sk-container-id-1 div.sk-label-container {\n",
       "  text-align: center;\n",
       "}\n",
       "\n",
       "/* Estimator-specific */\n",
       "#sk-container-id-1 div.sk-estimator {\n",
       "  font-family: monospace;\n",
       "  border: 1px dotted var(--sklearn-color-border-box);\n",
       "  border-radius: 0.25em;\n",
       "  box-sizing: border-box;\n",
       "  margin-bottom: 0.5em;\n",
       "  /* unfitted */\n",
       "  background-color: var(--sklearn-color-unfitted-level-0);\n",
       "}\n",
       "\n",
       "#sk-container-id-1 div.sk-estimator.fitted {\n",
       "  /* fitted */\n",
       "  background-color: var(--sklearn-color-fitted-level-0);\n",
       "}\n",
       "\n",
       "/* on hover */\n",
       "#sk-container-id-1 div.sk-estimator:hover {\n",
       "  /* unfitted */\n",
       "  background-color: var(--sklearn-color-unfitted-level-2);\n",
       "}\n",
       "\n",
       "#sk-container-id-1 div.sk-estimator.fitted:hover {\n",
       "  /* fitted */\n",
       "  background-color: var(--sklearn-color-fitted-level-2);\n",
       "}\n",
       "\n",
       "/* Specification for estimator info (e.g. \"i\" and \"?\") */\n",
       "\n",
       "/* Common style for \"i\" and \"?\" */\n",
       "\n",
       ".sk-estimator-doc-link,\n",
       "a:link.sk-estimator-doc-link,\n",
       "a:visited.sk-estimator-doc-link {\n",
       "  float: right;\n",
       "  font-size: smaller;\n",
       "  line-height: 1em;\n",
       "  font-family: monospace;\n",
       "  background-color: var(--sklearn-color-background);\n",
       "  border-radius: 1em;\n",
       "  height: 1em;\n",
       "  width: 1em;\n",
       "  text-decoration: none !important;\n",
       "  margin-left: 1ex;\n",
       "  /* unfitted */\n",
       "  border: var(--sklearn-color-unfitted-level-1) 1pt solid;\n",
       "  color: var(--sklearn-color-unfitted-level-1);\n",
       "}\n",
       "\n",
       ".sk-estimator-doc-link.fitted,\n",
       "a:link.sk-estimator-doc-link.fitted,\n",
       "a:visited.sk-estimator-doc-link.fitted {\n",
       "  /* fitted */\n",
       "  border: var(--sklearn-color-fitted-level-1) 1pt solid;\n",
       "  color: var(--sklearn-color-fitted-level-1);\n",
       "}\n",
       "\n",
       "/* On hover */\n",
       "div.sk-estimator:hover .sk-estimator-doc-link:hover,\n",
       ".sk-estimator-doc-link:hover,\n",
       "div.sk-label-container:hover .sk-estimator-doc-link:hover,\n",
       ".sk-estimator-doc-link:hover {\n",
       "  /* unfitted */\n",
       "  background-color: var(--sklearn-color-unfitted-level-3);\n",
       "  color: var(--sklearn-color-background);\n",
       "  text-decoration: none;\n",
       "}\n",
       "\n",
       "div.sk-estimator.fitted:hover .sk-estimator-doc-link.fitted:hover,\n",
       ".sk-estimator-doc-link.fitted:hover,\n",
       "div.sk-label-container:hover .sk-estimator-doc-link.fitted:hover,\n",
       ".sk-estimator-doc-link.fitted:hover {\n",
       "  /* fitted */\n",
       "  background-color: var(--sklearn-color-fitted-level-3);\n",
       "  color: var(--sklearn-color-background);\n",
       "  text-decoration: none;\n",
       "}\n",
       "\n",
       "/* Span, style for the box shown on hovering the info icon */\n",
       ".sk-estimator-doc-link span {\n",
       "  display: none;\n",
       "  z-index: 9999;\n",
       "  position: relative;\n",
       "  font-weight: normal;\n",
       "  right: .2ex;\n",
       "  padding: .5ex;\n",
       "  margin: .5ex;\n",
       "  width: min-content;\n",
       "  min-width: 20ex;\n",
       "  max-width: 50ex;\n",
       "  color: var(--sklearn-color-text);\n",
       "  box-shadow: 2pt 2pt 4pt #999;\n",
       "  /* unfitted */\n",
       "  background: var(--sklearn-color-unfitted-level-0);\n",
       "  border: .5pt solid var(--sklearn-color-unfitted-level-3);\n",
       "}\n",
       "\n",
       ".sk-estimator-doc-link.fitted span {\n",
       "  /* fitted */\n",
       "  background: var(--sklearn-color-fitted-level-0);\n",
       "  border: var(--sklearn-color-fitted-level-3);\n",
       "}\n",
       "\n",
       ".sk-estimator-doc-link:hover span {\n",
       "  display: block;\n",
       "}\n",
       "\n",
       "/* \"?\"-specific style due to the `<a>` HTML tag */\n",
       "\n",
       "#sk-container-id-1 a.estimator_doc_link {\n",
       "  float: right;\n",
       "  font-size: 1rem;\n",
       "  line-height: 1em;\n",
       "  font-family: monospace;\n",
       "  background-color: var(--sklearn-color-background);\n",
       "  border-radius: 1rem;\n",
       "  height: 1rem;\n",
       "  width: 1rem;\n",
       "  text-decoration: none;\n",
       "  /* unfitted */\n",
       "  color: var(--sklearn-color-unfitted-level-1);\n",
       "  border: var(--sklearn-color-unfitted-level-1) 1pt solid;\n",
       "}\n",
       "\n",
       "#sk-container-id-1 a.estimator_doc_link.fitted {\n",
       "  /* fitted */\n",
       "  border: var(--sklearn-color-fitted-level-1) 1pt solid;\n",
       "  color: var(--sklearn-color-fitted-level-1);\n",
       "}\n",
       "\n",
       "/* On hover */\n",
       "#sk-container-id-1 a.estimator_doc_link:hover {\n",
       "  /* unfitted */\n",
       "  background-color: var(--sklearn-color-unfitted-level-3);\n",
       "  color: var(--sklearn-color-background);\n",
       "  text-decoration: none;\n",
       "}\n",
       "\n",
       "#sk-container-id-1 a.estimator_doc_link.fitted:hover {\n",
       "  /* fitted */\n",
       "  background-color: var(--sklearn-color-fitted-level-3);\n",
       "}\n",
       "</style><div id=\"sk-container-id-1\" class=\"sk-top-container\"><div class=\"sk-text-repr-fallback\"><pre>Pipeline(steps=[(&#x27;models&#x27;,\n",
       "                 &lt;catboost.core.CatBoostRegressor object at 0x7f734336dbb0&gt;)])</pre><b>In a Jupyter environment, please rerun this cell to show the HTML representation or trust the notebook. <br />On GitHub, the HTML representation is unable to render, please try loading this page with nbviewer.org.</b></div><div class=\"sk-container\" hidden><div class=\"sk-item sk-dashed-wrapped\"><div class=\"sk-label-container\"><div class=\"sk-label fitted sk-toggleable\"><input class=\"sk-toggleable__control sk-hidden--visually\" id=\"sk-estimator-id-1\" type=\"checkbox\" ><label for=\"sk-estimator-id-1\" class=\"sk-toggleable__label fitted sk-toggleable__label-arrow fitted\">&nbsp;&nbsp;Pipeline<a class=\"sk-estimator-doc-link fitted\" rel=\"noreferrer\" target=\"_blank\" href=\"https://scikit-learn.org/1.5/modules/generated/sklearn.pipeline.Pipeline.html\">?<span>Documentation for Pipeline</span></a><span class=\"sk-estimator-doc-link fitted\">i<span>Fitted</span></span></label><div class=\"sk-toggleable__content fitted\"><pre>Pipeline(steps=[(&#x27;models&#x27;,\n",
       "                 &lt;catboost.core.CatBoostRegressor object at 0x7f734336dbb0&gt;)])</pre></div> </div></div><div class=\"sk-serial\"><div class=\"sk-item\"><div class=\"sk-estimator fitted sk-toggleable\"><input class=\"sk-toggleable__control sk-hidden--visually\" id=\"sk-estimator-id-2\" type=\"checkbox\" ><label for=\"sk-estimator-id-2\" class=\"sk-toggleable__label fitted sk-toggleable__label-arrow fitted\">CatBoostRegressor</label><div class=\"sk-toggleable__content fitted\"><pre>&lt;catboost.core.CatBoostRegressor object at 0x7f734336dbb0&gt;</pre></div> </div></div></div></div></div></div>"
      ],
      "text/plain": [
       "Pipeline(steps=[('models',\n",
       "                 <catboost.core.CatBoostRegressor object at 0x7f734336dbb0>)])"
      ]
     },
     "execution_count": 22,
     "metadata": {},
     "output_type": "execute_result"
    }
   ],
   "source": [
    "# обучение лучшей модели\n",
    "best_model.fit(X_train, y_train)"
   ]
  },
  {
   "cell_type": "code",
   "execution_count": 23,
   "metadata": {},
   "outputs": [
    {
     "name": "stdout",
     "output_type": "stream",
     "text": [
      "Метрика RMSE на тестовой выборке: 41.15\n"
     ]
    }
   ],
   "source": [
    "# получение предсказаний тестовой выборки\n",
    "preds = best_model.predict(X_test)\n",
    "\n",
    "print(f'Метрика RMSE на тестовой выборке: {root_mean_squared_error(y_test, preds).round(2)}')"
   ]
  },
  {
   "cell_type": "markdown",
   "metadata": {},
   "source": [
    "Метрика `RMSE` на тестовой выборке получилась 41.15, что удовлетворяет условию заказчика.\n",
    "\n",
    "Посмотрим на предсказания и остатки на графике:"
   ]
  },
  {
   "cell_type": "code",
   "execution_count": 24,
   "metadata": {},
   "outputs": [],
   "source": [
    "# создание датафрейма с тестовыми и предсказанными значениями и остатками\n",
    "residuals = pd.DataFrame({'y_test':y_test, 'preds':np.array(preds), 'residuals':np.array(y_test - preds)})"
   ]
  },
  {
   "cell_type": "code",
   "execution_count": 25,
   "metadata": {},
   "outputs": [
    {
     "data": {
      "image/png": "[encoded data removed]",
      "text/plain": [
       "<Figure size 1296x648 with 1 Axes>"
      ]
     },
     "metadata": {
      "needs_background": "light"
     },
     "output_type": "display_data"
    }
   ],
   "source": [
    "# построение графика тестовых и предсказанных значений\n",
    "residuals[['y_test', 'preds']].plot(figsize=(18,9), grid=True)\n",
    "plt.legend(['Тестовые значения', 'Предсказанные значения'], fontsize=15)\n",
    "plt.title('График тестовых и предсказанных значений', fontsize=20)\n",
    "plt.xlabel('Дата', fontsize=15)\n",
    "plt.ylabel('Количество заказов', fontsize=15)\n",
    "plt.show()"
   ]
  },
  {
   "cell_type": "code",
   "execution_count": 26,
   "metadata": {},
   "outputs": [
    {
     "data": {
      "image/png": "[encoded data removed]",
      "text/plain": [
       "<Figure size 1152x576 with 1 Axes>"
      ]
     },
     "metadata": {
      "needs_background": "light"
     },
     "output_type": "display_data"
    }
   ],
   "source": [
    "# построение диаграммы рассеяния остатков\n",
    "residuals.plot(kind='scatter', x='preds', y='residuals', grid=True, figsize=(16, 8))\n",
    "plt.title('Диаграмма рассеяния остатков', fontsize=20)\n",
    "plt.xlabel('Предсказания модели', fontsize=15)\n",
    "plt.ylabel('Остатки', fontsize=15)\n",
    "plt.show()"
   ]
  },
  {
   "cell_type": "markdown",
   "metadata": {},
   "source": [
    "По графикам видно, что:\n",
    "- предсказанные значения в целом повторяют график тестовых значений;\n",
    "- в период с 28 по 29 и с 30 по 31 августа модель сильно спрямляла значения;\n",
    "- анализ остатков показывает, что модель все же не стабильна, т.к. диаграмма рассеяния остатков имеет форму рупора. "
   ]
  },
  {
   "cell_type": "markdown",
   "metadata": {},
   "source": [
    "Проверим лучшую модель на адекватность, сравним качество её предсказаний с качеством модели `DummyRegressor()`, которая предсказывает среднее значение тренировочной выборки:"
   ]
  },
  {
   "cell_type": "code",
   "execution_count": 27,
   "metadata": {},
   "outputs": [
    {
     "name": "stdout",
     "output_type": "stream",
     "text": [
      "Метрика RMSE на тестовой выборке модели DummyRegressor: 84.69\n"
     ]
    }
   ],
   "source": [
    "# определение и обучение модели DummyRegressor\n",
    "dummy = DummyRegressor(strategy = 'mean').fit(X_train, y_train)\n",
    "\n",
    "# получение предсказаний на тестовой выборке\n",
    "preds_dummy = dummy.predict(X_test)\n",
    "\n",
    "print(f'Метрика RMSE на тестовой выборке модели DummyRegressor: {root_mean_squared_error(y_test, preds_dummy).round(2)}')"
   ]
  },
  {
   "cell_type": "markdown",
   "metadata": {},
   "source": [
    "Метрика получилась значительно хуже, чем у лучшей модели, значит проект был сделан не зря."
   ]
  },
  {
   "cell_type": "markdown",
   "metadata": {},
   "source": [
    "## Общий вывод"
   ]
  },
  {
   "cell_type": "markdown",
   "metadata": {},
   "source": [
    "В проекте проделана работа по изучению данных и их анализу:\n",
    "- имеется информация о заказах в хронологическом порядке с марта по август 2018 г.;\n",
    "- выполенено ресемплирование по одному часу;\n",
    "- есть тренд к увеличению количества заказов в час;\n",
    "- при уровне значимости в 5% ряд можно считать стационарным;\n",
    "- есть пики заказов в 10, 16 и 00 часов дня;\n",
    "- в понедельник и пятницу больше всего заказов.\n",
    "\n",
    "Затем с помощью `RandomizedSearchCV` из шести различных моделей была выбрана лучшая модель предсказания количество заказов такси на следующий час, ей оказалась модель `CatBoostRegressor` с параметрами:\n",
    "- максимальная глубина дерева `depth`- 5;\n",
    "- `RMSE` на тренировочной выборке - 24.93.\n",
    "\n",
    "Метрика `RMSE` на тестовой выборке получилась 41.15, что удовлетворяет условию заказчика:\n",
    "- значение метрики *RMSE* на тестовой выборке должно быть не больше 48.\n",
    "\n",
    "Анализ остатков показал, что модель все же не стабильна, т.к. диаграмма рассеяния остатков имеет форму рупора"
   ]
  }
 ],
 "metadata": {
  "ExecuteTimeLog": [
   {
    "duration": 1386,
    "start_time": "2024-04-15T05:52:52.059Z"
   },
   {
    "duration": 171,
    "start_time": "2024-04-15T05:52:54.824Z"
   },
   {
    "duration": 58,
    "start_time": "2024-04-15T05:54:59.158Z"
   },
   {
    "duration": 52,
    "start_time": "2024-04-15T05:55:07.590Z"
   },
   {
    "duration": 55,
    "start_time": "2024-04-15T06:05:21.213Z"
   },
   {
    "duration": 13,
    "start_time": "2024-04-15T06:09:33.394Z"
   },
   {
    "duration": 11,
    "start_time": "2024-04-15T06:09:41.334Z"
   },
   {
    "duration": 15,
    "start_time": "2024-04-15T06:10:21.059Z"
   },
   {
    "duration": 132,
    "start_time": "2024-04-15T06:16:14.908Z"
   },
   {
    "duration": 11,
    "start_time": "2024-04-15T06:16:25.914Z"
   },
   {
    "duration": 14,
    "start_time": "2024-04-15T06:16:40.148Z"
   },
   {
    "duration": 10,
    "start_time": "2024-04-15T06:17:09.286Z"
   },
   {
    "duration": 1302,
    "start_time": "2024-04-15T06:17:21.391Z"
   },
   {
    "duration": 63,
    "start_time": "2024-04-15T06:17:22.697Z"
   },
   {
    "duration": 14,
    "start_time": "2024-04-15T06:17:22.762Z"
   },
   {
    "duration": 39,
    "start_time": "2024-04-15T06:17:22.778Z"
   },
   {
    "duration": 7,
    "start_time": "2024-04-15T06:17:39.137Z"
   },
   {
    "duration": 17,
    "start_time": "2024-04-15T06:22:36.684Z"
   },
   {
    "duration": 1281,
    "start_time": "2024-04-15T06:22:54.703Z"
   },
   {
    "duration": 61,
    "start_time": "2024-04-15T06:22:55.986Z"
   },
   {
    "duration": 13,
    "start_time": "2024-04-15T06:22:56.050Z"
   },
   {
    "duration": 32,
    "start_time": "2024-04-15T06:22:56.065Z"
   },
   {
    "duration": 30,
    "start_time": "2024-04-15T06:22:56.099Z"
   },
   {
    "duration": 174,
    "start_time": "2024-04-15T06:30:51.233Z"
   },
   {
    "duration": 256,
    "start_time": "2024-04-15T06:31:04.912Z"
   },
   {
    "duration": 1563,
    "start_time": "2024-04-15T06:31:48.552Z"
   },
   {
    "duration": 239,
    "start_time": "2024-04-15T06:32:00.544Z"
   },
   {
    "duration": 16,
    "start_time": "2024-04-15T06:33:58.669Z"
   },
   {
    "duration": 1324,
    "start_time": "2024-04-15T06:34:07.369Z"
   },
   {
    "duration": 79,
    "start_time": "2024-04-15T06:34:08.695Z"
   },
   {
    "duration": 18,
    "start_time": "2024-04-15T06:34:08.781Z"
   },
   {
    "duration": 18,
    "start_time": "2024-04-15T06:34:08.804Z"
   },
   {
    "duration": 88,
    "start_time": "2024-04-15T06:34:08.825Z"
   },
   {
    "duration": 0,
    "start_time": "2024-04-15T06:34:08.915Z"
   },
   {
    "duration": 12,
    "start_time": "2024-04-15T06:38:02.138Z"
   },
   {
    "duration": 361,
    "start_time": "2024-04-15T07:51:14.352Z"
   },
   {
    "duration": 232,
    "start_time": "2024-04-15T08:53:32.570Z"
   },
   {
    "duration": 95,
    "start_time": "2024-04-15T08:54:23.736Z"
   },
   {
    "duration": 246,
    "start_time": "2024-04-15T08:54:27.897Z"
   },
   {
    "duration": 413,
    "start_time": "2024-04-15T09:32:40.940Z"
   },
   {
    "duration": 8225,
    "start_time": "2024-04-15T09:33:13.866Z"
   },
   {
    "duration": 371,
    "start_time": "2024-04-15T09:42:19.313Z"
   },
   {
    "duration": 145,
    "start_time": "2024-04-15T09:48:48.626Z"
   },
   {
    "duration": 9,
    "start_time": "2024-04-15T09:48:53.682Z"
   },
   {
    "duration": 49,
    "start_time": "2024-04-15T09:49:09.786Z"
   },
   {
    "duration": 23,
    "start_time": "2024-04-15T09:49:13.267Z"
   },
   {
    "duration": 1286,
    "start_time": "2024-04-15T09:49:29.354Z"
   },
   {
    "duration": 58,
    "start_time": "2024-04-15T09:49:30.642Z"
   },
   {
    "duration": 17,
    "start_time": "2024-04-15T09:49:30.702Z"
   },
   {
    "duration": 63,
    "start_time": "2024-04-15T09:49:30.721Z"
   },
   {
    "duration": 57,
    "start_time": "2024-04-15T09:49:30.786Z"
   },
   {
    "duration": 472,
    "start_time": "2024-04-15T09:49:30.845Z"
   },
   {
    "duration": 104,
    "start_time": "2024-04-15T09:49:31.319Z"
   },
   {
    "duration": 0,
    "start_time": "2024-04-15T09:49:31.424Z"
   },
   {
    "duration": 1265,
    "start_time": "2024-04-15T09:50:09.503Z"
   },
   {
    "duration": 60,
    "start_time": "2024-04-15T09:50:10.770Z"
   },
   {
    "duration": 16,
    "start_time": "2024-04-15T09:50:10.832Z"
   },
   {
    "duration": 15,
    "start_time": "2024-04-15T09:50:10.850Z"
   },
   {
    "duration": 19,
    "start_time": "2024-04-15T09:50:10.867Z"
   },
   {
    "duration": 257,
    "start_time": "2024-04-15T09:50:10.887Z"
   },
   {
    "duration": 400,
    "start_time": "2024-04-15T09:50:11.145Z"
   },
   {
    "duration": 109,
    "start_time": "2024-04-15T09:50:43.538Z"
   },
   {
    "duration": 1211,
    "start_time": "2024-04-15T09:50:49.114Z"
   },
   {
    "duration": 57,
    "start_time": "2024-04-15T09:50:50.327Z"
   },
   {
    "duration": 18,
    "start_time": "2024-04-15T09:50:50.385Z"
   },
   {
    "duration": 17,
    "start_time": "2024-04-15T09:50:50.405Z"
   },
   {
    "duration": 12,
    "start_time": "2024-04-15T09:50:50.424Z"
   },
   {
    "duration": 467,
    "start_time": "2024-04-15T09:50:50.438Z"
   },
   {
    "duration": 699,
    "start_time": "2024-04-15T09:50:50.907Z"
   },
   {
    "duration": 387,
    "start_time": "2024-04-15T09:51:02.790Z"
   },
   {
    "duration": 115,
    "start_time": "2024-04-15T09:51:32.886Z"
   },
   {
    "duration": 1258,
    "start_time": "2024-04-15T09:51:37.158Z"
   },
   {
    "duration": 55,
    "start_time": "2024-04-15T09:51:38.418Z"
   },
   {
    "duration": 13,
    "start_time": "2024-04-15T09:51:38.474Z"
   },
   {
    "duration": 29,
    "start_time": "2024-04-15T09:51:38.489Z"
   },
   {
    "duration": 20,
    "start_time": "2024-04-15T09:51:38.520Z"
   },
   {
    "duration": 348,
    "start_time": "2024-04-15T09:51:38.541Z"
   },
   {
    "duration": 374,
    "start_time": "2024-04-15T09:51:38.891Z"
   },
   {
    "duration": 124,
    "start_time": "2024-04-15T09:52:08.602Z"
   },
   {
    "duration": 1237,
    "start_time": "2024-04-15T09:52:17.880Z"
   },
   {
    "duration": 56,
    "start_time": "2024-04-15T09:52:19.119Z"
   },
   {
    "duration": 11,
    "start_time": "2024-04-15T09:52:19.176Z"
   },
   {
    "duration": 12,
    "start_time": "2024-04-15T09:52:19.189Z"
   },
   {
    "duration": 17,
    "start_time": "2024-04-15T09:52:19.203Z"
   },
   {
    "duration": 428,
    "start_time": "2024-04-15T09:52:19.221Z"
   },
   {
    "duration": 299,
    "start_time": "2024-04-15T09:52:47.906Z"
   },
   {
    "duration": 664,
    "start_time": "2024-04-15T09:53:23.328Z"
   },
   {
    "duration": 399,
    "start_time": "2024-04-15T09:54:09.946Z"
   },
   {
    "duration": 361,
    "start_time": "2024-04-15T09:54:13.665Z"
   },
   {
    "duration": 297,
    "start_time": "2024-04-15T09:54:24.026Z"
   },
   {
    "duration": 282,
    "start_time": "2024-04-15T09:54:31.473Z"
   },
   {
    "duration": 313,
    "start_time": "2024-04-15T09:54:37.338Z"
   },
   {
    "duration": 804,
    "start_time": "2024-04-15T09:56:12.431Z"
   },
   {
    "duration": 686,
    "start_time": "2024-04-15T11:12:12.949Z"
   },
   {
    "duration": 300,
    "start_time": "2024-04-15T11:13:28.321Z"
   },
   {
    "duration": 276,
    "start_time": "2024-04-15T11:13:53.881Z"
   },
   {
    "duration": 265,
    "start_time": "2024-04-15T11:14:16.942Z"
   },
   {
    "duration": 266,
    "start_time": "2024-04-15T11:14:28.249Z"
   },
   {
    "duration": 368,
    "start_time": "2024-04-15T11:15:00.441Z"
   },
   {
    "duration": 590,
    "start_time": "2024-04-15T11:16:52.025Z"
   },
   {
    "duration": 259,
    "start_time": "2024-04-15T11:41:27.981Z"
   },
   {
    "duration": 527,
    "start_time": "2024-04-15T11:41:35.675Z"
   },
   {
    "duration": 109,
    "start_time": "2024-04-15T11:41:53.490Z"
   },
   {
    "duration": 293,
    "start_time": "2024-04-15T11:42:21.298Z"
   },
   {
    "duration": 369,
    "start_time": "2024-04-15T11:42:58.082Z"
   },
   {
    "duration": 292,
    "start_time": "2024-04-15T11:43:04.850Z"
   },
   {
    "duration": 333,
    "start_time": "2024-04-15T11:44:44.840Z"
   },
   {
    "duration": 165,
    "start_time": "2024-04-15T11:45:08.615Z"
   },
   {
    "duration": 1188,
    "start_time": "2024-04-15T11:45:14.047Z"
   },
   {
    "duration": 59,
    "start_time": "2024-04-15T11:45:15.238Z"
   },
   {
    "duration": 13,
    "start_time": "2024-04-15T11:45:15.299Z"
   },
   {
    "duration": 32,
    "start_time": "2024-04-15T11:45:15.315Z"
   },
   {
    "duration": 42,
    "start_time": "2024-04-15T11:45:15.348Z"
   },
   {
    "duration": 346,
    "start_time": "2024-04-15T11:45:15.391Z"
   },
   {
    "duration": 119,
    "start_time": "2024-04-15T11:45:15.739Z"
   },
   {
    "duration": 0,
    "start_time": "2024-04-15T11:45:15.859Z"
   },
   {
    "duration": 304,
    "start_time": "2024-04-15T11:46:03.660Z"
   },
   {
    "duration": 287,
    "start_time": "2024-04-15T11:46:14.644Z"
   },
   {
    "duration": 294,
    "start_time": "2024-04-15T11:46:24.475Z"
   },
   {
    "duration": 287,
    "start_time": "2024-04-15T11:46:59.477Z"
   },
   {
    "duration": 280,
    "start_time": "2024-04-15T11:47:09.193Z"
   },
   {
    "duration": 366,
    "start_time": "2024-04-15T11:47:18.571Z"
   },
   {
    "duration": 290,
    "start_time": "2024-04-15T11:48:32.113Z"
   },
   {
    "duration": 307,
    "start_time": "2024-04-15T12:07:05.394Z"
   },
   {
    "duration": 308,
    "start_time": "2024-04-15T12:07:43.866Z"
   },
   {
    "duration": 208,
    "start_time": "2024-04-15T12:08:27.914Z"
   },
   {
    "duration": 321,
    "start_time": "2024-04-15T12:08:52.002Z"
   },
   {
    "duration": 172,
    "start_time": "2024-04-15T12:10:33.275Z"
   },
   {
    "duration": 95,
    "start_time": "2024-04-15T12:10:40.380Z"
   },
   {
    "duration": 143,
    "start_time": "2024-04-15T12:10:47.622Z"
   },
   {
    "duration": 182,
    "start_time": "2024-04-15T12:10:54.582Z"
   },
   {
    "duration": 184,
    "start_time": "2024-04-15T12:13:08.622Z"
   },
   {
    "duration": 159,
    "start_time": "2024-04-15T12:13:32.732Z"
   },
   {
    "duration": 243,
    "start_time": "2024-04-15T12:13:38.163Z"
   },
   {
    "duration": 558,
    "start_time": "2024-04-15T12:14:07.176Z"
   },
   {
    "duration": 302,
    "start_time": "2024-04-15T12:14:23.114Z"
   },
   {
    "duration": 334,
    "start_time": "2024-04-15T12:15:28.422Z"
   },
   {
    "duration": 293,
    "start_time": "2024-04-15T12:15:41.051Z"
   },
   {
    "duration": 164,
    "start_time": "2024-04-15T12:16:37.411Z"
   },
   {
    "duration": 413,
    "start_time": "2024-04-15T12:16:43.002Z"
   },
   {
    "duration": 304,
    "start_time": "2024-04-15T12:16:52.650Z"
   },
   {
    "duration": 164,
    "start_time": "2024-04-15T12:17:37.033Z"
   },
   {
    "duration": 421,
    "start_time": "2024-04-15T12:18:49.450Z"
   },
   {
    "duration": 321,
    "start_time": "2024-04-15T12:20:42.312Z"
   },
   {
    "duration": 16,
    "start_time": "2024-04-15T12:22:45.421Z"
   },
   {
    "duration": 350,
    "start_time": "2024-04-15T12:23:06.061Z"
   },
   {
    "duration": 342,
    "start_time": "2024-04-15T12:23:17.802Z"
   },
   {
    "duration": 331,
    "start_time": "2024-04-15T12:23:51.221Z"
   },
   {
    "duration": 322,
    "start_time": "2024-04-15T12:23:55.667Z"
   },
   {
    "duration": 430,
    "start_time": "2024-04-15T12:36:04.771Z"
   },
   {
    "duration": 388,
    "start_time": "2024-04-15T12:36:11.339Z"
   },
   {
    "duration": 485,
    "start_time": "2024-04-15T12:36:19.975Z"
   },
   {
    "duration": 430,
    "start_time": "2024-04-15T12:36:37.660Z"
   },
   {
    "duration": 411,
    "start_time": "2024-04-15T12:36:45.739Z"
   },
   {
    "duration": 426,
    "start_time": "2024-04-15T12:37:24.490Z"
   },
   {
    "duration": 401,
    "start_time": "2024-04-15T12:37:48.070Z"
   },
   {
    "duration": 403,
    "start_time": "2024-04-15T12:37:52.937Z"
   },
   {
    "duration": 466,
    "start_time": "2024-04-15T12:41:16.056Z"
   },
   {
    "duration": 436,
    "start_time": "2024-04-15T12:41:28.448Z"
   },
   {
    "duration": 718,
    "start_time": "2024-04-15T12:50:28.154Z"
   },
   {
    "duration": 1133,
    "start_time": "2024-04-15T12:52:41.519Z"
   },
   {
    "duration": 184,
    "start_time": "2024-04-15T12:57:41.756Z"
   },
   {
    "duration": 152,
    "start_time": "2024-04-15T12:57:47.396Z"
   },
   {
    "duration": 150,
    "start_time": "2024-04-15T12:58:35.783Z"
   },
   {
    "duration": 170,
    "start_time": "2024-04-15T12:58:49.188Z"
   },
   {
    "duration": 180,
    "start_time": "2024-04-15T12:58:58.051Z"
   },
   {
    "duration": 17,
    "start_time": "2024-04-15T13:00:48.103Z"
   },
   {
    "duration": 174,
    "start_time": "2024-04-15T13:00:58.812Z"
   },
   {
    "duration": 225,
    "start_time": "2024-04-15T13:01:32.536Z"
   },
   {
    "duration": 175,
    "start_time": "2024-04-15T13:02:08.839Z"
   },
   {
    "duration": 1420,
    "start_time": "2024-04-15T15:16:16.290Z"
   },
   {
    "duration": 170,
    "start_time": "2024-04-15T15:16:17.712Z"
   },
   {
    "duration": 12,
    "start_time": "2024-04-15T15:16:17.884Z"
   },
   {
    "duration": 30,
    "start_time": "2024-04-15T15:16:17.898Z"
   },
   {
    "duration": 24,
    "start_time": "2024-04-15T15:16:17.930Z"
   },
   {
    "duration": 504,
    "start_time": "2024-04-15T15:16:17.956Z"
   },
   {
    "duration": 1085,
    "start_time": "2024-04-15T15:16:18.461Z"
   },
   {
    "duration": 192,
    "start_time": "2024-04-15T15:16:19.547Z"
   },
   {
    "duration": 248,
    "start_time": "2024-04-15T15:16:19.741Z"
   },
   {
    "duration": 210,
    "start_time": "2024-04-15T15:17:55.040Z"
   },
   {
    "duration": 193,
    "start_time": "2024-04-15T15:18:15.057Z"
   },
   {
    "duration": 110,
    "start_time": "2024-04-15T15:21:12.711Z"
   },
   {
    "duration": 241,
    "start_time": "2024-04-15T15:22:09.960Z"
   },
   {
    "duration": 286,
    "start_time": "2024-04-15T15:22:30.054Z"
   },
   {
    "duration": 259,
    "start_time": "2024-04-15T15:22:52.700Z"
   },
   {
    "duration": 281,
    "start_time": "2024-04-15T15:23:28.228Z"
   },
   {
    "duration": 524,
    "start_time": "2024-04-15T15:24:01.555Z"
   },
   {
    "duration": 402,
    "start_time": "2024-04-15T15:24:15.346Z"
   },
   {
    "duration": 443,
    "start_time": "2024-04-15T15:24:28.034Z"
   },
   {
    "duration": 587,
    "start_time": "2024-04-15T15:24:52.347Z"
   },
   {
    "duration": 557,
    "start_time": "2024-04-15T15:25:12.875Z"
   },
   {
    "duration": 349,
    "start_time": "2024-04-15T15:26:16.930Z"
   },
   {
    "duration": 584,
    "start_time": "2024-04-15T15:26:34.969Z"
   },
   {
    "duration": 592,
    "start_time": "2024-04-15T15:27:49.648Z"
   },
   {
    "duration": 580,
    "start_time": "2024-04-15T15:27:56.160Z"
   },
   {
    "duration": 675,
    "start_time": "2024-04-15T15:31:07.350Z"
   },
   {
    "duration": 580,
    "start_time": "2024-04-15T15:31:29.661Z"
   },
   {
    "duration": 566,
    "start_time": "2024-04-15T15:31:48.277Z"
   },
   {
    "duration": 188,
    "start_time": "2024-04-15T15:48:38.084Z"
   },
   {
    "duration": 673,
    "start_time": "2024-04-15T15:56:41.131Z"
   },
   {
    "duration": 598,
    "start_time": "2024-04-15T15:56:52.986Z"
   },
   {
    "duration": 92,
    "start_time": "2024-04-15T15:57:04.513Z"
   },
   {
    "duration": 15,
    "start_time": "2024-04-15T15:57:07.097Z"
   },
   {
    "duration": 577,
    "start_time": "2024-04-15T15:57:28.737Z"
   },
   {
    "duration": 576,
    "start_time": "2024-04-15T15:57:47.129Z"
   },
   {
    "duration": 217,
    "start_time": "2024-04-15T15:57:54.064Z"
   },
   {
    "duration": 181,
    "start_time": "2024-04-15T16:06:37.799Z"
   },
   {
    "duration": 190,
    "start_time": "2024-04-15T16:07:46.843Z"
   },
   {
    "duration": 1187,
    "start_time": "2024-04-15T17:32:45.450Z"
   },
   {
    "duration": 55,
    "start_time": "2024-04-15T17:32:46.639Z"
   },
   {
    "duration": 11,
    "start_time": "2024-04-15T17:32:46.696Z"
   },
   {
    "duration": 14,
    "start_time": "2024-04-15T17:32:46.708Z"
   },
   {
    "duration": 8,
    "start_time": "2024-04-15T17:32:46.724Z"
   },
   {
    "duration": 442,
    "start_time": "2024-04-15T17:32:46.734Z"
   },
   {
    "duration": 7,
    "start_time": "2024-04-15T17:32:47.178Z"
   },
   {
    "duration": 581,
    "start_time": "2024-04-15T17:32:47.186Z"
   },
   {
    "duration": 218,
    "start_time": "2024-04-15T17:32:47.769Z"
   },
   {
    "duration": 212,
    "start_time": "2024-04-15T17:32:47.989Z"
   },
   {
    "duration": 3,
    "start_time": "2024-04-15T17:33:00.485Z"
   },
   {
    "duration": 1122,
    "start_time": "2024-04-15T17:33:04.192Z"
   },
   {
    "duration": 57,
    "start_time": "2024-04-15T17:33:05.316Z"
   },
   {
    "duration": 11,
    "start_time": "2024-04-15T17:33:05.375Z"
   },
   {
    "duration": 24,
    "start_time": "2024-04-15T17:33:05.388Z"
   },
   {
    "duration": 9,
    "start_time": "2024-04-15T17:33:05.413Z"
   },
   {
    "duration": 452,
    "start_time": "2024-04-15T17:33:05.424Z"
   },
   {
    "duration": 7,
    "start_time": "2024-04-15T17:33:05.878Z"
   },
   {
    "duration": 593,
    "start_time": "2024-04-15T17:33:05.887Z"
   },
   {
    "duration": 205,
    "start_time": "2024-04-15T17:33:06.482Z"
   },
   {
    "duration": 198,
    "start_time": "2024-04-15T17:33:06.689Z"
   },
   {
    "duration": 5,
    "start_time": "2024-04-15T17:58:48.744Z"
   },
   {
    "duration": 11,
    "start_time": "2024-04-15T17:58:52.241Z"
   },
   {
    "duration": 104,
    "start_time": "2024-04-15T18:17:53.058Z"
   },
   {
    "duration": 5,
    "start_time": "2024-04-15T18:17:55.603Z"
   },
   {
    "duration": 10,
    "start_time": "2024-04-15T18:17:56.886Z"
   },
   {
    "duration": 24,
    "start_time": "2024-04-15T18:18:01.721Z"
   },
   {
    "duration": 16,
    "start_time": "2024-04-15T18:18:20.250Z"
   },
   {
    "duration": 17,
    "start_time": "2024-04-15T18:18:44.145Z"
   },
   {
    "duration": 6,
    "start_time": "2024-04-15T18:20:36.304Z"
   },
   {
    "duration": 19,
    "start_time": "2024-04-15T18:20:37.601Z"
   },
   {
    "duration": 7,
    "start_time": "2024-04-15T18:22:29.580Z"
   },
   {
    "duration": 1180,
    "start_time": "2024-04-15T18:22:49.680Z"
   },
   {
    "duration": 56,
    "start_time": "2024-04-15T18:22:50.861Z"
   },
   {
    "duration": 14,
    "start_time": "2024-04-15T18:22:50.919Z"
   },
   {
    "duration": 45,
    "start_time": "2024-04-15T18:22:50.935Z"
   },
   {
    "duration": 29,
    "start_time": "2024-04-15T18:22:50.981Z"
   },
   {
    "duration": 444,
    "start_time": "2024-04-15T18:22:51.012Z"
   },
   {
    "duration": 7,
    "start_time": "2024-04-15T18:22:51.458Z"
   },
   {
    "duration": 633,
    "start_time": "2024-04-15T18:22:51.467Z"
   },
   {
    "duration": 205,
    "start_time": "2024-04-15T18:22:52.102Z"
   },
   {
    "duration": 191,
    "start_time": "2024-04-15T18:22:52.309Z"
   },
   {
    "duration": 5,
    "start_time": "2024-04-15T18:22:52.502Z"
   },
   {
    "duration": 12,
    "start_time": "2024-04-15T18:22:52.508Z"
   },
   {
    "duration": 23,
    "start_time": "2024-04-15T18:24:35.330Z"
   },
   {
    "duration": 19,
    "start_time": "2024-04-15T18:24:53.780Z"
   },
   {
    "duration": 7,
    "start_time": "2024-04-15T18:25:54.024Z"
   },
   {
    "duration": 4025,
    "start_time": "2024-04-15T18:28:31.413Z"
   },
   {
    "duration": 3955,
    "start_time": "2024-04-15T18:29:13.925Z"
   },
   {
    "duration": 14,
    "start_time": "2024-04-15T18:31:48.953Z"
   },
   {
    "duration": 226,
    "start_time": "2024-04-15T18:32:20.224Z"
   },
   {
    "duration": 6,
    "start_time": "2024-04-15T18:32:26.912Z"
   },
   {
    "duration": 3,
    "start_time": "2024-04-15T18:32:28.226Z"
   },
   {
    "duration": 92,
    "start_time": "2024-04-15T18:37:42.499Z"
   },
   {
    "duration": 1286,
    "start_time": "2024-04-16T04:29:59.645Z"
   },
   {
    "duration": 109,
    "start_time": "2024-04-16T04:30:00.933Z"
   },
   {
    "duration": 10,
    "start_time": "2024-04-16T04:30:01.044Z"
   },
   {
    "duration": 99,
    "start_time": "2024-04-16T04:30:01.056Z"
   },
   {
    "duration": 95,
    "start_time": "2024-04-16T04:30:01.156Z"
   },
   {
    "duration": 500,
    "start_time": "2024-04-16T04:30:01.252Z"
   },
   {
    "duration": 6,
    "start_time": "2024-04-16T04:30:01.753Z"
   },
   {
    "duration": 670,
    "start_time": "2024-04-16T04:30:01.760Z"
   },
   {
    "duration": 218,
    "start_time": "2024-04-16T04:30:02.432Z"
   },
   {
    "duration": 156,
    "start_time": "2024-04-16T04:30:02.652Z"
   },
   {
    "duration": 3,
    "start_time": "2024-04-16T04:30:02.810Z"
   },
   {
    "duration": 28,
    "start_time": "2024-04-16T04:30:02.814Z"
   },
   {
    "duration": 5,
    "start_time": "2024-04-16T04:30:02.844Z"
   },
   {
    "duration": 12,
    "start_time": "2024-04-16T04:30:02.850Z"
   },
   {
    "duration": 35,
    "start_time": "2024-04-16T04:30:02.864Z"
   },
   {
    "duration": 118,
    "start_time": "2024-04-16T04:30:02.900Z"
   },
   {
    "duration": 1637,
    "start_time": "2024-04-16T10:08:55.830Z"
   },
   {
    "duration": 110,
    "start_time": "2024-04-16T10:13:07.799Z"
   },
   {
    "duration": 5,
    "start_time": "2024-04-16T10:18:54.765Z"
   },
   {
    "duration": 1375,
    "start_time": "2024-04-16T10:19:23.602Z"
   },
   {
    "duration": 104,
    "start_time": "2024-04-16T10:19:24.978Z"
   },
   {
    "duration": 10,
    "start_time": "2024-04-16T10:19:25.084Z"
   },
   {
    "duration": 20,
    "start_time": "2024-04-16T10:19:25.096Z"
   },
   {
    "duration": 8,
    "start_time": "2024-04-16T10:19:25.118Z"
   },
   {
    "duration": 432,
    "start_time": "2024-04-16T10:19:25.128Z"
   },
   {
    "duration": 9,
    "start_time": "2024-04-16T10:19:25.561Z"
   },
   {
    "duration": 647,
    "start_time": "2024-04-16T10:19:25.571Z"
   },
   {
    "duration": 228,
    "start_time": "2024-04-16T10:19:26.219Z"
   },
   {
    "duration": 191,
    "start_time": "2024-04-16T10:19:26.450Z"
   },
   {
    "duration": 4,
    "start_time": "2024-04-16T10:19:26.643Z"
   },
   {
    "duration": 35,
    "start_time": "2024-04-16T10:19:26.648Z"
   },
   {
    "duration": 8,
    "start_time": "2024-04-16T10:19:26.684Z"
   },
   {
    "duration": 10,
    "start_time": "2024-04-16T10:19:26.694Z"
   },
   {
    "duration": 12,
    "start_time": "2024-04-16T10:19:26.706Z"
   },
   {
    "duration": 7,
    "start_time": "2024-04-16T10:19:26.720Z"
   },
   {
    "duration": 13,
    "start_time": "2024-04-16T10:19:26.729Z"
   },
   {
    "duration": 120,
    "start_time": "2024-04-16T10:22:20.194Z"
   },
   {
    "duration": 14,
    "start_time": "2024-04-16T10:22:31.799Z"
   },
   {
    "duration": 4,
    "start_time": "2024-04-16T10:22:53.344Z"
   },
   {
    "duration": 340350,
    "start_time": "2024-04-16T10:22:54.861Z"
   },
   {
    "duration": 5,
    "start_time": "2024-04-16T10:30:44.685Z"
   },
   {
    "duration": 1353823,
    "start_time": "2024-04-16T10:30:48.876Z"
   },
   {
    "duration": 6,
    "start_time": "2024-04-16T11:02:06.628Z"
   },
   {
    "duration": 4,
    "start_time": "2024-04-16T11:02:49.973Z"
   },
   {
    "duration": 1361,
    "start_time": "2024-04-16T11:03:07.121Z"
   },
   {
    "duration": 55,
    "start_time": "2024-04-16T11:03:08.484Z"
   },
   {
    "duration": 11,
    "start_time": "2024-04-16T11:03:08.540Z"
   },
   {
    "duration": 24,
    "start_time": "2024-04-16T11:03:08.553Z"
   },
   {
    "duration": 9,
    "start_time": "2024-04-16T11:03:08.579Z"
   },
   {
    "duration": 419,
    "start_time": "2024-04-16T11:03:08.589Z"
   },
   {
    "duration": 8,
    "start_time": "2024-04-16T11:03:09.009Z"
   },
   {
    "duration": 669,
    "start_time": "2024-04-16T11:03:09.019Z"
   },
   {
    "duration": 223,
    "start_time": "2024-04-16T11:03:09.690Z"
   },
   {
    "duration": 186,
    "start_time": "2024-04-16T11:03:09.916Z"
   },
   {
    "duration": 5,
    "start_time": "2024-04-16T11:03:10.104Z"
   },
   {
    "duration": 23,
    "start_time": "2024-04-16T11:03:10.110Z"
   },
   {
    "duration": 6,
    "start_time": "2024-04-16T11:03:10.135Z"
   },
   {
    "duration": 22,
    "start_time": "2024-04-16T11:03:10.143Z"
   },
   {
    "duration": 7,
    "start_time": "2024-04-16T11:03:10.167Z"
   },
   {
    "duration": 10,
    "start_time": "2024-04-16T11:03:10.175Z"
   },
   {
    "duration": 6,
    "start_time": "2024-04-16T11:03:10.186Z"
   },
   {
    "duration": 20378,
    "start_time": "2024-04-16T11:03:10.193Z"
   },
   {
    "duration": 4,
    "start_time": "2024-04-16T11:03:30.572Z"
   },
   {
    "duration": 4,
    "start_time": "2024-04-16T11:10:03.946Z"
   },
   {
    "duration": 322089,
    "start_time": "2024-04-16T11:10:06.382Z"
   },
   {
    "duration": 4,
    "start_time": "2024-04-16T11:20:23.005Z"
   },
   {
    "duration": 4,
    "start_time": "2024-04-16T11:23:26.394Z"
   },
   {
    "duration": 5,
    "start_time": "2024-04-16T11:23:50.131Z"
   },
   {
    "duration": 60511,
    "start_time": "2024-04-16T11:23:52.737Z"
   },
   {
    "duration": 5,
    "start_time": "2024-04-16T11:27:37.006Z"
   },
   {
    "duration": 130104,
    "start_time": "2024-04-16T11:27:38.271Z"
   },
   {
    "duration": 18,
    "start_time": "2024-04-16T11:39:55.820Z"
   },
   {
    "duration": 32,
    "start_time": "2024-04-16T11:40:10.668Z"
   },
   {
    "duration": 36,
    "start_time": "2024-04-16T11:41:43.995Z"
   },
   {
    "duration": 37,
    "start_time": "2024-04-16T11:42:16.058Z"
   },
   {
    "duration": 959,
    "start_time": "2024-04-16T11:42:44.594Z"
   },
   {
    "duration": 16,
    "start_time": "2024-04-16T11:42:51.890Z"
   },
   {
    "duration": 21,
    "start_time": "2024-04-16T11:43:01.100Z"
   },
   {
    "duration": 28,
    "start_time": "2024-04-16T11:43:25.273Z"
   },
   {
    "duration": 80,
    "start_time": "2024-04-16T11:44:14.264Z"
   },
   {
    "duration": 36,
    "start_time": "2024-04-16T11:44:31.266Z"
   },
   {
    "duration": 11,
    "start_time": "2024-04-16T11:57:11.959Z"
   },
   {
    "duration": 4,
    "start_time": "2024-04-16T11:57:16.107Z"
   },
   {
    "duration": 5,
    "start_time": "2024-04-16T11:57:22.028Z"
   },
   {
    "duration": 120289,
    "start_time": "2024-04-16T11:57:24.685Z"
   },
   {
    "duration": 41,
    "start_time": "2024-04-16T11:59:32.735Z"
   },
   {
    "duration": 12,
    "start_time": "2024-04-16T12:02:42.745Z"
   },
   {
    "duration": 16,
    "start_time": "2024-04-16T12:03:04.034Z"
   },
   {
    "duration": 9,
    "start_time": "2024-04-16T12:03:27.375Z"
   },
   {
    "duration": 5,
    "start_time": "2024-04-16T12:04:30.791Z"
   },
   {
    "duration": 82,
    "start_time": "2024-04-16T12:04:33.087Z"
   },
   {
    "duration": 5,
    "start_time": "2024-04-16T12:04:43.119Z"
   },
   {
    "duration": 4,
    "start_time": "2024-04-16T12:04:46.671Z"
   },
   {
    "duration": 133699,
    "start_time": "2024-04-16T12:04:48.575Z"
   },
   {
    "duration": 41,
    "start_time": "2024-04-16T12:07:10.107Z"
   },
   {
    "duration": 5,
    "start_time": "2024-04-16T12:16:54.291Z"
   },
   {
    "duration": 117862,
    "start_time": "2024-04-16T12:16:55.113Z"
   },
   {
    "duration": 10,
    "start_time": "2024-04-16T12:20:38.255Z"
   },
   {
    "duration": 4,
    "start_time": "2024-04-16T12:21:14.550Z"
   },
   {
    "duration": 3,
    "start_time": "2024-04-16T12:21:22.702Z"
   },
   {
    "duration": 5,
    "start_time": "2024-04-16T12:22:33.143Z"
   },
   {
    "duration": 135008,
    "start_time": "2024-04-16T12:22:37.262Z"
   },
   {
    "duration": 1415,
    "start_time": "2024-04-16T12:27:20.628Z"
   },
   {
    "duration": 59,
    "start_time": "2024-04-16T12:27:22.045Z"
   },
   {
    "duration": 11,
    "start_time": "2024-04-16T12:27:22.106Z"
   },
   {
    "duration": 32,
    "start_time": "2024-04-16T12:27:22.119Z"
   },
   {
    "duration": 16,
    "start_time": "2024-04-16T12:27:22.153Z"
   },
   {
    "duration": 418,
    "start_time": "2024-04-16T12:27:22.171Z"
   },
   {
    "duration": 7,
    "start_time": "2024-04-16T12:27:22.591Z"
   },
   {
    "duration": 632,
    "start_time": "2024-04-16T12:27:22.600Z"
   },
   {
    "duration": 192,
    "start_time": "2024-04-16T12:27:23.233Z"
   },
   {
    "duration": 191,
    "start_time": "2024-04-16T12:27:23.426Z"
   },
   {
    "duration": 4,
    "start_time": "2024-04-16T12:27:23.619Z"
   },
   {
    "duration": 61,
    "start_time": "2024-04-16T12:27:23.624Z"
   },
   {
    "duration": 8,
    "start_time": "2024-04-16T12:27:23.687Z"
   },
   {
    "duration": 6,
    "start_time": "2024-04-16T12:27:23.697Z"
   },
   {
    "duration": 17,
    "start_time": "2024-04-16T12:27:23.704Z"
   },
   {
    "duration": 6,
    "start_time": "2024-04-16T12:27:23.722Z"
   },
   {
    "duration": 10,
    "start_time": "2024-04-16T12:27:23.730Z"
   },
   {
    "duration": 95424,
    "start_time": "2024-04-16T12:27:23.742Z"
   },
   {
    "duration": 1401,
    "start_time": "2024-04-16T12:30:18.571Z"
   },
   {
    "duration": 57,
    "start_time": "2024-04-16T12:30:19.974Z"
   },
   {
    "duration": 13,
    "start_time": "2024-04-16T12:30:20.032Z"
   },
   {
    "duration": 24,
    "start_time": "2024-04-16T12:30:20.046Z"
   },
   {
    "duration": 13,
    "start_time": "2024-04-16T12:30:20.072Z"
   },
   {
    "duration": 414,
    "start_time": "2024-04-16T12:30:20.086Z"
   },
   {
    "duration": 9,
    "start_time": "2024-04-16T12:30:20.502Z"
   },
   {
    "duration": 646,
    "start_time": "2024-04-16T12:30:20.512Z"
   },
   {
    "duration": 215,
    "start_time": "2024-04-16T12:30:21.159Z"
   },
   {
    "duration": 191,
    "start_time": "2024-04-16T12:30:21.376Z"
   },
   {
    "duration": 3,
    "start_time": "2024-04-16T12:30:21.569Z"
   },
   {
    "duration": 32,
    "start_time": "2024-04-16T12:30:21.574Z"
   },
   {
    "duration": 12,
    "start_time": "2024-04-16T12:30:21.608Z"
   },
   {
    "duration": 7,
    "start_time": "2024-04-16T12:30:21.623Z"
   },
   {
    "duration": 6,
    "start_time": "2024-04-16T12:30:21.631Z"
   },
   {
    "duration": 29,
    "start_time": "2024-04-16T12:30:21.638Z"
   },
   {
    "duration": 7,
    "start_time": "2024-04-16T12:30:21.669Z"
   },
   {
    "duration": 176399,
    "start_time": "2024-04-16T12:30:21.677Z"
   },
   {
    "duration": 5,
    "start_time": "2024-04-16T12:34:06.652Z"
   },
   {
    "duration": 663551,
    "start_time": "2024-04-16T12:34:11.022Z"
   },
   {
    "duration": 5,
    "start_time": "2024-04-16T12:46:57.881Z"
   },
   {
    "duration": 591267,
    "start_time": "2024-04-16T12:47:01.665Z"
   },
   {
    "duration": 11,
    "start_time": "2024-04-16T12:58:43.279Z"
   },
   {
    "duration": 96,
    "start_time": "2024-04-16T12:58:46.644Z"
   },
   {
    "duration": 5,
    "start_time": "2024-04-16T12:58:50.863Z"
   },
   {
    "duration": 5153,
    "start_time": "2024-04-16T12:58:56.400Z"
   },
   {
    "duration": 4,
    "start_time": "2024-04-16T12:59:14.392Z"
   },
   {
    "duration": 4541,
    "start_time": "2024-04-16T12:59:15.351Z"
   },
   {
    "duration": 3,
    "start_time": "2024-04-16T12:59:27.318Z"
   },
   {
    "duration": 95788,
    "start_time": "2024-04-16T12:59:28.200Z"
   },
   {
    "duration": 1879,
    "start_time": "2024-04-16T15:02:51.038Z"
   },
   {
    "duration": 1548,
    "start_time": "2024-04-16T15:03:21.511Z"
   },
   {
    "duration": 107,
    "start_time": "2024-04-16T15:03:23.060Z"
   },
   {
    "duration": 10,
    "start_time": "2024-04-16T15:03:23.169Z"
   },
   {
    "duration": 12,
    "start_time": "2024-04-16T15:03:23.181Z"
   },
   {
    "duration": 9,
    "start_time": "2024-04-16T15:03:23.195Z"
   },
   {
    "duration": 444,
    "start_time": "2024-04-16T15:03:23.206Z"
   },
   {
    "duration": 11,
    "start_time": "2024-04-16T15:03:23.652Z"
   },
   {
    "duration": 687,
    "start_time": "2024-04-16T15:03:23.665Z"
   },
   {
    "duration": 214,
    "start_time": "2024-04-16T15:03:24.354Z"
   },
   {
    "duration": 200,
    "start_time": "2024-04-16T15:03:24.571Z"
   },
   {
    "duration": 4,
    "start_time": "2024-04-16T15:03:24.772Z"
   },
   {
    "duration": 45,
    "start_time": "2024-04-16T15:03:24.778Z"
   },
   {
    "duration": 12,
    "start_time": "2024-04-16T15:03:24.825Z"
   },
   {
    "duration": 10,
    "start_time": "2024-04-16T15:03:24.839Z"
   },
   {
    "duration": 35,
    "start_time": "2024-04-16T15:03:24.850Z"
   },
   {
    "duration": 19,
    "start_time": "2024-04-16T15:03:24.887Z"
   },
   {
    "duration": 12,
    "start_time": "2024-04-16T15:03:24.908Z"
   },
   {
    "duration": 819847,
    "start_time": "2024-04-16T15:03:24.922Z"
   },
   {
    "duration": 4,
    "start_time": "2024-04-16T15:20:05.607Z"
   },
   {
    "duration": 21808,
    "start_time": "2024-04-16T15:20:09.256Z"
   },
   {
    "duration": 90755,
    "start_time": "2024-04-16T15:21:22.705Z"
   },
   {
    "duration": 73262,
    "start_time": "2024-04-16T15:26:15.802Z"
   },
   {
    "duration": 1502,
    "start_time": "2024-04-16T15:33:15.755Z"
   },
   {
    "duration": 58,
    "start_time": "2024-04-16T15:33:17.259Z"
   },
   {
    "duration": 10,
    "start_time": "2024-04-16T15:33:17.319Z"
   },
   {
    "duration": 11,
    "start_time": "2024-04-16T15:33:17.330Z"
   },
   {
    "duration": 10,
    "start_time": "2024-04-16T15:33:17.343Z"
   },
   {
    "duration": 440,
    "start_time": "2024-04-16T15:33:17.354Z"
   },
   {
    "duration": 10,
    "start_time": "2024-04-16T15:33:17.796Z"
   },
   {
    "duration": 662,
    "start_time": "2024-04-16T15:33:17.808Z"
   },
   {
    "duration": 201,
    "start_time": "2024-04-16T15:33:18.472Z"
   },
   {
    "duration": 200,
    "start_time": "2024-04-16T15:33:18.675Z"
   },
   {
    "duration": 5,
    "start_time": "2024-04-16T15:33:18.876Z"
   },
   {
    "duration": 33,
    "start_time": "2024-04-16T15:33:18.882Z"
   },
   {
    "duration": 8,
    "start_time": "2024-04-16T15:33:18.917Z"
   },
   {
    "duration": 35,
    "start_time": "2024-04-16T15:33:18.927Z"
   },
   {
    "duration": 6,
    "start_time": "2024-04-16T15:33:18.964Z"
   },
   {
    "duration": 4,
    "start_time": "2024-04-16T15:33:18.971Z"
   },
   {
    "duration": 5,
    "start_time": "2024-04-16T15:33:18.977Z"
   },
   {
    "duration": 140087,
    "start_time": "2024-04-16T15:33:18.983Z"
   },
   {
    "duration": 23482,
    "start_time": "2024-04-16T15:40:02.890Z"
   },
   {
    "duration": 71,
    "start_time": "2024-04-16T15:45:42.353Z"
   },
   {
    "duration": 5,
    "start_time": "2024-04-16T15:45:51.033Z"
   },
   {
    "duration": 181271,
    "start_time": "2024-04-16T15:45:52.200Z"
   },
   {
    "duration": 32,
    "start_time": "2024-04-16T15:51:15.686Z"
   },
   {
    "duration": 60,
    "start_time": "2024-04-16T15:54:36.422Z"
   },
   {
    "duration": 121,
    "start_time": "2024-04-16T15:59:23.922Z"
   },
   {
    "duration": 1733,
    "start_time": "2024-04-16T16:00:08.847Z"
   },
   {
    "duration": 0,
    "start_time": "2024-04-16T16:00:10.582Z"
   },
   {
    "duration": 0,
    "start_time": "2024-04-16T16:00:10.584Z"
   },
   {
    "duration": 0,
    "start_time": "2024-04-16T16:00:10.585Z"
   },
   {
    "duration": 0,
    "start_time": "2024-04-16T16:00:10.586Z"
   },
   {
    "duration": 0,
    "start_time": "2024-04-16T16:00:10.587Z"
   },
   {
    "duration": 0,
    "start_time": "2024-04-16T16:00:10.589Z"
   },
   {
    "duration": 0,
    "start_time": "2024-04-16T16:00:10.590Z"
   },
   {
    "duration": 0,
    "start_time": "2024-04-16T16:00:10.591Z"
   },
   {
    "duration": 0,
    "start_time": "2024-04-16T16:00:10.592Z"
   },
   {
    "duration": 0,
    "start_time": "2024-04-16T16:00:10.593Z"
   },
   {
    "duration": 0,
    "start_time": "2024-04-16T16:00:10.594Z"
   },
   {
    "duration": 0,
    "start_time": "2024-04-16T16:00:10.595Z"
   },
   {
    "duration": 0,
    "start_time": "2024-04-16T16:00:10.596Z"
   },
   {
    "duration": 0,
    "start_time": "2024-04-16T16:00:10.597Z"
   },
   {
    "duration": 0,
    "start_time": "2024-04-16T16:00:10.598Z"
   },
   {
    "duration": 0,
    "start_time": "2024-04-16T16:00:10.599Z"
   },
   {
    "duration": 0,
    "start_time": "2024-04-16T16:00:10.601Z"
   },
   {
    "duration": 0,
    "start_time": "2024-04-16T16:00:10.602Z"
   },
   {
    "duration": 0,
    "start_time": "2024-04-16T16:00:10.603Z"
   },
   {
    "duration": 0,
    "start_time": "2024-04-16T16:00:10.604Z"
   },
   {
    "duration": 3,
    "start_time": "2024-04-16T16:00:24.527Z"
   },
   {
    "duration": 6693,
    "start_time": "2024-04-16T16:01:09.464Z"
   },
   {
    "duration": 18,
    "start_time": "2024-04-16T16:01:23.597Z"
   },
   {
    "duration": 12,
    "start_time": "2024-04-16T16:02:34.254Z"
   },
   {
    "duration": 4,
    "start_time": "2024-04-16T16:02:44.413Z"
   },
   {
    "duration": 1614,
    "start_time": "2024-04-16T16:02:58.989Z"
   },
   {
    "duration": 62,
    "start_time": "2024-04-16T16:03:00.606Z"
   },
   {
    "duration": 94,
    "start_time": "2024-04-16T16:03:00.669Z"
   },
   {
    "duration": 53,
    "start_time": "2024-04-16T16:03:00.766Z"
   },
   {
    "duration": 125,
    "start_time": "2024-04-16T16:03:00.821Z"
   },
   {
    "duration": 606,
    "start_time": "2024-04-16T16:03:00.948Z"
   },
   {
    "duration": 8,
    "start_time": "2024-04-16T16:03:01.556Z"
   },
   {
    "duration": 620,
    "start_time": "2024-04-16T16:03:01.566Z"
   },
   {
    "duration": 221,
    "start_time": "2024-04-16T16:03:02.188Z"
   },
   {
    "duration": 217,
    "start_time": "2024-04-16T16:03:02.412Z"
   },
   {
    "duration": 4,
    "start_time": "2024-04-16T16:03:02.631Z"
   },
   {
    "duration": 53,
    "start_time": "2024-04-16T16:03:02.637Z"
   },
   {
    "duration": 9,
    "start_time": "2024-04-16T16:03:02.692Z"
   },
   {
    "duration": 8,
    "start_time": "2024-04-16T16:03:02.702Z"
   },
   {
    "duration": 5,
    "start_time": "2024-04-16T16:03:02.711Z"
   },
   {
    "duration": 12,
    "start_time": "2024-04-16T16:03:02.718Z"
   },
   {
    "duration": 29,
    "start_time": "2024-04-16T16:03:02.732Z"
   },
   {
    "duration": 195810,
    "start_time": "2024-04-16T16:03:02.763Z"
   },
   {
    "duration": 197,
    "start_time": "2024-04-16T16:06:18.574Z"
   },
   {
    "duration": 0,
    "start_time": "2024-04-16T16:06:18.772Z"
   },
   {
    "duration": 0,
    "start_time": "2024-04-16T16:06:18.773Z"
   },
   {
    "duration": 2,
    "start_time": "2024-04-16T16:06:27.561Z"
   },
   {
    "duration": 783,
    "start_time": "2024-04-16T16:06:28.486Z"
   },
   {
    "duration": 12,
    "start_time": "2024-04-16T16:06:34.397Z"
   },
   {
    "duration": 10,
    "start_time": "2024-04-16T16:07:22.632Z"
   },
   {
    "duration": 11,
    "start_time": "2024-04-16T16:07:27.158Z"
   },
   {
    "duration": 4,
    "start_time": "2024-04-16T16:07:45.096Z"
   },
   {
    "duration": 5,
    "start_time": "2024-04-16T16:08:53.657Z"
   },
   {
    "duration": 151106,
    "start_time": "2024-04-16T16:08:55.261Z"
   },
   {
    "duration": 2,
    "start_time": "2024-04-16T16:11:41.229Z"
   },
   {
    "duration": 181,
    "start_time": "2024-04-16T16:11:42.191Z"
   },
   {
    "duration": 14,
    "start_time": "2024-04-16T16:11:44.508Z"
   },
   {
    "duration": 1586,
    "start_time": "2024-04-16T16:13:03.042Z"
   },
   {
    "duration": 62,
    "start_time": "2024-04-16T16:13:04.630Z"
   },
   {
    "duration": 12,
    "start_time": "2024-04-16T16:13:04.694Z"
   },
   {
    "duration": 28,
    "start_time": "2024-04-16T16:13:04.708Z"
   },
   {
    "duration": 10,
    "start_time": "2024-04-16T16:13:04.738Z"
   },
   {
    "duration": 565,
    "start_time": "2024-04-16T16:13:04.749Z"
   },
   {
    "duration": 8,
    "start_time": "2024-04-16T16:13:05.316Z"
   },
   {
    "duration": 620,
    "start_time": "2024-04-16T16:13:05.326Z"
   },
   {
    "duration": 232,
    "start_time": "2024-04-16T16:13:05.947Z"
   },
   {
    "duration": 211,
    "start_time": "2024-04-16T16:13:06.182Z"
   },
   {
    "duration": 5,
    "start_time": "2024-04-16T16:13:06.396Z"
   },
   {
    "duration": 39,
    "start_time": "2024-04-16T16:13:06.403Z"
   },
   {
    "duration": 21,
    "start_time": "2024-04-16T16:13:06.444Z"
   },
   {
    "duration": 7,
    "start_time": "2024-04-16T16:13:06.467Z"
   },
   {
    "duration": 3,
    "start_time": "2024-04-16T16:13:06.476Z"
   },
   {
    "duration": 20,
    "start_time": "2024-04-16T16:13:06.481Z"
   },
   {
    "duration": 13,
    "start_time": "2024-04-16T16:13:06.503Z"
   },
   {
    "duration": 134343,
    "start_time": "2024-04-16T16:13:06.518Z"
   },
   {
    "duration": 3,
    "start_time": "2024-04-16T16:15:20.863Z"
   },
   {
    "duration": 295,
    "start_time": "2024-04-16T16:15:20.867Z"
   },
   {
    "duration": 10,
    "start_time": "2024-04-16T16:15:21.164Z"
   },
   {
    "duration": 5,
    "start_time": "2024-04-16T16:18:59.658Z"
   },
   {
    "duration": 163926,
    "start_time": "2024-04-16T16:19:00.639Z"
   },
   {
    "duration": 3,
    "start_time": "2024-04-16T16:21:50.053Z"
   },
   {
    "duration": 161,
    "start_time": "2024-04-16T16:21:50.814Z"
   },
   {
    "duration": 11,
    "start_time": "2024-04-16T16:21:52.446Z"
   },
   {
    "duration": 31,
    "start_time": "2024-04-16T16:21:53.887Z"
   },
   {
    "duration": 1516,
    "start_time": "2024-04-16T16:23:37.411Z"
   },
   {
    "duration": 61,
    "start_time": "2024-04-16T16:23:38.929Z"
   },
   {
    "duration": 12,
    "start_time": "2024-04-16T16:23:38.992Z"
   },
   {
    "duration": 13,
    "start_time": "2024-04-16T16:23:39.007Z"
   },
   {
    "duration": 22,
    "start_time": "2024-04-16T16:23:39.022Z"
   },
   {
    "duration": 513,
    "start_time": "2024-04-16T16:23:39.045Z"
   },
   {
    "duration": 7,
    "start_time": "2024-04-16T16:23:39.560Z"
   },
   {
    "duration": 622,
    "start_time": "2024-04-16T16:23:39.569Z"
   },
   {
    "duration": 209,
    "start_time": "2024-04-16T16:23:40.193Z"
   },
   {
    "duration": 219,
    "start_time": "2024-04-16T16:23:40.404Z"
   },
   {
    "duration": 4,
    "start_time": "2024-04-16T16:23:40.625Z"
   },
   {
    "duration": 50,
    "start_time": "2024-04-16T16:23:40.631Z"
   },
   {
    "duration": 13,
    "start_time": "2024-04-16T16:23:40.683Z"
   },
   {
    "duration": 20,
    "start_time": "2024-04-16T16:23:40.698Z"
   },
   {
    "duration": 27,
    "start_time": "2024-04-16T16:23:40.720Z"
   },
   {
    "duration": 25,
    "start_time": "2024-04-16T16:23:40.748Z"
   },
   {
    "duration": 23,
    "start_time": "2024-04-16T16:23:40.774Z"
   },
   {
    "duration": 8870,
    "start_time": "2024-04-16T16:23:40.799Z"
   },
   {
    "duration": 3,
    "start_time": "2024-04-16T16:23:49.671Z"
   },
   {
    "duration": 693,
    "start_time": "2024-04-16T16:23:49.675Z"
   },
   {
    "duration": 10,
    "start_time": "2024-04-16T16:23:50.370Z"
   },
   {
    "duration": 1532,
    "start_time": "2024-04-16T16:24:52.957Z"
   },
   {
    "duration": 62,
    "start_time": "2024-04-16T16:24:54.491Z"
   },
   {
    "duration": 11,
    "start_time": "2024-04-16T16:24:54.554Z"
   },
   {
    "duration": 47,
    "start_time": "2024-04-16T16:24:54.567Z"
   },
   {
    "duration": 31,
    "start_time": "2024-04-16T16:24:54.615Z"
   },
   {
    "duration": 510,
    "start_time": "2024-04-16T16:24:54.648Z"
   },
   {
    "duration": 8,
    "start_time": "2024-04-16T16:24:55.160Z"
   },
   {
    "duration": 618,
    "start_time": "2024-04-16T16:24:55.169Z"
   },
   {
    "duration": 211,
    "start_time": "2024-04-16T16:24:55.789Z"
   },
   {
    "duration": 197,
    "start_time": "2024-04-16T16:24:56.002Z"
   },
   {
    "duration": 5,
    "start_time": "2024-04-16T16:24:56.200Z"
   },
   {
    "duration": 34,
    "start_time": "2024-04-16T16:24:56.207Z"
   },
   {
    "duration": 20,
    "start_time": "2024-04-16T16:24:56.243Z"
   },
   {
    "duration": 9,
    "start_time": "2024-04-16T16:24:56.264Z"
   },
   {
    "duration": 15,
    "start_time": "2024-04-16T16:24:56.274Z"
   },
   {
    "duration": 31,
    "start_time": "2024-04-16T16:24:56.290Z"
   },
   {
    "duration": 27,
    "start_time": "2024-04-16T16:24:56.323Z"
   },
   {
    "duration": 6520,
    "start_time": "2024-04-16T16:24:56.352Z"
   },
   {
    "duration": 3,
    "start_time": "2024-04-16T16:25:02.962Z"
   },
   {
    "duration": 108,
    "start_time": "2024-04-16T16:25:02.967Z"
   },
   {
    "duration": 87,
    "start_time": "2024-04-16T16:25:03.077Z"
   },
   {
    "duration": 1601,
    "start_time": "2024-04-16T16:25:35.682Z"
   },
   {
    "duration": 57,
    "start_time": "2024-04-16T16:25:37.285Z"
   },
   {
    "duration": 11,
    "start_time": "2024-04-16T16:25:37.344Z"
   },
   {
    "duration": 12,
    "start_time": "2024-04-16T16:25:37.357Z"
   },
   {
    "duration": 13,
    "start_time": "2024-04-16T16:25:37.370Z"
   },
   {
    "duration": 525,
    "start_time": "2024-04-16T16:25:37.385Z"
   },
   {
    "duration": 8,
    "start_time": "2024-04-16T16:25:37.912Z"
   },
   {
    "duration": 630,
    "start_time": "2024-04-16T16:25:37.921Z"
   },
   {
    "duration": 217,
    "start_time": "2024-04-16T16:25:38.553Z"
   },
   {
    "duration": 203,
    "start_time": "2024-04-16T16:25:38.773Z"
   },
   {
    "duration": 4,
    "start_time": "2024-04-16T16:25:38.978Z"
   },
   {
    "duration": 20,
    "start_time": "2024-04-16T16:25:38.984Z"
   },
   {
    "duration": 8,
    "start_time": "2024-04-16T16:25:39.006Z"
   },
   {
    "duration": 7,
    "start_time": "2024-04-16T16:25:39.016Z"
   },
   {
    "duration": 37,
    "start_time": "2024-04-16T16:25:39.025Z"
   },
   {
    "duration": 17,
    "start_time": "2024-04-16T16:25:39.064Z"
   },
   {
    "duration": 7,
    "start_time": "2024-04-16T16:25:39.083Z"
   },
   {
    "duration": 7879,
    "start_time": "2024-04-16T16:25:39.091Z"
   },
   {
    "duration": 3,
    "start_time": "2024-04-16T16:25:46.971Z"
   },
   {
    "duration": 796,
    "start_time": "2024-04-16T16:25:46.975Z"
   },
   {
    "duration": 92,
    "start_time": "2024-04-16T16:25:47.772Z"
   },
   {
    "duration": 30,
    "start_time": "2024-04-16T16:26:55.265Z"
   },
   {
    "duration": 1586,
    "start_time": "2024-04-16T16:26:58.971Z"
   },
   {
    "duration": 59,
    "start_time": "2024-04-16T16:27:00.558Z"
   },
   {
    "duration": 242,
    "start_time": "2024-04-16T16:27:00.619Z"
   },
   {
    "duration": 50,
    "start_time": "2024-04-16T16:27:00.863Z"
   },
   {
    "duration": 50,
    "start_time": "2024-04-16T16:27:00.916Z"
   },
   {
    "duration": 562,
    "start_time": "2024-04-16T16:27:00.968Z"
   },
   {
    "duration": 8,
    "start_time": "2024-04-16T16:27:01.532Z"
   },
   {
    "duration": 652,
    "start_time": "2024-04-16T16:27:01.542Z"
   },
   {
    "duration": 206,
    "start_time": "2024-04-16T16:27:02.196Z"
   },
   {
    "duration": 203,
    "start_time": "2024-04-16T16:27:02.405Z"
   },
   {
    "duration": 4,
    "start_time": "2024-04-16T16:27:02.609Z"
   },
   {
    "duration": 34,
    "start_time": "2024-04-16T16:27:02.614Z"
   },
   {
    "duration": 17,
    "start_time": "2024-04-16T16:27:02.649Z"
   },
   {
    "duration": 29,
    "start_time": "2024-04-16T16:27:02.667Z"
   },
   {
    "duration": 30,
    "start_time": "2024-04-16T16:27:02.698Z"
   },
   {
    "duration": 23,
    "start_time": "2024-04-16T16:27:02.729Z"
   },
   {
    "duration": 44,
    "start_time": "2024-04-16T16:27:02.754Z"
   },
   {
    "duration": 7864,
    "start_time": "2024-04-16T16:27:02.800Z"
   },
   {
    "duration": 3,
    "start_time": "2024-04-16T16:27:10.665Z"
   },
   {
    "duration": 292,
    "start_time": "2024-04-16T16:27:10.670Z"
   },
   {
    "duration": 13,
    "start_time": "2024-04-16T16:27:10.964Z"
   },
   {
    "duration": 1576,
    "start_time": "2024-04-16T16:27:29.828Z"
   },
   {
    "duration": 59,
    "start_time": "2024-04-16T16:27:31.406Z"
   },
   {
    "duration": 83,
    "start_time": "2024-04-16T16:27:31.467Z"
   },
   {
    "duration": 144,
    "start_time": "2024-04-16T16:27:31.552Z"
   },
   {
    "duration": 86,
    "start_time": "2024-04-16T16:27:31.698Z"
   },
   {
    "duration": 592,
    "start_time": "2024-04-16T16:27:31.786Z"
   },
   {
    "duration": 8,
    "start_time": "2024-04-16T16:27:32.380Z"
   },
   {
    "duration": 607,
    "start_time": "2024-04-16T16:27:32.390Z"
   },
   {
    "duration": 211,
    "start_time": "2024-04-16T16:27:32.999Z"
   },
   {
    "duration": 190,
    "start_time": "2024-04-16T16:27:33.212Z"
   },
   {
    "duration": 3,
    "start_time": "2024-04-16T16:27:33.404Z"
   },
   {
    "duration": 34,
    "start_time": "2024-04-16T16:27:33.409Z"
   },
   {
    "duration": 19,
    "start_time": "2024-04-16T16:27:33.445Z"
   },
   {
    "duration": 32,
    "start_time": "2024-04-16T16:27:33.466Z"
   },
   {
    "duration": 32,
    "start_time": "2024-04-16T16:27:33.500Z"
   },
   {
    "duration": 36,
    "start_time": "2024-04-16T16:27:33.533Z"
   },
   {
    "duration": 25,
    "start_time": "2024-04-16T16:27:33.571Z"
   },
   {
    "duration": 8866,
    "start_time": "2024-04-16T16:27:33.599Z"
   },
   {
    "duration": 3,
    "start_time": "2024-04-16T16:27:42.467Z"
   },
   {
    "duration": 288,
    "start_time": "2024-04-16T16:27:42.472Z"
   },
   {
    "duration": 11,
    "start_time": "2024-04-16T16:27:42.763Z"
   },
   {
    "duration": 4,
    "start_time": "2024-04-16T16:32:50.082Z"
   },
   {
    "duration": 42844,
    "start_time": "2024-04-16T16:32:51.124Z"
   },
   {
    "duration": 3,
    "start_time": "2024-04-16T16:33:39.175Z"
   },
   {
    "duration": 1493,
    "start_time": "2024-04-16T16:33:39.981Z"
   },
   {
    "duration": 11,
    "start_time": "2024-04-16T16:33:42.591Z"
   },
   {
    "duration": 1595,
    "start_time": "2024-04-16T16:34:28.588Z"
   },
   {
    "duration": 61,
    "start_time": "2024-04-16T16:34:30.185Z"
   },
   {
    "duration": 36,
    "start_time": "2024-04-16T16:34:30.248Z"
   },
   {
    "duration": 150,
    "start_time": "2024-04-16T16:34:30.287Z"
   },
   {
    "duration": 44,
    "start_time": "2024-04-16T16:34:30.439Z"
   },
   {
    "duration": 565,
    "start_time": "2024-04-16T16:34:30.485Z"
   },
   {
    "duration": 8,
    "start_time": "2024-04-16T16:34:31.052Z"
   },
   {
    "duration": 665,
    "start_time": "2024-04-16T16:34:31.062Z"
   },
   {
    "duration": 221,
    "start_time": "2024-04-16T16:34:31.729Z"
   },
   {
    "duration": 203,
    "start_time": "2024-04-16T16:34:31.952Z"
   },
   {
    "duration": 4,
    "start_time": "2024-04-16T16:34:32.160Z"
   },
   {
    "duration": 53,
    "start_time": "2024-04-16T16:34:32.166Z"
   },
   {
    "duration": 17,
    "start_time": "2024-04-16T16:34:32.220Z"
   },
   {
    "duration": 23,
    "start_time": "2024-04-16T16:34:32.238Z"
   },
   {
    "duration": 4,
    "start_time": "2024-04-16T16:34:32.263Z"
   },
   {
    "duration": 14,
    "start_time": "2024-04-16T16:34:32.269Z"
   },
   {
    "duration": 16,
    "start_time": "2024-04-16T16:34:32.285Z"
   },
   {
    "duration": 35513,
    "start_time": "2024-04-16T16:34:32.303Z"
   },
   {
    "duration": 2,
    "start_time": "2024-04-16T16:35:07.818Z"
   },
   {
    "duration": 11,
    "start_time": "2024-04-16T16:35:07.861Z"
   },
   {
    "duration": 34,
    "start_time": "2024-04-16T16:35:07.874Z"
   },
   {
    "duration": 1590,
    "start_time": "2024-04-16T16:35:46.253Z"
   },
   {
    "duration": 61,
    "start_time": "2024-04-16T16:35:47.845Z"
   },
   {
    "duration": 12,
    "start_time": "2024-04-16T16:35:47.907Z"
   },
   {
    "duration": 38,
    "start_time": "2024-04-16T16:35:47.921Z"
   },
   {
    "duration": 17,
    "start_time": "2024-04-16T16:35:47.961Z"
   },
   {
    "duration": 514,
    "start_time": "2024-04-16T16:35:47.980Z"
   },
   {
    "duration": 8,
    "start_time": "2024-04-16T16:35:48.496Z"
   },
   {
    "duration": 608,
    "start_time": "2024-04-16T16:35:48.505Z"
   },
   {
    "duration": 206,
    "start_time": "2024-04-16T16:35:49.115Z"
   },
   {
    "duration": 197,
    "start_time": "2024-04-16T16:35:49.323Z"
   },
   {
    "duration": 4,
    "start_time": "2024-04-16T16:35:49.521Z"
   },
   {
    "duration": 40,
    "start_time": "2024-04-16T16:35:49.527Z"
   },
   {
    "duration": 7,
    "start_time": "2024-04-16T16:35:49.569Z"
   },
   {
    "duration": 7,
    "start_time": "2024-04-16T16:35:49.578Z"
   },
   {
    "duration": 8,
    "start_time": "2024-04-16T16:35:49.587Z"
   },
   {
    "duration": 6,
    "start_time": "2024-04-16T16:35:49.596Z"
   },
   {
    "duration": 6,
    "start_time": "2024-04-16T16:35:49.603Z"
   },
   {
    "duration": 44463,
    "start_time": "2024-04-16T16:35:49.610Z"
   },
   {
    "duration": 3,
    "start_time": "2024-04-16T16:36:34.074Z"
   },
   {
    "duration": 1482,
    "start_time": "2024-04-16T16:36:34.079Z"
   },
   {
    "duration": 10,
    "start_time": "2024-04-16T16:36:35.563Z"
   },
   {
    "duration": 1565,
    "start_time": "2024-04-16T16:38:24.295Z"
   },
   {
    "duration": 79,
    "start_time": "2024-04-16T16:38:25.862Z"
   },
   {
    "duration": 12,
    "start_time": "2024-04-16T16:38:25.943Z"
   },
   {
    "duration": 19,
    "start_time": "2024-04-16T16:38:25.957Z"
   },
   {
    "duration": 13,
    "start_time": "2024-04-16T16:38:25.978Z"
   },
   {
    "duration": 529,
    "start_time": "2024-04-16T16:38:25.993Z"
   },
   {
    "duration": 8,
    "start_time": "2024-04-16T16:38:26.524Z"
   },
   {
    "duration": 630,
    "start_time": "2024-04-16T16:38:26.534Z"
   },
   {
    "duration": 215,
    "start_time": "2024-04-16T16:38:27.166Z"
   },
   {
    "duration": 212,
    "start_time": "2024-04-16T16:38:27.384Z"
   },
   {
    "duration": 4,
    "start_time": "2024-04-16T16:38:27.598Z"
   },
   {
    "duration": 37,
    "start_time": "2024-04-16T16:38:27.604Z"
   },
   {
    "duration": 20,
    "start_time": "2024-04-16T16:38:27.643Z"
   },
   {
    "duration": 7,
    "start_time": "2024-04-16T16:38:27.665Z"
   },
   {
    "duration": 11,
    "start_time": "2024-04-16T16:38:27.673Z"
   },
   {
    "duration": 10,
    "start_time": "2024-04-16T16:38:27.686Z"
   },
   {
    "duration": 29,
    "start_time": "2024-04-16T16:38:27.698Z"
   },
   {
    "duration": 42437,
    "start_time": "2024-04-16T16:38:27.729Z"
   },
   {
    "duration": 3,
    "start_time": "2024-04-16T16:39:10.167Z"
   },
   {
    "duration": 1395,
    "start_time": "2024-04-16T16:39:10.172Z"
   },
   {
    "duration": 16,
    "start_time": "2024-04-16T16:39:11.568Z"
   },
   {
    "duration": 1556,
    "start_time": "2024-04-16T16:40:12.928Z"
   },
   {
    "duration": 66,
    "start_time": "2024-04-16T16:40:14.486Z"
   },
   {
    "duration": 12,
    "start_time": "2024-04-16T16:40:14.554Z"
   },
   {
    "duration": 13,
    "start_time": "2024-04-16T16:40:14.568Z"
   },
   {
    "duration": 9,
    "start_time": "2024-04-16T16:40:14.582Z"
   },
   {
    "duration": 533,
    "start_time": "2024-04-16T16:40:14.593Z"
   },
   {
    "duration": 7,
    "start_time": "2024-04-16T16:40:15.128Z"
   },
   {
    "duration": 615,
    "start_time": "2024-04-16T16:40:15.137Z"
   },
   {
    "duration": 225,
    "start_time": "2024-04-16T16:40:15.760Z"
   },
   {
    "duration": 229,
    "start_time": "2024-04-16T16:40:15.988Z"
   },
   {
    "duration": 5,
    "start_time": "2024-04-16T16:40:16.219Z"
   },
   {
    "duration": 59,
    "start_time": "2024-04-16T16:40:16.226Z"
   },
   {
    "duration": 10,
    "start_time": "2024-04-16T16:40:16.286Z"
   },
   {
    "duration": 15,
    "start_time": "2024-04-16T16:40:16.297Z"
   },
   {
    "duration": 35,
    "start_time": "2024-04-16T16:40:16.314Z"
   },
   {
    "duration": 25,
    "start_time": "2024-04-16T16:40:16.351Z"
   },
   {
    "duration": 30,
    "start_time": "2024-04-16T16:40:16.378Z"
   },
   {
    "duration": 53258,
    "start_time": "2024-04-16T16:40:16.410Z"
   },
   {
    "duration": 3,
    "start_time": "2024-04-16T16:41:09.669Z"
   },
   {
    "duration": 1695,
    "start_time": "2024-04-16T16:41:09.673Z"
   },
   {
    "duration": 94,
    "start_time": "2024-04-16T16:41:11.370Z"
   },
   {
    "duration": 5,
    "start_time": "2024-04-16T16:42:02.217Z"
   },
   {
    "duration": 10459,
    "start_time": "2024-04-16T16:42:05.806Z"
   },
   {
    "duration": 1656,
    "start_time": "2024-04-16T16:51:16.675Z"
   },
   {
    "duration": 57,
    "start_time": "2024-04-16T16:51:18.333Z"
   },
   {
    "duration": 10,
    "start_time": "2024-04-16T16:51:18.392Z"
   },
   {
    "duration": 14,
    "start_time": "2024-04-16T16:51:18.404Z"
   },
   {
    "duration": 10,
    "start_time": "2024-04-16T16:51:18.420Z"
   },
   {
    "duration": 527,
    "start_time": "2024-04-16T16:51:18.431Z"
   },
   {
    "duration": 8,
    "start_time": "2024-04-16T16:51:18.960Z"
   },
   {
    "duration": 617,
    "start_time": "2024-04-16T16:51:18.969Z"
   },
   {
    "duration": 210,
    "start_time": "2024-04-16T16:51:19.588Z"
   },
   {
    "duration": 201,
    "start_time": "2024-04-16T16:51:19.800Z"
   },
   {
    "duration": 4,
    "start_time": "2024-04-16T16:51:20.003Z"
   },
   {
    "duration": 64,
    "start_time": "2024-04-16T16:51:20.009Z"
   },
   {
    "duration": 9,
    "start_time": "2024-04-16T16:51:20.074Z"
   },
   {
    "duration": 15,
    "start_time": "2024-04-16T16:51:20.085Z"
   },
   {
    "duration": 10,
    "start_time": "2024-04-16T16:51:20.102Z"
   },
   {
    "duration": 10,
    "start_time": "2024-04-16T16:51:20.113Z"
   },
   {
    "duration": 8,
    "start_time": "2024-04-16T16:51:20.125Z"
   },
   {
    "duration": 91117,
    "start_time": "2024-04-16T16:51:20.135Z"
   },
   {
    "duration": 2,
    "start_time": "2024-04-16T16:52:51.254Z"
   },
   {
    "duration": 7041,
    "start_time": "2024-04-16T16:52:51.258Z"
   },
   {
    "duration": 7,
    "start_time": "2024-04-16T16:52:58.301Z"
   },
   {
    "duration": 1611,
    "start_time": "2024-04-16T16:54:59.885Z"
   },
   {
    "duration": 60,
    "start_time": "2024-04-16T16:55:01.497Z"
   },
   {
    "duration": 12,
    "start_time": "2024-04-16T16:55:01.558Z"
   },
   {
    "duration": 67,
    "start_time": "2024-04-16T16:55:01.572Z"
   },
   {
    "duration": 44,
    "start_time": "2024-04-16T16:55:01.640Z"
   },
   {
    "duration": 548,
    "start_time": "2024-04-16T16:55:01.686Z"
   },
   {
    "duration": 10,
    "start_time": "2024-04-16T16:55:02.236Z"
   },
   {
    "duration": 637,
    "start_time": "2024-04-16T16:55:02.248Z"
   },
   {
    "duration": 211,
    "start_time": "2024-04-16T16:55:02.887Z"
   },
   {
    "duration": 219,
    "start_time": "2024-04-16T16:55:03.101Z"
   },
   {
    "duration": 4,
    "start_time": "2024-04-16T16:55:03.322Z"
   },
   {
    "duration": 87,
    "start_time": "2024-04-16T16:55:03.327Z"
   },
   {
    "duration": 9,
    "start_time": "2024-04-16T16:55:03.416Z"
   },
   {
    "duration": 25,
    "start_time": "2024-04-16T16:55:03.427Z"
   },
   {
    "duration": 8,
    "start_time": "2024-04-16T16:55:03.454Z"
   },
   {
    "duration": 24,
    "start_time": "2024-04-16T16:55:03.463Z"
   },
   {
    "duration": 9,
    "start_time": "2024-04-16T16:55:03.489Z"
   },
   {
    "duration": 81070,
    "start_time": "2024-04-16T16:55:03.500Z"
   },
   {
    "duration": 2,
    "start_time": "2024-04-16T16:56:24.573Z"
   },
   {
    "duration": 4462,
    "start_time": "2024-04-16T16:56:24.577Z"
   },
   {
    "duration": 7,
    "start_time": "2024-04-16T16:56:29.040Z"
   },
   {
    "duration": 1529,
    "start_time": "2024-04-16T16:57:20.177Z"
   },
   {
    "duration": 59,
    "start_time": "2024-04-16T16:57:21.708Z"
   },
   {
    "duration": 11,
    "start_time": "2024-04-16T16:57:21.769Z"
   },
   {
    "duration": 44,
    "start_time": "2024-04-16T16:57:21.782Z"
   },
   {
    "duration": 11,
    "start_time": "2024-04-16T16:57:21.828Z"
   },
   {
    "duration": 562,
    "start_time": "2024-04-16T16:57:21.840Z"
   },
   {
    "duration": 8,
    "start_time": "2024-04-16T16:57:22.404Z"
   },
   {
    "duration": 603,
    "start_time": "2024-04-16T16:57:22.413Z"
   },
   {
    "duration": 216,
    "start_time": "2024-04-16T16:57:23.017Z"
   },
   {
    "duration": 186,
    "start_time": "2024-04-16T16:57:23.235Z"
   },
   {
    "duration": 4,
    "start_time": "2024-04-16T16:57:23.423Z"
   },
   {
    "duration": 67,
    "start_time": "2024-04-16T16:57:23.428Z"
   },
   {
    "duration": 8,
    "start_time": "2024-04-16T16:57:23.497Z"
   },
   {
    "duration": 46,
    "start_time": "2024-04-16T16:57:23.507Z"
   },
   {
    "duration": 26,
    "start_time": "2024-04-16T16:57:23.555Z"
   },
   {
    "duration": 39,
    "start_time": "2024-04-16T16:57:23.582Z"
   },
   {
    "duration": 19,
    "start_time": "2024-04-16T16:57:23.623Z"
   },
   {
    "duration": 90820,
    "start_time": "2024-04-16T16:57:23.644Z"
   },
   {
    "duration": 3,
    "start_time": "2024-04-16T16:58:54.465Z"
   },
   {
    "duration": 7120,
    "start_time": "2024-04-16T16:58:54.470Z"
   },
   {
    "duration": 7,
    "start_time": "2024-04-16T16:59:01.592Z"
   },
   {
    "duration": 1577,
    "start_time": "2024-04-16T17:03:52.776Z"
   },
   {
    "duration": 60,
    "start_time": "2024-04-16T17:03:54.355Z"
   },
   {
    "duration": 11,
    "start_time": "2024-04-16T17:03:54.416Z"
   },
   {
    "duration": 47,
    "start_time": "2024-04-16T17:03:54.429Z"
   },
   {
    "duration": 33,
    "start_time": "2024-04-16T17:03:54.477Z"
   },
   {
    "duration": 555,
    "start_time": "2024-04-16T17:03:54.511Z"
   },
   {
    "duration": 8,
    "start_time": "2024-04-16T17:03:55.068Z"
   },
   {
    "duration": 607,
    "start_time": "2024-04-16T17:03:55.077Z"
   },
   {
    "duration": 226,
    "start_time": "2024-04-16T17:03:55.685Z"
   },
   {
    "duration": 218,
    "start_time": "2024-04-16T17:03:55.914Z"
   },
   {
    "duration": 4,
    "start_time": "2024-04-16T17:03:56.134Z"
   },
   {
    "duration": 61,
    "start_time": "2024-04-16T17:03:56.140Z"
   },
   {
    "duration": 11,
    "start_time": "2024-04-16T17:03:56.203Z"
   },
   {
    "duration": 19,
    "start_time": "2024-04-16T17:03:56.216Z"
   },
   {
    "duration": 13,
    "start_time": "2024-04-16T17:03:56.237Z"
   },
   {
    "duration": 20,
    "start_time": "2024-04-16T17:03:56.251Z"
   },
   {
    "duration": 11,
    "start_time": "2024-04-16T17:03:56.273Z"
   },
   {
    "duration": 130221,
    "start_time": "2024-04-16T17:03:56.286Z"
   },
   {
    "duration": 3,
    "start_time": "2024-04-16T17:06:06.509Z"
   },
   {
    "duration": 9910,
    "start_time": "2024-04-16T17:06:06.513Z"
   },
   {
    "duration": 8,
    "start_time": "2024-04-16T17:06:16.424Z"
   },
   {
    "duration": 1667,
    "start_time": "2024-04-16T17:07:10.056Z"
   },
   {
    "duration": 57,
    "start_time": "2024-04-16T17:07:11.725Z"
   },
   {
    "duration": 10,
    "start_time": "2024-04-16T17:07:11.784Z"
   },
   {
    "duration": 13,
    "start_time": "2024-04-16T17:07:11.796Z"
   },
   {
    "duration": 9,
    "start_time": "2024-04-16T17:07:11.811Z"
   },
   {
    "duration": 581,
    "start_time": "2024-04-16T17:07:11.821Z"
   },
   {
    "duration": 10,
    "start_time": "2024-04-16T17:07:12.404Z"
   },
   {
    "duration": 600,
    "start_time": "2024-04-16T17:07:12.416Z"
   },
   {
    "duration": 222,
    "start_time": "2024-04-16T17:07:13.018Z"
   },
   {
    "duration": 201,
    "start_time": "2024-04-16T17:07:13.241Z"
   },
   {
    "duration": 4,
    "start_time": "2024-04-16T17:07:13.444Z"
   },
   {
    "duration": 42,
    "start_time": "2024-04-16T17:07:13.460Z"
   },
   {
    "duration": 8,
    "start_time": "2024-04-16T17:07:13.504Z"
   },
   {
    "duration": 17,
    "start_time": "2024-04-16T17:07:13.514Z"
   },
   {
    "duration": 11,
    "start_time": "2024-04-16T17:07:13.533Z"
   },
   {
    "duration": 4,
    "start_time": "2024-04-16T17:07:13.560Z"
   },
   {
    "duration": 13,
    "start_time": "2024-04-16T17:07:13.565Z"
   },
   {
    "duration": 79365,
    "start_time": "2024-04-16T17:07:13.580Z"
   },
   {
    "duration": 2,
    "start_time": "2024-04-16T17:08:32.947Z"
   },
   {
    "duration": 5885,
    "start_time": "2024-04-16T17:08:32.951Z"
   },
   {
    "duration": 7,
    "start_time": "2024-04-16T17:08:38.838Z"
   },
   {
    "duration": 1640,
    "start_time": "2024-04-16T17:11:15.668Z"
   },
   {
    "duration": 58,
    "start_time": "2024-04-16T17:11:17.310Z"
   },
   {
    "duration": 11,
    "start_time": "2024-04-16T17:11:17.370Z"
   },
   {
    "duration": 12,
    "start_time": "2024-04-16T17:11:17.383Z"
   },
   {
    "duration": 14,
    "start_time": "2024-04-16T17:11:17.396Z"
   },
   {
    "duration": 523,
    "start_time": "2024-04-16T17:11:17.411Z"
   },
   {
    "duration": 8,
    "start_time": "2024-04-16T17:11:17.936Z"
   },
   {
    "duration": 570,
    "start_time": "2024-04-16T17:11:17.945Z"
   },
   {
    "duration": 222,
    "start_time": "2024-04-16T17:11:18.516Z"
   },
   {
    "duration": 200,
    "start_time": "2024-04-16T17:11:18.740Z"
   },
   {
    "duration": 4,
    "start_time": "2024-04-16T17:11:18.941Z"
   },
   {
    "duration": 53,
    "start_time": "2024-04-16T17:11:18.947Z"
   },
   {
    "duration": 10,
    "start_time": "2024-04-16T17:11:19.001Z"
   },
   {
    "duration": 6,
    "start_time": "2024-04-16T17:11:19.013Z"
   },
   {
    "duration": 5,
    "start_time": "2024-04-16T17:11:19.021Z"
   },
   {
    "duration": 33,
    "start_time": "2024-04-16T17:11:19.028Z"
   },
   {
    "duration": 6,
    "start_time": "2024-04-16T17:11:19.063Z"
   },
   {
    "duration": 89745,
    "start_time": "2024-04-16T17:11:19.070Z"
   },
   {
    "duration": 3,
    "start_time": "2024-04-16T17:12:48.817Z"
   },
   {
    "duration": 6859,
    "start_time": "2024-04-16T17:12:48.822Z"
   },
   {
    "duration": 7,
    "start_time": "2024-04-16T17:12:55.682Z"
   },
   {
    "duration": 14,
    "start_time": "2024-04-16T17:15:58.718Z"
   },
   {
    "duration": 4,
    "start_time": "2024-04-16T17:18:41.634Z"
   },
   {
    "duration": 132,
    "start_time": "2024-04-16T17:18:47.810Z"
   },
   {
    "duration": 5,
    "start_time": "2024-04-16T17:19:45.994Z"
   },
   {
    "duration": 3,
    "start_time": "2024-04-16T17:22:19.164Z"
   },
   {
    "duration": 4,
    "start_time": "2024-04-16T17:22:48.171Z"
   },
   {
    "duration": 3,
    "start_time": "2024-04-16T17:22:49.220Z"
   },
   {
    "duration": 94194,
    "start_time": "2024-04-16T17:22:50.326Z"
   },
   {
    "duration": 3,
    "start_time": "2024-04-16T17:25:01.901Z"
   },
   {
    "duration": 6714,
    "start_time": "2024-04-16T17:25:03.277Z"
   },
   {
    "duration": 6,
    "start_time": "2024-04-16T17:25:22.633Z"
   },
   {
    "duration": 1661,
    "start_time": "2024-04-16T17:29:50.788Z"
   },
   {
    "duration": 67,
    "start_time": "2024-04-16T17:29:52.451Z"
   },
   {
    "duration": 11,
    "start_time": "2024-04-16T17:29:52.520Z"
   },
   {
    "duration": 45,
    "start_time": "2024-04-16T17:29:52.533Z"
   },
   {
    "duration": 11,
    "start_time": "2024-04-16T17:29:52.579Z"
   },
   {
    "duration": 522,
    "start_time": "2024-04-16T17:29:52.592Z"
   },
   {
    "duration": 8,
    "start_time": "2024-04-16T17:29:53.116Z"
   },
   {
    "duration": 624,
    "start_time": "2024-04-16T17:29:53.126Z"
   },
   {
    "duration": 215,
    "start_time": "2024-04-16T17:29:53.751Z"
   },
   {
    "duration": 199,
    "start_time": "2024-04-16T17:29:53.969Z"
   },
   {
    "duration": 4,
    "start_time": "2024-04-16T17:29:54.170Z"
   },
   {
    "duration": 33,
    "start_time": "2024-04-16T17:29:54.175Z"
   },
   {
    "duration": 10,
    "start_time": "2024-04-16T17:29:54.210Z"
   },
   {
    "duration": 7,
    "start_time": "2024-04-16T17:29:54.221Z"
   },
   {
    "duration": 14,
    "start_time": "2024-04-16T17:29:54.229Z"
   },
   {
    "duration": 27,
    "start_time": "2024-04-16T17:29:54.245Z"
   },
   {
    "duration": 19,
    "start_time": "2024-04-16T17:29:54.274Z"
   },
   {
    "duration": 132,
    "start_time": "2024-04-16T17:29:54.294Z"
   },
   {
    "duration": 0,
    "start_time": "2024-04-16T17:29:54.427Z"
   },
   {
    "duration": 0,
    "start_time": "2024-04-16T17:29:54.429Z"
   },
   {
    "duration": 0,
    "start_time": "2024-04-16T17:29:54.430Z"
   },
   {
    "duration": 88822,
    "start_time": "2024-04-16T17:30:10.875Z"
   },
   {
    "duration": 10,
    "start_time": "2024-04-16T17:31:52.522Z"
   },
   {
    "duration": 3,
    "start_time": "2024-04-16T17:32:00.200Z"
   },
   {
    "duration": 7184,
    "start_time": "2024-04-16T17:32:01.301Z"
   },
   {
    "duration": 8,
    "start_time": "2024-04-16T17:32:12.590Z"
   },
   {
    "duration": 11,
    "start_time": "2024-04-16T17:36:38.647Z"
   },
   {
    "duration": 11,
    "start_time": "2024-04-16T17:37:19.674Z"
   },
   {
    "duration": 11,
    "start_time": "2024-04-16T17:37:25.087Z"
   },
   {
    "duration": 10,
    "start_time": "2024-04-16T17:37:29.087Z"
   },
   {
    "duration": 6,
    "start_time": "2024-04-16T17:45:13.658Z"
   },
   {
    "duration": 17,
    "start_time": "2024-04-16T17:45:33.708Z"
   },
   {
    "duration": 14,
    "start_time": "2024-04-16T17:45:44.172Z"
   },
   {
    "duration": 7,
    "start_time": "2024-04-16T17:45:54.484Z"
   },
   {
    "duration": 204,
    "start_time": "2024-04-16T17:46:17.654Z"
   },
   {
    "duration": 193,
    "start_time": "2024-04-16T17:46:35.720Z"
   },
   {
    "duration": 12,
    "start_time": "2024-04-16T17:47:14.950Z"
   },
   {
    "duration": 17,
    "start_time": "2024-04-16T17:47:24.629Z"
   },
   {
    "duration": 7,
    "start_time": "2024-04-16T17:47:39.760Z"
   },
   {
    "duration": 7,
    "start_time": "2024-04-16T17:47:48.802Z"
   },
   {
    "duration": 6,
    "start_time": "2024-04-16T17:48:00.023Z"
   },
   {
    "duration": 10,
    "start_time": "2024-04-16T17:48:31.640Z"
   },
   {
    "duration": 17,
    "start_time": "2024-04-16T17:49:19.723Z"
   },
   {
    "duration": 15,
    "start_time": "2024-04-16T17:49:35.760Z"
   },
   {
    "duration": 7,
    "start_time": "2024-04-16T17:49:40.961Z"
   },
   {
    "duration": 1662,
    "start_time": "2024-04-16T17:49:56.697Z"
   },
   {
    "duration": 58,
    "start_time": "2024-04-16T17:49:58.360Z"
   },
   {
    "duration": 11,
    "start_time": "2024-04-16T17:49:58.419Z"
   },
   {
    "duration": 19,
    "start_time": "2024-04-16T17:49:58.431Z"
   },
   {
    "duration": 20,
    "start_time": "2024-04-16T17:49:58.451Z"
   },
   {
    "duration": 502,
    "start_time": "2024-04-16T17:49:58.472Z"
   },
   {
    "duration": 7,
    "start_time": "2024-04-16T17:49:58.976Z"
   },
   {
    "duration": 596,
    "start_time": "2024-04-16T17:49:58.984Z"
   },
   {
    "duration": 220,
    "start_time": "2024-04-16T17:49:59.582Z"
   },
   {
    "duration": 207,
    "start_time": "2024-04-16T17:49:59.806Z"
   },
   {
    "duration": 4,
    "start_time": "2024-04-16T17:50:00.015Z"
   },
   {
    "duration": 62,
    "start_time": "2024-04-16T17:50:00.021Z"
   },
   {
    "duration": 26,
    "start_time": "2024-04-16T17:50:00.085Z"
   },
   {
    "duration": 50,
    "start_time": "2024-04-16T17:50:00.112Z"
   },
   {
    "duration": 92,
    "start_time": "2024-04-16T17:50:00.163Z"
   },
   {
    "duration": 99,
    "start_time": "2024-04-16T17:50:00.257Z"
   },
   {
    "duration": 111,
    "start_time": "2024-04-16T17:50:00.358Z"
   },
   {
    "duration": 90401,
    "start_time": "2024-04-16T17:50:00.471Z"
   },
   {
    "duration": 2,
    "start_time": "2024-04-16T17:51:30.874Z"
   },
   {
    "duration": 7012,
    "start_time": "2024-04-16T17:51:30.878Z"
   },
   {
    "duration": 7,
    "start_time": "2024-04-16T17:51:37.892Z"
   },
   {
    "duration": 229,
    "start_time": "2024-04-16T17:51:37.900Z"
   },
   {
    "duration": 148,
    "start_time": "2024-04-16T17:51:38.130Z"
   },
   {
    "duration": 0,
    "start_time": "2024-04-16T17:51:38.279Z"
   },
   {
    "duration": 10,
    "start_time": "2024-04-16T17:52:04.082Z"
   },
   {
    "duration": 12,
    "start_time": "2024-04-16T17:52:11.226Z"
   },
   {
    "duration": 10,
    "start_time": "2024-04-16T17:54:32.505Z"
   },
   {
    "duration": 4,
    "start_time": "2024-04-16T17:54:49.058Z"
   },
   {
    "duration": 4,
    "start_time": "2024-04-16T17:54:53.104Z"
   },
   {
    "duration": 12,
    "start_time": "2024-04-16T17:54:56.799Z"
   },
   {
    "duration": 213,
    "start_time": "2024-04-16T17:55:05.411Z"
   },
   {
    "duration": 293,
    "start_time": "2024-04-16T17:55:27.508Z"
   },
   {
    "duration": 4,
    "start_time": "2024-04-16T17:56:26.582Z"
   },
   {
    "duration": 416,
    "start_time": "2024-04-16T17:56:27.670Z"
   },
   {
    "duration": 4,
    "start_time": "2024-04-16T17:57:57.281Z"
   },
   {
    "duration": 334,
    "start_time": "2024-04-16T17:58:00.133Z"
   },
   {
    "duration": 194,
    "start_time": "2024-04-16T17:59:07.071Z"
   },
   {
    "duration": 114,
    "start_time": "2024-04-16T18:03:03.639Z"
   },
   {
    "duration": 131,
    "start_time": "2024-04-16T18:03:16.232Z"
   },
   {
    "duration": 146,
    "start_time": "2024-04-16T18:05:20.080Z"
   },
   {
    "duration": 147,
    "start_time": "2024-04-16T18:05:27.536Z"
   },
   {
    "duration": 155,
    "start_time": "2024-04-16T18:05:37.760Z"
   },
   {
    "duration": 192,
    "start_time": "2024-04-16T18:05:58.848Z"
   },
   {
    "duration": 213,
    "start_time": "2024-04-16T18:06:08.476Z"
   },
   {
    "duration": 314,
    "start_time": "2024-04-16T18:10:55.560Z"
   },
   {
    "duration": 308,
    "start_time": "2024-04-16T18:12:43.653Z"
   },
   {
    "duration": 308,
    "start_time": "2024-04-16T18:14:20.899Z"
   },
   {
    "duration": 455,
    "start_time": "2024-04-16T18:14:35.940Z"
   },
   {
    "duration": 327,
    "start_time": "2024-04-16T18:15:05.478Z"
   },
   {
    "duration": 176,
    "start_time": "2024-04-16T18:15:09.174Z"
   },
   {
    "duration": 1536,
    "start_time": "2024-04-16T18:34:07.066Z"
   },
   {
    "duration": 59,
    "start_time": "2024-04-16T18:34:08.604Z"
   },
   {
    "duration": 11,
    "start_time": "2024-04-16T18:34:08.664Z"
   },
   {
    "duration": 12,
    "start_time": "2024-04-16T18:34:08.677Z"
   },
   {
    "duration": 9,
    "start_time": "2024-04-16T18:34:08.691Z"
   },
   {
    "duration": 489,
    "start_time": "2024-04-16T18:34:08.701Z"
   },
   {
    "duration": 8,
    "start_time": "2024-04-16T18:34:09.191Z"
   },
   {
    "duration": 637,
    "start_time": "2024-04-16T18:34:09.200Z"
   },
   {
    "duration": 231,
    "start_time": "2024-04-16T18:34:09.839Z"
   },
   {
    "duration": 193,
    "start_time": "2024-04-16T18:34:10.072Z"
   },
   {
    "duration": 4,
    "start_time": "2024-04-16T18:34:10.267Z"
   },
   {
    "duration": 22,
    "start_time": "2024-04-16T18:34:10.273Z"
   },
   {
    "duration": 9,
    "start_time": "2024-04-16T18:34:10.296Z"
   },
   {
    "duration": 14,
    "start_time": "2024-04-16T18:34:10.307Z"
   },
   {
    "duration": 10,
    "start_time": "2024-04-16T18:34:10.322Z"
   },
   {
    "duration": 9,
    "start_time": "2024-04-16T18:34:10.334Z"
   },
   {
    "duration": 9,
    "start_time": "2024-04-16T18:34:10.361Z"
   },
   {
    "duration": 436899,
    "start_time": "2024-04-16T18:34:10.372Z"
   },
   {
    "duration": 0,
    "start_time": "2024-04-16T18:41:27.273Z"
   },
   {
    "duration": 0,
    "start_time": "2024-04-16T18:41:27.274Z"
   },
   {
    "duration": 0,
    "start_time": "2024-04-16T18:41:27.275Z"
   },
   {
    "duration": 0,
    "start_time": "2024-04-16T18:41:27.277Z"
   },
   {
    "duration": 0,
    "start_time": "2024-04-16T18:41:27.279Z"
   },
   {
    "duration": 0,
    "start_time": "2024-04-16T18:41:27.280Z"
   },
   {
    "duration": 7,
    "start_time": "2024-04-16T18:43:00.261Z"
   },
   {
    "duration": 20102,
    "start_time": "2024-04-16T18:43:01.971Z"
   },
   {
    "duration": 2,
    "start_time": "2024-04-16T18:43:34.429Z"
   },
   {
    "duration": 1000,
    "start_time": "2024-04-16T18:43:35.269Z"
   },
   {
    "duration": 13,
    "start_time": "2024-04-16T18:43:37.745Z"
   },
   {
    "duration": 4,
    "start_time": "2024-04-16T18:43:42.349Z"
   },
   {
    "duration": 305,
    "start_time": "2024-04-16T18:43:43.237Z"
   },
   {
    "duration": 184,
    "start_time": "2024-04-16T18:43:46.458Z"
   },
   {
    "duration": 2202,
    "start_time": "2024-04-16T18:44:03.597Z"
   },
   {
    "duration": 2,
    "start_time": "2024-04-16T18:44:13.828Z"
   },
   {
    "duration": 58,
    "start_time": "2024-04-16T18:44:14.721Z"
   },
   {
    "duration": 7,
    "start_time": "2024-04-16T18:44:16.087Z"
   },
   {
    "duration": 11556,
    "start_time": "2024-04-16T18:44:21.715Z"
   },
   {
    "duration": 2,
    "start_time": "2024-04-16T18:44:37.571Z"
   },
   {
    "duration": 1263,
    "start_time": "2024-04-16T18:44:38.506Z"
   },
   {
    "duration": 13,
    "start_time": "2024-04-16T18:44:40.033Z"
   },
   {
    "duration": 18,
    "start_time": "2024-04-16T18:44:42.076Z"
   },
   {
    "duration": 5,
    "start_time": "2024-04-16T18:44:43.944Z"
   },
   {
    "duration": 343,
    "start_time": "2024-04-16T18:44:44.990Z"
   },
   {
    "duration": 186,
    "start_time": "2024-04-16T18:44:47.865Z"
   },
   {
    "duration": 1561,
    "start_time": "2024-04-16T18:47:49.713Z"
   },
   {
    "duration": 57,
    "start_time": "2024-04-16T18:47:51.276Z"
   },
   {
    "duration": 10,
    "start_time": "2024-04-16T18:47:51.337Z"
   },
   {
    "duration": 35,
    "start_time": "2024-04-16T18:47:51.349Z"
   },
   {
    "duration": 20,
    "start_time": "2024-04-16T18:47:51.385Z"
   },
   {
    "duration": 487,
    "start_time": "2024-04-16T18:47:51.406Z"
   },
   {
    "duration": 9,
    "start_time": "2024-04-16T18:47:51.894Z"
   },
   {
    "duration": 590,
    "start_time": "2024-04-16T18:47:51.904Z"
   },
   {
    "duration": 215,
    "start_time": "2024-04-16T18:47:52.497Z"
   },
   {
    "duration": 183,
    "start_time": "2024-04-16T18:47:52.713Z"
   },
   {
    "duration": 5,
    "start_time": "2024-04-16T18:47:52.898Z"
   },
   {
    "duration": 23,
    "start_time": "2024-04-16T18:47:52.905Z"
   },
   {
    "duration": 9,
    "start_time": "2024-04-16T18:47:52.929Z"
   },
   {
    "duration": 6,
    "start_time": "2024-04-16T18:47:52.960Z"
   },
   {
    "duration": 19,
    "start_time": "2024-04-16T18:47:52.968Z"
   },
   {
    "duration": 5,
    "start_time": "2024-04-16T18:47:52.989Z"
   },
   {
    "duration": 33,
    "start_time": "2024-04-16T18:47:52.995Z"
   },
   {
    "duration": 13337,
    "start_time": "2024-04-16T18:47:53.029Z"
   },
   {
    "duration": 3,
    "start_time": "2024-04-16T18:48:06.367Z"
   },
   {
    "duration": 1391,
    "start_time": "2024-04-16T18:48:06.371Z"
   },
   {
    "duration": 10,
    "start_time": "2024-04-16T18:48:07.763Z"
   },
   {
    "duration": 3,
    "start_time": "2024-04-16T18:48:07.775Z"
   },
   {
    "duration": 353,
    "start_time": "2024-04-16T18:48:07.780Z"
   },
   {
    "duration": 184,
    "start_time": "2024-04-16T18:48:08.135Z"
   },
   {
    "duration": 42563,
    "start_time": "2024-04-16T18:48:43.903Z"
   },
   {
    "duration": 2013,
    "start_time": "2024-04-16T18:49:54.854Z"
   },
   {
    "duration": 7044,
    "start_time": "2024-04-16T18:50:12.521Z"
   },
   {
    "duration": 3,
    "start_time": "2024-04-16T18:50:24.792Z"
   },
   {
    "duration": 1332,
    "start_time": "2024-04-16T18:50:26.236Z"
   },
   {
    "duration": 58,
    "start_time": "2024-04-16T18:50:28.818Z"
   },
   {
    "duration": 46830,
    "start_time": "2024-04-16T18:50:36.666Z"
   },
   {
    "duration": 3,
    "start_time": "2024-04-16T18:51:32.158Z"
   },
   {
    "duration": 7318,
    "start_time": "2024-04-16T18:51:33.663Z"
   },
   {
    "duration": 9,
    "start_time": "2024-04-16T18:51:40.983Z"
   },
   {
    "duration": 1823,
    "start_time": "2024-04-16T18:51:48.559Z"
   },
   {
    "duration": 28178,
    "start_time": "2024-04-16T18:51:56.466Z"
   },
   {
    "duration": 3,
    "start_time": "2024-04-16T18:52:31.885Z"
   },
   {
    "duration": 4557,
    "start_time": "2024-04-16T18:52:32.816Z"
   },
   {
    "duration": 7,
    "start_time": "2024-04-16T18:52:38.617Z"
   },
   {
    "duration": 6,
    "start_time": "2024-04-16T18:53:03.990Z"
   },
   {
    "duration": 5,
    "start_time": "2024-04-16T18:55:00.246Z"
   },
   {
    "duration": 412,
    "start_time": "2024-04-16T18:55:03.189Z"
   },
   {
    "duration": 186,
    "start_time": "2024-04-16T18:55:06.021Z"
   },
   {
    "duration": 1493,
    "start_time": "2024-04-16T18:55:14.604Z"
   },
   {
    "duration": 56,
    "start_time": "2024-04-16T18:55:16.099Z"
   },
   {
    "duration": 10,
    "start_time": "2024-04-16T18:55:16.157Z"
   },
   {
    "duration": 12,
    "start_time": "2024-04-16T18:55:16.168Z"
   },
   {
    "duration": 9,
    "start_time": "2024-04-16T18:55:16.181Z"
   },
   {
    "duration": 486,
    "start_time": "2024-04-16T18:55:16.191Z"
   },
   {
    "duration": 7,
    "start_time": "2024-04-16T18:55:16.679Z"
   },
   {
    "duration": 602,
    "start_time": "2024-04-16T18:55:16.687Z"
   },
   {
    "duration": 203,
    "start_time": "2024-04-16T18:55:17.290Z"
   },
   {
    "duration": 183,
    "start_time": "2024-04-16T18:55:17.496Z"
   },
   {
    "duration": 4,
    "start_time": "2024-04-16T18:55:17.681Z"
   },
   {
    "duration": 28,
    "start_time": "2024-04-16T18:55:17.687Z"
   },
   {
    "duration": 11,
    "start_time": "2024-04-16T18:55:17.717Z"
   },
   {
    "duration": 7,
    "start_time": "2024-04-16T18:55:17.730Z"
   },
   {
    "duration": 23,
    "start_time": "2024-04-16T18:55:17.739Z"
   },
   {
    "duration": 8,
    "start_time": "2024-04-16T18:55:17.764Z"
   },
   {
    "duration": 9,
    "start_time": "2024-04-16T18:55:17.774Z"
   },
   {
    "duration": 28658,
    "start_time": "2024-04-16T18:55:17.785Z"
   },
   {
    "duration": 3,
    "start_time": "2024-04-16T18:55:46.444Z"
   },
   {
    "duration": 4542,
    "start_time": "2024-04-16T18:55:46.448Z"
   },
   {
    "duration": 7,
    "start_time": "2024-04-16T18:55:50.991Z"
   },
   {
    "duration": 4,
    "start_time": "2024-04-16T18:55:51.000Z"
   },
   {
    "duration": 325,
    "start_time": "2024-04-16T18:55:51.005Z"
   },
   {
    "duration": 193,
    "start_time": "2024-04-16T18:55:51.332Z"
   },
   {
    "duration": 127,
    "start_time": "2024-04-16T19:08:41.646Z"
   },
   {
    "duration": 60,
    "start_time": "2024-04-16T19:08:55.167Z"
   },
   {
    "duration": 59,
    "start_time": "2024-04-16T19:09:16.188Z"
   },
   {
    "duration": 15,
    "start_time": "2024-04-16T19:09:40.429Z"
   },
   {
    "duration": 6,
    "start_time": "2024-04-16T19:09:51.431Z"
   },
   {
    "duration": 1581,
    "start_time": "2024-04-16T19:11:47.612Z"
   },
   {
    "duration": 57,
    "start_time": "2024-04-16T19:11:49.194Z"
   },
   {
    "duration": 12,
    "start_time": "2024-04-16T19:11:49.253Z"
   },
   {
    "duration": 18,
    "start_time": "2024-04-16T19:11:49.268Z"
   },
   {
    "duration": 11,
    "start_time": "2024-04-16T19:11:49.288Z"
   },
   {
    "duration": 525,
    "start_time": "2024-04-16T19:11:49.300Z"
   },
   {
    "duration": 9,
    "start_time": "2024-04-16T19:11:49.827Z"
   },
   {
    "duration": 593,
    "start_time": "2024-04-16T19:11:49.838Z"
   },
   {
    "duration": 194,
    "start_time": "2024-04-16T19:11:50.433Z"
   },
   {
    "duration": 190,
    "start_time": "2024-04-16T19:11:50.629Z"
   },
   {
    "duration": 4,
    "start_time": "2024-04-16T19:11:50.820Z"
   },
   {
    "duration": 40,
    "start_time": "2024-04-16T19:11:50.826Z"
   },
   {
    "duration": 12,
    "start_time": "2024-04-16T19:11:50.868Z"
   },
   {
    "duration": 15,
    "start_time": "2024-04-16T19:11:50.882Z"
   },
   {
    "duration": 38,
    "start_time": "2024-04-16T19:11:50.898Z"
   },
   {
    "duration": 8,
    "start_time": "2024-04-16T19:11:50.938Z"
   },
   {
    "duration": 15,
    "start_time": "2024-04-16T19:11:50.948Z"
   },
   {
    "duration": 28370,
    "start_time": "2024-04-16T19:11:50.964Z"
   },
   {
    "duration": 3,
    "start_time": "2024-04-16T19:12:19.335Z"
   },
   {
    "duration": 4370,
    "start_time": "2024-04-16T19:12:19.339Z"
   },
   {
    "duration": 7,
    "start_time": "2024-04-16T19:12:23.710Z"
   },
   {
    "duration": 10,
    "start_time": "2024-04-16T19:12:23.718Z"
   },
   {
    "duration": 377,
    "start_time": "2024-04-16T19:12:23.729Z"
   },
   {
    "duration": 218,
    "start_time": "2024-04-16T19:12:24.108Z"
   },
   {
    "duration": 1575,
    "start_time": "2024-04-16T19:16:43.292Z"
   },
   {
    "duration": 59,
    "start_time": "2024-04-16T19:16:44.869Z"
   },
   {
    "duration": 11,
    "start_time": "2024-04-16T19:16:44.929Z"
   },
   {
    "duration": 13,
    "start_time": "2024-04-16T19:16:44.942Z"
   },
   {
    "duration": 10,
    "start_time": "2024-04-16T19:16:44.957Z"
   },
   {
    "duration": 451,
    "start_time": "2024-04-16T19:16:44.968Z"
   },
   {
    "duration": 8,
    "start_time": "2024-04-16T19:16:45.420Z"
   },
   {
    "duration": 598,
    "start_time": "2024-04-16T19:16:45.429Z"
   },
   {
    "duration": 221,
    "start_time": "2024-04-16T19:16:46.029Z"
   },
   {
    "duration": 200,
    "start_time": "2024-04-16T19:16:46.253Z"
   },
   {
    "duration": 7,
    "start_time": "2024-04-16T19:16:46.455Z"
   },
   {
    "duration": 80,
    "start_time": "2024-04-16T19:16:46.464Z"
   },
   {
    "duration": 37,
    "start_time": "2024-04-16T19:16:46.545Z"
   },
   {
    "duration": 5,
    "start_time": "2024-04-16T19:16:46.584Z"
   },
   {
    "duration": 4,
    "start_time": "2024-04-16T19:16:46.591Z"
   },
   {
    "duration": 4,
    "start_time": "2024-04-16T19:16:46.597Z"
   },
   {
    "duration": 14,
    "start_time": "2024-04-16T19:16:46.602Z"
   },
   {
    "duration": 28269,
    "start_time": "2024-04-16T19:16:46.617Z"
   },
   {
    "duration": 3,
    "start_time": "2024-04-16T19:17:14.887Z"
   },
   {
    "duration": 4576,
    "start_time": "2024-04-16T19:17:14.891Z"
   },
   {
    "duration": 8,
    "start_time": "2024-04-16T19:17:19.469Z"
   },
   {
    "duration": 16,
    "start_time": "2024-04-16T19:17:19.478Z"
   },
   {
    "duration": 318,
    "start_time": "2024-04-16T19:17:19.495Z"
   },
   {
    "duration": 202,
    "start_time": "2024-04-16T19:17:19.815Z"
   },
   {
    "duration": 6,
    "start_time": "2024-04-16T19:17:54.280Z"
   },
   {
    "duration": 27808,
    "start_time": "2024-04-16T19:17:57.677Z"
   },
   {
    "duration": 1560,
    "start_time": "2024-04-16T19:19:07.746Z"
   },
   {
    "duration": 57,
    "start_time": "2024-04-16T19:19:09.308Z"
   },
   {
    "duration": 11,
    "start_time": "2024-04-16T19:19:09.366Z"
   },
   {
    "duration": 19,
    "start_time": "2024-04-16T19:19:09.379Z"
   },
   {
    "duration": 9,
    "start_time": "2024-04-16T19:19:09.399Z"
   },
   {
    "duration": 495,
    "start_time": "2024-04-16T19:19:09.410Z"
   },
   {
    "duration": 8,
    "start_time": "2024-04-16T19:19:09.906Z"
   },
   {
    "duration": 616,
    "start_time": "2024-04-16T19:19:09.915Z"
   },
   {
    "duration": 214,
    "start_time": "2024-04-16T19:19:10.533Z"
   },
   {
    "duration": 200,
    "start_time": "2024-04-16T19:19:10.750Z"
   },
   {
    "duration": 4,
    "start_time": "2024-04-16T19:19:10.951Z"
   },
   {
    "duration": 36,
    "start_time": "2024-04-16T19:19:10.956Z"
   },
   {
    "duration": 9,
    "start_time": "2024-04-16T19:19:10.993Z"
   },
   {
    "duration": 7,
    "start_time": "2024-04-16T19:19:11.004Z"
   },
   {
    "duration": 13,
    "start_time": "2024-04-16T19:19:11.013Z"
   },
   {
    "duration": 12,
    "start_time": "2024-04-16T19:19:11.028Z"
   },
   {
    "duration": 13,
    "start_time": "2024-04-16T19:19:11.042Z"
   },
   {
    "duration": 27896,
    "start_time": "2024-04-16T19:19:11.056Z"
   },
   {
    "duration": 3,
    "start_time": "2024-04-16T19:19:38.953Z"
   },
   {
    "duration": 4487,
    "start_time": "2024-04-16T19:19:38.957Z"
   },
   {
    "duration": 9,
    "start_time": "2024-04-16T19:19:43.445Z"
   },
   {
    "duration": 14,
    "start_time": "2024-04-16T19:19:43.456Z"
   },
   {
    "duration": 343,
    "start_time": "2024-04-16T19:19:43.472Z"
   },
   {
    "duration": 230,
    "start_time": "2024-04-16T19:19:43.822Z"
   },
   {
    "duration": 1646,
    "start_time": "2024-04-16T19:20:24.983Z"
   },
   {
    "duration": 59,
    "start_time": "2024-04-16T19:20:26.630Z"
   },
   {
    "duration": 12,
    "start_time": "2024-04-16T19:20:26.690Z"
   },
   {
    "duration": 30,
    "start_time": "2024-04-16T19:20:26.704Z"
   },
   {
    "duration": 25,
    "start_time": "2024-04-16T19:20:26.736Z"
   },
   {
    "duration": 534,
    "start_time": "2024-04-16T19:20:26.763Z"
   },
   {
    "duration": 8,
    "start_time": "2024-04-16T19:20:27.298Z"
   },
   {
    "duration": 605,
    "start_time": "2024-04-16T19:20:27.307Z"
   },
   {
    "duration": 209,
    "start_time": "2024-04-16T19:20:27.914Z"
   },
   {
    "duration": 192,
    "start_time": "2024-04-16T19:20:28.127Z"
   },
   {
    "duration": 4,
    "start_time": "2024-04-16T19:20:28.321Z"
   },
   {
    "duration": 35,
    "start_time": "2024-04-16T19:20:28.326Z"
   },
   {
    "duration": 9,
    "start_time": "2024-04-16T19:20:28.362Z"
   },
   {
    "duration": 14,
    "start_time": "2024-04-16T19:20:28.373Z"
   },
   {
    "duration": 5,
    "start_time": "2024-04-16T19:20:28.389Z"
   },
   {
    "duration": 4,
    "start_time": "2024-04-16T19:20:28.396Z"
   },
   {
    "duration": 6,
    "start_time": "2024-04-16T19:20:28.402Z"
   },
   {
    "duration": 28019,
    "start_time": "2024-04-16T19:20:28.410Z"
   },
   {
    "duration": 3,
    "start_time": "2024-04-16T19:20:56.431Z"
   },
   {
    "duration": 4667,
    "start_time": "2024-04-16T19:20:56.435Z"
   },
   {
    "duration": 7,
    "start_time": "2024-04-16T19:21:01.104Z"
   },
   {
    "duration": 135,
    "start_time": "2024-04-16T19:21:01.113Z"
   },
   {
    "duration": 362,
    "start_time": "2024-04-16T19:21:01.250Z"
   },
   {
    "duration": 207,
    "start_time": "2024-04-16T19:21:01.614Z"
   },
   {
    "duration": 1965,
    "start_time": "2024-04-17T04:15:55.685Z"
   },
   {
    "duration": 7234,
    "start_time": "2024-04-17T04:23:48.123Z"
   },
   {
    "duration": 3298,
    "start_time": "2024-04-17T04:23:59.282Z"
   },
   {
    "duration": 3750,
    "start_time": "2024-04-17T04:24:12.250Z"
   },
   {
    "duration": 1691,
    "start_time": "2024-04-17T04:24:16.003Z"
   },
   {
    "duration": 173,
    "start_time": "2024-04-17T04:24:17.699Z"
   },
   {
    "duration": 14,
    "start_time": "2024-04-17T04:24:17.874Z"
   },
   {
    "duration": 16,
    "start_time": "2024-04-17T04:24:17.890Z"
   },
   {
    "duration": 26,
    "start_time": "2024-04-17T04:24:17.907Z"
   },
   {
    "duration": 517,
    "start_time": "2024-04-17T04:24:17.935Z"
   },
   {
    "duration": 140,
    "start_time": "2024-04-17T04:24:18.454Z"
   },
   {
    "duration": 8,
    "start_time": "2024-04-17T04:24:18.597Z"
   },
   {
    "duration": 595,
    "start_time": "2024-04-17T04:24:18.606Z"
   },
   {
    "duration": 211,
    "start_time": "2024-04-17T04:24:19.203Z"
   },
   {
    "duration": 200,
    "start_time": "2024-04-17T04:24:19.416Z"
   },
   {
    "duration": 5,
    "start_time": "2024-04-17T04:24:19.617Z"
   },
   {
    "duration": 22,
    "start_time": "2024-04-17T04:24:19.623Z"
   },
   {
    "duration": 10,
    "start_time": "2024-04-17T04:24:19.647Z"
   },
   {
    "duration": 6,
    "start_time": "2024-04-17T04:24:19.658Z"
   },
   {
    "duration": 4,
    "start_time": "2024-04-17T04:24:19.691Z"
   },
   {
    "duration": 13,
    "start_time": "2024-04-17T04:24:19.696Z"
   },
   {
    "duration": 9,
    "start_time": "2024-04-17T04:24:19.711Z"
   },
   {
    "duration": 8,
    "start_time": "2024-04-17T04:24:19.722Z"
   },
   {
    "duration": 30244,
    "start_time": "2024-04-17T04:24:19.732Z"
   },
   {
    "duration": 2,
    "start_time": "2024-04-17T04:24:49.979Z"
   },
   {
    "duration": 5148,
    "start_time": "2024-04-17T04:24:49.983Z"
   },
   {
    "duration": 7,
    "start_time": "2024-04-17T04:24:55.133Z"
   },
   {
    "duration": 32,
    "start_time": "2024-04-17T04:24:55.142Z"
   },
   {
    "duration": 350,
    "start_time": "2024-04-17T04:24:55.176Z"
   },
   {
    "duration": 203,
    "start_time": "2024-04-17T04:24:55.529Z"
   },
   {
    "duration": 3079,
    "start_time": "2024-04-17T04:25:31.346Z"
   },
   {
    "duration": 1670,
    "start_time": "2024-04-17T04:25:55.672Z"
   },
   {
    "duration": 3151,
    "start_time": "2024-04-17T04:26:09.480Z"
   },
   {
    "duration": 5,
    "start_time": "2024-04-17T04:26:13.832Z"
   },
   {
    "duration": 69,
    "start_time": "2024-04-17T04:26:18.328Z"
   },
   {
    "duration": 13,
    "start_time": "2024-04-17T04:26:21.608Z"
   },
   {
    "duration": 13,
    "start_time": "2024-04-17T04:26:24.593Z"
   },
   {
    "duration": 12,
    "start_time": "2024-04-17T04:26:27.608Z"
   },
   {
    "duration": 515,
    "start_time": "2024-04-17T04:26:31.033Z"
   },
   {
    "duration": 153,
    "start_time": "2024-04-17T04:28:54.375Z"
   },
   {
    "duration": 376,
    "start_time": "2024-04-17T04:29:20.551Z"
   },
   {
    "duration": 29,
    "start_time": "2024-04-17T04:47:54.935Z"
   },
   {
    "duration": 3491,
    "start_time": "2024-04-17T04:48:26.413Z"
   },
   {
    "duration": 3337,
    "start_time": "2024-04-17T05:01:20.166Z"
   },
   {
    "duration": 2162,
    "start_time": "2024-04-17T05:06:04.944Z"
   },
   {
    "duration": 1978,
    "start_time": "2024-04-17T05:06:08.815Z"
   },
   {
    "duration": 1920,
    "start_time": "2024-04-17T05:06:27.575Z"
   },
   {
    "duration": 1599,
    "start_time": "2024-04-17T05:06:54.007Z"
   },
   {
    "duration": 4,
    "start_time": "2024-04-17T05:08:56.717Z"
   },
   {
    "duration": 4,
    "start_time": "2024-04-17T05:09:13.532Z"
   },
   {
    "duration": 5,
    "start_time": "2024-04-17T05:09:37.868Z"
   },
   {
    "duration": 4,
    "start_time": "2024-04-17T05:10:01.294Z"
   },
   {
    "duration": 3287,
    "start_time": "2024-04-17T05:10:20.309Z"
   },
   {
    "duration": 2076,
    "start_time": "2024-04-17T05:11:07.228Z"
   },
   {
    "duration": 1706,
    "start_time": "2024-04-17T05:12:09.386Z"
   },
   {
    "duration": 1795,
    "start_time": "2024-04-17T05:15:58.699Z"
   },
   {
    "duration": 1518,
    "start_time": "2024-04-17T05:16:08.874Z"
   },
   {
    "duration": 3164,
    "start_time": "2024-04-17T05:46:48.416Z"
   },
   {
    "duration": 1706,
    "start_time": "2024-04-17T05:46:51.583Z"
   },
   {
    "duration": 61,
    "start_time": "2024-04-17T05:46:53.291Z"
   },
   {
    "duration": 12,
    "start_time": "2024-04-17T05:46:53.355Z"
   },
   {
    "duration": 24,
    "start_time": "2024-04-17T05:46:53.370Z"
   },
   {
    "duration": 14,
    "start_time": "2024-04-17T05:46:53.397Z"
   },
   {
    "duration": 560,
    "start_time": "2024-04-17T05:46:53.413Z"
   },
   {
    "duration": 1617,
    "start_time": "2024-04-17T05:46:53.975Z"
   },
   {
    "duration": 14,
    "start_time": "2024-04-17T05:46:55.594Z"
   },
   {
    "duration": 646,
    "start_time": "2024-04-17T05:46:55.694Z"
   },
   {
    "duration": 226,
    "start_time": "2024-04-17T05:46:56.342Z"
   },
   {
    "duration": 222,
    "start_time": "2024-04-17T05:46:56.570Z"
   },
   {
    "duration": 6,
    "start_time": "2024-04-17T05:46:56.796Z"
   },
   {
    "duration": 49,
    "start_time": "2024-04-17T05:46:56.804Z"
   },
   {
    "duration": 14,
    "start_time": "2024-04-17T05:46:56.856Z"
   },
   {
    "duration": 20,
    "start_time": "2024-04-17T05:46:56.872Z"
   },
   {
    "duration": 5,
    "start_time": "2024-04-17T05:46:56.894Z"
   },
   {
    "duration": 10,
    "start_time": "2024-04-17T05:46:56.901Z"
   },
   {
    "duration": 19,
    "start_time": "2024-04-17T05:46:56.913Z"
   },
   {
    "duration": 7,
    "start_time": "2024-04-17T05:46:56.934Z"
   },
   {
    "duration": 33817,
    "start_time": "2024-04-17T05:46:56.943Z"
   },
   {
    "duration": 2,
    "start_time": "2024-04-17T05:47:30.762Z"
   },
   {
    "duration": 5724,
    "start_time": "2024-04-17T05:47:30.766Z"
   },
   {
    "duration": 11,
    "start_time": "2024-04-17T05:47:36.492Z"
   },
   {
    "duration": 6,
    "start_time": "2024-04-17T05:47:36.505Z"
   },
   {
    "duration": 464,
    "start_time": "2024-04-17T05:47:36.513Z"
   },
   {
    "duration": 246,
    "start_time": "2024-04-17T05:47:36.979Z"
   },
   {
    "duration": 3100,
    "start_time": "2024-04-17T05:50:03.099Z"
   },
   {
    "duration": 1675,
    "start_time": "2024-04-17T05:50:06.202Z"
   },
   {
    "duration": 60,
    "start_time": "2024-04-17T05:50:07.879Z"
   },
   {
    "duration": 10,
    "start_time": "2024-04-17T05:50:07.941Z"
   },
   {
    "duration": 13,
    "start_time": "2024-04-17T05:50:07.953Z"
   },
   {
    "duration": 34,
    "start_time": "2024-04-17T05:50:07.968Z"
   },
   {
    "duration": 489,
    "start_time": "2024-04-17T05:50:08.004Z"
   },
   {
    "duration": 3604,
    "start_time": "2024-04-17T05:50:08.495Z"
   },
   {
    "duration": 105,
    "start_time": "2024-04-17T05:50:12.101Z"
   },
   {
    "duration": 655,
    "start_time": "2024-04-17T05:50:12.291Z"
   },
   {
    "duration": 229,
    "start_time": "2024-04-17T05:50:12.948Z"
   },
   {
    "duration": 223,
    "start_time": "2024-04-17T05:50:13.179Z"
   },
   {
    "duration": 4,
    "start_time": "2024-04-17T05:50:13.404Z"
   },
   {
    "duration": 56,
    "start_time": "2024-04-17T05:50:13.409Z"
   },
   {
    "duration": 5,
    "start_time": "2024-04-17T05:50:13.467Z"
   },
   {
    "duration": 6,
    "start_time": "2024-04-17T05:50:13.474Z"
   },
   {
    "duration": 4,
    "start_time": "2024-04-17T05:50:13.481Z"
   },
   {
    "duration": 5,
    "start_time": "2024-04-17T05:50:13.491Z"
   },
   {
    "duration": 6,
    "start_time": "2024-04-17T05:50:13.498Z"
   },
   {
    "duration": 30018,
    "start_time": "2024-04-17T05:50:13.505Z"
   },
   {
    "duration": 3,
    "start_time": "2024-04-17T05:50:43.525Z"
   },
   {
    "duration": 4931,
    "start_time": "2024-04-17T05:50:43.529Z"
   },
   {
    "duration": 7,
    "start_time": "2024-04-17T05:50:48.462Z"
   },
   {
    "duration": 23,
    "start_time": "2024-04-17T05:50:48.470Z"
   },
   {
    "duration": 328,
    "start_time": "2024-04-17T05:50:48.495Z"
   },
   {
    "duration": 220,
    "start_time": "2024-04-17T05:50:48.825Z"
   },
   {
    "duration": 3124,
    "start_time": "2024-04-17T06:15:44.472Z"
   },
   {
    "duration": 1704,
    "start_time": "2024-04-17T06:15:47.600Z"
   },
   {
    "duration": 58,
    "start_time": "2024-04-17T06:15:49.306Z"
   },
   {
    "duration": 13,
    "start_time": "2024-04-17T06:15:49.366Z"
   },
   {
    "duration": 47,
    "start_time": "2024-04-17T06:15:49.381Z"
   },
   {
    "duration": 56,
    "start_time": "2024-04-17T06:15:49.429Z"
   },
   {
    "duration": 512,
    "start_time": "2024-04-17T06:15:49.486Z"
   },
   {
    "duration": 1693,
    "start_time": "2024-04-17T06:15:49.999Z"
   },
   {
    "duration": 95,
    "start_time": "2024-04-17T06:15:51.699Z"
   },
   {
    "duration": 687,
    "start_time": "2024-04-17T06:15:51.797Z"
   },
   {
    "duration": 239,
    "start_time": "2024-04-17T06:15:52.486Z"
   },
   {
    "duration": 217,
    "start_time": "2024-04-17T06:15:52.727Z"
   },
   {
    "duration": 5,
    "start_time": "2024-04-17T06:15:52.946Z"
   },
   {
    "duration": 48,
    "start_time": "2024-04-17T06:15:52.953Z"
   },
   {
    "duration": 8,
    "start_time": "2024-04-17T06:15:53.003Z"
   },
   {
    "duration": 22,
    "start_time": "2024-04-17T06:15:53.013Z"
   },
   {
    "duration": 9,
    "start_time": "2024-04-17T06:15:53.037Z"
   },
   {
    "duration": 9,
    "start_time": "2024-04-17T06:15:53.048Z"
   },
   {
    "duration": 30,
    "start_time": "2024-04-17T06:15:53.059Z"
   },
   {
    "duration": 27525,
    "start_time": "2024-04-17T06:15:53.091Z"
   },
   {
    "duration": 2,
    "start_time": "2024-04-17T06:16:20.620Z"
   },
   {
    "duration": 5186,
    "start_time": "2024-04-17T06:16:20.624Z"
   },
   {
    "duration": 7,
    "start_time": "2024-04-17T06:16:25.811Z"
   },
   {
    "duration": 16,
    "start_time": "2024-04-17T06:16:25.820Z"
   },
   {
    "duration": 332,
    "start_time": "2024-04-17T06:16:25.837Z"
   },
   {
    "duration": 216,
    "start_time": "2024-04-17T06:16:26.171Z"
   },
   {
    "duration": 3,
    "start_time": "2024-04-17T06:17:03.825Z"
   },
   {
    "duration": 30522,
    "start_time": "2024-04-17T06:17:05.360Z"
   },
   {
    "duration": 3254,
    "start_time": "2024-04-17T06:22:12.799Z"
   },
   {
    "duration": 1714,
    "start_time": "2024-04-17T06:22:16.056Z"
   },
   {
    "duration": 76,
    "start_time": "2024-04-17T06:22:17.772Z"
   },
   {
    "duration": 13,
    "start_time": "2024-04-17T06:22:17.849Z"
   },
   {
    "duration": 21,
    "start_time": "2024-04-17T06:22:17.864Z"
   },
   {
    "duration": 28,
    "start_time": "2024-04-17T06:22:17.888Z"
   },
   {
    "duration": 582,
    "start_time": "2024-04-17T06:22:17.918Z"
   },
   {
    "duration": 2090,
    "start_time": "2024-04-17T06:22:18.502Z"
   },
   {
    "duration": 97,
    "start_time": "2024-04-17T06:22:20.595Z"
   },
   {
    "duration": 667,
    "start_time": "2024-04-17T06:22:20.694Z"
   },
   {
    "duration": 217,
    "start_time": "2024-04-17T06:22:21.362Z"
   },
   {
    "duration": 213,
    "start_time": "2024-04-17T06:22:21.580Z"
   },
   {
    "duration": 4,
    "start_time": "2024-04-17T06:22:21.795Z"
   },
   {
    "duration": 57,
    "start_time": "2024-04-17T06:22:21.802Z"
   },
   {
    "duration": 16,
    "start_time": "2024-04-17T06:22:21.861Z"
   },
   {
    "duration": 20,
    "start_time": "2024-04-17T06:22:21.879Z"
   },
   {
    "duration": 39,
    "start_time": "2024-04-17T06:22:21.900Z"
   },
   {
    "duration": 32,
    "start_time": "2024-04-17T06:22:21.940Z"
   },
   {
    "duration": 31,
    "start_time": "2024-04-17T06:22:21.974Z"
   },
   {
    "duration": 25556,
    "start_time": "2024-04-17T06:22:22.007Z"
   },
   {
    "duration": 3,
    "start_time": "2024-04-17T06:22:47.564Z"
   },
   {
    "duration": 4921,
    "start_time": "2024-04-17T06:22:47.569Z"
   },
   {
    "duration": 7,
    "start_time": "2024-04-17T06:22:52.492Z"
   },
   {
    "duration": 10,
    "start_time": "2024-04-17T06:22:52.500Z"
   },
   {
    "duration": 366,
    "start_time": "2024-04-17T06:22:52.512Z"
   },
   {
    "duration": 203,
    "start_time": "2024-04-17T06:22:52.879Z"
   },
   {
    "duration": 6,
    "start_time": "2024-04-17T06:35:20.250Z"
   },
   {
    "duration": 7,
    "start_time": "2024-04-17T06:35:38.162Z"
   },
   {
    "duration": 150,
    "start_time": "2024-04-17T06:36:05.145Z"
   },
   {
    "duration": 5,
    "start_time": "2024-04-17T06:36:14.722Z"
   },
   {
    "duration": 6,
    "start_time": "2024-04-17T06:36:46.498Z"
   },
   {
    "duration": 7,
    "start_time": "2024-04-17T06:39:30.398Z"
   },
   {
    "duration": 5,
    "start_time": "2024-04-17T06:41:37.285Z"
   },
   {
    "duration": 320,
    "start_time": "2024-04-17T06:41:38.206Z"
   },
   {
    "duration": 3582,
    "start_time": "2024-04-17T06:49:01.226Z"
   },
   {
    "duration": 1777,
    "start_time": "2024-04-17T06:49:04.810Z"
   },
   {
    "duration": 58,
    "start_time": "2024-04-17T06:49:06.589Z"
   },
   {
    "duration": 11,
    "start_time": "2024-04-17T06:49:06.649Z"
   },
   {
    "duration": 13,
    "start_time": "2024-04-17T06:49:06.662Z"
   },
   {
    "duration": 14,
    "start_time": "2024-04-17T06:49:06.677Z"
   },
   {
    "duration": 488,
    "start_time": "2024-04-17T06:49:06.693Z"
   },
   {
    "duration": 2515,
    "start_time": "2024-04-17T06:49:07.183Z"
   },
   {
    "duration": 89,
    "start_time": "2024-04-17T06:49:09.706Z"
   },
   {
    "duration": 679,
    "start_time": "2024-04-17T06:49:09.799Z"
   },
   {
    "duration": 227,
    "start_time": "2024-04-17T06:49:10.480Z"
   },
   {
    "duration": 207,
    "start_time": "2024-04-17T06:49:10.709Z"
   },
   {
    "duration": 5,
    "start_time": "2024-04-17T06:49:10.917Z"
   },
   {
    "duration": 29,
    "start_time": "2024-04-17T06:49:10.923Z"
   },
   {
    "duration": 6,
    "start_time": "2024-04-17T06:49:10.954Z"
   },
   {
    "duration": 31,
    "start_time": "2024-04-17T06:49:10.961Z"
   },
   {
    "duration": 8,
    "start_time": "2024-04-17T06:49:10.994Z"
   },
   {
    "duration": 7,
    "start_time": "2024-04-17T06:49:11.004Z"
   },
   {
    "duration": 12,
    "start_time": "2024-04-17T06:49:11.013Z"
   },
   {
    "duration": 26660,
    "start_time": "2024-04-17T06:49:11.027Z"
   },
   {
    "duration": 3,
    "start_time": "2024-04-17T06:49:37.689Z"
   },
   {
    "duration": 4964,
    "start_time": "2024-04-17T06:49:37.695Z"
   },
   {
    "duration": 9,
    "start_time": "2024-04-17T06:49:42.661Z"
   },
   {
    "duration": 14,
    "start_time": "2024-04-17T06:49:42.672Z"
   },
   {
    "duration": 351,
    "start_time": "2024-04-17T06:49:42.688Z"
   },
   {
    "duration": 196,
    "start_time": "2024-04-17T06:49:43.041Z"
   },
   {
    "duration": 6,
    "start_time": "2024-04-17T06:49:43.239Z"
   },
   {
    "duration": 90,
    "start_time": "2024-04-17T06:53:14.518Z"
   },
   {
    "duration": 3515,
    "start_time": "2024-04-17T06:53:25.017Z"
   },
   {
    "duration": 1686,
    "start_time": "2024-04-17T06:53:28.535Z"
   },
   {
    "duration": 61,
    "start_time": "2024-04-17T06:53:30.223Z"
   },
   {
    "duration": 299,
    "start_time": "2024-04-17T06:53:30.285Z"
   },
   {
    "duration": 37,
    "start_time": "2024-04-17T06:53:30.587Z"
   },
   {
    "duration": 335,
    "start_time": "2024-04-17T06:53:30.626Z"
   },
   {
    "duration": 625,
    "start_time": "2024-04-17T06:53:30.963Z"
   },
   {
    "duration": 1914,
    "start_time": "2024-04-17T06:53:31.591Z"
   },
   {
    "duration": 10,
    "start_time": "2024-04-17T06:53:33.593Z"
   },
   {
    "duration": 633,
    "start_time": "2024-04-17T06:53:33.692Z"
   },
   {
    "duration": 222,
    "start_time": "2024-04-17T06:53:34.327Z"
   },
   {
    "duration": 215,
    "start_time": "2024-04-17T06:53:34.551Z"
   },
   {
    "duration": 5,
    "start_time": "2024-04-17T06:53:34.767Z"
   },
   {
    "duration": 86,
    "start_time": "2024-04-17T06:53:34.775Z"
   },
   {
    "duration": 8,
    "start_time": "2024-04-17T06:53:34.863Z"
   },
   {
    "duration": 6,
    "start_time": "2024-04-17T06:53:34.873Z"
   },
   {
    "duration": 30,
    "start_time": "2024-04-17T06:53:34.881Z"
   },
   {
    "duration": 31,
    "start_time": "2024-04-17T06:53:34.913Z"
   },
   {
    "duration": 43,
    "start_time": "2024-04-17T06:53:34.946Z"
   },
   {
    "duration": 26284,
    "start_time": "2024-04-17T06:53:34.991Z"
   },
   {
    "duration": 2,
    "start_time": "2024-04-17T06:54:01.278Z"
   },
   {
    "duration": 4962,
    "start_time": "2024-04-17T06:54:01.283Z"
   },
   {
    "duration": 6,
    "start_time": "2024-04-17T06:54:06.247Z"
   },
   {
    "duration": 9,
    "start_time": "2024-04-17T06:54:06.257Z"
   },
   {
    "duration": 348,
    "start_time": "2024-04-17T06:54:06.268Z"
   },
   {
    "duration": 215,
    "start_time": "2024-04-17T06:54:06.618Z"
   },
   {
    "duration": 5,
    "start_time": "2024-04-17T06:54:06.836Z"
   },
   {
    "duration": 27098,
    "start_time": "2024-10-03T17:22:35.880Z"
   },
   {
    "duration": 12996,
    "start_time": "2024-10-03T17:23:02.980Z"
   },
   {
    "duration": 495,
    "start_time": "2024-10-03T17:23:15.980Z"
   },
   {
    "duration": 106,
    "start_time": "2024-10-03T17:23:16.477Z"
   },
   {
    "duration": 105,
    "start_time": "2024-10-03T17:23:16.684Z"
   },
   {
    "duration": 191,
    "start_time": "2024-10-03T17:23:16.790Z"
   },
   {
    "duration": 4904,
    "start_time": "2024-10-03T17:23:16.985Z"
   },
   {
    "duration": 4493,
    "start_time": "2024-10-03T17:23:21.890Z"
   },
   {
    "duration": 96,
    "start_time": "2024-10-03T17:23:26.386Z"
   },
   {
    "duration": 6205,
    "start_time": "2024-10-03T17:23:26.484Z"
   },
   {
    "duration": 2288,
    "start_time": "2024-10-03T17:23:32.691Z"
   },
   {
    "duration": 2105,
    "start_time": "2024-10-03T17:23:34.983Z"
   },
   {
    "duration": 96,
    "start_time": "2024-10-03T17:23:37.179Z"
   },
   {
    "duration": 398,
    "start_time": "2024-10-03T17:23:37.277Z"
   },
   {
    "duration": 194,
    "start_time": "2024-10-03T17:23:37.682Z"
   },
   {
    "duration": 7,
    "start_time": "2024-10-03T17:23:37.878Z"
   },
   {
    "duration": 4,
    "start_time": "2024-10-03T17:23:37.975Z"
   },
   {
    "duration": 102,
    "start_time": "2024-10-03T17:23:37.981Z"
   },
   {
    "duration": 93,
    "start_time": "2024-10-03T17:23:38.085Z"
   },
   {
    "duration": 118200,
    "start_time": "2024-10-03T17:23:38.184Z"
   },
   {
    "duration": 2,
    "start_time": "2024-10-03T17:25:36.386Z"
   },
   {
    "duration": 8687,
    "start_time": "2024-10-03T17:25:36.390Z"
   },
   {
    "duration": 8,
    "start_time": "2024-10-03T17:25:45.079Z"
   },
   {
    "duration": 11,
    "start_time": "2024-10-03T17:25:45.089Z"
   },
   {
    "duration": 679,
    "start_time": "2024-10-03T17:25:45.102Z"
   },
   {
    "duration": 405,
    "start_time": "2024-10-03T17:25:45.783Z"
   },
   {
    "duration": 5,
    "start_time": "2024-10-03T17:25:46.190Z"
   }
  ],
  "kernelspec": {
   "display_name": "Python 3 (ipykernel)",
   "language": "python",
   "name": "python3"
  },
  "language_info": {
   "codemirror_mode": {
    "name": "ipython",
    "version": 3
   },
   "file_extension": ".py",
   "mimetype": "text/x-python",
   "name": "python",
   "nbconvert_exporter": "python",
   "pygments_lexer": "ipython3",
   "version": "3.9.5"
  },
  "toc": {
   "base_numbering": 1,
   "nav_menu": {},
   "number_sections": true,
   "sideBar": true,
   "skip_h1_title": true,
   "title_cell": "Содержание",
   "title_sidebar": "Contents",
   "toc_cell": true,
   "toc_position": {
    "height": "calc(100% - 180px)",
    "left": "10px",
    "top": "150px",
    "width": "348.188px"
   },
   "toc_section_display": true,
   "toc_window_display": true
  }
 },
 "nbformat": 4,
 "nbformat_minor": 2
}
