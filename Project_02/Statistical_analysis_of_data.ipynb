{
 "cells": [
  {
   "cell_type": "markdown",
   "id": "9ad77a77",
   "metadata": {},
   "source": [
    "# Исследование пользователей сервиса аренды самокатов GoFast\n",
    "Необходимо проанализировать данные о пользователях сервиса аренды самокатов GoFast, а также об их поездках из нескольких городов и проверить некоторые гипотезы, которые могут помочь бизнесу вырасти:\n",
    "- тратят ли пользователи с подпиской больше времени на поездки;\n",
    "- можно ли сказать, что среднее расстояние, которое проезжают пользователи с подпиской за одну поездку, не превышает 3130 метров;\n",
    "- будет ли помесячная выручка от пользователей с подпиской по месяцам выше, чем выручка от пользователей без подписки.\n",
    "\n",
    "Основные блоки в проекте:\n",
    "- загрузка данных;\n",
    "- предобработка данных;\n",
    "- исследовательский анализ данных;\n",
    "- объединение данных;\n",
    "- подсчет выручки;\n",
    "- проверка гипотез;\n",
    "- распределения;\n",
    "- общий вывод."
   ]
  },
  {
   "cell_type": "markdown",
   "id": "c42cbe00",
   "metadata": {},
   "source": [
    "## Загрузка данных"
   ]
  },
  {
   "cell_type": "markdown",
   "id": "774e95c5",
   "metadata": {},
   "source": [
    "Для начала импортируем все необходимые в прокте библиотеки:"
   ]
  },
  {
   "cell_type": "code",
   "execution_count": 1,
   "id": "f89817fc",
   "metadata": {},
   "outputs": [],
   "source": [
    "import pandas as pd \n",
    "import numpy as np\n",
    "import matplotlib.pyplot as plt\n",
    "from scipy import stats as st\n",
    "from scipy.stats import binom\n",
    "from scipy.stats import norm"
   ]
  },
  {
   "cell_type": "markdown",
   "id": "b0c4ad4b",
   "metadata": {},
   "source": [
    "Загрузим данные о пользователях, поездках и подписках:"
   ]
  },
  {
   "cell_type": "code",
   "execution_count": 2,
   "id": "eff9f206",
   "metadata": {},
   "outputs": [
    {
     "data": {
      "text/html": [
       "<div>\n",
       "<style scoped>\n",
       "    .dataframe tbody tr th:only-of-type {\n",
       "        vertical-align: middle;\n",
       "    }\n",
       "\n",
       "    .dataframe tbody tr th {\n",
       "        vertical-align: top;\n",
       "    }\n",
       "\n",
       "    .dataframe thead th {\n",
       "        text-align: right;\n",
       "    }\n",
       "</style>\n",
       "<table border=\"1\" class=\"dataframe\">\n",
       "  <thead>\n",
       "    <tr style=\"text-align: right;\">\n",
       "      <th></th>\n",
       "      <th>user_id</th>\n",
       "      <th>name</th>\n",
       "      <th>age</th>\n",
       "      <th>city</th>\n",
       "      <th>subscription_type</th>\n",
       "    </tr>\n",
       "  </thead>\n",
       "  <tbody>\n",
       "    <tr>\n",
       "      <th>0</th>\n",
       "      <td>1</td>\n",
       "      <td>Кира</td>\n",
       "      <td>22</td>\n",
       "      <td>Тюмень</td>\n",
       "      <td>ultra</td>\n",
       "    </tr>\n",
       "    <tr>\n",
       "      <th>1</th>\n",
       "      <td>2</td>\n",
       "      <td>Станислав</td>\n",
       "      <td>31</td>\n",
       "      <td>Омск</td>\n",
       "      <td>ultra</td>\n",
       "    </tr>\n",
       "    <tr>\n",
       "      <th>2</th>\n",
       "      <td>3</td>\n",
       "      <td>Алексей</td>\n",
       "      <td>20</td>\n",
       "      <td>Москва</td>\n",
       "      <td>ultra</td>\n",
       "    </tr>\n",
       "    <tr>\n",
       "      <th>3</th>\n",
       "      <td>4</td>\n",
       "      <td>Константин</td>\n",
       "      <td>26</td>\n",
       "      <td>Ростов-на-Дону</td>\n",
       "      <td>ultra</td>\n",
       "    </tr>\n",
       "    <tr>\n",
       "      <th>4</th>\n",
       "      <td>5</td>\n",
       "      <td>Адель</td>\n",
       "      <td>28</td>\n",
       "      <td>Омск</td>\n",
       "      <td>ultra</td>\n",
       "    </tr>\n",
       "  </tbody>\n",
       "</table>\n",
       "</div>"
      ],
      "text/plain": [
       "   user_id        name  age            city subscription_type\n",
       "0        1        Кира   22          Тюмень             ultra\n",
       "1        2   Станислав   31            Омск             ultra\n",
       "2        3     Алексей   20          Москва             ultra\n",
       "3        4  Константин   26  Ростов-на-Дону             ultra\n",
       "4        5       Адель   28            Омск             ultra"
      ]
     },
     "metadata": {},
     "output_type": "display_data"
    },
    {
     "data": {
      "text/html": [
       "<div>\n",
       "<style scoped>\n",
       "    .dataframe tbody tr th:only-of-type {\n",
       "        vertical-align: middle;\n",
       "    }\n",
       "\n",
       "    .dataframe tbody tr th {\n",
       "        vertical-align: top;\n",
       "    }\n",
       "\n",
       "    .dataframe thead th {\n",
       "        text-align: right;\n",
       "    }\n",
       "</style>\n",
       "<table border=\"1\" class=\"dataframe\">\n",
       "  <thead>\n",
       "    <tr style=\"text-align: right;\">\n",
       "      <th></th>\n",
       "      <th>user_id</th>\n",
       "      <th>distance</th>\n",
       "      <th>duration</th>\n",
       "      <th>date</th>\n",
       "    </tr>\n",
       "  </thead>\n",
       "  <tbody>\n",
       "    <tr>\n",
       "      <th>0</th>\n",
       "      <td>1</td>\n",
       "      <td>4409.919140</td>\n",
       "      <td>25.599769</td>\n",
       "      <td>2021-01-01</td>\n",
       "    </tr>\n",
       "    <tr>\n",
       "      <th>1</th>\n",
       "      <td>1</td>\n",
       "      <td>2617.592153</td>\n",
       "      <td>15.816871</td>\n",
       "      <td>2021-01-18</td>\n",
       "    </tr>\n",
       "    <tr>\n",
       "      <th>2</th>\n",
       "      <td>1</td>\n",
       "      <td>754.159807</td>\n",
       "      <td>6.232113</td>\n",
       "      <td>2021-04-20</td>\n",
       "    </tr>\n",
       "    <tr>\n",
       "      <th>3</th>\n",
       "      <td>1</td>\n",
       "      <td>2694.783254</td>\n",
       "      <td>18.511000</td>\n",
       "      <td>2021-08-11</td>\n",
       "    </tr>\n",
       "    <tr>\n",
       "      <th>4</th>\n",
       "      <td>1</td>\n",
       "      <td>4028.687306</td>\n",
       "      <td>26.265803</td>\n",
       "      <td>2021-08-28</td>\n",
       "    </tr>\n",
       "  </tbody>\n",
       "</table>\n",
       "</div>"
      ],
      "text/plain": [
       "   user_id     distance   duration        date\n",
       "0        1  4409.919140  25.599769  2021-01-01\n",
       "1        1  2617.592153  15.816871  2021-01-18\n",
       "2        1   754.159807   6.232113  2021-04-20\n",
       "3        1  2694.783254  18.511000  2021-08-11\n",
       "4        1  4028.687306  26.265803  2021-08-28"
      ]
     },
     "metadata": {},
     "output_type": "display_data"
    },
    {
     "data": {
      "text/html": [
       "<div>\n",
       "<style scoped>\n",
       "    .dataframe tbody tr th:only-of-type {\n",
       "        vertical-align: middle;\n",
       "    }\n",
       "\n",
       "    .dataframe tbody tr th {\n",
       "        vertical-align: top;\n",
       "    }\n",
       "\n",
       "    .dataframe thead th {\n",
       "        text-align: right;\n",
       "    }\n",
       "</style>\n",
       "<table border=\"1\" class=\"dataframe\">\n",
       "  <thead>\n",
       "    <tr style=\"text-align: right;\">\n",
       "      <th></th>\n",
       "      <th>subscription_type</th>\n",
       "      <th>minute_price</th>\n",
       "      <th>start_ride_price</th>\n",
       "      <th>subscription_fee</th>\n",
       "    </tr>\n",
       "  </thead>\n",
       "  <tbody>\n",
       "    <tr>\n",
       "      <th>0</th>\n",
       "      <td>free</td>\n",
       "      <td>8</td>\n",
       "      <td>50</td>\n",
       "      <td>0</td>\n",
       "    </tr>\n",
       "    <tr>\n",
       "      <th>1</th>\n",
       "      <td>ultra</td>\n",
       "      <td>6</td>\n",
       "      <td>0</td>\n",
       "      <td>199</td>\n",
       "    </tr>\n",
       "  </tbody>\n",
       "</table>\n",
       "</div>"
      ],
      "text/plain": [
       "  subscription_type  minute_price  start_ride_price  subscription_fee\n",
       "0              free             8                50                 0\n",
       "1             ultra             6                 0               199"
      ]
     },
     "metadata": {},
     "output_type": "display_data"
    }
   ],
   "source": [
    "#Считываем данные о пользователях, поездках и подписках и сохраняем в переменные users, rides и subscriptions соответственно\n",
    "users = pd.read_csv('/datasets/users_go.csv')\n",
    "rides = pd.read_csv('/datasets/rides_go.csv')\n",
    "subscriptions = pd.read_csv('/datasets/subscriptions_go.csv')\n",
    "#Выводим первые 5 строк датафреймов\n",
    "display(users.head(5), rides.head(5), subscriptions)"
   ]
  },
  {
   "cell_type": "markdown",
   "id": "e12c8924",
   "metadata": {},
   "source": [
    "Посмотрим информацию о датафреймах `users` и `rides` с помощью метода `info()`"
   ]
  },
  {
   "cell_type": "code",
   "execution_count": 3,
   "id": "1667d402",
   "metadata": {},
   "outputs": [
    {
     "name": "stdout",
     "output_type": "stream",
     "text": [
      "<class 'pandas.core.frame.DataFrame'>\n",
      "RangeIndex: 1565 entries, 0 to 1564\n",
      "Data columns (total 5 columns):\n",
      " #   Column             Non-Null Count  Dtype \n",
      "---  ------             --------------  ----- \n",
      " 0   user_id            1565 non-null   int64 \n",
      " 1   name               1565 non-null   object\n",
      " 2   age                1565 non-null   int64 \n",
      " 3   city               1565 non-null   object\n",
      " 4   subscription_type  1565 non-null   object\n",
      "dtypes: int64(2), object(3)\n",
      "memory usage: 61.3+ KB\n",
      "\n",
      "<class 'pandas.core.frame.DataFrame'>\n",
      "RangeIndex: 18068 entries, 0 to 18067\n",
      "Data columns (total 4 columns):\n",
      " #   Column    Non-Null Count  Dtype  \n",
      "---  ------    --------------  -----  \n",
      " 0   user_id   18068 non-null  int64  \n",
      " 1   distance  18068 non-null  float64\n",
      " 2   duration  18068 non-null  float64\n",
      " 3   date      18068 non-null  object \n",
      "dtypes: float64(2), int64(1), object(1)\n",
      "memory usage: 564.8+ KB\n",
      "\n",
      "<class 'pandas.core.frame.DataFrame'>\n",
      "RangeIndex: 2 entries, 0 to 1\n",
      "Data columns (total 4 columns):\n",
      " #   Column             Non-Null Count  Dtype \n",
      "---  ------             --------------  ----- \n",
      " 0   subscription_type  2 non-null      object\n",
      " 1   minute_price       2 non-null      int64 \n",
      " 2   start_ride_price   2 non-null      int64 \n",
      " 3   subscription_fee   2 non-null      int64 \n",
      "dtypes: int64(3), object(1)\n",
      "memory usage: 192.0+ bytes\n"
     ]
    }
   ],
   "source": [
    "users.info()\n",
    "print()\n",
    "rides.info()\n",
    "print()\n",
    "subscriptions.info()"
   ]
  },
  {
   "cell_type": "markdown",
   "id": "49878fc3",
   "metadata": {},
   "source": [
    "Видно, что все данные есть (пустых строк нет), у некоторых столбцов необходимо заменить тип."
   ]
  },
  {
   "cell_type": "markdown",
   "id": "93a081c3",
   "metadata": {},
   "source": [
    "Посмотрим на матрицу диаграмм рассеяния датафрейма `rides`:"
   ]
  },
  {
   "cell_type": "code",
   "execution_count": 4,
   "id": "11a7a7c1",
   "metadata": {},
   "outputs": [
    {
     "data": {
      "image/png": "[encoded data removed]",
      "text/plain": [
       "<Figure size 648x648 with 9 Axes>"
      ]
     },
     "metadata": {
      "needs_background": "light"
     },
     "output_type": "display_data"
    }
   ],
   "source": [
    "pd.plotting.scatter_matrix(rides, figsize=(9, 9))\n",
    "plt.show()"
   ]
  },
  {
   "cell_type": "markdown",
   "id": "7c0a7775",
   "metadata": {},
   "source": [
    "По матрице видно, что:\n",
    "- есть очень длинные дистанции при почти нулевой продолжительности поездки и это наблюдается только у пользователей с user_id больше 650. "
   ]
  },
  {
   "cell_type": "markdown",
   "id": "e95ebca7",
   "metadata": {},
   "source": [
    "## Предобработка данных"
   ]
  },
  {
   "cell_type": "markdown",
   "id": "38d192fa",
   "metadata": {},
   "source": [
    "### Замена типов данных"
   ]
  },
  {
   "cell_type": "markdown",
   "id": "db4aa377",
   "metadata": {},
   "source": [
    "Заменим тип данных:"
   ]
  },
  {
   "cell_type": "code",
   "execution_count": 5,
   "id": "824faacc",
   "metadata": {},
   "outputs": [],
   "source": [
    "# заменим тип данных столбцов user_id, name, city и subscription_type в переменной users на category\n",
    "users[['user_id', 'name', 'city', 'subscription_type']] = \\\n",
    "users[['user_id', 'name', 'city', 'subscription_type']].astype('category')\n",
    "# заменим тип данных столбца user_id в переменной rides на category\n",
    "rides['user_id'] = rides['user_id'].astype('category')\n",
    "# заменим тип данных столбца date в переменной rides на datetime64\n",
    "rides['date'] = rides['date'].astype('datetime64')\n",
    "# заменим тип данных столбца subscription_type в переменной subscriptions на category\n",
    "subscriptions['subscription_type'] = subscriptions['subscription_type'].astype('category')"
   ]
  },
  {
   "cell_type": "markdown",
   "id": "64082978",
   "metadata": {},
   "source": [
    "### Обработка дубликатов"
   ]
  },
  {
   "cell_type": "markdown",
   "id": "a64995ff",
   "metadata": {},
   "source": [
    "Проверим есть ли в датафреймах `users` и `rides` дубликаты:"
   ]
  },
  {
   "cell_type": "code",
   "execution_count": 6,
   "id": "70f5788c",
   "metadata": {},
   "outputs": [
    {
     "name": "stdout",
     "output_type": "stream",
     "text": [
      "\n",
      "Количество дубликатов в users: 31\n",
      "Количество дубликатов в rides: 0\n",
      "\n"
     ]
    }
   ],
   "source": [
    "print(f\"\"\"\n",
    "Количество дубликатов в users: {users.duplicated().sum()}\n",
    "Количество дубликатов в rides: {rides.duplicated().sum()}\n",
    "\"\"\"\n",
    ")"
   ]
  },
  {
   "cell_type": "markdown",
   "id": "5e4f91c9",
   "metadata": {},
   "source": [
    "Удалим дубликаты в `users`:"
   ]
  },
  {
   "cell_type": "code",
   "execution_count": 7,
   "id": "f3f21a35",
   "metadata": {},
   "outputs": [],
   "source": [
    "# удаляем дубликаты с помощью метода .drop_duplicates и обновим индексы методом .reset_index\n",
    "users = users.drop_duplicates().reset_index(drop=True)"
   ]
  },
  {
   "cell_type": "markdown",
   "id": "4c068b65",
   "metadata": {},
   "source": [
    "### Обработка аномальных значений"
   ]
  },
  {
   "cell_type": "markdown",
   "id": "5fd4b877",
   "metadata": {},
   "source": [
    "Посмотрим, что за строки с малой продолжительностью, но большим расстоянием поездки:"
   ]
  },
  {
   "cell_type": "code",
   "execution_count": 8,
   "id": "6f8d3a30",
   "metadata": {},
   "outputs": [
    {
     "data": {
      "text/html": [
       "<div>\n",
       "<style scoped>\n",
       "    .dataframe tbody tr th:only-of-type {\n",
       "        vertical-align: middle;\n",
       "    }\n",
       "\n",
       "    .dataframe tbody tr th {\n",
       "        vertical-align: top;\n",
       "    }\n",
       "\n",
       "    .dataframe thead th {\n",
       "        text-align: right;\n",
       "    }\n",
       "</style>\n",
       "<table border=\"1\" class=\"dataframe\">\n",
       "  <thead>\n",
       "    <tr style=\"text-align: right;\">\n",
       "      <th></th>\n",
       "      <th>user_id</th>\n",
       "      <th>distance</th>\n",
       "      <th>duration</th>\n",
       "      <th>date</th>\n",
       "    </tr>\n",
       "  </thead>\n",
       "  <tbody>\n",
       "    <tr>\n",
       "      <th>12013</th>\n",
       "      <td>1102</td>\n",
       "      <td>4602.122401</td>\n",
       "      <td>0.5</td>\n",
       "      <td>2021-08-01</td>\n",
       "    </tr>\n",
       "    <tr>\n",
       "      <th>17314</th>\n",
       "      <td>1483</td>\n",
       "      <td>4445.481070</td>\n",
       "      <td>0.5</td>\n",
       "      <td>2021-03-06</td>\n",
       "    </tr>\n",
       "    <tr>\n",
       "      <th>15029</th>\n",
       "      <td>1318</td>\n",
       "      <td>5894.633314</td>\n",
       "      <td>0.5</td>\n",
       "      <td>2021-03-28</td>\n",
       "    </tr>\n",
       "    <tr>\n",
       "      <th>7437</th>\n",
       "      <td>766</td>\n",
       "      <td>4539.088310</td>\n",
       "      <td>0.5</td>\n",
       "      <td>2021-12-22</td>\n",
       "    </tr>\n",
       "    <tr>\n",
       "      <th>12967</th>\n",
       "      <td>1172</td>\n",
       "      <td>4907.140751</td>\n",
       "      <td>0.5</td>\n",
       "      <td>2021-12-19</td>\n",
       "    </tr>\n",
       "    <tr>\n",
       "      <th>15015</th>\n",
       "      <td>1317</td>\n",
       "      <td>4593.389022</td>\n",
       "      <td>0.5</td>\n",
       "      <td>2021-07-16</td>\n",
       "    </tr>\n",
       "    <tr>\n",
       "      <th>13012</th>\n",
       "      <td>1176</td>\n",
       "      <td>4935.071045</td>\n",
       "      <td>0.5</td>\n",
       "      <td>2021-05-14</td>\n",
       "    </tr>\n",
       "    <tr>\n",
       "      <th>7508</th>\n",
       "      <td>772</td>\n",
       "      <td>4718.820996</td>\n",
       "      <td>0.5</td>\n",
       "      <td>2021-05-22</td>\n",
       "    </tr>\n",
       "    <tr>\n",
       "      <th>16589</th>\n",
       "      <td>1428</td>\n",
       "      <td>5059.187375</td>\n",
       "      <td>0.5</td>\n",
       "      <td>2021-05-06</td>\n",
       "    </tr>\n",
       "    <tr>\n",
       "      <th>9049</th>\n",
       "      <td>890</td>\n",
       "      <td>4848.485014</td>\n",
       "      <td>0.5</td>\n",
       "      <td>2021-11-20</td>\n",
       "    </tr>\n",
       "  </tbody>\n",
       "</table>\n",
       "</div>"
      ],
      "text/plain": [
       "      user_id     distance  duration       date\n",
       "12013    1102  4602.122401       0.5 2021-08-01\n",
       "17314    1483  4445.481070       0.5 2021-03-06\n",
       "15029    1318  5894.633314       0.5 2021-03-28\n",
       "7437      766  4539.088310       0.5 2021-12-22\n",
       "12967    1172  4907.140751       0.5 2021-12-19\n",
       "15015    1317  4593.389022       0.5 2021-07-16\n",
       "13012    1176  4935.071045       0.5 2021-05-14\n",
       "7508      772  4718.820996       0.5 2021-05-22\n",
       "16589    1428  5059.187375       0.5 2021-05-06\n",
       "9049      890  4848.485014       0.5 2021-11-20"
      ]
     },
     "execution_count": 8,
     "metadata": {},
     "output_type": "execute_result"
    }
   ],
   "source": [
    "# отсортируем rides по столбцу duration по возрастанию и выведем первые 10 строк\n",
    "rides.sort_values(by='duration').head(10)"
   ]
  },
  {
   "cell_type": "markdown",
   "id": "ada6d953",
   "metadata": {},
   "source": [
    "Интересно: продолжительность поездки 0.5 минут, а расстояния больше 4000 метров (получается скорость их была более 500 км/ч), не порядок, видимо произошла ошибка при выгрузке данных, посчитаем сколько таких строк:"
   ]
  },
  {
   "cell_type": "code",
   "execution_count": 9,
   "id": "606b3613",
   "metadata": {},
   "outputs": [
    {
     "data": {
      "text/plain": [
       "95"
      ]
     },
     "execution_count": 9,
     "metadata": {},
     "output_type": "execute_result"
    }
   ],
   "source": [
    "# посчитаем количество строк с duration равным 0.5\n",
    "len(rides.loc[rides['duration'] == 0.5])"
   ]
  },
  {
   "cell_type": "markdown",
   "id": "8d12b7fb",
   "metadata": {},
   "source": [
    "Получилось 95 строк имеют некорректные данные, это всего 0,5% от всего датафрейма, поэтому удалим эти строки, чтобы они не повлияли на дальнейший анализ и посмотрим на диграмму рассеяния после удаления:"
   ]
  },
  {
   "cell_type": "code",
   "execution_count": 10,
   "id": "fb383196",
   "metadata": {},
   "outputs": [
    {
     "data": {
      "image/png": "[encoded data removed]",
      "text/plain": [
       "<Figure size 720x432 with 1 Axes>"
      ]
     },
     "metadata": {
      "needs_background": "light"
     },
     "output_type": "display_data"
    }
   ],
   "source": [
    "# с помощью метода .query срежем строки, где, duration меньше 0.5\n",
    "rides = rides.query('duration > 0.5').reset_index(drop=True)\n",
    "rides.plot(\n",
    "        x='duration', # значения оси Х\n",
    "        y='distance', # значения оси У\n",
    "        kind='scatter', # тип графика scatter\n",
    "        alpha=0.2, # прозрачность точек\n",
    "        title='Зависимость расстояния от продолжительности поездки', #название графика\n",
    "        figsize=(10, 6), # размер графика\n",
    "        grid=True, # сетка\n",
    "    )\n",
    "plt.show()"
   ]
  },
  {
   "cell_type": "markdown",
   "id": "6914083a",
   "metadata": {},
   "source": [
    "По диаграмме рассеяния видно, что аномалии в районе нулевой длительности ушли."
   ]
  },
  {
   "cell_type": "markdown",
   "id": "6b1a5068",
   "metadata": {},
   "source": [
    "### Добавление столбцов"
   ]
  },
  {
   "cell_type": "markdown",
   "id": "33fd0742",
   "metadata": {},
   "source": [
    "Для дальнейшего анализа понадобится месяц поездки, добавим столбец `month` в датасет `rides`:"
   ]
  },
  {
   "cell_type": "code",
   "execution_count": 11,
   "id": "0637999d",
   "metadata": {},
   "outputs": [],
   "source": [
    "# Добавляем столбец month, соответствующий месяцу в date\n",
    "rides['month'] = rides['date'].dt.month"
   ]
  },
  {
   "cell_type": "markdown",
   "id": "4d8b10e4",
   "metadata": {},
   "source": [
    "Проверим за сколько лет собраны данные, чтобы если, что учесть это при дальнейшем анализе:"
   ]
  },
  {
   "cell_type": "code",
   "execution_count": 12,
   "id": "256e379c",
   "metadata": {},
   "outputs": [
    {
     "data": {
      "text/plain": [
       "array([2021])"
      ]
     },
     "execution_count": 12,
     "metadata": {},
     "output_type": "execute_result"
    }
   ],
   "source": [
    "rides['date'].dt.year.unique()"
   ]
  },
  {
   "cell_type": "markdown",
   "id": "ae741d18",
   "metadata": {},
   "source": [
    "Данные о поездах только за 2021 год - это хорошо."
   ]
  },
  {
   "cell_type": "markdown",
   "id": "23a2d609",
   "metadata": {},
   "source": [
    "**Вывод по предобработке данных:**\n",
    "\n",
    "В данном блоке были:\n",
    "- заменены типы данных столбцов;\n",
    "- удалены дубликаты и аномалии;\n",
    "- добавлены необходимые столбцы."
   ]
  },
  {
   "cell_type": "markdown",
   "id": "212593c7",
   "metadata": {},
   "source": [
    "## Исследовательский анализ данных"
   ]
  },
  {
   "cell_type": "markdown",
   "id": "12e16768",
   "metadata": {},
   "source": [
    "Посмотрим пользователи из каких городов есть в датасете `users`:"
   ]
  },
  {
   "cell_type": "code",
   "execution_count": 13,
   "id": "04d32809",
   "metadata": {
    "scrolled": false
   },
   "outputs": [
    {
     "data": {
      "text/plain": [
       "city\n",
       "Пятигорск         219\n",
       "Екатеринбург      204\n",
       "Ростов-на-Дону    198\n",
       "Краснодар         193\n",
       "Сочи              189\n",
       "Омск              183\n",
       "Тюмень            180\n",
       "Москва            168\n",
       "dtype: int64"
      ]
     },
     "metadata": {},
     "output_type": "display_data"
    },
    {
     "data": {
      "image/png": "[encoded data removed]",
      "text/plain": [
       "<Figure size 864x432 with 1 Axes>"
      ]
     },
     "metadata": {
      "needs_background": "light"
     },
     "output_type": "display_data"
    }
   ],
   "source": [
    "# посчитаем сколько раз встречаюnся разные города \n",
    "display(users.value_counts('city'))\n",
    "(\n",
    "# построим барплот\n",
    "users.value_counts('city')\n",
    "    .plot.bar(\n",
    "    ylabel='count', # подпись оси У\n",
    "    figsize=(12,6), # размер графика\n",
    "    grid=True, # сетка\n",
    "    rot=45, # поворот подписей оси Х\n",
    "    title='Количество пользователей из разных городов' # название графика\n",
    "    )\n",
    ")\n",
    "plt.show()"
   ]
  },
  {
   "cell_type": "markdown",
   "id": "1095e710",
   "metadata": {},
   "source": [
    "По гистограмме видно, что:\n",
    "- в данных есть пользователи из 8 разных городов;\n",
    "- всех больше пользователейй из Пятигорска (219);\n",
    "- всех меньше - из Москвы (168)."
   ]
  },
  {
   "cell_type": "markdown",
   "id": "338be712",
   "metadata": {},
   "source": [
    "Посмотрим соотношение пользователей с подпиской и без подписки:"
   ]
  },
  {
   "cell_type": "code",
   "execution_count": 14,
   "id": "541ab63f",
   "metadata": {},
   "outputs": [
    {
     "name": "stdout",
     "output_type": "stream",
     "text": [
      "\n",
      "Количество пользователей с подпиской: 699\n",
      "Количество пользователей без подписки: 835\n",
      "\n"
     ]
    },
    {
     "data": {
      "image/png": "[encoded data removed]",
      "text/plain": [
       "<Figure size 504x504 with 1 Axes>"
      ]
     },
     "metadata": {},
     "output_type": "display_data"
    }
   ],
   "source": [
    "print(f\"\"\"\n",
    "Количество пользователей с подпиской: {len(users.loc[users['subscription_type'] == 'ultra'])}\n",
    "Количество пользователей без подписки: {len(users.loc[users['subscription_type'] == 'free'])}\n",
    "\"\"\")\n",
    "(\n",
    "# посчитаем сколько пользователей с подпиской и без \n",
    "users.value_counts('subscription_type')\n",
    "    .plot(\n",
    "        kind='pie', # тип графика\n",
    "        title='Соотношение пользователей с подпиской и без подписки', # название графика\n",
    "        ylabel='count', # подпись оси\n",
    "        figsize=(7, 7), # размер графика\n",
    "        autopct='%1.0f%%' # подписи данных\n",
    "    )\n",
    ")\n",
    "plt.show()"
   ]
  },
  {
   "cell_type": "markdown",
   "id": "0b7fe829",
   "metadata": {},
   "source": [
    "Посмотрим на возраст пользователей с помощью функции `describe()` и постром гистограмму:"
   ]
  },
  {
   "cell_type": "code",
   "execution_count": 15,
   "id": "4a7adaed",
   "metadata": {
    "scrolled": false
   },
   "outputs": [
    {
     "data": {
      "text/plain": [
       "count    1534.000000\n",
       "mean       24.903520\n",
       "std         4.572367\n",
       "min        12.000000\n",
       "25%        22.000000\n",
       "50%        25.000000\n",
       "75%        28.000000\n",
       "max        43.000000\n",
       "Name: age, dtype: float64"
      ]
     },
     "metadata": {},
     "output_type": "display_data"
    },
    {
     "data": {
      "image/png": "[encoded data removed]",
      "text/plain": [
       "<Figure size 864x432 with 1 Axes>"
      ]
     },
     "metadata": {
      "needs_background": "light"
     },
     "output_type": "display_data"
    }
   ],
   "source": [
    "display(users['age'].describe())\n",
    "# построим гистограмму по столбцу age\n",
    "users['age'].plot(\n",
    "    kind='hist', # тип графика\n",
    "    bins=(len(users['age'].value_counts())+1), # количество корзин \n",
    "    figsize=(12,6), # размер графика\n",
    "    grid=True, # сетка\n",
    "    title='Возраст пользователей' #название графика\n",
    ")\n",
    "plt.xlabel('age')\n",
    "plt.show()"
   ]
  },
  {
   "cell_type": "markdown",
   "id": "534d162b",
   "metadata": {},
   "source": [
    "По описанию и гистограмме видно, что:\n",
    "- средний возраст и медиана всех возрастов 25 лет;\n",
    "- распределение возраста пользоватерей - нормальное."
   ]
  },
  {
   "cell_type": "markdown",
   "id": "62daab8a",
   "metadata": {},
   "source": [
    "Посмотрим на расстояние, которое пользователь преодолел за одну поездку с помощью функции `describe()` и гистограммы:"
   ]
  },
  {
   "cell_type": "code",
   "execution_count": 16,
   "id": "27d52df1",
   "metadata": {},
   "outputs": [
    {
     "data": {
      "text/plain": [
       "count    17973.000000\n",
       "mean      3059.863833\n",
       "std       1108.814612\n",
       "min          0.855683\n",
       "25%       2538.839628\n",
       "50%       3129.029255\n",
       "75%       3762.636244\n",
       "max       7066.003772\n",
       "Name: distance, dtype: float64"
      ]
     },
     "metadata": {},
     "output_type": "display_data"
    },
    {
     "data": {
      "image/png": "[encoded data removed]",
      "text/plain": [
       "<Figure size 864x432 with 1 Axes>"
      ]
     },
     "metadata": {
      "needs_background": "light"
     },
     "output_type": "display_data"
    }
   ],
   "source": [
    "display(rides['distance'].describe())\n",
    "# построим гистограмму по столбцу distance\n",
    "rides['distance'].plot(\n",
    "    kind='hist', # тип графика\n",
    "    bins=50, # количество корзин \n",
    "    figsize=(12,6), # размер графика\n",
    "    grid=True, # сетка\n",
    "    title='Расстояния поездок' #название графика\n",
    ")\n",
    "plt.xlabel('distance')\n",
    "plt.show()"
   ]
  },
  {
   "cell_type": "markdown",
   "id": "15379628",
   "metadata": {},
   "source": [
    "По описанию и гистограмме расстояний поездок видно, что:\n",
    "- средднее расстояние 3060 метров;\n",
    "- пользователи проезжали от 0,9 метров до 7066 метров;\n",
    "- есть два ярко выраженных пика на 0,6 км и 3 км."
   ]
  },
  {
   "cell_type": "markdown",
   "id": "8a1b18b0",
   "metadata": {},
   "source": [
    "Посмотрим на длительность поездок с помощью функции `describe()` и постром гистограмму:"
   ]
  },
  {
   "cell_type": "code",
   "execution_count": 17,
   "id": "bdb3fdde",
   "metadata": {},
   "outputs": [
    {
     "data": {
      "text/plain": [
       "count    17973.000000\n",
       "mean        17.896480\n",
       "std          5.975424\n",
       "min          2.035632\n",
       "25%         13.670439\n",
       "50%         17.714122\n",
       "75%         21.747016\n",
       "max         40.823963\n",
       "Name: duration, dtype: float64"
      ]
     },
     "metadata": {},
     "output_type": "display_data"
    },
    {
     "data": {
      "image/png": "[encoded data removed]",
      "text/plain": [
       "<Figure size 864x432 with 1 Axes>"
      ]
     },
     "metadata": {
      "needs_background": "light"
     },
     "output_type": "display_data"
    }
   ],
   "source": [
    "display(rides['duration'].describe())\n",
    "# построим гистограмму по столбцу duration\n",
    "rides['duration'].plot(\n",
    "    kind='hist', # тип графика\n",
    "    bins=50, # количество корзин \n",
    "    figsize=(12,6), # размер графика\n",
    "    grid=True, # сетка\n",
    "    title='Длительность поездок' #название графика\n",
    ")\n",
    "plt.xlabel('duration')\n",
    "plt.show()"
   ]
  },
  {
   "cell_type": "markdown",
   "id": "628a1397",
   "metadata": {},
   "source": [
    "По гистограмме длительности поездок видно, что распределение длительности поездок похоже на нормальное распределение со средней длительностю позедки 17,9 минут."
   ]
  },
  {
   "cell_type": "markdown",
   "id": "8b732bd0",
   "metadata": {},
   "source": [
    "**Вывод по блоку анализа данных:**\n",
    "\n",
    "В данном блоке были отмечено слудующее:\n",
    "- в датасетах собраны данные по пользователям из 8 городов;\n",
    "- пользователей с подпиской меньше, чем без подписки;\n",
    "- возраст пользователей и длительность поездок распределена нормально с пиками 25 лет и 18 минут соответсвенно;\n",
    "- расстояния поездок имеют ярко выраженные пики: 0,6 км и 3 км."
   ]
  },
  {
   "cell_type": "markdown",
   "id": "4ef51331",
   "metadata": {},
   "source": [
    "## Объединение данных"
   ]
  },
  {
   "cell_type": "markdown",
   "id": "11da183e",
   "metadata": {},
   "source": [
    "Для дальнейшего анализа и проверки гипотез объединим датафреймы в один `data_full`:"
   ]
  },
  {
   "cell_type": "code",
   "execution_count": 18,
   "id": "6bf288b5",
   "metadata": {
    "scrolled": false
   },
   "outputs": [
    {
     "data": {
      "text/html": [
       "<div>\n",
       "<style scoped>\n",
       "    .dataframe tbody tr th:only-of-type {\n",
       "        vertical-align: middle;\n",
       "    }\n",
       "\n",
       "    .dataframe tbody tr th {\n",
       "        vertical-align: top;\n",
       "    }\n",
       "\n",
       "    .dataframe thead th {\n",
       "        text-align: right;\n",
       "    }\n",
       "</style>\n",
       "<table border=\"1\" class=\"dataframe\">\n",
       "  <thead>\n",
       "    <tr style=\"text-align: right;\">\n",
       "      <th></th>\n",
       "      <th>user_id</th>\n",
       "      <th>distance</th>\n",
       "      <th>duration</th>\n",
       "      <th>date</th>\n",
       "      <th>month</th>\n",
       "      <th>name</th>\n",
       "      <th>age</th>\n",
       "      <th>city</th>\n",
       "      <th>subscription_type</th>\n",
       "      <th>minute_price</th>\n",
       "      <th>start_ride_price</th>\n",
       "      <th>subscription_fee</th>\n",
       "    </tr>\n",
       "  </thead>\n",
       "  <tbody>\n",
       "    <tr>\n",
       "      <th>0</th>\n",
       "      <td>1</td>\n",
       "      <td>4409.919140</td>\n",
       "      <td>25.599769</td>\n",
       "      <td>2021-01-01</td>\n",
       "      <td>1</td>\n",
       "      <td>Кира</td>\n",
       "      <td>22</td>\n",
       "      <td>Тюмень</td>\n",
       "      <td>ultra</td>\n",
       "      <td>6</td>\n",
       "      <td>0</td>\n",
       "      <td>199</td>\n",
       "    </tr>\n",
       "    <tr>\n",
       "      <th>1</th>\n",
       "      <td>1</td>\n",
       "      <td>2617.592153</td>\n",
       "      <td>15.816871</td>\n",
       "      <td>2021-01-18</td>\n",
       "      <td>1</td>\n",
       "      <td>Кира</td>\n",
       "      <td>22</td>\n",
       "      <td>Тюмень</td>\n",
       "      <td>ultra</td>\n",
       "      <td>6</td>\n",
       "      <td>0</td>\n",
       "      <td>199</td>\n",
       "    </tr>\n",
       "    <tr>\n",
       "      <th>2</th>\n",
       "      <td>1</td>\n",
       "      <td>754.159807</td>\n",
       "      <td>6.232113</td>\n",
       "      <td>2021-04-20</td>\n",
       "      <td>4</td>\n",
       "      <td>Кира</td>\n",
       "      <td>22</td>\n",
       "      <td>Тюмень</td>\n",
       "      <td>ultra</td>\n",
       "      <td>6</td>\n",
       "      <td>0</td>\n",
       "      <td>199</td>\n",
       "    </tr>\n",
       "    <tr>\n",
       "      <th>3</th>\n",
       "      <td>1</td>\n",
       "      <td>2694.783254</td>\n",
       "      <td>18.511000</td>\n",
       "      <td>2021-08-11</td>\n",
       "      <td>8</td>\n",
       "      <td>Кира</td>\n",
       "      <td>22</td>\n",
       "      <td>Тюмень</td>\n",
       "      <td>ultra</td>\n",
       "      <td>6</td>\n",
       "      <td>0</td>\n",
       "      <td>199</td>\n",
       "    </tr>\n",
       "    <tr>\n",
       "      <th>4</th>\n",
       "      <td>1</td>\n",
       "      <td>4028.687306</td>\n",
       "      <td>26.265803</td>\n",
       "      <td>2021-08-28</td>\n",
       "      <td>8</td>\n",
       "      <td>Кира</td>\n",
       "      <td>22</td>\n",
       "      <td>Тюмень</td>\n",
       "      <td>ultra</td>\n",
       "      <td>6</td>\n",
       "      <td>0</td>\n",
       "      <td>199</td>\n",
       "    </tr>\n",
       "  </tbody>\n",
       "</table>\n",
       "</div>"
      ],
      "text/plain": [
       "  user_id     distance   duration       date  month  name  age    city  \\\n",
       "0       1  4409.919140  25.599769 2021-01-01      1  Кира   22  Тюмень   \n",
       "1       1  2617.592153  15.816871 2021-01-18      1  Кира   22  Тюмень   \n",
       "2       1   754.159807   6.232113 2021-04-20      4  Кира   22  Тюмень   \n",
       "3       1  2694.783254  18.511000 2021-08-11      8  Кира   22  Тюмень   \n",
       "4       1  4028.687306  26.265803 2021-08-28      8  Кира   22  Тюмень   \n",
       "\n",
       "  subscription_type  minute_price  start_ride_price  subscription_fee  \n",
       "0             ultra             6                 0               199  \n",
       "1             ultra             6                 0               199  \n",
       "2             ultra             6                 0               199  \n",
       "3             ultra             6                 0               199  \n",
       "4             ultra             6                 0               199  "
      ]
     },
     "metadata": {},
     "output_type": "display_data"
    },
    {
     "name": "stdout",
     "output_type": "stream",
     "text": [
      "<class 'pandas.core.frame.DataFrame'>\n",
      "Int64Index: 17973 entries, 0 to 17972\n",
      "Data columns (total 12 columns):\n",
      " #   Column             Non-Null Count  Dtype         \n",
      "---  ------             --------------  -----         \n",
      " 0   user_id            17973 non-null  category      \n",
      " 1   distance           17973 non-null  float64       \n",
      " 2   duration           17973 non-null  float64       \n",
      " 3   date               17973 non-null  datetime64[ns]\n",
      " 4   month              17973 non-null  int64         \n",
      " 5   name               17973 non-null  category      \n",
      " 6   age                17973 non-null  int64         \n",
      " 7   city               17973 non-null  category      \n",
      " 8   subscription_type  17973 non-null  category      \n",
      " 9   minute_price       17973 non-null  int64         \n",
      " 10  start_ride_price   17973 non-null  int64         \n",
      " 11  subscription_fee   17973 non-null  int64         \n",
      "dtypes: category(4), datetime64[ns](1), float64(2), int64(5)\n",
      "memory usage: 1.4 MB\n"
     ]
    }
   ],
   "source": [
    "# с помощью метода .merge добавим к rides датафреймы users и subscriptions\n",
    "data_full = (rides\\\n",
    "    .merge(users, on='user_id', how='left')\n",
    "    .merge(subscriptions, on='subscription_type', how='left')\n",
    ")\n",
    "display(data_full.head(5))\n",
    "data_full.info()"
   ]
  },
  {
   "cell_type": "markdown",
   "id": "1b1544ba",
   "metadata": {},
   "source": [
    "Все данные объединились корректно, количество строк совпадает с исходным датафреймом `rides` (за вычетом удаленных строк), пропусков данных нет."
   ]
  },
  {
   "cell_type": "markdown",
   "id": "af8a8cc7",
   "metadata": {},
   "source": [
    "Создадим еще один датафрейм `data_free` с данными пользователей без подписки: "
   ]
  },
  {
   "cell_type": "code",
   "execution_count": 19,
   "id": "0c65f620",
   "metadata": {},
   "outputs": [
    {
     "data": {
      "text/html": [
       "<div>\n",
       "<style scoped>\n",
       "    .dataframe tbody tr th:only-of-type {\n",
       "        vertical-align: middle;\n",
       "    }\n",
       "\n",
       "    .dataframe tbody tr th {\n",
       "        vertical-align: top;\n",
       "    }\n",
       "\n",
       "    .dataframe thead th {\n",
       "        text-align: right;\n",
       "    }\n",
       "</style>\n",
       "<table border=\"1\" class=\"dataframe\">\n",
       "  <thead>\n",
       "    <tr style=\"text-align: right;\">\n",
       "      <th></th>\n",
       "      <th>user_id</th>\n",
       "      <th>distance</th>\n",
       "      <th>duration</th>\n",
       "      <th>date</th>\n",
       "      <th>month</th>\n",
       "      <th>name</th>\n",
       "      <th>age</th>\n",
       "      <th>city</th>\n",
       "      <th>subscription_type</th>\n",
       "      <th>minute_price</th>\n",
       "      <th>start_ride_price</th>\n",
       "      <th>subscription_fee</th>\n",
       "    </tr>\n",
       "  </thead>\n",
       "  <tbody>\n",
       "    <tr>\n",
       "      <th>0</th>\n",
       "      <td>700</td>\n",
       "      <td>2515.690719</td>\n",
       "      <td>14.944286</td>\n",
       "      <td>2021-01-02</td>\n",
       "      <td>1</td>\n",
       "      <td>Айдар</td>\n",
       "      <td>22</td>\n",
       "      <td>Омск</td>\n",
       "      <td>free</td>\n",
       "      <td>8</td>\n",
       "      <td>50</td>\n",
       "      <td>0</td>\n",
       "    </tr>\n",
       "    <tr>\n",
       "      <th>1</th>\n",
       "      <td>700</td>\n",
       "      <td>846.932642</td>\n",
       "      <td>16.234663</td>\n",
       "      <td>2021-02-01</td>\n",
       "      <td>2</td>\n",
       "      <td>Айдар</td>\n",
       "      <td>22</td>\n",
       "      <td>Омск</td>\n",
       "      <td>free</td>\n",
       "      <td>8</td>\n",
       "      <td>50</td>\n",
       "      <td>0</td>\n",
       "    </tr>\n",
       "    <tr>\n",
       "      <th>2</th>\n",
       "      <td>700</td>\n",
       "      <td>4004.434142</td>\n",
       "      <td>20.016628</td>\n",
       "      <td>2021-02-04</td>\n",
       "      <td>2</td>\n",
       "      <td>Айдар</td>\n",
       "      <td>22</td>\n",
       "      <td>Омск</td>\n",
       "      <td>free</td>\n",
       "      <td>8</td>\n",
       "      <td>50</td>\n",
       "      <td>0</td>\n",
       "    </tr>\n",
       "    <tr>\n",
       "      <th>3</th>\n",
       "      <td>700</td>\n",
       "      <td>1205.911290</td>\n",
       "      <td>9.782872</td>\n",
       "      <td>2021-02-10</td>\n",
       "      <td>2</td>\n",
       "      <td>Айдар</td>\n",
       "      <td>22</td>\n",
       "      <td>Омск</td>\n",
       "      <td>free</td>\n",
       "      <td>8</td>\n",
       "      <td>50</td>\n",
       "      <td>0</td>\n",
       "    </tr>\n",
       "    <tr>\n",
       "      <th>4</th>\n",
       "      <td>700</td>\n",
       "      <td>3047.379435</td>\n",
       "      <td>17.427673</td>\n",
       "      <td>2021-02-14</td>\n",
       "      <td>2</td>\n",
       "      <td>Айдар</td>\n",
       "      <td>22</td>\n",
       "      <td>Омск</td>\n",
       "      <td>free</td>\n",
       "      <td>8</td>\n",
       "      <td>50</td>\n",
       "      <td>0</td>\n",
       "    </tr>\n",
       "  </tbody>\n",
       "</table>\n",
       "</div>"
      ],
      "text/plain": [
       "  user_id     distance   duration       date  month   name  age  city  \\\n",
       "0     700  2515.690719  14.944286 2021-01-02      1  Айдар   22  Омск   \n",
       "1     700   846.932642  16.234663 2021-02-01      2  Айдар   22  Омск   \n",
       "2     700  4004.434142  20.016628 2021-02-04      2  Айдар   22  Омск   \n",
       "3     700  1205.911290   9.782872 2021-02-10      2  Айдар   22  Омск   \n",
       "4     700  3047.379435  17.427673 2021-02-14      2  Айдар   22  Омск   \n",
       "\n",
       "  subscription_type  minute_price  start_ride_price  subscription_fee  \n",
       "0              free             8                50                 0  \n",
       "1              free             8                50                 0  \n",
       "2              free             8                50                 0  \n",
       "3              free             8                50                 0  \n",
       "4              free             8                50                 0  "
      ]
     },
     "metadata": {},
     "output_type": "display_data"
    },
    {
     "name": "stdout",
     "output_type": "stream",
     "text": [
      "<class 'pandas.core.frame.DataFrame'>\n",
      "RangeIndex: 11473 entries, 0 to 11472\n",
      "Data columns (total 12 columns):\n",
      " #   Column             Non-Null Count  Dtype         \n",
      "---  ------             --------------  -----         \n",
      " 0   user_id            11473 non-null  category      \n",
      " 1   distance           11473 non-null  float64       \n",
      " 2   duration           11473 non-null  float64       \n",
      " 3   date               11473 non-null  datetime64[ns]\n",
      " 4   month              11473 non-null  int64         \n",
      " 5   name               11473 non-null  category      \n",
      " 6   age                11473 non-null  int64         \n",
      " 7   city               11473 non-null  category      \n",
      " 8   subscription_type  11473 non-null  category      \n",
      " 9   minute_price       11473 non-null  int64         \n",
      " 10  start_ride_price   11473 non-null  int64         \n",
      " 11  subscription_fee   11473 non-null  int64         \n",
      "dtypes: category(4), datetime64[ns](1), float64(2), int64(5)\n",
      "memory usage: 834.7 KB\n"
     ]
    }
   ],
   "source": [
    "# с помощью метода .query выберем строки с пользователями без подписки\n",
    "data_free = (data_full\n",
    "             .query('subscription_type == \"free\"')\n",
    "             .reset_index(drop=True)\n",
    "            )\n",
    "# выведем первые пять строк датафрейма и посмотрим на информацию о нем\n",
    "display(data_free.head(5))\n",
    "data_free.info()"
   ]
  },
  {
   "cell_type": "markdown",
   "id": "8c51399a",
   "metadata": {},
   "source": [
    "Создадим еще один датафрейм `data_ultra` с данными пользователей с подпиской:"
   ]
  },
  {
   "cell_type": "code",
   "execution_count": 20,
   "id": "d7446baf",
   "metadata": {
    "scrolled": false
   },
   "outputs": [
    {
     "data": {
      "text/html": [
       "<div>\n",
       "<style scoped>\n",
       "    .dataframe tbody tr th:only-of-type {\n",
       "        vertical-align: middle;\n",
       "    }\n",
       "\n",
       "    .dataframe tbody tr th {\n",
       "        vertical-align: top;\n",
       "    }\n",
       "\n",
       "    .dataframe thead th {\n",
       "        text-align: right;\n",
       "    }\n",
       "</style>\n",
       "<table border=\"1\" class=\"dataframe\">\n",
       "  <thead>\n",
       "    <tr style=\"text-align: right;\">\n",
       "      <th></th>\n",
       "      <th>user_id</th>\n",
       "      <th>distance</th>\n",
       "      <th>duration</th>\n",
       "      <th>date</th>\n",
       "      <th>month</th>\n",
       "      <th>name</th>\n",
       "      <th>age</th>\n",
       "      <th>city</th>\n",
       "      <th>subscription_type</th>\n",
       "      <th>minute_price</th>\n",
       "      <th>start_ride_price</th>\n",
       "      <th>subscription_fee</th>\n",
       "    </tr>\n",
       "  </thead>\n",
       "  <tbody>\n",
       "    <tr>\n",
       "      <th>0</th>\n",
       "      <td>1</td>\n",
       "      <td>4409.919140</td>\n",
       "      <td>25.599769</td>\n",
       "      <td>2021-01-01</td>\n",
       "      <td>1</td>\n",
       "      <td>Кира</td>\n",
       "      <td>22</td>\n",
       "      <td>Тюмень</td>\n",
       "      <td>ultra</td>\n",
       "      <td>6</td>\n",
       "      <td>0</td>\n",
       "      <td>199</td>\n",
       "    </tr>\n",
       "    <tr>\n",
       "      <th>1</th>\n",
       "      <td>1</td>\n",
       "      <td>2617.592153</td>\n",
       "      <td>15.816871</td>\n",
       "      <td>2021-01-18</td>\n",
       "      <td>1</td>\n",
       "      <td>Кира</td>\n",
       "      <td>22</td>\n",
       "      <td>Тюмень</td>\n",
       "      <td>ultra</td>\n",
       "      <td>6</td>\n",
       "      <td>0</td>\n",
       "      <td>199</td>\n",
       "    </tr>\n",
       "    <tr>\n",
       "      <th>2</th>\n",
       "      <td>1</td>\n",
       "      <td>754.159807</td>\n",
       "      <td>6.232113</td>\n",
       "      <td>2021-04-20</td>\n",
       "      <td>4</td>\n",
       "      <td>Кира</td>\n",
       "      <td>22</td>\n",
       "      <td>Тюмень</td>\n",
       "      <td>ultra</td>\n",
       "      <td>6</td>\n",
       "      <td>0</td>\n",
       "      <td>199</td>\n",
       "    </tr>\n",
       "    <tr>\n",
       "      <th>3</th>\n",
       "      <td>1</td>\n",
       "      <td>2694.783254</td>\n",
       "      <td>18.511000</td>\n",
       "      <td>2021-08-11</td>\n",
       "      <td>8</td>\n",
       "      <td>Кира</td>\n",
       "      <td>22</td>\n",
       "      <td>Тюмень</td>\n",
       "      <td>ultra</td>\n",
       "      <td>6</td>\n",
       "      <td>0</td>\n",
       "      <td>199</td>\n",
       "    </tr>\n",
       "    <tr>\n",
       "      <th>4</th>\n",
       "      <td>1</td>\n",
       "      <td>4028.687306</td>\n",
       "      <td>26.265803</td>\n",
       "      <td>2021-08-28</td>\n",
       "      <td>8</td>\n",
       "      <td>Кира</td>\n",
       "      <td>22</td>\n",
       "      <td>Тюмень</td>\n",
       "      <td>ultra</td>\n",
       "      <td>6</td>\n",
       "      <td>0</td>\n",
       "      <td>199</td>\n",
       "    </tr>\n",
       "  </tbody>\n",
       "</table>\n",
       "</div>"
      ],
      "text/plain": [
       "  user_id     distance   duration       date  month  name  age    city  \\\n",
       "0       1  4409.919140  25.599769 2021-01-01      1  Кира   22  Тюмень   \n",
       "1       1  2617.592153  15.816871 2021-01-18      1  Кира   22  Тюмень   \n",
       "2       1   754.159807   6.232113 2021-04-20      4  Кира   22  Тюмень   \n",
       "3       1  2694.783254  18.511000 2021-08-11      8  Кира   22  Тюмень   \n",
       "4       1  4028.687306  26.265803 2021-08-28      8  Кира   22  Тюмень   \n",
       "\n",
       "  subscription_type  minute_price  start_ride_price  subscription_fee  \n",
       "0             ultra             6                 0               199  \n",
       "1             ultra             6                 0               199  \n",
       "2             ultra             6                 0               199  \n",
       "3             ultra             6                 0               199  \n",
       "4             ultra             6                 0               199  "
      ]
     },
     "metadata": {},
     "output_type": "display_data"
    },
    {
     "name": "stdout",
     "output_type": "stream",
     "text": [
      "<class 'pandas.core.frame.DataFrame'>\n",
      "RangeIndex: 6500 entries, 0 to 6499\n",
      "Data columns (total 12 columns):\n",
      " #   Column             Non-Null Count  Dtype         \n",
      "---  ------             --------------  -----         \n",
      " 0   user_id            6500 non-null   category      \n",
      " 1   distance           6500 non-null   float64       \n",
      " 2   duration           6500 non-null   float64       \n",
      " 3   date               6500 non-null   datetime64[ns]\n",
      " 4   month              6500 non-null   int64         \n",
      " 5   name               6500 non-null   category      \n",
      " 6   age                6500 non-null   int64         \n",
      " 7   city               6500 non-null   category      \n",
      " 8   subscription_type  6500 non-null   category      \n",
      " 9   minute_price       6500 non-null   int64         \n",
      " 10  start_ride_price   6500 non-null   int64         \n",
      " 11  subscription_fee   6500 non-null   int64         \n",
      "dtypes: category(4), datetime64[ns](1), float64(2), int64(5)\n",
      "memory usage: 494.8 KB\n"
     ]
    }
   ],
   "source": [
    "# с помощью метода .query выберем строки с пользователями с подпиской\n",
    "data_ultra = (data_full\n",
    "              .query('subscription_type == \"ultra\"')\n",
    "              .reset_index(drop=True)\n",
    "             )\n",
    "# выведем первые пять строк датафрейма и посмотрим на информацию о нем\n",
    "display(data_ultra.head(5))\n",
    "data_ultra.info()"
   ]
  },
  {
   "cell_type": "markdown",
   "id": "f17a452d",
   "metadata": {},
   "source": [
    "Датафрейм `data_ultra` получился в 0.43 раза меньше датафрейма `data_free`.\n",
    "\n",
    "Посмотрим изменились ли распределения расстояния и длительности поездок пользователей после разделения на пользователей с подпиской и без:"
   ]
  },
  {
   "cell_type": "code",
   "execution_count": 21,
   "id": "31a3be76",
   "metadata": {},
   "outputs": [
    {
     "data": {
      "text/plain": [
       "'Сводная статистика по расстоянию поездок пользователей без подписки:'"
      ]
     },
     "metadata": {},
     "output_type": "display_data"
    },
    {
     "data": {
      "text/plain": [
       "count    11473.000000\n",
       "mean      3028.374239\n",
       "std       1235.541051\n",
       "min          0.855683\n",
       "25%       2360.878149\n",
       "50%       3102.083025\n",
       "75%       3883.979311\n",
       "max       7066.003772\n",
       "Name: distance, dtype: float64"
      ]
     },
     "metadata": {},
     "output_type": "display_data"
    },
    {
     "data": {
      "text/plain": [
       "'Сводная статистика по расстоянию поездок пользователей с подпиской:'"
      ]
     },
     "metadata": {},
     "output_type": "display_data"
    },
    {
     "data": {
      "text/plain": [
       "count    6500.000000\n",
       "mean     3115.445388\n",
       "std       836.895330\n",
       "min       244.210438\n",
       "25%      2785.444017\n",
       "50%      3148.637229\n",
       "75%      3560.574425\n",
       "max      5699.769662\n",
       "Name: distance, dtype: float64"
      ]
     },
     "metadata": {},
     "output_type": "display_data"
    },
    {
     "data": {
      "image/png": "[encoded data removed]",
      "text/plain": [
       "<Figure size 864x432 with 1 Axes>"
      ]
     },
     "metadata": {
      "needs_background": "light"
     },
     "output_type": "display_data"
    }
   ],
   "source": [
    "display('Сводная статистика по расстоянию поездок пользователей без подписки:', data_free['distance'].describe())\n",
    "display('Сводная статистика по расстоянию поездок пользователей с подпиской:', data_ultra['distance'].describe())\n",
    "ax = data_free.plot(\n",
    "    kind='hist', # тип графика\n",
    "    y='distance', # значения оси y\n",
    "    bins=30, # количество корзин\n",
    "    alpha=0.7, # прозрачность столбцов\n",
    "    label='free' # название данных\n",
    ")\n",
    "data_ultra.plot(\n",
    "    kind='hist', # тип графика\n",
    "    y='distance', # значения оси y\n",
    "    bins=30, # количество корзин\n",
    "    alpha=0.7, # прозрачность столбцов\n",
    "    label='ultra', # название данных\n",
    "    ax=ax, # объединенине гистограмм\n",
    "    grid=True, # сетка\n",
    "    legend=True, # легенда\n",
    "    figsize=(12,6), # размер графика\n",
    "    title='Расстояние поездок с подпиской и без' # название графика\n",
    ")\n",
    "plt.xlabel('distance')\n",
    "plt.show()"
   ]
  },
  {
   "cell_type": "code",
   "execution_count": 22,
   "id": "0e58c10b",
   "metadata": {},
   "outputs": [
    {
     "data": {
      "text/plain": [
       "'Сводная статистика по длительности поездок пользователей без подписки:'"
      ]
     },
     "metadata": {},
     "output_type": "display_data"
    },
    {
     "data": {
      "text/plain": [
       "count    11473.000000\n",
       "mean        17.530771\n",
       "std          6.162609\n",
       "min          2.035632\n",
       "25%         13.085688\n",
       "50%         17.383807\n",
       "75%         21.638038\n",
       "max         34.948498\n",
       "Name: duration, dtype: float64"
      ]
     },
     "metadata": {},
     "output_type": "display_data"
    },
    {
     "data": {
      "text/plain": [
       "'Сводная статистика по длительности поездок пользователей с подпиской:'"
      ]
     },
     "metadata": {},
     "output_type": "display_data"
    },
    {
     "data": {
      "text/plain": [
       "count    6500.000000\n",
       "mean       18.541985\n",
       "std         5.572048\n",
       "min         3.760353\n",
       "25%        14.524654\n",
       "50%        18.178153\n",
       "75%        21.884129\n",
       "max        40.823963\n",
       "Name: duration, dtype: float64"
      ]
     },
     "metadata": {},
     "output_type": "display_data"
    },
    {
     "data": {
      "image/png": "[encoded data removed]",
      "text/plain": [
       "<Figure size 864x432 with 1 Axes>"
      ]
     },
     "metadata": {
      "needs_background": "light"
     },
     "output_type": "display_data"
    }
   ],
   "source": [
    "display('Сводная статистика по длительности поездок пользователей без подписки:', data_free['duration'].describe())\n",
    "display('Сводная статистика по длительности поездок пользователей с подпиской:', data_ultra['duration'].describe())\n",
    "ax = data_free.plot(\n",
    "    kind='hist', # тип графика\n",
    "    y='duration', # значения оси y\n",
    "    bins=30, # количество корзин\n",
    "    alpha=0.7, # прозрачность столбцов\n",
    "    label='free' # название данных\n",
    ")\n",
    "data_ultra.plot(\n",
    "    kind='hist', # тип графика\n",
    "    y='duration', # значения оси y\n",
    "    bins=30, # количество корзин\n",
    "    alpha=0.7, # прозрачность столбцов\n",
    "    label='ultra', # название данных\n",
    "    ax=ax, # объединенине гистограмм\n",
    "    grid=True, # сетка\n",
    "    legend=True, # легенда\n",
    "    figsize=(12,6), # размер графика\n",
    "    title='Длительность поездок с подпиской и без' # название графика\n",
    ")\n",
    "plt.xlabel('duration')\n",
    "plt.show()"
   ]
  },
  {
   "cell_type": "markdown",
   "id": "91eff95b",
   "metadata": {},
   "source": [
    "По гистограммам видно, что:\n",
    "- форма распределения расстояния повторяет общую, но первый пик у пользователей с подпиской дальше, чем у пользователей без подписки (1 км против 0,5 км);\n",
    "- межквартильный размах расстояний пользователей с подпиской меньше, чем у пользователей без подписки (1523 метра против 775 метров), таким образом можно сказать, что у пользователей без подписки больший диапазон расстояний поездок;\n",
    "- медианное значение расстояния пользователей с подпиской больше: 3148,6 метров против 3102,1 метров у пользователей без подписки;\n",
    "- форма распределения длительности поездок идентична для пользователей с подпиской и без;\n",
    "- стандартное отклонение распределения длительности поездки у пользователей с подпиской меньше, таким образом можно сказать, что у пользователей без подписки больший разброс длительности поездок;\n",
    "- медианное значение длительности поездки пользователей с подпиской больше: 18,2 минуты против 17,4 минут у пользователей без подписки."
   ]
  },
  {
   "cell_type": "markdown",
   "id": "402d620f",
   "metadata": {},
   "source": [
    "## Подсчёт выручки"
   ]
  },
  {
   "cell_type": "markdown",
   "id": "1afb1d44",
   "metadata": {},
   "source": [
    "Необходимо подсчитать выручку с каждого пользователя, но для начала округлим значения длительности поездки `duration` до ближайшего целого:"
   ]
  },
  {
   "cell_type": "code",
   "execution_count": 23,
   "id": "05700b05",
   "metadata": {},
   "outputs": [],
   "source": [
    "data_full['duration'] = np.ceil(data_full['duration']).astype('int')"
   ]
  },
  {
   "cell_type": "markdown",
   "id": "441c4e42",
   "metadata": {},
   "source": [
    "Создадим датафрейм `data_income` с агрегированными данными о поездках на основе `data_full`, где найдем количество поездок `count_trips` и суммарное расстояние `distance_sum` и время `duration_sum` для каждого пользователя за каждый месяц, а также укажем тип подписки:"
   ]
  },
  {
   "cell_type": "code",
   "execution_count": 24,
   "id": "871ed95a",
   "metadata": {},
   "outputs": [
    {
     "data": {
      "text/html": [
       "<div>\n",
       "<style scoped>\n",
       "    .dataframe tbody tr th:only-of-type {\n",
       "        vertical-align: middle;\n",
       "    }\n",
       "\n",
       "    .dataframe tbody tr th {\n",
       "        vertical-align: top;\n",
       "    }\n",
       "\n",
       "    .dataframe thead th {\n",
       "        text-align: right;\n",
       "    }\n",
       "</style>\n",
       "<table border=\"1\" class=\"dataframe\">\n",
       "  <thead>\n",
       "    <tr style=\"text-align: right;\">\n",
       "      <th></th>\n",
       "      <th>user_id</th>\n",
       "      <th>month</th>\n",
       "      <th>subscription_type</th>\n",
       "      <th>count_trips</th>\n",
       "      <th>distance_sum</th>\n",
       "      <th>duration_sum</th>\n",
       "    </tr>\n",
       "  </thead>\n",
       "  <tbody>\n",
       "    <tr>\n",
       "      <th>0</th>\n",
       "      <td>1</td>\n",
       "      <td>1</td>\n",
       "      <td>ultra</td>\n",
       "      <td>2</td>\n",
       "      <td>7027.511294</td>\n",
       "      <td>42</td>\n",
       "    </tr>\n",
       "    <tr>\n",
       "      <th>1</th>\n",
       "      <td>1</td>\n",
       "      <td>4</td>\n",
       "      <td>ultra</td>\n",
       "      <td>1</td>\n",
       "      <td>754.159807</td>\n",
       "      <td>7</td>\n",
       "    </tr>\n",
       "    <tr>\n",
       "      <th>2</th>\n",
       "      <td>1</td>\n",
       "      <td>8</td>\n",
       "      <td>ultra</td>\n",
       "      <td>2</td>\n",
       "      <td>6723.470560</td>\n",
       "      <td>46</td>\n",
       "    </tr>\n",
       "    <tr>\n",
       "      <th>3</th>\n",
       "      <td>1</td>\n",
       "      <td>10</td>\n",
       "      <td>ultra</td>\n",
       "      <td>2</td>\n",
       "      <td>5809.911100</td>\n",
       "      <td>32</td>\n",
       "    </tr>\n",
       "    <tr>\n",
       "      <th>4</th>\n",
       "      <td>1</td>\n",
       "      <td>11</td>\n",
       "      <td>ultra</td>\n",
       "      <td>3</td>\n",
       "      <td>7003.499363</td>\n",
       "      <td>56</td>\n",
       "    </tr>\n",
       "  </tbody>\n",
       "</table>\n",
       "</div>"
      ],
      "text/plain": [
       "  user_id  month subscription_type  count_trips  distance_sum  duration_sum\n",
       "0       1      1             ultra            2   7027.511294            42\n",
       "1       1      4             ultra            1    754.159807             7\n",
       "2       1      8             ultra            2   6723.470560            46\n",
       "3       1     10             ultra            2   5809.911100            32\n",
       "4       1     11             ultra            3   7003.499363            56"
      ]
     },
     "metadata": {},
     "output_type": "display_data"
    },
    {
     "name": "stdout",
     "output_type": "stream",
     "text": [
      "<class 'pandas.core.frame.DataFrame'>\n",
      "RangeIndex: 11300 entries, 0 to 11299\n",
      "Data columns (total 6 columns):\n",
      " #   Column             Non-Null Count  Dtype   \n",
      "---  ------             --------------  -----   \n",
      " 0   user_id            11300 non-null  category\n",
      " 1   month              11300 non-null  int64   \n",
      " 2   subscription_type  11300 non-null  category\n",
      " 3   count_trips        11300 non-null  int64   \n",
      " 4   distance_sum       11300 non-null  float64 \n",
      " 5   duration_sum       11300 non-null  int64   \n",
      "dtypes: category(2), float64(1), int64(3)\n",
      "memory usage: 430.8 KB\n"
     ]
    }
   ],
   "source": [
    "data_income = (data_full\n",
    "               # сводим \n",
    "               .pivot_table(\n",
    "                   index=['user_id', 'month', 'subscription_type'],\n",
    "                   values=['distance', 'duration'],\n",
    "                   aggfunc={'distance': ('count', 'sum'), 'duration': 'sum'})\n",
    "               # соединяем мульти названия столбцов в одно название, через _\n",
    "               .pipe(lambda x: x.set_axis(map('_'.join, x), axis=1))\n",
    "               # переименовываем столбец distance_count в количество поездок count_trips\n",
    "               .rename(columns = {'distance_count':'count_trips'})\n",
    "               )\n",
    "# убираем строки с нулевым значением поездок, и сбрасываем индексы\n",
    "data_income = data_income.loc[data_income['count_trips'] != 0].reset_index()\n",
    "# выводим первые 10 строк датафрейма\n",
    "display(data_income.head(5))\n",
    "data_income.info()"
   ]
  },
  {
   "cell_type": "markdown",
   "id": "52025044",
   "metadata": {},
   "source": [
    "Получился датафрейм с 11300 строками без пропусков.\n",
    "\n",
    "Теперь добавим столбец `income`, где с помощью функции посчитаем месячную выручку по формуле:\n",
    "\n",
    "<div align=\"center\">\n",
    "  (start_ride_price * count_trips) + (minute_price * duration_sum) + subscription_fee,\n",
    "</div>\n",
    "\n",
    "где \n",
    "- `start_ride_price` - стоимость старта поездки;\n",
    "- `count_trips` - количество поездок;\n",
    "- `minute_price` - стоимость одной минуты поездки;\n",
    "- `duration_sum` - общая продолжительность всех поездок в минутах;\n",
    "- `subscription_fee` - стоимость подписки."
   ]
  },
  {
   "cell_type": "code",
   "execution_count": 25,
   "id": "858bfabf",
   "metadata": {},
   "outputs": [
    {
     "data": {
      "text/html": [
       "<div>\n",
       "<style scoped>\n",
       "    .dataframe tbody tr th:only-of-type {\n",
       "        vertical-align: middle;\n",
       "    }\n",
       "\n",
       "    .dataframe tbody tr th {\n",
       "        vertical-align: top;\n",
       "    }\n",
       "\n",
       "    .dataframe thead th {\n",
       "        text-align: right;\n",
       "    }\n",
       "</style>\n",
       "<table border=\"1\" class=\"dataframe\">\n",
       "  <thead>\n",
       "    <tr style=\"text-align: right;\">\n",
       "      <th></th>\n",
       "      <th>user_id</th>\n",
       "      <th>month</th>\n",
       "      <th>subscription_type</th>\n",
       "      <th>count_trips</th>\n",
       "      <th>distance_sum</th>\n",
       "      <th>duration_sum</th>\n",
       "      <th>income</th>\n",
       "    </tr>\n",
       "  </thead>\n",
       "  <tbody>\n",
       "    <tr>\n",
       "      <th>0</th>\n",
       "      <td>1</td>\n",
       "      <td>1</td>\n",
       "      <td>ultra</td>\n",
       "      <td>2</td>\n",
       "      <td>7027.511294</td>\n",
       "      <td>42</td>\n",
       "      <td>451</td>\n",
       "    </tr>\n",
       "    <tr>\n",
       "      <th>1</th>\n",
       "      <td>1</td>\n",
       "      <td>4</td>\n",
       "      <td>ultra</td>\n",
       "      <td>1</td>\n",
       "      <td>754.159807</td>\n",
       "      <td>7</td>\n",
       "      <td>241</td>\n",
       "    </tr>\n",
       "    <tr>\n",
       "      <th>2</th>\n",
       "      <td>1</td>\n",
       "      <td>8</td>\n",
       "      <td>ultra</td>\n",
       "      <td>2</td>\n",
       "      <td>6723.470560</td>\n",
       "      <td>46</td>\n",
       "      <td>475</td>\n",
       "    </tr>\n",
       "    <tr>\n",
       "      <th>3</th>\n",
       "      <td>1</td>\n",
       "      <td>10</td>\n",
       "      <td>ultra</td>\n",
       "      <td>2</td>\n",
       "      <td>5809.911100</td>\n",
       "      <td>32</td>\n",
       "      <td>391</td>\n",
       "    </tr>\n",
       "    <tr>\n",
       "      <th>4</th>\n",
       "      <td>1</td>\n",
       "      <td>11</td>\n",
       "      <td>ultra</td>\n",
       "      <td>3</td>\n",
       "      <td>7003.499363</td>\n",
       "      <td>56</td>\n",
       "      <td>535</td>\n",
       "    </tr>\n",
       "  </tbody>\n",
       "</table>\n",
       "</div>"
      ],
      "text/plain": [
       "  user_id  month subscription_type  count_trips  distance_sum  duration_sum  \\\n",
       "0       1      1             ultra            2   7027.511294            42   \n",
       "1       1      4             ultra            1    754.159807             7   \n",
       "2       1      8             ultra            2   6723.470560            46   \n",
       "3       1     10             ultra            2   5809.911100            32   \n",
       "4       1     11             ultra            3   7003.499363            56   \n",
       "\n",
       "   income  \n",
       "0     451  \n",
       "1     241  \n",
       "2     475  \n",
       "3     391  \n",
       "4     535  "
      ]
     },
     "execution_count": 25,
     "metadata": {},
     "output_type": "execute_result"
    }
   ],
   "source": [
    "# создаем функцию income для подсчета выручки за месяц для отдельных пользователей\n",
    "def income(row):\n",
    "    if row['subscription_type'] == 'free':\n",
    "        return (subscriptions.loc[0, 'start_ride_price'] * row['count_trips'] \\\n",
    "                + subscriptions.loc[0, 'minute_price'] * row['duration_sum'])\n",
    "    else:\n",
    "        return (subscriptions.loc[1, 'start_ride_price'] * row['count_trips'] \\\n",
    "                + subscriptions.loc[1, 'minute_price'] * row['duration_sum'] \\\n",
    "                + subscriptions.loc[1, 'subscription_fee'])\n",
    "# добавляем столбец income в датафрейм data_income\n",
    "data_income['income'] = data_income.apply(income, axis=1)\n",
    "# выводим первые 10 строк датафрейма\n",
    "data_income.head(5)"
   ]
  },
  {
   "cell_type": "markdown",
   "id": "754bbf3d",
   "metadata": {},
   "source": [
    "В данном блоке была подсчитана выручка за месяц по отдельным пользователям"
   ]
  },
  {
   "cell_type": "markdown",
   "id": "41545ac0",
   "metadata": {},
   "source": [
    "## Проверка гипотез"
   ]
  },
  {
   "cell_type": "markdown",
   "id": "e2d57a75",
   "metadata": {},
   "source": [
    "### Проверка первой гипотезы"
   ]
  },
  {
   "cell_type": "markdown",
   "id": "8a87fa62",
   "metadata": {},
   "source": [
    "Необходимо проверить гипотезу: тратят ли пользователи с подпиской больше времени на поездки? Если да, то пользователи с подпиской могут быть «выгоднее» для компании.\n",
    "\n",
    "**Нулевая гипотеза:** среднее время поездки пользователей с подпиской равно среднему времени поездки пользователя без подписки\n",
    "\n",
    "**Альтернативная гипотеза:** среднее время поездки пользователей с подпиской больше среднего времени поездки пользователя без подписки\n",
    "\n",
    "Чтобы проверить эту гипотезу, необходимо сравнить среднее двух генеральных совокупностей, поэтому воспользуемся методом `.ttest_ind`:"
   ]
  },
  {
   "cell_type": "code",
   "execution_count": 26,
   "id": "4ce6ef37",
   "metadata": {},
   "outputs": [
    {
     "name": "stdout",
     "output_type": "stream",
     "text": [
      "p-value: 1.6162210195311063e-29\n",
      "Отвергаем нулевую гипотезу\n"
     ]
    }
   ],
   "source": [
    "# задаём уровень значимости 5%\n",
    "alpha = 0.05 \n",
    "# проводим ttest для двух выборок, в качестве альтернативной используем одностороннюю гипотезу «больше», \n",
    "# так как выборки разные по размеру используем equal_var=False\n",
    "results = st.ttest_ind(data_ultra['duration'], data_free['duration'], equal_var=False,  alternative='greater')\n",
    "print(f'p-value: {results.pvalue}')\n",
    "if results.pvalue < alpha:\n",
    "    print('Отвергаем нулевую гипотезу')\n",
    "else:\n",
    "    print('Нет оснований отвергнуть нулевую гипотезу')"
   ]
  },
  {
   "cell_type": "markdown",
   "id": "f8fb7128",
   "metadata": {},
   "source": [
    "Полученное значение p-value значительно меньше заданного уровня значимости, поэтому можно отвергнуть нулевую гипотезу. \n",
    "\n",
    "**Первая гипотеза подтвердилась:** есть основания говорить, что среднее время поездки пользователей с подпиской больше среднего времени поездки пользователя без подписки."
   ]
  },
  {
   "cell_type": "markdown",
   "id": "a891cec0",
   "metadata": {},
   "source": [
    "### Проверка второй гипотезы"
   ]
  },
  {
   "cell_type": "markdown",
   "id": "f3df64b1",
   "metadata": {},
   "source": [
    "Расстояние одной поездки в 3130 метров — оптимальное с точки зрения износа самоката. Необходимо проверить гипотезу: можно ли сказать, что среднее расстояние, которое проезжают пользователи с подпиской за одну поездку, не превышает 3130 метров?\n",
    "\n",
    "**Нулевая гипотеза:** среднее расстояние поездки пользователей с подпиской равно 3130 метров\n",
    "\n",
    "**Альтернативная гипотеза:** среднее расстояние поездки пользователей с подпиской больше 3130 метров\n",
    "\n",
    "Чтобы проверить эту гипотезу, необходимо сравнить среднее генеральной совокупности с числом, поэтому воспользуемся методом `.ttest_1sample`:"
   ]
  },
  {
   "cell_type": "code",
   "execution_count": 27,
   "id": "236edbdb",
   "metadata": {},
   "outputs": [
    {
     "name": "stdout",
     "output_type": "stream",
     "text": [
      "p-value: 0.9195368847849785\n",
      "Не отвергаем нулевую гипотезу\n"
     ]
    }
   ],
   "source": [
    "# оптимальное расстояние\n",
    "optimal_distance = 3130\n",
    "# уровень статистической значимости 5%\n",
    "alpha = 0.05\n",
    "# проводим ttest для одной выборки, в качестве альтернативной используем одностороннюю гипотезу «больше»\n",
    "results = st.ttest_1samp(data_ultra['distance'], optimal_distance, alternative='greater')\n",
    "print('p-value:', results.pvalue)\n",
    "if (results.pvalue < alpha):\n",
    "    print('Отвергаем нулевую гипотезу')\n",
    "else:\n",
    "    print('Не отвергаем нулевую гипотезу') "
   ]
  },
  {
   "cell_type": "markdown",
   "id": "f254400f",
   "metadata": {},
   "source": [
    "Полученное значение p-value больше уровня статистической значимости, поэтому нельзя отвергнуть нулевую теорию.\n",
    "\n",
    "**Вторая гипотеза не подтвердилась:** после проверки нельзя утверждать, что среднее расстояние, которое проезжают пользователи с подпиской за одну поездку, не превышает 3130 метров, поэтому можно сказать, что расстояние поездов является оптимальнм с точки зрения износа самоката."
   ]
  },
  {
   "cell_type": "markdown",
   "id": "d5d126fd",
   "metadata": {},
   "source": [
    "### Проверка третей гипотезы"
   ]
  },
  {
   "cell_type": "markdown",
   "id": "2559e126",
   "metadata": {},
   "source": [
    "Необходимо проверить гипотезу: будет ли помесячная выручка от пользователей с подпиской по месяцам выше, чем выручка от пользователей без подписки?\n",
    "\n",
    "**Нулевая гипотеза:** помесячная выручка от пользователей с подпиской по месяцам равна выручке от пользователей без подписки\n",
    "\n",
    "**Альтернативная гипотеза:** помесячная выручка от пользователей с подпиской по месяцам больше выручки от пользователей без подписки\n",
    "\n",
    "Чтобы проверить эту гипотезу, необходимо сравнить среднее двух генеральных совокупностей, поэтому воспользуемся методом `.ttest_ind`:"
   ]
  },
  {
   "cell_type": "code",
   "execution_count": 28,
   "id": "abc49c34",
   "metadata": {},
   "outputs": [
    {
     "name": "stdout",
     "output_type": "stream",
     "text": [
      "p-value: 2.0314113674863288e-30\n",
      "Отвергаем нулевую гипотезу\n"
     ]
    }
   ],
   "source": [
    "# задаём уровень значимости 5%\n",
    "alpha = 0.05 \n",
    "# проводим ttest для двух выборок, в качестве альтернативной используем одностороннюю гипотезу «больше»\n",
    "results = st.ttest_ind(data_income.query('subscription_type == \"ultra\"')['income'],\n",
    "                       data_income.query('subscription_type == \"free\"')['income'], \n",
    "                       alternative='greater'\n",
    "                      )\n",
    "print(f'p-value: {results.pvalue}')\n",
    "if results.pvalue < alpha:\n",
    "    print('Отвергаем нулевую гипотезу')\n",
    "else:\n",
    "    print('Нет оснований отвергнуть нулевую гипотезу')"
   ]
  },
  {
   "cell_type": "markdown",
   "id": "d1481c34",
   "metadata": {},
   "source": [
    "Полученное значение p-value значительно меньше заданного уровня значимости, поэтому можно отвергнуть нулевую гипотезу. \n",
    "\n",
    "**Третья гипотеза подтвердилась:** есть основания говорить, что месячная выручка от пользователей с подпиской по месяцам выше, чем выручка от пользователей без подписки."
   ]
  },
  {
   "cell_type": "markdown",
   "id": "cdef9bdf",
   "metadata": {},
   "source": [
    "### Вопрос"
   ]
  },
  {
   "cell_type": "markdown",
   "id": "cf6c0321",
   "metadata": {},
   "source": [
    "**Вопрос:** Представьте такую ситуацию: техническая команда сервиса обновила сервера, с которыми взаимодействует мобильное приложение. Она надеется, что из-за этого количество обращений в техподдержку значимо снизилось. Некоторый файл содержит для каждого пользователя данные о количестве обращений до обновления и после него. Какой тест вам понадобился бы для проверки этой гипотезы?"
   ]
  },
  {
   "cell_type": "markdown",
   "id": "770f949f",
   "metadata": {},
   "source": [
    "**Ответ:** Так как выборки зависимы, для проверки гипотезы необходимо воспользоваться методом `scipy.stats.ttest_rel()`, которому нужно передать парные выборки до и после изменения и указать `alternative='less'`,чтобы применить левосторонюю альтернативную гипотезу о том, что количество обращений до изменения больше, чем количество обращений после изменения."
   ]
  },
  {
   "cell_type": "markdown",
   "id": "61213c5e",
   "metadata": {},
   "source": [
    "## Распределения"
   ]
  },
  {
   "cell_type": "markdown",
   "id": "03166f46",
   "metadata": {},
   "source": [
    "### Задача №1"
   ]
  },
  {
   "cell_type": "markdown",
   "id": "e07bb73e",
   "metadata": {},
   "source": [
    "Нужно провести акцию с раздачей промокодов на один бесплатный месяц подписки, в рамках которой как минимум 100 существующих клиентов должны продлить эту подписку. То есть по завершении периода действия подписки пользователь может либо отказаться от неё, либо продлить, совершив соответствующий платёж. Эта акция уже проводилась ранее и по итогу выяснилось, что после бесплатного пробного периода подписку продлевают 10% пользователей. \n",
    "\n",
    "**Задача:** выяснить, какое минимальное количество промокодов нужно разослать, чтобы вероятность не выполнить план была примерно 5%. \n",
    "\n",
    "Для решения задачи необходимо апроксимировать биномиальное распределение нормальным, чтобы определить вероятность того, что меньше 100 пользователей продлили подписку с помощью метода `.cdf`. После нескольких попыток удалось подобрать оптимальное количество промокодов, которое необходимо для того, чтобы вероятность не выполнить план была примерно 5%:"
   ]
  },
  {
   "cell_type": "code",
   "execution_count": 29,
   "id": "3ef73955",
   "metadata": {},
   "outputs": [
    {
     "name": "stdout",
     "output_type": "stream",
     "text": [
      "Вероятность того, что меньше 100 пользователей продлили подписку: 5%\n"
     ]
    }
   ],
   "source": [
    "n = 1168 # количество промокодов \n",
    "p = 0.1 # вероятность продления подписки\n",
    "\n",
    "mu = n * p # мат. ожидание для нормального распределения\n",
    "sigma = (n * p * (1 - p))**0.5 # стандартное отклонение для нормального распределения\n",
    "\n",
    "distr = st.norm(mu, sigma)  # задаем нормальное распределение параметрами mu и sigma\n",
    "\n",
    "result = distr.cdf(100) # вероятность того, что меньше 100 пользователей продлили подписку\n",
    "\n",
    "print('Вероятность того, что меньше 100 пользователей продлили подписку:', \"{:.0%}\".format(result))"
   ]
  },
  {
   "cell_type": "code",
   "execution_count": 30,
   "id": "e3b919e4",
   "metadata": {},
   "outputs": [
    {
     "data": {
      "image/png": "[encoded data removed]",
      "text/plain": [
       "<Figure size 1080x576 with 1 Axes>"
      ]
     },
     "metadata": {
      "needs_background": "light"
     },
     "output_type": "display_data"
    }
   ],
   "source": [
    "x_axis = np.arange(0, 1168) # список чисел от 0 до 1168\n",
    "    \n",
    "n = 1168 # количество промокодов\n",
    "p = 0.1 # вероятность продления подписки\n",
    "\n",
    "mu = n * p # мат. ожидание для нормального распределения\n",
    "sigma = (n * p * (1 - p))**0.5 # стандартное отклонение для нормального распределения\n",
    "\n",
    "plt.figure(figsize=(15, 8)) # размер графика\n",
    "plt.title('График распределения вероятностей количества пользователей, которые продлили подписку') # название графика\n",
    "plt.grid(b=True) # сетка\n",
    "plt.xlim(60, 180) # ограничения по оси Х\n",
    "plt.plot(x_axis, norm.pdf(x_axis, mu, sigma))  # график\n",
    "plt.show()"
   ]
  },
  {
   "cell_type": "markdown",
   "id": "0d4873be",
   "metadata": {},
   "source": [
    "Необходимо разослать 1168 промокодов для того, чтобы вероятность того что менее 100 пользователй продлят подписку была примерно 5%, это видно и по гистограмме (площадь столбцов левее 100 пользователй примерно равня 0,05)."
   ]
  },
  {
   "cell_type": "markdown",
   "id": "30beea53",
   "metadata": {},
   "source": [
    "### Задача №2"
   ]
  },
  {
   "cell_type": "markdown",
   "id": "34ea7dea",
   "metadata": {},
   "source": [
    "Отдел маркетинга рассылает клиентам push-уведомления в мобильном приложении. Клиенты могут открыть его или не открывать. Известно, что уведомления открывают около 40 % получивших клиентов. Отдел планирует разослать 1 млн уведомлений. \n",
    "\n",
    "**Задача:** С помощью аппроксимации постройте примерный график распределения и оцените вероятность того, что уведомление откроют не более 399,5 тыс. пользователей. \n",
    "\n",
    "Для решения задачи необходимо апроксимировать биномиальное распределение нормальным, чтобы с помощью метода `.cdf` определить вероятность того, что не более 399,5 пользователей откроют уведомление:"
   ]
  },
  {
   "cell_type": "code",
   "execution_count": 31,
   "id": "9500ed3f",
   "metadata": {},
   "outputs": [
    {
     "name": "stdout",
     "output_type": "stream",
     "text": [
      "Вероятность того, что уведомление откроют не более 399,5 тыс. пользователей: 15.37%\n"
     ]
    }
   ],
   "source": [
    "n = 1000000 # количество push-уведомлений\n",
    "p = 0.4 # вероятность открытия push-уведомления\n",
    "\n",
    "mu = n * p # мат. ожидание для нормального распределения\n",
    "sigma = (n * p * (1 - p))**0.5 # стандартное отклонение для нормального распределения\n",
    "\n",
    "distr = st.norm(mu, sigma)  # задаем нормальное распределение параметрами mu и sigma\n",
    "\n",
    "result = distr.cdf(399500) # вероятность того, что уведомление откроют не более 399,5 тыс. пользователей\n",
    "\n",
    "print('Вероятность того, что уведомление откроют не более 399,5 тыс. пользователей:', \"{:.2%}\".format(result))"
   ]
  },
  {
   "cell_type": "code",
   "execution_count": 32,
   "id": "72da46a4",
   "metadata": {},
   "outputs": [
    {
     "data": {
      "image/png": "[encoded data removed]",
      "text/plain": [
       "<Figure size 1080x576 with 1 Axes>"
      ]
     },
     "metadata": {
      "needs_background": "light"
     },
     "output_type": "display_data"
    }
   ],
   "source": [
    "x_axis = np.arange(0, 1000000) # список чисел от 0 до 1000000\n",
    "    \n",
    "n = 1000000 # количество push-уведомлений\n",
    "p = 0.4 # вероятность открытия push-уведомления\n",
    "\n",
    "mu = n * p # мат. ожидание для нормального распределения\n",
    "sigma = (n * p * (1 - p))**0.5 # стандартное отклонение для нормального распределения\n",
    "\n",
    "plt.figure(figsize=(15, 8)) # размер графика\n",
    "plt.title('График распределения вероятности количества открытых push-уведомлений') # название графика\n",
    "plt.grid(b=True) # сетка\n",
    "plt.xlim(398000, 402000) # ограничения по оси Х\n",
    "plt.plot(x_axis, norm.pdf(x_axis, mu, sigma))  # график\n",
    "plt.show()"
   ]
  },
  {
   "cell_type": "markdown",
   "id": "4dbad486",
   "metadata": {},
   "source": [
    "Вероятность того, что push-уведомление откроют не более 399,5 тыс. пользователей равно 15.37%, что и видно на графике."
   ]
  },
  {
   "cell_type": "markdown",
   "id": "bb188bc2",
   "metadata": {},
   "source": [
    "## Общий вывод"
   ]
  },
  {
   "cell_type": "markdown",
   "id": "d2687d39",
   "metadata": {},
   "source": [
    "В проекте \"Исследование пользователей сервиса аренды самокатов GoFast\" проделана работа по изучению данных и их предобработке, а именно были:\n",
    "- заменены типы данных некоторых столбцов;\n",
    "- удалены дубликаты и аномалии;\n",
    "- добавлены необходимые для дальнейшего исследования столбцы.\n",
    "\n",
    "Затем данные были проанализированны и выявлено что:\n",
    "- в датасетах собраны данные по пользователям из 8 городов;\n",
    "- пользователей с подпиской меньше, чем без подписки;\n",
    "- возраст пользователей и длительность поездок распределена нормально с пиками 25 лет и 18 минут соответсвенно;\n",
    "- расстояния поездок имеют ярко выраженные пики: 0,6 км и 3 км.\n",
    "\n",
    "Потом все данные были сведены в один датасет и разделены на два разных датасета с подписчиками и без, после чего выявилось, что:\n",
    "- форма распределения расстояния повторяет общую, но первый пик у пользователей с подпиской дальше, чем у пользователей без подписки (1 км против 0,5 км);\n",
    "- форма распределения длительности поездок идентична для пользователей с подпиской и без.\n",
    "\n",
    "Также была рассчитана выручка от каждого пользователя по месяцам.\n",
    "\n",
    "Было проверено три гипотезы, две из которых подтвердились:\n",
    "- среднее время поездки пользователей с подпиской больше среднего времени поездки пользователя без подписки;\n",
    "- месячная выручка от пользователей с подпиской по месяцам выше, чем выручка от пользователей без подписки;\n",
    "\n",
    "и одна не подтвердилась:\n",
    "- среднее расстояние, которое проезжают пользователи с подпиской за одну поездку, не превышает 3130 метров.\n",
    "\n",
    "Еще было решено две задачи в ходе решения которых выяснено, что:\n",
    "- необходимо разослать 1168 промокодов для того, чтобы вероятность не выполнить план в 100 пользователй продливших подписку была примерно 5% (при вероятности продления подписки 10%);\n",
    "- вероятность того, что push-уведомление откроют не более 399,5 тыс. пользователей равно 15.37% (при 40% вероятности открытия push-уведомления и рассылке 1 млн. уведомлений)."
   ]
  }
 ],
 "metadata": {
  "ExecuteTimeLog": [
   {
    "duration": 1299,
    "start_time": "2023-12-02T14:06:02.592Z"
   },
   {
    "duration": 3,
    "start_time": "2023-12-02T14:07:13.014Z"
   },
   {
    "duration": 154,
    "start_time": "2023-12-02T14:11:29.753Z"
   },
   {
    "duration": 75,
    "start_time": "2023-12-02T14:11:45.590Z"
   },
   {
    "duration": 76,
    "start_time": "2023-12-02T14:11:55.238Z"
   },
   {
    "duration": 75,
    "start_time": "2023-12-02T14:12:09.221Z"
   },
   {
    "duration": 24,
    "start_time": "2023-12-02T14:13:59.420Z"
   },
   {
    "duration": 18,
    "start_time": "2023-12-02T14:14:17.498Z"
   },
   {
    "duration": 14,
    "start_time": "2023-12-02T14:14:46.034Z"
   },
   {
    "duration": 101,
    "start_time": "2023-12-02T14:19:26.696Z"
   },
   {
    "duration": 319,
    "start_time": "2023-12-02T14:19:32.830Z"
   },
   {
    "duration": 185,
    "start_time": "2023-12-02T14:20:00.660Z"
   },
   {
    "duration": 17475,
    "start_time": "2023-12-02T14:20:10.084Z"
   },
   {
    "duration": 17646,
    "start_time": "2023-12-02T14:20:27.899Z"
   },
   {
    "duration": 21,
    "start_time": "2023-12-02T14:21:42.835Z"
   },
   {
    "duration": 22,
    "start_time": "2023-12-02T14:22:07.730Z"
   },
   {
    "duration": 21,
    "start_time": "2023-12-02T14:22:26.545Z"
   },
   {
    "duration": 21,
    "start_time": "2023-12-02T14:22:48.098Z"
   },
   {
    "duration": 20,
    "start_time": "2023-12-02T14:22:58.897Z"
   },
   {
    "duration": 19,
    "start_time": "2023-12-02T14:34:25.003Z"
   },
   {
    "duration": 10,
    "start_time": "2023-12-02T14:34:28.059Z"
   },
   {
    "duration": 7,
    "start_time": "2023-12-02T14:34:45.707Z"
   },
   {
    "duration": 13,
    "start_time": "2023-12-02T14:34:47.586Z"
   },
   {
    "duration": 7,
    "start_time": "2023-12-02T14:35:43.587Z"
   },
   {
    "duration": 18,
    "start_time": "2023-12-02T14:36:00.073Z"
   },
   {
    "duration": 15,
    "start_time": "2023-12-02T14:36:04.403Z"
   },
   {
    "duration": 11,
    "start_time": "2023-12-02T14:36:18.074Z"
   },
   {
    "duration": 8,
    "start_time": "2023-12-02T14:36:54.409Z"
   },
   {
    "duration": 25,
    "start_time": "2023-12-02T14:36:59.704Z"
   },
   {
    "duration": 7,
    "start_time": "2023-12-02T14:40:13.989Z"
   },
   {
    "duration": 8,
    "start_time": "2023-12-02T14:40:49.045Z"
   },
   {
    "duration": 24,
    "start_time": "2023-12-02T14:40:49.463Z"
   },
   {
    "duration": 1010,
    "start_time": "2023-12-02T14:40:53.274Z"
   },
   {
    "duration": 80,
    "start_time": "2023-12-02T14:40:54.285Z"
   },
   {
    "duration": 20,
    "start_time": "2023-12-02T14:40:54.366Z"
   },
   {
    "duration": 32,
    "start_time": "2023-12-02T14:40:54.387Z"
   },
   {
    "duration": 25,
    "start_time": "2023-12-02T14:40:54.421Z"
   },
   {
    "duration": 4,
    "start_time": "2023-12-02T14:42:31.305Z"
   },
   {
    "duration": 92,
    "start_time": "2023-12-02T14:42:36.522Z"
   },
   {
    "duration": 5,
    "start_time": "2023-12-02T14:43:15.050Z"
   },
   {
    "duration": 8,
    "start_time": "2023-12-02T14:43:43.000Z"
   },
   {
    "duration": 6,
    "start_time": "2023-12-02T14:43:49.209Z"
   },
   {
    "duration": 7,
    "start_time": "2023-12-02T14:44:00.575Z"
   },
   {
    "duration": 10,
    "start_time": "2023-12-02T14:44:18.791Z"
   },
   {
    "duration": 27,
    "start_time": "2023-12-02T14:45:21.383Z"
   },
   {
    "duration": 14,
    "start_time": "2023-12-02T14:45:35.872Z"
   },
   {
    "duration": 10,
    "start_time": "2023-12-02T14:45:54.303Z"
   },
   {
    "duration": 12,
    "start_time": "2023-12-02T14:46:06.071Z"
   },
   {
    "duration": 14,
    "start_time": "2023-12-02T14:46:17.822Z"
   },
   {
    "duration": 16,
    "start_time": "2023-12-02T14:47:07.661Z"
   },
   {
    "duration": 79,
    "start_time": "2023-12-02T14:47:48.420Z"
   },
   {
    "duration": 77,
    "start_time": "2023-12-02T14:48:05.268Z"
   },
   {
    "duration": 66,
    "start_time": "2023-12-02T14:50:42.121Z"
   },
   {
    "duration": 73,
    "start_time": "2023-12-02T14:50:51.240Z"
   },
   {
    "duration": 80,
    "start_time": "2023-12-02T14:51:08.815Z"
   },
   {
    "duration": 8,
    "start_time": "2023-12-02T14:51:28.400Z"
   },
   {
    "duration": 8,
    "start_time": "2023-12-02T14:51:45.342Z"
   },
   {
    "duration": 6,
    "start_time": "2023-12-02T14:51:53.007Z"
   },
   {
    "duration": 6,
    "start_time": "2023-12-02T14:52:02.006Z"
   },
   {
    "duration": 10,
    "start_time": "2023-12-02T14:53:07.157Z"
   },
   {
    "duration": 8,
    "start_time": "2023-12-02T14:53:15.485Z"
   },
   {
    "duration": 8,
    "start_time": "2023-12-02T14:54:20.115Z"
   },
   {
    "duration": 9,
    "start_time": "2023-12-02T14:54:25.931Z"
   },
   {
    "duration": 13,
    "start_time": "2023-12-02T14:57:23.008Z"
   },
   {
    "duration": 4,
    "start_time": "2023-12-02T14:57:40.065Z"
   },
   {
    "duration": 6,
    "start_time": "2023-12-02T14:58:31.438Z"
   },
   {
    "duration": 13,
    "start_time": "2023-12-02T14:58:37.399Z"
   },
   {
    "duration": 16,
    "start_time": "2023-12-02T14:58:47.111Z"
   },
   {
    "duration": 1048,
    "start_time": "2023-12-02T14:58:51.561Z"
   },
   {
    "duration": 82,
    "start_time": "2023-12-02T14:58:52.610Z"
   },
   {
    "duration": 24,
    "start_time": "2023-12-02T14:58:52.694Z"
   },
   {
    "duration": 14,
    "start_time": "2023-12-02T14:58:52.720Z"
   },
   {
    "duration": 16,
    "start_time": "2023-12-02T14:58:52.735Z"
   },
   {
    "duration": 29,
    "start_time": "2023-12-02T14:58:52.753Z"
   },
   {
    "duration": 8,
    "start_time": "2023-12-02T15:00:31.990Z"
   },
   {
    "duration": 13,
    "start_time": "2023-12-02T15:02:42.843Z"
   },
   {
    "duration": 12,
    "start_time": "2023-12-02T15:04:46.121Z"
   },
   {
    "duration": 10,
    "start_time": "2023-12-02T15:04:54.328Z"
   },
   {
    "duration": 4,
    "start_time": "2023-12-02T15:05:05.008Z"
   },
   {
    "duration": 5,
    "start_time": "2023-12-02T15:13:41.653Z"
   },
   {
    "duration": 10,
    "start_time": "2023-12-02T15:13:47.645Z"
   },
   {
    "duration": 15368,
    "start_time": "2023-12-02T15:14:29.613Z"
   },
   {
    "duration": 99,
    "start_time": "2023-12-02T15:14:49.852Z"
   },
   {
    "duration": 25,
    "start_time": "2023-12-02T15:15:18.924Z"
   },
   {
    "duration": 15802,
    "start_time": "2023-12-02T15:15:37.013Z"
   },
   {
    "duration": 15593,
    "start_time": "2023-12-02T15:16:20.491Z"
   },
   {
    "duration": 4,
    "start_time": "2023-12-02T15:16:43.298Z"
   },
   {
    "duration": 8,
    "start_time": "2023-12-02T15:18:03.704Z"
   },
   {
    "duration": 9,
    "start_time": "2023-12-02T15:18:16.033Z"
   },
   {
    "duration": 121,
    "start_time": "2023-12-02T15:18:24.952Z"
   },
   {
    "duration": 116,
    "start_time": "2023-12-02T15:18:38.088Z"
   },
   {
    "duration": 131,
    "start_time": "2023-12-02T15:19:26.215Z"
   },
   {
    "duration": 4,
    "start_time": "2023-12-02T15:20:02.175Z"
   },
   {
    "duration": 9,
    "start_time": "2023-12-02T15:20:14.366Z"
   },
   {
    "duration": 6,
    "start_time": "2023-12-02T15:20:23.078Z"
   },
   {
    "duration": 4,
    "start_time": "2023-12-02T15:20:30.662Z"
   },
   {
    "duration": 5,
    "start_time": "2023-12-02T15:20:40.813Z"
   },
   {
    "duration": 11,
    "start_time": "2023-12-02T15:22:38.116Z"
   },
   {
    "duration": 8,
    "start_time": "2023-12-02T15:22:52.362Z"
   },
   {
    "duration": 6,
    "start_time": "2023-12-02T15:22:57.394Z"
   },
   {
    "duration": 114,
    "start_time": "2023-12-02T15:23:09.948Z"
   },
   {
    "duration": 93,
    "start_time": "2023-12-02T15:26:19.319Z"
   },
   {
    "duration": 167,
    "start_time": "2023-12-02T15:26:29.016Z"
   },
   {
    "duration": 159,
    "start_time": "2023-12-02T15:27:20.606Z"
   },
   {
    "duration": 156,
    "start_time": "2023-12-02T15:27:31.357Z"
   },
   {
    "duration": 139,
    "start_time": "2023-12-02T15:27:50.798Z"
   },
   {
    "duration": 137,
    "start_time": "2023-12-02T15:28:52.278Z"
   },
   {
    "duration": 156,
    "start_time": "2023-12-02T15:30:42.370Z"
   },
   {
    "duration": 142,
    "start_time": "2023-12-02T15:31:23.185Z"
   },
   {
    "duration": 145,
    "start_time": "2023-12-02T15:31:32.081Z"
   },
   {
    "duration": 146,
    "start_time": "2023-12-02T15:31:43.705Z"
   },
   {
    "duration": 146,
    "start_time": "2023-12-02T15:31:49.536Z"
   },
   {
    "duration": 147,
    "start_time": "2023-12-02T15:34:02.197Z"
   },
   {
    "duration": 146,
    "start_time": "2023-12-02T15:34:24.133Z"
   },
   {
    "duration": 140,
    "start_time": "2023-12-02T15:36:50.508Z"
   },
   {
    "duration": 152,
    "start_time": "2023-12-02T15:39:22.704Z"
   },
   {
    "duration": 1988,
    "start_time": "2023-12-02T15:41:11.926Z"
   },
   {
    "duration": 160,
    "start_time": "2023-12-02T15:42:47.308Z"
   },
   {
    "duration": 148,
    "start_time": "2023-12-02T15:43:14.947Z"
   },
   {
    "duration": 78,
    "start_time": "2023-12-02T15:45:43.041Z"
   },
   {
    "duration": 74,
    "start_time": "2023-12-02T15:45:46.648Z"
   },
   {
    "duration": 88,
    "start_time": "2023-12-02T15:46:00.361Z"
   },
   {
    "duration": 81,
    "start_time": "2023-12-02T15:46:09.768Z"
   },
   {
    "duration": 126,
    "start_time": "2023-12-02T15:46:37.735Z"
   },
   {
    "duration": 144,
    "start_time": "2023-12-02T15:46:43.785Z"
   },
   {
    "duration": 146,
    "start_time": "2023-12-02T15:47:42.774Z"
   },
   {
    "duration": 157,
    "start_time": "2023-12-02T15:49:06.085Z"
   },
   {
    "duration": 4,
    "start_time": "2023-12-02T15:49:37.756Z"
   },
   {
    "duration": 4,
    "start_time": "2023-12-02T15:49:42.436Z"
   },
   {
    "duration": 70,
    "start_time": "2023-12-02T15:53:05.616Z"
   },
   {
    "duration": 9,
    "start_time": "2023-12-02T15:53:11.497Z"
   },
   {
    "duration": 156,
    "start_time": "2023-12-02T15:53:16.735Z"
   },
   {
    "duration": 110,
    "start_time": "2023-12-02T15:55:21.885Z"
   },
   {
    "duration": 154,
    "start_time": "2023-12-02T15:55:31.749Z"
   },
   {
    "duration": 148,
    "start_time": "2023-12-02T15:56:51.980Z"
   },
   {
    "duration": 139,
    "start_time": "2023-12-02T15:56:57.725Z"
   },
   {
    "duration": 140,
    "start_time": "2023-12-02T15:57:31.292Z"
   },
   {
    "duration": 141,
    "start_time": "2023-12-02T15:57:50.083Z"
   },
   {
    "duration": 146,
    "start_time": "2023-12-02T15:58:24.026Z"
   },
   {
    "duration": 147,
    "start_time": "2023-12-02T15:58:33.785Z"
   },
   {
    "duration": 150,
    "start_time": "2023-12-02T15:59:01.282Z"
   },
   {
    "duration": 145,
    "start_time": "2023-12-02T15:59:14.065Z"
   },
   {
    "duration": 9,
    "start_time": "2023-12-02T16:05:53.441Z"
   },
   {
    "duration": 6,
    "start_time": "2023-12-02T16:07:46.831Z"
   },
   {
    "duration": 12,
    "start_time": "2023-12-02T16:09:34.957Z"
   },
   {
    "duration": 11,
    "start_time": "2023-12-02T16:09:49.582Z"
   },
   {
    "duration": 12,
    "start_time": "2023-12-02T16:10:15.437Z"
   },
   {
    "duration": 17,
    "start_time": "2023-12-02T16:10:49.180Z"
   },
   {
    "duration": 6,
    "start_time": "2023-12-02T16:10:57.812Z"
   },
   {
    "duration": 6,
    "start_time": "2023-12-02T16:11:19.748Z"
   },
   {
    "duration": 7,
    "start_time": "2023-12-02T16:11:45.531Z"
   },
   {
    "duration": 71,
    "start_time": "2023-12-02T16:12:10.451Z"
   },
   {
    "duration": 7,
    "start_time": "2023-12-02T16:12:45.386Z"
   },
   {
    "duration": 75,
    "start_time": "2023-12-02T16:12:57.881Z"
   },
   {
    "duration": 7,
    "start_time": "2023-12-02T16:13:12.329Z"
   },
   {
    "duration": 6,
    "start_time": "2023-12-02T16:13:40.385Z"
   },
   {
    "duration": 116,
    "start_time": "2023-12-02T16:15:03.959Z"
   },
   {
    "duration": 126,
    "start_time": "2023-12-02T16:15:34.622Z"
   },
   {
    "duration": 5,
    "start_time": "2023-12-02T16:16:06.390Z"
   },
   {
    "duration": 5,
    "start_time": "2023-12-02T16:16:35.053Z"
   },
   {
    "duration": 120,
    "start_time": "2023-12-02T16:16:40.301Z"
   },
   {
    "duration": 127,
    "start_time": "2023-12-02T16:16:46.453Z"
   },
   {
    "duration": 5,
    "start_time": "2023-12-02T16:17:00.093Z"
   },
   {
    "duration": 139,
    "start_time": "2023-12-02T16:17:06.621Z"
   },
   {
    "duration": 123,
    "start_time": "2023-12-02T16:17:11.069Z"
   },
   {
    "duration": 127,
    "start_time": "2023-12-02T16:17:27.925Z"
   },
   {
    "duration": 129,
    "start_time": "2023-12-02T16:18:04.787Z"
   },
   {
    "duration": 131,
    "start_time": "2023-12-02T16:18:28.443Z"
   },
   {
    "duration": 126,
    "start_time": "2023-12-02T16:18:37.043Z"
   },
   {
    "duration": 461,
    "start_time": "2023-12-02T16:19:52.939Z"
   },
   {
    "duration": 132,
    "start_time": "2023-12-02T16:20:11.291Z"
   },
   {
    "duration": 142,
    "start_time": "2023-12-02T16:20:31.954Z"
   },
   {
    "duration": 156,
    "start_time": "2023-12-02T16:21:10.553Z"
   },
   {
    "duration": 144,
    "start_time": "2023-12-02T16:21:48.417Z"
   },
   {
    "duration": 159,
    "start_time": "2023-12-02T16:21:59.463Z"
   },
   {
    "duration": 148,
    "start_time": "2023-12-02T16:22:36.040Z"
   },
   {
    "duration": 63,
    "start_time": "2023-12-02T16:25:23.869Z"
   },
   {
    "duration": 107,
    "start_time": "2023-12-02T16:25:35.684Z"
   },
   {
    "duration": 122,
    "start_time": "2023-12-02T16:26:24.028Z"
   },
   {
    "duration": 101,
    "start_time": "2023-12-02T16:26:44.707Z"
   },
   {
    "duration": 102,
    "start_time": "2023-12-02T16:26:57.530Z"
   },
   {
    "duration": 173,
    "start_time": "2023-12-02T16:28:51.816Z"
   },
   {
    "duration": 157,
    "start_time": "2023-12-02T16:29:01.744Z"
   },
   {
    "duration": 385,
    "start_time": "2023-12-02T16:29:05.759Z"
   },
   {
    "duration": 176,
    "start_time": "2023-12-02T16:29:16.528Z"
   },
   {
    "duration": 193,
    "start_time": "2023-12-02T16:29:37.671Z"
   },
   {
    "duration": 129,
    "start_time": "2023-12-02T16:30:34.478Z"
   },
   {
    "duration": 105,
    "start_time": "2023-12-02T16:30:43.054Z"
   },
   {
    "duration": 108,
    "start_time": "2023-12-02T16:31:23.477Z"
   },
   {
    "duration": 105,
    "start_time": "2023-12-02T16:31:41.604Z"
   },
   {
    "duration": 115,
    "start_time": "2023-12-02T16:32:31.956Z"
   },
   {
    "duration": 199,
    "start_time": "2023-12-02T16:35:12.713Z"
   },
   {
    "duration": 599,
    "start_time": "2023-12-02T16:35:27.881Z"
   },
   {
    "duration": 197,
    "start_time": "2023-12-02T16:35:51.881Z"
   },
   {
    "duration": 168,
    "start_time": "2023-12-02T16:35:55.488Z"
   },
   {
    "duration": 136,
    "start_time": "2023-12-02T16:36:00.111Z"
   },
   {
    "duration": 172,
    "start_time": "2023-12-02T16:36:04.592Z"
   },
   {
    "duration": 227,
    "start_time": "2023-12-02T16:36:10.087Z"
   },
   {
    "duration": 174,
    "start_time": "2023-12-02T16:36:16.023Z"
   },
   {
    "duration": 529,
    "start_time": "2023-12-02T16:36:24.439Z"
   },
   {
    "duration": 175,
    "start_time": "2023-12-02T16:40:42.651Z"
   },
   {
    "duration": 202,
    "start_time": "2023-12-02T16:43:59.343Z"
   },
   {
    "duration": 182,
    "start_time": "2023-12-02T16:44:08.486Z"
   },
   {
    "duration": 15,
    "start_time": "2023-12-02T16:45:48.532Z"
   },
   {
    "duration": 14,
    "start_time": "2023-12-02T16:46:11.732Z"
   },
   {
    "duration": 15,
    "start_time": "2023-12-02T16:46:48.380Z"
   },
   {
    "duration": 14,
    "start_time": "2023-12-02T16:47:04.188Z"
   },
   {
    "duration": 14,
    "start_time": "2023-12-02T16:47:06.786Z"
   },
   {
    "duration": 15,
    "start_time": "2023-12-02T16:47:19.760Z"
   },
   {
    "duration": 15,
    "start_time": "2023-12-02T16:47:44.179Z"
   },
   {
    "duration": 15,
    "start_time": "2023-12-02T16:47:49.833Z"
   },
   {
    "duration": 14,
    "start_time": "2023-12-02T16:47:57.561Z"
   },
   {
    "duration": 16,
    "start_time": "2023-12-02T16:50:28.830Z"
   },
   {
    "duration": 6,
    "start_time": "2023-12-02T16:53:58.410Z"
   },
   {
    "duration": 16,
    "start_time": "2023-12-02T16:55:21.296Z"
   },
   {
    "duration": 13,
    "start_time": "2023-12-02T16:55:30.080Z"
   },
   {
    "duration": 13,
    "start_time": "2023-12-02T16:55:52.669Z"
   },
   {
    "duration": 12,
    "start_time": "2023-12-02T16:56:28.791Z"
   },
   {
    "duration": 11,
    "start_time": "2023-12-02T16:58:29.212Z"
   },
   {
    "duration": 9,
    "start_time": "2023-12-02T16:59:14.731Z"
   },
   {
    "duration": 10,
    "start_time": "2023-12-02T16:59:21.818Z"
   },
   {
    "duration": 10,
    "start_time": "2023-12-02T16:59:41.939Z"
   },
   {
    "duration": 23,
    "start_time": "2023-12-02T17:00:45.353Z"
   },
   {
    "duration": 22,
    "start_time": "2023-12-02T17:05:11.668Z"
   },
   {
    "duration": 12,
    "start_time": "2023-12-02T17:07:16.186Z"
   },
   {
    "duration": 6,
    "start_time": "2023-12-02T17:12:51.997Z"
   },
   {
    "duration": 11,
    "start_time": "2023-12-02T17:13:22.938Z"
   },
   {
    "duration": 5,
    "start_time": "2023-12-02T17:15:17.616Z"
   },
   {
    "duration": 7,
    "start_time": "2023-12-02T17:16:02.768Z"
   },
   {
    "duration": 7,
    "start_time": "2023-12-02T17:16:50.279Z"
   },
   {
    "duration": 7,
    "start_time": "2023-12-02T17:17:02.319Z"
   },
   {
    "duration": 13,
    "start_time": "2023-12-02T17:17:37.701Z"
   },
   {
    "duration": 1050,
    "start_time": "2023-12-02T17:23:20.344Z"
   },
   {
    "duration": 82,
    "start_time": "2023-12-02T17:23:21.395Z"
   },
   {
    "duration": 20,
    "start_time": "2023-12-02T17:23:21.478Z"
   },
   {
    "duration": 19,
    "start_time": "2023-12-02T17:23:21.500Z"
   },
   {
    "duration": 8,
    "start_time": "2023-12-02T17:23:21.521Z"
   },
   {
    "duration": 17,
    "start_time": "2023-12-02T17:23:21.531Z"
   },
   {
    "duration": 11,
    "start_time": "2023-12-02T17:23:21.549Z"
   },
   {
    "duration": 164,
    "start_time": "2023-12-02T17:23:21.561Z"
   },
   {
    "duration": 117,
    "start_time": "2023-12-02T17:23:21.726Z"
   },
   {
    "duration": 180,
    "start_time": "2023-12-02T17:23:21.845Z"
   },
   {
    "duration": 184,
    "start_time": "2023-12-02T17:23:22.026Z"
   },
   {
    "duration": 182,
    "start_time": "2023-12-02T17:23:22.211Z"
   },
   {
    "duration": 11,
    "start_time": "2023-12-02T17:23:22.395Z"
   },
   {
    "duration": 22,
    "start_time": "2023-12-02T17:23:22.407Z"
   },
   {
    "duration": 14,
    "start_time": "2023-12-02T17:23:22.431Z"
   },
   {
    "duration": 229,
    "start_time": "2023-12-02T17:23:22.447Z"
   },
   {
    "duration": 889,
    "start_time": "2023-12-02T17:25:46.803Z"
   },
   {
    "duration": 133,
    "start_time": "2023-12-02T17:28:13.808Z"
   },
   {
    "duration": 820,
    "start_time": "2023-12-02T17:28:44.632Z"
   },
   {
    "duration": 831,
    "start_time": "2023-12-02T17:28:57.231Z"
   },
   {
    "duration": 882,
    "start_time": "2023-12-02T17:31:00.341Z"
   },
   {
    "duration": 996,
    "start_time": "2023-12-02T17:33:07.411Z"
   },
   {
    "duration": 84,
    "start_time": "2023-12-02T17:33:08.409Z"
   },
   {
    "duration": 22,
    "start_time": "2023-12-02T17:33:08.495Z"
   },
   {
    "duration": 905,
    "start_time": "2023-12-02T17:33:08.519Z"
   },
   {
    "duration": 14,
    "start_time": "2023-12-02T17:33:09.426Z"
   },
   {
    "duration": 8,
    "start_time": "2023-12-02T17:33:09.442Z"
   },
   {
    "duration": 6,
    "start_time": "2023-12-02T17:33:09.452Z"
   },
   {
    "duration": 4,
    "start_time": "2023-12-02T17:33:09.459Z"
   },
   {
    "duration": 151,
    "start_time": "2023-12-02T17:33:09.469Z"
   },
   {
    "duration": 118,
    "start_time": "2023-12-02T17:33:09.623Z"
   },
   {
    "duration": 168,
    "start_time": "2023-12-02T17:33:09.742Z"
   },
   {
    "duration": 183,
    "start_time": "2023-12-02T17:33:09.911Z"
   },
   {
    "duration": 240,
    "start_time": "2023-12-02T17:33:10.096Z"
   },
   {
    "duration": 11,
    "start_time": "2023-12-02T17:33:10.338Z"
   },
   {
    "duration": 6,
    "start_time": "2023-12-02T17:33:10.350Z"
   },
   {
    "duration": 13,
    "start_time": "2023-12-02T17:33:10.370Z"
   },
   {
    "duration": 859,
    "start_time": "2023-12-02T17:33:10.385Z"
   },
   {
    "duration": 143,
    "start_time": "2023-12-02T17:33:11.246Z"
   },
   {
    "duration": 207,
    "start_time": "2023-12-02T17:33:11.391Z"
   },
   {
    "duration": 21,
    "start_time": "2023-12-02T17:37:06.311Z"
   },
   {
    "duration": 12,
    "start_time": "2023-12-02T17:59:57.310Z"
   },
   {
    "duration": 5,
    "start_time": "2023-12-02T18:03:16.716Z"
   },
   {
    "duration": 16,
    "start_time": "2023-12-02T18:07:35.945Z"
   },
   {
    "duration": 14,
    "start_time": "2023-12-02T18:08:02.031Z"
   },
   {
    "duration": 6,
    "start_time": "2023-12-02T18:08:29.958Z"
   },
   {
    "duration": 6,
    "start_time": "2023-12-02T18:09:42.501Z"
   },
   {
    "duration": 7,
    "start_time": "2023-12-02T18:10:30.659Z"
   },
   {
    "duration": 1076,
    "start_time": "2023-12-02T18:10:33.835Z"
   },
   {
    "duration": 83,
    "start_time": "2023-12-02T18:10:34.913Z"
   },
   {
    "duration": 22,
    "start_time": "2023-12-02T18:10:34.997Z"
   },
   {
    "duration": 916,
    "start_time": "2023-12-02T18:10:35.020Z"
   },
   {
    "duration": 15,
    "start_time": "2023-12-02T18:10:35.938Z"
   },
   {
    "duration": 32,
    "start_time": "2023-12-02T18:10:35.954Z"
   },
   {
    "duration": 32,
    "start_time": "2023-12-02T18:10:35.987Z"
   },
   {
    "duration": 26,
    "start_time": "2023-12-02T18:10:36.021Z"
   },
   {
    "duration": 30,
    "start_time": "2023-12-02T18:10:36.048Z"
   },
   {
    "duration": 43,
    "start_time": "2023-12-02T18:10:36.081Z"
   },
   {
    "duration": 25,
    "start_time": "2023-12-02T18:10:36.125Z"
   },
   {
    "duration": 175,
    "start_time": "2023-12-02T18:10:36.151Z"
   },
   {
    "duration": 110,
    "start_time": "2023-12-02T18:10:36.328Z"
   },
   {
    "duration": 171,
    "start_time": "2023-12-02T18:10:36.440Z"
   },
   {
    "duration": 195,
    "start_time": "2023-12-02T18:10:36.612Z"
   },
   {
    "duration": 226,
    "start_time": "2023-12-02T18:10:36.809Z"
   },
   {
    "duration": 11,
    "start_time": "2023-12-02T18:10:37.037Z"
   },
   {
    "duration": 25,
    "start_time": "2023-12-02T18:10:37.050Z"
   },
   {
    "duration": 26,
    "start_time": "2023-12-02T18:10:37.077Z"
   },
   {
    "duration": 838,
    "start_time": "2023-12-02T18:10:37.104Z"
   },
   {
    "duration": 146,
    "start_time": "2023-12-02T18:10:37.943Z"
   },
   {
    "duration": 206,
    "start_time": "2023-12-02T18:10:38.091Z"
   },
   {
    "duration": 1343,
    "start_time": "2023-12-02T18:13:18.312Z"
   },
   {
    "duration": 192,
    "start_time": "2023-12-02T18:13:41.649Z"
   },
   {
    "duration": 203,
    "start_time": "2023-12-02T18:13:46.616Z"
   },
   {
    "duration": 212,
    "start_time": "2023-12-02T18:15:08.286Z"
   },
   {
    "duration": 190,
    "start_time": "2023-12-02T18:20:11.609Z"
   },
   {
    "duration": 1055,
    "start_time": "2023-12-02T18:20:15.655Z"
   },
   {
    "duration": 84,
    "start_time": "2023-12-02T18:20:16.713Z"
   },
   {
    "duration": 20,
    "start_time": "2023-12-02T18:20:16.801Z"
   },
   {
    "duration": 903,
    "start_time": "2023-12-02T18:20:16.822Z"
   },
   {
    "duration": 17,
    "start_time": "2023-12-02T18:20:17.726Z"
   },
   {
    "duration": 11,
    "start_time": "2023-12-02T18:20:17.744Z"
   },
   {
    "duration": 30,
    "start_time": "2023-12-02T18:20:17.757Z"
   },
   {
    "duration": 60,
    "start_time": "2023-12-02T18:20:17.789Z"
   },
   {
    "duration": 5,
    "start_time": "2023-12-02T18:20:17.852Z"
   },
   {
    "duration": 204,
    "start_time": "2023-12-02T18:20:17.858Z"
   },
   {
    "duration": 7,
    "start_time": "2023-12-02T18:20:18.063Z"
   },
   {
    "duration": 158,
    "start_time": "2023-12-02T18:20:18.071Z"
   },
   {
    "duration": 111,
    "start_time": "2023-12-02T18:20:18.231Z"
   },
   {
    "duration": 164,
    "start_time": "2023-12-02T18:20:18.344Z"
   },
   {
    "duration": 184,
    "start_time": "2023-12-02T18:20:18.510Z"
   },
   {
    "duration": 233,
    "start_time": "2023-12-02T18:20:18.696Z"
   },
   {
    "duration": 23,
    "start_time": "2023-12-02T18:27:54.912Z"
   },
   {
    "duration": 107,
    "start_time": "2023-12-02T18:29:17.752Z"
   },
   {
    "duration": 17,
    "start_time": "2023-12-02T18:29:34.174Z"
   },
   {
    "duration": 30,
    "start_time": "2023-12-02T18:29:38.646Z"
   },
   {
    "duration": 31,
    "start_time": "2023-12-02T18:29:43.006Z"
   },
   {
    "duration": 30,
    "start_time": "2023-12-02T18:30:09.102Z"
   },
   {
    "duration": 31,
    "start_time": "2023-12-02T18:31:38.315Z"
   },
   {
    "duration": 25,
    "start_time": "2023-12-02T18:32:34.610Z"
   },
   {
    "duration": 23,
    "start_time": "2023-12-02T18:32:56.585Z"
   },
   {
    "duration": 25,
    "start_time": "2023-12-02T18:33:24.707Z"
   },
   {
    "duration": 22,
    "start_time": "2023-12-02T18:33:30.578Z"
   },
   {
    "duration": 30,
    "start_time": "2023-12-02T18:33:43.690Z"
   },
   {
    "duration": 1298,
    "start_time": "2023-12-03T07:31:58.693Z"
   },
   {
    "duration": 322,
    "start_time": "2023-12-03T07:31:59.993Z"
   },
   {
    "duration": 27,
    "start_time": "2023-12-03T07:32:00.317Z"
   },
   {
    "duration": 1078,
    "start_time": "2023-12-03T07:32:00.346Z"
   },
   {
    "duration": 16,
    "start_time": "2023-12-03T07:32:01.426Z"
   },
   {
    "duration": 16,
    "start_time": "2023-12-03T07:32:01.443Z"
   },
   {
    "duration": 26,
    "start_time": "2023-12-03T07:32:01.460Z"
   },
   {
    "duration": 60,
    "start_time": "2023-12-03T07:32:01.487Z"
   },
   {
    "duration": 38,
    "start_time": "2023-12-03T07:32:01.549Z"
   },
   {
    "duration": 240,
    "start_time": "2023-12-03T07:32:01.589Z"
   },
   {
    "duration": 7,
    "start_time": "2023-12-03T07:32:01.831Z"
   },
   {
    "duration": 187,
    "start_time": "2023-12-03T07:32:01.840Z"
   },
   {
    "duration": 130,
    "start_time": "2023-12-03T07:32:02.029Z"
   },
   {
    "duration": 188,
    "start_time": "2023-12-03T07:32:02.161Z"
   },
   {
    "duration": 291,
    "start_time": "2023-12-03T07:32:02.351Z"
   },
   {
    "duration": 193,
    "start_time": "2023-12-03T07:32:02.643Z"
   },
   {
    "duration": 34,
    "start_time": "2023-12-03T07:32:02.837Z"
   },
   {
    "duration": 43,
    "start_time": "2023-12-03T07:32:02.872Z"
   },
   {
    "duration": 25,
    "start_time": "2023-12-03T07:32:02.917Z"
   },
   {
    "duration": 145,
    "start_time": "2023-12-03T07:59:51.597Z"
   },
   {
    "duration": 233,
    "start_time": "2023-12-03T08:00:04.365Z"
   },
   {
    "duration": 246,
    "start_time": "2023-12-03T08:01:29.763Z"
   },
   {
    "duration": 269,
    "start_time": "2023-12-03T08:03:01.906Z"
   },
   {
    "duration": 253,
    "start_time": "2023-12-03T08:03:19.273Z"
   },
   {
    "duration": 324,
    "start_time": "2023-12-03T08:03:28.048Z"
   },
   {
    "duration": 267,
    "start_time": "2023-12-03T08:03:34.904Z"
   },
   {
    "duration": 256,
    "start_time": "2023-12-03T08:03:41.312Z"
   },
   {
    "duration": 248,
    "start_time": "2023-12-03T08:03:47.560Z"
   },
   {
    "duration": 243,
    "start_time": "2023-12-03T08:03:51.873Z"
   },
   {
    "duration": 1042,
    "start_time": "2023-12-03T08:04:16.927Z"
   },
   {
    "duration": 85,
    "start_time": "2023-12-03T08:04:17.971Z"
   },
   {
    "duration": 22,
    "start_time": "2023-12-03T08:04:18.057Z"
   },
   {
    "duration": 1003,
    "start_time": "2023-12-03T08:04:18.082Z"
   },
   {
    "duration": 18,
    "start_time": "2023-12-03T08:04:19.087Z"
   },
   {
    "duration": 11,
    "start_time": "2023-12-03T08:04:19.107Z"
   },
   {
    "duration": 5,
    "start_time": "2023-12-03T08:04:19.120Z"
   },
   {
    "duration": 12,
    "start_time": "2023-12-03T08:04:19.127Z"
   },
   {
    "duration": 7,
    "start_time": "2023-12-03T08:04:19.141Z"
   },
   {
    "duration": 245,
    "start_time": "2023-12-03T08:04:19.151Z"
   },
   {
    "duration": 17,
    "start_time": "2023-12-03T08:04:19.398Z"
   },
   {
    "duration": 167,
    "start_time": "2023-12-03T08:04:19.417Z"
   },
   {
    "duration": 123,
    "start_time": "2023-12-03T08:04:19.585Z"
   },
   {
    "duration": 184,
    "start_time": "2023-12-03T08:04:19.709Z"
   },
   {
    "duration": 213,
    "start_time": "2023-12-03T08:04:19.894Z"
   },
   {
    "duration": 266,
    "start_time": "2023-12-03T08:04:20.108Z"
   },
   {
    "duration": 40,
    "start_time": "2023-12-03T08:04:20.376Z"
   },
   {
    "duration": 26,
    "start_time": "2023-12-03T08:04:20.418Z"
   },
   {
    "duration": 37,
    "start_time": "2023-12-03T08:04:20.446Z"
   },
   {
    "duration": 242,
    "start_time": "2023-12-03T08:04:20.485Z"
   },
   {
    "duration": 253,
    "start_time": "2023-12-03T08:04:20.729Z"
   },
   {
    "duration": 93,
    "start_time": "2023-12-03T08:08:08.547Z"
   },
   {
    "duration": 45,
    "start_time": "2023-12-03T08:08:21.307Z"
   },
   {
    "duration": 25,
    "start_time": "2023-12-03T08:08:33.851Z"
   },
   {
    "duration": 27,
    "start_time": "2023-12-03T08:10:14.650Z"
   },
   {
    "duration": 16,
    "start_time": "2023-12-03T08:10:20.801Z"
   },
   {
    "duration": 23,
    "start_time": "2023-12-03T08:11:54.281Z"
   },
   {
    "duration": 16,
    "start_time": "2023-12-03T08:12:01.167Z"
   },
   {
    "duration": 16,
    "start_time": "2023-12-03T08:15:30.466Z"
   },
   {
    "duration": 29,
    "start_time": "2023-12-03T08:16:23.097Z"
   },
   {
    "duration": 29,
    "start_time": "2023-12-03T08:16:55.321Z"
   },
   {
    "duration": 29,
    "start_time": "2023-12-03T08:17:45.200Z"
   },
   {
    "duration": 1068,
    "start_time": "2023-12-03T08:25:50.183Z"
   },
   {
    "duration": 251,
    "start_time": "2023-12-03T08:26:07.142Z"
   },
   {
    "duration": 254,
    "start_time": "2023-12-03T08:30:16.860Z"
   },
   {
    "duration": 287,
    "start_time": "2023-12-03T08:30:57.001Z"
   },
   {
    "duration": 272,
    "start_time": "2023-12-03T08:31:11.168Z"
   },
   {
    "duration": 269,
    "start_time": "2023-12-03T08:31:26.728Z"
   },
   {
    "duration": 330,
    "start_time": "2023-12-03T08:31:29.648Z"
   },
   {
    "duration": 24,
    "start_time": "2023-12-03T08:53:47.712Z"
   },
   {
    "duration": 342,
    "start_time": "2023-12-03T09:05:09.537Z"
   },
   {
    "duration": 337,
    "start_time": "2023-12-03T09:05:15.433Z"
   },
   {
    "duration": 330,
    "start_time": "2023-12-03T09:07:02.608Z"
   },
   {
    "duration": 320,
    "start_time": "2023-12-03T09:08:51.485Z"
   },
   {
    "duration": 513,
    "start_time": "2023-12-03T09:09:20.181Z"
   },
   {
    "duration": 347,
    "start_time": "2023-12-03T09:10:40.755Z"
   },
   {
    "duration": 329,
    "start_time": "2023-12-03T09:11:16.436Z"
   },
   {
    "duration": 314,
    "start_time": "2023-12-03T09:11:19.291Z"
   },
   {
    "duration": 347,
    "start_time": "2023-12-03T09:12:04.537Z"
   },
   {
    "duration": 414,
    "start_time": "2023-12-03T09:12:32.897Z"
   },
   {
    "duration": 24,
    "start_time": "2023-12-03T09:12:58.480Z"
   },
   {
    "duration": 328,
    "start_time": "2023-12-03T09:13:07.976Z"
   },
   {
    "duration": 350,
    "start_time": "2023-12-03T09:14:34.894Z"
   },
   {
    "duration": 341,
    "start_time": "2023-12-03T09:15:19.685Z"
   },
   {
    "duration": 1789,
    "start_time": "2023-12-03T09:17:19.076Z"
   },
   {
    "duration": 1832,
    "start_time": "2023-12-03T09:17:27.384Z"
   },
   {
    "duration": 1899,
    "start_time": "2023-12-03T09:18:10.699Z"
   },
   {
    "duration": 332,
    "start_time": "2023-12-03T09:18:46.172Z"
   },
   {
    "duration": 1407,
    "start_time": "2023-12-03T09:21:19.040Z"
   },
   {
    "duration": 336,
    "start_time": "2023-12-03T09:21:54.497Z"
   },
   {
    "duration": 510,
    "start_time": "2023-12-03T09:22:53.534Z"
   },
   {
    "duration": 342,
    "start_time": "2023-12-03T09:23:18.478Z"
   },
   {
    "duration": 342,
    "start_time": "2023-12-03T09:23:57.372Z"
   },
   {
    "duration": 357,
    "start_time": "2023-12-03T09:24:00.828Z"
   },
   {
    "duration": 4,
    "start_time": "2023-12-03T09:28:28.127Z"
   },
   {
    "duration": 340,
    "start_time": "2023-12-03T09:29:27.118Z"
   },
   {
    "duration": 431,
    "start_time": "2023-12-03T09:29:35.597Z"
   },
   {
    "duration": 336,
    "start_time": "2023-12-03T09:35:01.184Z"
   },
   {
    "duration": 4,
    "start_time": "2023-12-03T09:35:55.586Z"
   },
   {
    "duration": 337,
    "start_time": "2023-12-03T09:38:49.691Z"
   },
   {
    "duration": 1669,
    "start_time": "2023-12-03T09:39:19.308Z"
   },
   {
    "duration": 354,
    "start_time": "2023-12-03T09:39:37.027Z"
   },
   {
    "duration": 418,
    "start_time": "2023-12-03T09:40:40.385Z"
   },
   {
    "duration": 1020,
    "start_time": "2023-12-03T09:41:09.050Z"
   },
   {
    "duration": 86,
    "start_time": "2023-12-03T09:41:10.072Z"
   },
   {
    "duration": 24,
    "start_time": "2023-12-03T09:41:10.159Z"
   },
   {
    "duration": 979,
    "start_time": "2023-12-03T09:41:10.185Z"
   },
   {
    "duration": 15,
    "start_time": "2023-12-03T09:41:11.166Z"
   },
   {
    "duration": 9,
    "start_time": "2023-12-03T09:41:11.182Z"
   },
   {
    "duration": 5,
    "start_time": "2023-12-03T09:41:11.192Z"
   },
   {
    "duration": 26,
    "start_time": "2023-12-03T09:41:11.198Z"
   },
   {
    "duration": 4,
    "start_time": "2023-12-03T09:41:11.226Z"
   },
   {
    "duration": 226,
    "start_time": "2023-12-03T09:41:11.233Z"
   },
   {
    "duration": 5,
    "start_time": "2023-12-03T09:41:11.461Z"
   },
   {
    "duration": 188,
    "start_time": "2023-12-03T09:41:11.468Z"
   },
   {
    "duration": 123,
    "start_time": "2023-12-03T09:41:11.658Z"
   },
   {
    "duration": 170,
    "start_time": "2023-12-03T09:41:11.783Z"
   },
   {
    "duration": 206,
    "start_time": "2023-12-03T09:41:11.955Z"
   },
   {
    "duration": 270,
    "start_time": "2023-12-03T09:41:12.163Z"
   },
   {
    "duration": 24,
    "start_time": "2023-12-03T09:41:12.434Z"
   },
   {
    "duration": 31,
    "start_time": "2023-12-03T09:41:12.459Z"
   },
   {
    "duration": 52,
    "start_time": "2023-12-03T09:41:12.491Z"
   },
   {
    "duration": 272,
    "start_time": "2023-12-03T09:41:12.544Z"
   },
   {
    "duration": 280,
    "start_time": "2023-12-03T09:41:12.817Z"
   },
   {
    "duration": 4,
    "start_time": "2023-12-03T09:41:13.099Z"
   },
   {
    "duration": 324,
    "start_time": "2023-12-03T09:41:13.105Z"
   },
   {
    "duration": 4,
    "start_time": "2023-12-03T09:41:13.430Z"
   },
   {
    "duration": 389,
    "start_time": "2023-12-03T09:42:33.128Z"
   },
   {
    "duration": 389,
    "start_time": "2023-12-03T09:43:13.630Z"
   },
   {
    "duration": 5,
    "start_time": "2023-12-03T09:43:17.094Z"
   },
   {
    "duration": 96,
    "start_time": "2023-12-03T09:43:57.109Z"
   },
   {
    "duration": 341,
    "start_time": "2023-12-03T09:44:09.733Z"
   },
   {
    "duration": 345,
    "start_time": "2023-12-03T09:44:20.796Z"
   },
   {
    "duration": 357,
    "start_time": "2023-12-03T09:45:29.100Z"
   },
   {
    "duration": 341,
    "start_time": "2023-12-03T09:45:34.244Z"
   },
   {
    "duration": 86,
    "start_time": "2023-12-03T09:45:50.556Z"
   },
   {
    "duration": 356,
    "start_time": "2023-12-03T09:45:59.611Z"
   },
   {
    "duration": 17,
    "start_time": "2023-12-03T09:46:47.955Z"
   },
   {
    "duration": 398,
    "start_time": "2023-12-03T09:49:13.111Z"
   },
   {
    "duration": 26,
    "start_time": "2023-12-03T09:53:40.403Z"
   },
   {
    "duration": 19,
    "start_time": "2023-12-03T09:53:42.475Z"
   },
   {
    "duration": 1684,
    "start_time": "2023-12-03T09:56:15.576Z"
   },
   {
    "duration": 344,
    "start_time": "2023-12-03T09:56:33.088Z"
   },
   {
    "duration": 326,
    "start_time": "2023-12-03T09:56:52.128Z"
   },
   {
    "duration": 342,
    "start_time": "2023-12-03T09:57:41.110Z"
   },
   {
    "duration": 388,
    "start_time": "2023-12-03T09:57:52.165Z"
   },
   {
    "duration": 324,
    "start_time": "2023-12-03T09:57:59.981Z"
   },
   {
    "duration": 330,
    "start_time": "2023-12-03T09:59:20.669Z"
   },
   {
    "duration": 321,
    "start_time": "2023-12-03T09:59:22.976Z"
   },
   {
    "duration": 310,
    "start_time": "2023-12-03T10:00:11.362Z"
   },
   {
    "duration": 4,
    "start_time": "2023-12-03T10:00:33.362Z"
   },
   {
    "duration": 326,
    "start_time": "2023-12-03T10:02:48.848Z"
   },
   {
    "duration": 407,
    "start_time": "2023-12-03T10:03:19.056Z"
   },
   {
    "duration": 22,
    "start_time": "2023-12-03T10:06:52.053Z"
   },
   {
    "duration": 5,
    "start_time": "2023-12-03T10:08:41.265Z"
   },
   {
    "duration": 23,
    "start_time": "2023-12-03T10:08:42.057Z"
   },
   {
    "duration": 26,
    "start_time": "2023-12-03T10:11:11.702Z"
   },
   {
    "duration": 95,
    "start_time": "2023-12-03T10:15:26.226Z"
   },
   {
    "duration": 684,
    "start_time": "2023-12-03T10:15:31.553Z"
   },
   {
    "duration": 1767,
    "start_time": "2023-12-03T10:17:06.471Z"
   },
   {
    "duration": 310,
    "start_time": "2023-12-03T10:17:17.464Z"
   },
   {
    "duration": 20,
    "start_time": "2023-12-03T10:17:52.214Z"
   },
   {
    "duration": 733,
    "start_time": "2023-12-03T10:18:16.262Z"
   },
   {
    "duration": 661,
    "start_time": "2023-12-03T10:18:29.590Z"
   },
   {
    "duration": 747,
    "start_time": "2023-12-03T10:21:20.509Z"
   },
   {
    "duration": 4,
    "start_time": "2023-12-03T10:22:20.986Z"
   },
   {
    "duration": 92,
    "start_time": "2023-12-03T10:22:43.193Z"
   },
   {
    "duration": 87,
    "start_time": "2023-12-03T10:22:48.488Z"
   },
   {
    "duration": 8,
    "start_time": "2023-12-03T10:23:33.057Z"
   },
   {
    "duration": 13,
    "start_time": "2023-12-03T10:23:45.831Z"
   },
   {
    "duration": 8,
    "start_time": "2023-12-03T10:24:03.382Z"
   },
   {
    "duration": 10,
    "start_time": "2023-12-03T10:24:14.558Z"
   },
   {
    "duration": 12,
    "start_time": "2023-12-03T10:25:00.989Z"
   },
   {
    "duration": 12,
    "start_time": "2023-12-03T10:25:46.670Z"
   },
   {
    "duration": 89,
    "start_time": "2023-12-03T10:44:00.288Z"
   },
   {
    "duration": 1081,
    "start_time": "2023-12-03T10:44:17.846Z"
   },
   {
    "duration": 88,
    "start_time": "2023-12-03T10:44:18.929Z"
   },
   {
    "duration": 25,
    "start_time": "2023-12-03T10:44:19.018Z"
   },
   {
    "duration": 983,
    "start_time": "2023-12-03T10:44:19.045Z"
   },
   {
    "duration": 16,
    "start_time": "2023-12-03T10:44:20.030Z"
   },
   {
    "duration": 11,
    "start_time": "2023-12-03T10:44:20.047Z"
   },
   {
    "duration": 5,
    "start_time": "2023-12-03T10:44:20.060Z"
   },
   {
    "duration": 24,
    "start_time": "2023-12-03T10:44:20.066Z"
   },
   {
    "duration": 11,
    "start_time": "2023-12-03T10:44:20.091Z"
   },
   {
    "duration": 225,
    "start_time": "2023-12-03T10:44:20.116Z"
   },
   {
    "duration": 5,
    "start_time": "2023-12-03T10:44:20.343Z"
   },
   {
    "duration": 181,
    "start_time": "2023-12-03T10:44:20.349Z"
   },
   {
    "duration": 129,
    "start_time": "2023-12-03T10:44:20.532Z"
   },
   {
    "duration": 190,
    "start_time": "2023-12-03T10:44:20.663Z"
   },
   {
    "duration": 213,
    "start_time": "2023-12-03T10:44:20.855Z"
   },
   {
    "duration": 270,
    "start_time": "2023-12-03T10:44:21.070Z"
   },
   {
    "duration": 24,
    "start_time": "2023-12-03T10:44:21.342Z"
   },
   {
    "duration": 47,
    "start_time": "2023-12-03T10:44:21.368Z"
   },
   {
    "duration": 28,
    "start_time": "2023-12-03T10:44:21.416Z"
   },
   {
    "duration": 265,
    "start_time": "2023-12-03T10:44:21.445Z"
   },
   {
    "duration": 287,
    "start_time": "2023-12-03T10:44:21.712Z"
   },
   {
    "duration": 4,
    "start_time": "2023-12-03T10:44:22.000Z"
   },
   {
    "duration": 674,
    "start_time": "2023-12-03T10:44:22.014Z"
   },
   {
    "duration": 94,
    "start_time": "2023-12-03T10:44:22.689Z"
   },
   {
    "duration": 0,
    "start_time": "2023-12-03T10:44:22.785Z"
   },
   {
    "duration": 0,
    "start_time": "2023-12-03T10:44:22.786Z"
   },
   {
    "duration": 0,
    "start_time": "2023-12-03T10:44:22.788Z"
   },
   {
    "duration": 0,
    "start_time": "2023-12-03T10:44:22.789Z"
   },
   {
    "duration": 82,
    "start_time": "2023-12-03T10:44:34.623Z"
   },
   {
    "duration": 4,
    "start_time": "2023-12-03T10:44:36.639Z"
   },
   {
    "duration": 9,
    "start_time": "2023-12-03T10:44:38.135Z"
   },
   {
    "duration": 89,
    "start_time": "2023-12-03T10:44:48.287Z"
   },
   {
    "duration": 89,
    "start_time": "2023-12-03T10:44:50.192Z"
   },
   {
    "duration": 110,
    "start_time": "2023-12-03T10:47:03.844Z"
   },
   {
    "duration": 10,
    "start_time": "2023-12-03T10:48:03.764Z"
   },
   {
    "duration": 98,
    "start_time": "2023-12-03T10:51:34.159Z"
   },
   {
    "duration": 92,
    "start_time": "2023-12-03T10:52:39.607Z"
   },
   {
    "duration": 95,
    "start_time": "2023-12-03T10:53:05.958Z"
   },
   {
    "duration": 95,
    "start_time": "2023-12-03T10:53:14.061Z"
   },
   {
    "duration": 28,
    "start_time": "2023-12-03T10:57:01.265Z"
   },
   {
    "duration": 18,
    "start_time": "2023-12-03T10:57:43.080Z"
   },
   {
    "duration": 17,
    "start_time": "2023-12-03T10:58:22.216Z"
   },
   {
    "duration": 27,
    "start_time": "2023-12-03T11:00:19.791Z"
   },
   {
    "duration": 242,
    "start_time": "2023-12-03T11:00:41.750Z"
   },
   {
    "duration": 103,
    "start_time": "2023-12-03T11:03:48.642Z"
   },
   {
    "duration": 102,
    "start_time": "2023-12-03T11:04:27.512Z"
   },
   {
    "duration": 97,
    "start_time": "2023-12-03T11:04:37.528Z"
   },
   {
    "duration": 91,
    "start_time": "2023-12-03T11:04:43.160Z"
   },
   {
    "duration": 689,
    "start_time": "2023-12-03T11:04:54.032Z"
   },
   {
    "duration": 659,
    "start_time": "2023-12-03T11:05:13.552Z"
   },
   {
    "duration": 723,
    "start_time": "2023-12-03T11:05:16.431Z"
   },
   {
    "duration": 2157,
    "start_time": "2023-12-03T11:05:29.840Z"
   },
   {
    "duration": 2081,
    "start_time": "2023-12-03T11:05:41.335Z"
   },
   {
    "duration": 737,
    "start_time": "2023-12-03T11:05:50.591Z"
   },
   {
    "duration": 705,
    "start_time": "2023-12-03T11:06:04.623Z"
   },
   {
    "duration": 770,
    "start_time": "2023-12-03T11:06:14.694Z"
   },
   {
    "duration": 86,
    "start_time": "2023-12-03T11:06:33.870Z"
   },
   {
    "duration": 2087,
    "start_time": "2023-12-03T12:13:08.579Z"
   },
   {
    "duration": 687,
    "start_time": "2023-12-03T12:13:23.547Z"
   },
   {
    "duration": 4,
    "start_time": "2023-12-03T12:16:11.871Z"
   },
   {
    "duration": 728,
    "start_time": "2023-12-03T12:17:21.133Z"
   },
   {
    "duration": 690,
    "start_time": "2023-12-03T12:21:42.392Z"
   },
   {
    "duration": 2118,
    "start_time": "2023-12-03T12:21:53.505Z"
   },
   {
    "duration": 720,
    "start_time": "2023-12-03T12:22:01.241Z"
   },
   {
    "duration": 690,
    "start_time": "2023-12-03T12:22:41.032Z"
   },
   {
    "duration": 7,
    "start_time": "2023-12-03T12:22:53.247Z"
   },
   {
    "duration": 7,
    "start_time": "2023-12-03T12:23:11.799Z"
   },
   {
    "duration": 4,
    "start_time": "2023-12-03T12:23:42.222Z"
   },
   {
    "duration": 4,
    "start_time": "2023-12-03T12:24:13.829Z"
   },
   {
    "duration": 4092,
    "start_time": "2023-12-03T12:27:03.700Z"
   },
   {
    "duration": 5,
    "start_time": "2023-12-03T12:27:28.970Z"
   },
   {
    "duration": 14,
    "start_time": "2023-12-03T12:29:46.863Z"
   },
   {
    "duration": 13,
    "start_time": "2023-12-03T12:29:57.671Z"
   },
   {
    "duration": 4,
    "start_time": "2023-12-03T12:30:02.072Z"
   },
   {
    "duration": 155,
    "start_time": "2023-12-03T12:30:21.440Z"
   },
   {
    "duration": 311,
    "start_time": "2023-12-03T12:32:02.045Z"
   },
   {
    "duration": 17,
    "start_time": "2023-12-03T12:36:05.929Z"
   },
   {
    "duration": 1468,
    "start_time": "2023-12-03T12:36:09.433Z"
   },
   {
    "duration": 717,
    "start_time": "2023-12-03T12:36:17.583Z"
   },
   {
    "duration": 18,
    "start_time": "2023-12-03T12:36:23.736Z"
   },
   {
    "duration": 318,
    "start_time": "2023-12-03T12:36:39.335Z"
   },
   {
    "duration": 3,
    "start_time": "2023-12-03T12:37:28.694Z"
   },
   {
    "duration": 311,
    "start_time": "2023-12-03T12:37:30.079Z"
   },
   {
    "duration": 314,
    "start_time": "2023-12-03T12:37:42.261Z"
   },
   {
    "duration": 323,
    "start_time": "2023-12-03T12:50:09.408Z"
   },
   {
    "duration": 314,
    "start_time": "2023-12-03T12:50:15.176Z"
   },
   {
    "duration": 297,
    "start_time": "2023-12-03T12:50:58.982Z"
   },
   {
    "duration": 1097,
    "start_time": "2023-12-03T12:51:17.075Z"
   },
   {
    "duration": 85,
    "start_time": "2023-12-03T12:51:18.174Z"
   },
   {
    "duration": 26,
    "start_time": "2023-12-03T12:51:18.260Z"
   },
   {
    "duration": 984,
    "start_time": "2023-12-03T12:51:18.288Z"
   },
   {
    "duration": 19,
    "start_time": "2023-12-03T12:51:19.274Z"
   },
   {
    "duration": 10,
    "start_time": "2023-12-03T12:51:19.294Z"
   },
   {
    "duration": 12,
    "start_time": "2023-12-03T12:51:19.306Z"
   },
   {
    "duration": 12,
    "start_time": "2023-12-03T12:51:19.320Z"
   },
   {
    "duration": 5,
    "start_time": "2023-12-03T12:51:19.334Z"
   },
   {
    "duration": 242,
    "start_time": "2023-12-03T12:51:19.341Z"
   },
   {
    "duration": 5,
    "start_time": "2023-12-03T12:51:19.585Z"
   },
   {
    "duration": 182,
    "start_time": "2023-12-03T12:51:19.591Z"
   },
   {
    "duration": 128,
    "start_time": "2023-12-03T12:51:19.774Z"
   },
   {
    "duration": 181,
    "start_time": "2023-12-03T12:51:19.904Z"
   },
   {
    "duration": 209,
    "start_time": "2023-12-03T12:51:20.086Z"
   },
   {
    "duration": 279,
    "start_time": "2023-12-03T12:51:20.297Z"
   },
   {
    "duration": 23,
    "start_time": "2023-12-03T12:51:20.577Z"
   },
   {
    "duration": 42,
    "start_time": "2023-12-03T12:51:20.601Z"
   },
   {
    "duration": 27,
    "start_time": "2023-12-03T12:51:20.644Z"
   },
   {
    "duration": 272,
    "start_time": "2023-12-03T12:51:20.672Z"
   },
   {
    "duration": 279,
    "start_time": "2023-12-03T12:51:20.945Z"
   },
   {
    "duration": 4,
    "start_time": "2023-12-03T12:51:21.226Z"
   },
   {
    "duration": 648,
    "start_time": "2023-12-03T12:51:21.232Z"
   },
   {
    "duration": 312,
    "start_time": "2023-12-03T12:51:21.882Z"
   },
   {
    "duration": 698,
    "start_time": "2023-12-03T12:57:19.495Z"
   },
   {
    "duration": 640,
    "start_time": "2023-12-03T12:57:48.582Z"
   },
   {
    "duration": 714,
    "start_time": "2023-12-03T12:57:54.462Z"
   },
   {
    "duration": 303,
    "start_time": "2023-12-03T12:59:17.484Z"
   },
   {
    "duration": 315,
    "start_time": "2023-12-03T13:02:30.786Z"
   },
   {
    "duration": 308,
    "start_time": "2023-12-03T13:15:45.994Z"
   },
   {
    "duration": 645,
    "start_time": "2023-12-03T13:15:50.498Z"
   },
   {
    "duration": 5,
    "start_time": "2023-12-03T13:24:59.512Z"
   },
   {
    "duration": 5,
    "start_time": "2023-12-03T13:40:57.373Z"
   },
   {
    "duration": 1476,
    "start_time": "2023-12-03T13:47:52.925Z"
   },
   {
    "duration": 3,
    "start_time": "2023-12-03T13:47:59.205Z"
   },
   {
    "duration": 3,
    "start_time": "2023-12-03T13:48:11.794Z"
   },
   {
    "duration": 7,
    "start_time": "2023-12-03T13:50:04.235Z"
   },
   {
    "duration": 6,
    "start_time": "2023-12-03T13:50:06.338Z"
   },
   {
    "duration": 3,
    "start_time": "2023-12-03T13:50:07.307Z"
   },
   {
    "duration": 4,
    "start_time": "2023-12-03T13:50:12.554Z"
   },
   {
    "duration": 5,
    "start_time": "2023-12-03T13:51:22.793Z"
   },
   {
    "duration": 4,
    "start_time": "2023-12-03T13:51:34.234Z"
   },
   {
    "duration": 7,
    "start_time": "2023-12-03T13:54:11.958Z"
   },
   {
    "duration": 8,
    "start_time": "2023-12-03T13:54:23.669Z"
   },
   {
    "duration": 8,
    "start_time": "2023-12-03T13:54:26.302Z"
   },
   {
    "duration": 9,
    "start_time": "2023-12-03T13:54:45.196Z"
   },
   {
    "duration": 11,
    "start_time": "2023-12-03T13:54:48.805Z"
   },
   {
    "duration": 9,
    "start_time": "2023-12-03T13:55:38.820Z"
   },
   {
    "duration": 9,
    "start_time": "2023-12-03T13:55:43.259Z"
   },
   {
    "duration": 1421,
    "start_time": "2023-12-03T13:56:01.092Z"
   },
   {
    "duration": 8,
    "start_time": "2023-12-03T13:56:04.620Z"
   },
   {
    "duration": 9,
    "start_time": "2023-12-03T13:56:07.859Z"
   },
   {
    "duration": 1457,
    "start_time": "2023-12-03T13:56:13.187Z"
   },
   {
    "duration": 5,
    "start_time": "2023-12-03T13:57:21.106Z"
   },
   {
    "duration": 8,
    "start_time": "2023-12-03T13:58:04.434Z"
   },
   {
    "duration": 7,
    "start_time": "2023-12-03T13:58:08.386Z"
   },
   {
    "duration": 5,
    "start_time": "2023-12-03T13:58:10.753Z"
   },
   {
    "duration": 7,
    "start_time": "2023-12-03T13:58:13.449Z"
   },
   {
    "duration": 7,
    "start_time": "2023-12-03T13:58:15.688Z"
   },
   {
    "duration": 7,
    "start_time": "2023-12-03T13:58:17.025Z"
   },
   {
    "duration": 8,
    "start_time": "2023-12-03T13:58:18.600Z"
   },
   {
    "duration": 8,
    "start_time": "2023-12-03T13:58:19.728Z"
   },
   {
    "duration": 7,
    "start_time": "2023-12-03T13:58:20.704Z"
   },
   {
    "duration": 7,
    "start_time": "2023-12-03T13:58:21.673Z"
   },
   {
    "duration": 7,
    "start_time": "2023-12-03T13:58:22.432Z"
   },
   {
    "duration": 8,
    "start_time": "2023-12-03T13:58:23.512Z"
   },
   {
    "duration": 7,
    "start_time": "2023-12-03T13:58:24.520Z"
   },
   {
    "duration": 8,
    "start_time": "2023-12-03T13:58:25.433Z"
   },
   {
    "duration": 8,
    "start_time": "2023-12-03T13:58:26.264Z"
   },
   {
    "duration": 7,
    "start_time": "2023-12-03T13:58:27.112Z"
   },
   {
    "duration": 8,
    "start_time": "2023-12-03T13:58:28.080Z"
   },
   {
    "duration": 7,
    "start_time": "2023-12-03T13:58:28.984Z"
   },
   {
    "duration": 8,
    "start_time": "2023-12-03T13:58:29.761Z"
   },
   {
    "duration": 8,
    "start_time": "2023-12-03T13:58:31.784Z"
   },
   {
    "duration": 7,
    "start_time": "2023-12-03T13:58:33.305Z"
   },
   {
    "duration": 7,
    "start_time": "2023-12-03T13:58:34.483Z"
   },
   {
    "duration": 7,
    "start_time": "2023-12-03T13:58:35.521Z"
   },
   {
    "duration": 7,
    "start_time": "2023-12-03T13:58:36.410Z"
   },
   {
    "duration": 7,
    "start_time": "2023-12-03T13:58:37.424Z"
   },
   {
    "duration": 7,
    "start_time": "2023-12-03T13:58:38.360Z"
   },
   {
    "duration": 7,
    "start_time": "2023-12-03T13:58:39.225Z"
   },
   {
    "duration": 7,
    "start_time": "2023-12-03T13:58:40.112Z"
   },
   {
    "duration": 8,
    "start_time": "2023-12-03T13:58:42.264Z"
   },
   {
    "duration": 6,
    "start_time": "2023-12-03T13:58:43.152Z"
   },
   {
    "duration": 7,
    "start_time": "2023-12-03T13:58:43.928Z"
   },
   {
    "duration": 11,
    "start_time": "2023-12-03T14:00:38.502Z"
   },
   {
    "duration": 8,
    "start_time": "2023-12-03T14:00:48.030Z"
   },
   {
    "duration": 12,
    "start_time": "2023-12-03T14:01:15.261Z"
   },
   {
    "duration": 8,
    "start_time": "2023-12-03T14:01:54.597Z"
   },
   {
    "duration": 9,
    "start_time": "2023-12-03T14:03:28.779Z"
   },
   {
    "duration": 9,
    "start_time": "2023-12-03T14:03:44.122Z"
   },
   {
    "duration": 8,
    "start_time": "2023-12-03T14:04:11.242Z"
   },
   {
    "duration": 8,
    "start_time": "2023-12-03T14:04:15.555Z"
   },
   {
    "duration": 9,
    "start_time": "2023-12-03T14:04:17.753Z"
   },
   {
    "duration": 8,
    "start_time": "2023-12-03T14:04:19.850Z"
   },
   {
    "duration": 8,
    "start_time": "2023-12-03T14:04:21.513Z"
   },
   {
    "duration": 7,
    "start_time": "2023-12-03T14:04:22.961Z"
   },
   {
    "duration": 8,
    "start_time": "2023-12-03T14:04:24.657Z"
   },
   {
    "duration": 9,
    "start_time": "2023-12-03T14:04:26.265Z"
   },
   {
    "duration": 8,
    "start_time": "2023-12-03T14:04:27.691Z"
   },
   {
    "duration": 8,
    "start_time": "2023-12-03T14:04:29.329Z"
   },
   {
    "duration": 8,
    "start_time": "2023-12-03T14:04:32.105Z"
   },
   {
    "duration": 8,
    "start_time": "2023-12-03T14:04:33.552Z"
   },
   {
    "duration": 9,
    "start_time": "2023-12-03T14:04:34.984Z"
   },
   {
    "duration": 8,
    "start_time": "2023-12-03T14:04:36.377Z"
   },
   {
    "duration": 9,
    "start_time": "2023-12-03T14:05:15.752Z"
   },
   {
    "duration": 5,
    "start_time": "2023-12-03T14:05:42.632Z"
   },
   {
    "duration": 7,
    "start_time": "2023-12-03T14:05:44.792Z"
   },
   {
    "duration": 8,
    "start_time": "2023-12-03T14:05:46.912Z"
   },
   {
    "duration": 8,
    "start_time": "2023-12-03T14:05:48.832Z"
   },
   {
    "duration": 8,
    "start_time": "2023-12-03T14:05:50.520Z"
   },
   {
    "duration": 8,
    "start_time": "2023-12-03T14:05:52.224Z"
   },
   {
    "duration": 8,
    "start_time": "2023-12-03T14:05:53.832Z"
   },
   {
    "duration": 8,
    "start_time": "2023-12-03T14:05:55.527Z"
   },
   {
    "duration": 39,
    "start_time": "2023-12-03T14:06:55.871Z"
   },
   {
    "duration": 5,
    "start_time": "2023-12-03T14:06:57.158Z"
   },
   {
    "duration": 40,
    "start_time": "2023-12-03T14:06:59.344Z"
   },
   {
    "duration": 38,
    "start_time": "2023-12-03T14:07:01.516Z"
   },
   {
    "duration": 37,
    "start_time": "2023-12-03T14:07:03.231Z"
   },
   {
    "duration": 37,
    "start_time": "2023-12-03T14:07:05.062Z"
   },
   {
    "duration": 40,
    "start_time": "2023-12-03T14:07:11.990Z"
   },
   {
    "duration": 44,
    "start_time": "2023-12-03T14:07:14.886Z"
   },
   {
    "duration": 39,
    "start_time": "2023-12-03T14:07:16.806Z"
   },
   {
    "duration": 36,
    "start_time": "2023-12-03T14:07:18.502Z"
   },
   {
    "duration": 38,
    "start_time": "2023-12-03T14:07:20.150Z"
   },
   {
    "duration": 38,
    "start_time": "2023-12-03T14:07:22.165Z"
   },
   {
    "duration": 39,
    "start_time": "2023-12-03T14:07:23.846Z"
   },
   {
    "duration": 37,
    "start_time": "2023-12-03T14:07:25.566Z"
   },
   {
    "duration": 41,
    "start_time": "2023-12-03T14:07:27.238Z"
   },
   {
    "duration": 41,
    "start_time": "2023-12-03T14:07:29.021Z"
   },
   {
    "duration": 40,
    "start_time": "2023-12-03T14:07:30.927Z"
   },
   {
    "duration": 6,
    "start_time": "2023-12-03T14:08:14.325Z"
   },
   {
    "duration": 5,
    "start_time": "2023-12-03T14:08:15.845Z"
   },
   {
    "duration": 4,
    "start_time": "2023-12-03T14:08:17.461Z"
   },
   {
    "duration": 5,
    "start_time": "2023-12-03T14:08:18.165Z"
   },
   {
    "duration": 6,
    "start_time": "2023-12-03T14:08:18.888Z"
   },
   {
    "duration": 4,
    "start_time": "2023-12-03T14:08:19.541Z"
   },
   {
    "duration": 6,
    "start_time": "2023-12-03T14:08:20.612Z"
   },
   {
    "duration": 5,
    "start_time": "2023-12-03T14:08:21.276Z"
   },
   {
    "duration": 5,
    "start_time": "2023-12-03T14:08:21.909Z"
   },
   {
    "duration": 5,
    "start_time": "2023-12-03T14:08:22.548Z"
   },
   {
    "duration": 4,
    "start_time": "2023-12-03T14:08:23.133Z"
   },
   {
    "duration": 5,
    "start_time": "2023-12-03T14:08:23.716Z"
   },
   {
    "duration": 5,
    "start_time": "2023-12-03T14:08:24.366Z"
   },
   {
    "duration": 5,
    "start_time": "2023-12-03T14:08:25.053Z"
   },
   {
    "duration": 5,
    "start_time": "2023-12-03T14:08:25.717Z"
   },
   {
    "duration": 5,
    "start_time": "2023-12-03T14:08:26.493Z"
   },
   {
    "duration": 6,
    "start_time": "2023-12-03T14:09:29.579Z"
   },
   {
    "duration": 5,
    "start_time": "2023-12-03T14:09:32.012Z"
   },
   {
    "duration": 6,
    "start_time": "2023-12-03T14:09:34.203Z"
   },
   {
    "duration": 6,
    "start_time": "2023-12-03T14:43:04.389Z"
   },
   {
    "duration": 5,
    "start_time": "2023-12-03T14:43:07.381Z"
   },
   {
    "duration": 6,
    "start_time": "2023-12-03T14:43:10.188Z"
   },
   {
    "duration": 6,
    "start_time": "2023-12-03T14:43:12.269Z"
   },
   {
    "duration": 5,
    "start_time": "2023-12-03T14:43:14.301Z"
   },
   {
    "duration": 5,
    "start_time": "2023-12-03T14:43:16.389Z"
   },
   {
    "duration": 1062,
    "start_time": "2023-12-03T14:43:35.314Z"
   },
   {
    "duration": 84,
    "start_time": "2023-12-03T14:43:36.378Z"
   },
   {
    "duration": 23,
    "start_time": "2023-12-03T14:43:36.464Z"
   },
   {
    "duration": 943,
    "start_time": "2023-12-03T14:43:36.489Z"
   },
   {
    "duration": 14,
    "start_time": "2023-12-03T14:43:37.434Z"
   },
   {
    "duration": 82,
    "start_time": "2023-12-03T14:43:37.449Z"
   },
   {
    "duration": 9,
    "start_time": "2023-12-03T14:43:37.532Z"
   },
   {
    "duration": 13,
    "start_time": "2023-12-03T14:43:37.543Z"
   },
   {
    "duration": 5,
    "start_time": "2023-12-03T14:43:37.557Z"
   },
   {
    "duration": 214,
    "start_time": "2023-12-03T14:43:37.564Z"
   },
   {
    "duration": 4,
    "start_time": "2023-12-03T14:43:37.780Z"
   },
   {
    "duration": 169,
    "start_time": "2023-12-03T14:43:37.785Z"
   },
   {
    "duration": 126,
    "start_time": "2023-12-03T14:43:37.955Z"
   },
   {
    "duration": 176,
    "start_time": "2023-12-03T14:43:38.083Z"
   },
   {
    "duration": 209,
    "start_time": "2023-12-03T14:43:38.260Z"
   },
   {
    "duration": 271,
    "start_time": "2023-12-03T14:43:38.470Z"
   },
   {
    "duration": 24,
    "start_time": "2023-12-03T14:43:38.743Z"
   },
   {
    "duration": 50,
    "start_time": "2023-12-03T14:43:38.769Z"
   },
   {
    "duration": 39,
    "start_time": "2023-12-03T14:43:38.821Z"
   },
   {
    "duration": 276,
    "start_time": "2023-12-03T14:43:38.862Z"
   },
   {
    "duration": 270,
    "start_time": "2023-12-03T14:43:39.139Z"
   },
   {
    "duration": 6,
    "start_time": "2023-12-03T14:43:39.410Z"
   },
   {
    "duration": 688,
    "start_time": "2023-12-03T14:43:39.417Z"
   },
   {
    "duration": 309,
    "start_time": "2023-12-03T14:43:40.107Z"
   },
   {
    "duration": 41,
    "start_time": "2023-12-03T14:43:40.417Z"
   },
   {
    "duration": 6,
    "start_time": "2023-12-03T14:43:40.459Z"
   },
   {
    "duration": 21,
    "start_time": "2023-12-03T14:43:40.467Z"
   },
   {
    "duration": 16,
    "start_time": "2023-12-03T14:43:40.491Z"
   },
   {
    "duration": 14,
    "start_time": "2023-12-03T14:43:40.508Z"
   },
   {
    "duration": 32,
    "start_time": "2023-12-03T14:43:40.524Z"
   },
   {
    "duration": 15,
    "start_time": "2023-12-03T14:43:40.558Z"
   },
   {
    "duration": 9,
    "start_time": "2023-12-03T14:43:40.575Z"
   },
   {
    "duration": 6,
    "start_time": "2023-12-03T14:52:04.132Z"
   },
   {
    "duration": 39,
    "start_time": "2023-12-03T14:52:23.955Z"
   },
   {
    "duration": 39,
    "start_time": "2023-12-03T14:52:26.499Z"
   },
   {
    "duration": 5,
    "start_time": "2023-12-03T14:52:27.690Z"
   },
   {
    "duration": 41,
    "start_time": "2023-12-03T14:52:30.034Z"
   },
   {
    "duration": 39,
    "start_time": "2023-12-03T14:52:32.866Z"
   },
   {
    "duration": 37,
    "start_time": "2023-12-03T14:52:35.506Z"
   },
   {
    "duration": 40,
    "start_time": "2023-12-03T14:52:37.554Z"
   },
   {
    "duration": 38,
    "start_time": "2023-12-03T14:52:39.442Z"
   },
   {
    "duration": 38,
    "start_time": "2023-12-03T14:52:41.406Z"
   },
   {
    "duration": 41,
    "start_time": "2023-12-03T14:54:57.992Z"
   },
   {
    "duration": 40,
    "start_time": "2023-12-03T14:55:00.263Z"
   },
   {
    "duration": 41,
    "start_time": "2023-12-03T14:55:41.702Z"
   },
   {
    "duration": 5,
    "start_time": "2023-12-03T14:55:43.374Z"
   },
   {
    "duration": 41,
    "start_time": "2023-12-03T14:55:46.159Z"
   },
   {
    "duration": 38,
    "start_time": "2023-12-03T14:55:48.479Z"
   },
   {
    "duration": 4,
    "start_time": "2023-12-03T14:56:53.645Z"
   },
   {
    "duration": 4,
    "start_time": "2023-12-03T14:56:54.941Z"
   },
   {
    "duration": 39,
    "start_time": "2023-12-03T15:00:24.851Z"
   },
   {
    "duration": 41,
    "start_time": "2023-12-03T15:00:26.897Z"
   },
   {
    "duration": 5,
    "start_time": "2023-12-03T15:00:27.945Z"
   },
   {
    "duration": 41,
    "start_time": "2023-12-03T15:00:30.153Z"
   },
   {
    "duration": 47,
    "start_time": "2023-12-03T15:00:32.377Z"
   },
   {
    "duration": 39,
    "start_time": "2023-12-03T15:00:34.257Z"
   },
   {
    "duration": 41,
    "start_time": "2023-12-03T15:00:36.090Z"
   },
   {
    "duration": 38,
    "start_time": "2023-12-03T15:00:37.929Z"
   },
   {
    "duration": 40,
    "start_time": "2023-12-03T15:00:40.536Z"
   },
   {
    "duration": 38,
    "start_time": "2023-12-03T15:00:42.536Z"
   },
   {
    "duration": 40,
    "start_time": "2023-12-03T15:00:53.073Z"
   },
   {
    "duration": 40,
    "start_time": "2023-12-03T15:00:55.712Z"
   },
   {
    "duration": 37,
    "start_time": "2023-12-03T15:00:58.057Z"
   },
   {
    "duration": 42,
    "start_time": "2023-12-03T15:01:00.008Z"
   },
   {
    "duration": 40,
    "start_time": "2023-12-03T15:01:09.512Z"
   },
   {
    "duration": 39,
    "start_time": "2023-12-03T15:01:12.000Z"
   },
   {
    "duration": 38,
    "start_time": "2023-12-03T15:01:14.185Z"
   },
   {
    "duration": 40,
    "start_time": "2023-12-03T15:01:16.544Z"
   },
   {
    "duration": 39,
    "start_time": "2023-12-03T15:01:18.512Z"
   },
   {
    "duration": 38,
    "start_time": "2023-12-03T15:01:25.744Z"
   },
   {
    "duration": 40,
    "start_time": "2023-12-03T15:01:28.087Z"
   },
   {
    "duration": 6,
    "start_time": "2023-12-03T15:07:23.816Z"
   },
   {
    "duration": 6,
    "start_time": "2023-12-03T15:07:25.460Z"
   },
   {
    "duration": 6,
    "start_time": "2023-12-03T15:07:28.618Z"
   },
   {
    "duration": 5,
    "start_time": "2023-12-03T15:08:51.400Z"
   },
   {
    "duration": 7,
    "start_time": "2023-12-03T15:10:13.679Z"
   },
   {
    "duration": 7,
    "start_time": "2023-12-03T15:11:37.116Z"
   },
   {
    "duration": 7,
    "start_time": "2023-12-03T15:11:55.092Z"
   },
   {
    "duration": 5,
    "start_time": "2023-12-03T15:14:04.218Z"
   },
   {
    "duration": 6,
    "start_time": "2023-12-03T15:18:16.748Z"
   },
   {
    "duration": 5,
    "start_time": "2023-12-03T15:28:15.386Z"
   },
   {
    "duration": 5,
    "start_time": "2023-12-03T15:28:23.780Z"
   },
   {
    "duration": 4,
    "start_time": "2023-12-03T15:30:40.384Z"
   },
   {
    "duration": 2,
    "start_time": "2023-12-03T15:43:40.816Z"
   },
   {
    "duration": 10,
    "start_time": "2023-12-03T15:48:50.915Z"
   },
   {
    "duration": 14,
    "start_time": "2023-12-03T15:50:38.456Z"
   },
   {
    "duration": 18,
    "start_time": "2023-12-03T15:50:44.249Z"
   },
   {
    "duration": 15,
    "start_time": "2023-12-03T15:51:24.760Z"
   },
   {
    "duration": 102,
    "start_time": "2023-12-03T15:51:32.391Z"
   },
   {
    "duration": 15,
    "start_time": "2023-12-03T15:51:35.369Z"
   },
   {
    "duration": 20,
    "start_time": "2023-12-03T15:51:53.462Z"
   },
   {
    "duration": 17,
    "start_time": "2023-12-03T15:52:16.317Z"
   },
   {
    "duration": 15,
    "start_time": "2023-12-03T15:53:08.750Z"
   },
   {
    "duration": 22,
    "start_time": "2023-12-03T15:54:45.924Z"
   },
   {
    "duration": 8,
    "start_time": "2023-12-03T15:55:00.364Z"
   },
   {
    "duration": 15,
    "start_time": "2023-12-03T15:55:45.259Z"
   },
   {
    "duration": 6,
    "start_time": "2023-12-03T15:55:48.458Z"
   },
   {
    "duration": 16,
    "start_time": "2023-12-03T15:56:00.074Z"
   },
   {
    "duration": 8,
    "start_time": "2023-12-03T15:56:01.402Z"
   },
   {
    "duration": 18,
    "start_time": "2023-12-03T15:56:15.322Z"
   },
   {
    "duration": 8,
    "start_time": "2023-12-03T15:56:17.026Z"
   },
   {
    "duration": 15,
    "start_time": "2023-12-03T16:02:53.844Z"
   },
   {
    "duration": 21,
    "start_time": "2023-12-03T16:05:01.288Z"
   },
   {
    "duration": 5,
    "start_time": "2023-12-03T16:08:27.853Z"
   },
   {
    "duration": 10,
    "start_time": "2023-12-03T16:49:09.259Z"
   },
   {
    "duration": 2,
    "start_time": "2023-12-03T16:49:27.610Z"
   },
   {
    "duration": 1135,
    "start_time": "2023-12-03T16:49:31.332Z"
   },
   {
    "duration": 88,
    "start_time": "2023-12-03T16:49:32.469Z"
   },
   {
    "duration": 25,
    "start_time": "2023-12-03T16:49:32.558Z"
   },
   {
    "duration": 983,
    "start_time": "2023-12-03T16:49:32.585Z"
   },
   {
    "duration": 15,
    "start_time": "2023-12-03T16:49:33.570Z"
   },
   {
    "duration": 8,
    "start_time": "2023-12-03T16:49:33.587Z"
   },
   {
    "duration": 6,
    "start_time": "2023-12-03T16:49:33.597Z"
   },
   {
    "duration": 18,
    "start_time": "2023-12-03T16:49:33.604Z"
   },
   {
    "duration": 5,
    "start_time": "2023-12-03T16:49:33.623Z"
   },
   {
    "duration": 243,
    "start_time": "2023-12-03T16:49:33.630Z"
   },
   {
    "duration": 7,
    "start_time": "2023-12-03T16:49:33.875Z"
   },
   {
    "duration": 186,
    "start_time": "2023-12-03T16:49:33.883Z"
   },
   {
    "duration": 132,
    "start_time": "2023-12-03T16:49:34.071Z"
   },
   {
    "duration": 191,
    "start_time": "2023-12-03T16:49:34.205Z"
   },
   {
    "duration": 205,
    "start_time": "2023-12-03T16:49:34.398Z"
   },
   {
    "duration": 270,
    "start_time": "2023-12-03T16:49:34.605Z"
   },
   {
    "duration": 26,
    "start_time": "2023-12-03T16:49:34.877Z"
   },
   {
    "duration": 34,
    "start_time": "2023-12-03T16:49:34.915Z"
   },
   {
    "duration": 32,
    "start_time": "2023-12-03T16:49:34.951Z"
   },
   {
    "duration": 273,
    "start_time": "2023-12-03T16:49:34.985Z"
   },
   {
    "duration": 268,
    "start_time": "2023-12-03T16:49:35.260Z"
   },
   {
    "duration": 4,
    "start_time": "2023-12-03T16:49:35.529Z"
   },
   {
    "duration": 655,
    "start_time": "2023-12-03T16:49:35.534Z"
   },
   {
    "duration": 311,
    "start_time": "2023-12-03T16:49:36.190Z"
   },
   {
    "duration": 12,
    "start_time": "2023-12-03T16:49:36.503Z"
   },
   {
    "duration": 5,
    "start_time": "2023-12-03T16:49:36.516Z"
   },
   {
    "duration": 26,
    "start_time": "2023-12-03T16:49:36.522Z"
   },
   {
    "duration": 5,
    "start_time": "2023-12-03T16:49:36.551Z"
   },
   {
    "duration": 150,
    "start_time": "2023-12-03T16:49:36.557Z"
   },
   {
    "duration": 191,
    "start_time": "2023-12-03T16:52:27.398Z"
   },
   {
    "duration": 223,
    "start_time": "2023-12-03T17:00:23.877Z"
   },
   {
    "duration": 147,
    "start_time": "2023-12-03T17:04:00.137Z"
   },
   {
    "duration": 172,
    "start_time": "2023-12-03T17:04:15.376Z"
   },
   {
    "duration": 1500,
    "start_time": "2023-12-03T17:04:41.415Z"
   },
   {
    "duration": 750,
    "start_time": "2023-12-03T17:05:10.023Z"
   },
   {
    "duration": 363,
    "start_time": "2023-12-03T17:05:29.775Z"
   },
   {
    "duration": 109,
    "start_time": "2023-12-03T17:06:17.998Z"
   },
   {
    "duration": 92,
    "start_time": "2023-12-03T17:06:21.606Z"
   },
   {
    "duration": 218,
    "start_time": "2023-12-03T17:06:37.213Z"
   },
   {
    "duration": 237,
    "start_time": "2023-12-03T17:06:49.614Z"
   },
   {
    "duration": 84,
    "start_time": "2023-12-03T17:07:15.253Z"
   },
   {
    "duration": 24,
    "start_time": "2023-12-03T17:07:37.932Z"
   },
   {
    "duration": 91,
    "start_time": "2023-12-03T17:07:48.244Z"
   },
   {
    "duration": 234,
    "start_time": "2023-12-03T17:07:52.940Z"
   },
   {
    "duration": 214,
    "start_time": "2023-12-03T17:09:40.930Z"
   },
   {
    "duration": 130,
    "start_time": "2023-12-03T17:11:11.264Z"
   },
   {
    "duration": 138,
    "start_time": "2023-12-03T17:11:21.617Z"
   },
   {
    "duration": 2367,
    "start_time": "2023-12-03T17:13:31.501Z"
   },
   {
    "duration": 10,
    "start_time": "2023-12-03T17:19:53.120Z"
   },
   {
    "duration": 4,
    "start_time": "2023-12-03T17:20:04.342Z"
   },
   {
    "duration": 4,
    "start_time": "2023-12-03T17:20:21.382Z"
   },
   {
    "duration": 5,
    "start_time": "2023-12-03T17:20:30.469Z"
   },
   {
    "duration": 5,
    "start_time": "2023-12-03T17:20:36.356Z"
   },
   {
    "duration": 6,
    "start_time": "2023-12-03T17:21:45.051Z"
   },
   {
    "duration": 108,
    "start_time": "2023-12-03T17:21:59.651Z"
   },
   {
    "duration": 6,
    "start_time": "2023-12-03T17:22:08.524Z"
   },
   {
    "duration": 5,
    "start_time": "2023-12-03T17:23:30.058Z"
   },
   {
    "duration": 5,
    "start_time": "2023-12-03T17:23:35.482Z"
   },
   {
    "duration": 191,
    "start_time": "2023-12-03T17:26:45.294Z"
   },
   {
    "duration": 185,
    "start_time": "2023-12-03T17:27:13.589Z"
   },
   {
    "duration": 124,
    "start_time": "2023-12-03T17:27:32.414Z"
   },
   {
    "duration": 135,
    "start_time": "2023-12-03T17:27:39.757Z"
   },
   {
    "duration": 142,
    "start_time": "2023-12-03T17:27:42.773Z"
   },
   {
    "duration": 244,
    "start_time": "2023-12-03T17:27:49.004Z"
   },
   {
    "duration": 5,
    "start_time": "2023-12-03T17:29:30.954Z"
   },
   {
    "duration": 5,
    "start_time": "2023-12-03T17:29:58.282Z"
   },
   {
    "duration": 5,
    "start_time": "2023-12-03T17:30:06.218Z"
   },
   {
    "duration": 5,
    "start_time": "2023-12-03T17:30:12.665Z"
   },
   {
    "duration": 5,
    "start_time": "2023-12-03T17:30:39.097Z"
   },
   {
    "duration": 5,
    "start_time": "2023-12-03T17:30:43.353Z"
   },
   {
    "duration": 4,
    "start_time": "2023-12-03T17:31:36.480Z"
   },
   {
    "duration": 5,
    "start_time": "2023-12-03T17:31:42.281Z"
   },
   {
    "duration": 5,
    "start_time": "2023-12-03T17:32:26.601Z"
   },
   {
    "duration": 5,
    "start_time": "2023-12-03T17:32:30.023Z"
   },
   {
    "duration": 6,
    "start_time": "2023-12-03T17:32:35.103Z"
   },
   {
    "duration": 4,
    "start_time": "2023-12-03T17:33:00.678Z"
   },
   {
    "duration": 103,
    "start_time": "2023-12-03T17:33:47.766Z"
   },
   {
    "duration": 11,
    "start_time": "2023-12-03T17:34:18.829Z"
   },
   {
    "duration": 145,
    "start_time": "2023-12-03T17:35:07.140Z"
   },
   {
    "duration": 4690,
    "start_time": "2023-12-03T17:35:24.061Z"
   },
   {
    "duration": 5,
    "start_time": "2023-12-03T17:36:16.492Z"
   },
   {
    "duration": 1633,
    "start_time": "2023-12-03T17:36:31.444Z"
   },
   {
    "duration": 5,
    "start_time": "2023-12-03T17:38:04.033Z"
   },
   {
    "duration": 5,
    "start_time": "2023-12-03T17:38:48.428Z"
   },
   {
    "duration": 5,
    "start_time": "2023-12-03T17:38:54.089Z"
   },
   {
    "duration": 5,
    "start_time": "2023-12-03T17:39:23.357Z"
   },
   {
    "duration": 6,
    "start_time": "2023-12-03T17:39:34.328Z"
   },
   {
    "duration": 5,
    "start_time": "2023-12-03T17:39:41.576Z"
   },
   {
    "duration": 6,
    "start_time": "2023-12-03T17:39:49.903Z"
   },
   {
    "duration": 5,
    "start_time": "2023-12-03T17:39:55.128Z"
   },
   {
    "duration": 6,
    "start_time": "2023-12-03T17:39:59.344Z"
   },
   {
    "duration": 6,
    "start_time": "2023-12-03T17:40:04.895Z"
   },
   {
    "duration": 5,
    "start_time": "2023-12-03T17:40:09.544Z"
   },
   {
    "duration": 5,
    "start_time": "2023-12-03T17:40:13.296Z"
   },
   {
    "duration": 5,
    "start_time": "2023-12-03T17:40:17.935Z"
   },
   {
    "duration": 2045,
    "start_time": "2023-12-03T17:41:07.335Z"
   },
   {
    "duration": 2039,
    "start_time": "2023-12-03T17:41:41.463Z"
   },
   {
    "duration": 1597,
    "start_time": "2023-12-03T17:41:53.670Z"
   },
   {
    "duration": 90,
    "start_time": "2023-12-03T17:42:52.543Z"
   },
   {
    "duration": 95,
    "start_time": "2023-12-03T17:42:57.461Z"
   },
   {
    "duration": 2163,
    "start_time": "2023-12-03T17:43:01.957Z"
   },
   {
    "duration": 6,
    "start_time": "2023-12-03T17:43:56.908Z"
   },
   {
    "duration": 7,
    "start_time": "2023-12-03T17:52:14.778Z"
   },
   {
    "duration": 91,
    "start_time": "2023-12-03T17:52:41.370Z"
   },
   {
    "duration": 5,
    "start_time": "2023-12-03T17:52:51.810Z"
   },
   {
    "duration": 11,
    "start_time": "2023-12-03T17:53:41.305Z"
   },
   {
    "duration": 5,
    "start_time": "2023-12-03T17:55:39.656Z"
   },
   {
    "duration": 5,
    "start_time": "2023-12-03T17:56:26.710Z"
   },
   {
    "duration": 1620,
    "start_time": "2023-12-03T17:56:33.950Z"
   },
   {
    "duration": 154,
    "start_time": "2023-12-03T17:57:14.238Z"
   },
   {
    "duration": 147,
    "start_time": "2023-12-03T17:57:25.365Z"
   },
   {
    "duration": 318,
    "start_time": "2023-12-03T17:57:39.413Z"
   },
   {
    "duration": 161,
    "start_time": "2023-12-03T17:57:57.293Z"
   },
   {
    "duration": 320,
    "start_time": "2023-12-03T17:58:34.028Z"
   },
   {
    "duration": 2207,
    "start_time": "2023-12-03T17:59:37.523Z"
   },
   {
    "duration": 148,
    "start_time": "2023-12-03T18:00:56.513Z"
   },
   {
    "duration": 278,
    "start_time": "2023-12-03T18:00:59.401Z"
   },
   {
    "duration": 1627,
    "start_time": "2023-12-03T18:01:03.994Z"
   },
   {
    "duration": 9,
    "start_time": "2023-12-03T18:05:47.188Z"
   },
   {
    "duration": 258,
    "start_time": "2023-12-03T18:05:53.308Z"
   },
   {
    "duration": 2346,
    "start_time": "2023-12-03T18:06:05.615Z"
   },
   {
    "duration": 310,
    "start_time": "2023-12-03T18:06:27.412Z"
   },
   {
    "duration": 1702,
    "start_time": "2023-12-03T18:06:39.771Z"
   },
   {
    "duration": 2622,
    "start_time": "2023-12-03T18:07:03.843Z"
   },
   {
    "duration": 1538,
    "start_time": "2023-12-03T18:07:16.250Z"
   },
   {
    "duration": 274,
    "start_time": "2023-12-03T18:07:43.425Z"
   },
   {
    "duration": 1618,
    "start_time": "2023-12-03T18:08:46.185Z"
   },
   {
    "duration": 2485,
    "start_time": "2023-12-03T18:08:55.040Z"
   },
   {
    "duration": 1677,
    "start_time": "2023-12-03T18:09:07.169Z"
   },
   {
    "duration": 1887,
    "start_time": "2023-12-03T18:09:15.728Z"
   },
   {
    "duration": 2724,
    "start_time": "2023-12-03T18:10:03.839Z"
   },
   {
    "duration": 1589,
    "start_time": "2023-12-03T18:10:25.761Z"
   },
   {
    "duration": 1695,
    "start_time": "2023-12-03T18:11:29.981Z"
   },
   {
    "duration": 2690,
    "start_time": "2023-12-03T18:11:59.397Z"
   },
   {
    "duration": 1598,
    "start_time": "2023-12-03T18:13:11.147Z"
   },
   {
    "duration": 1550,
    "start_time": "2023-12-03T18:13:32.203Z"
   },
   {
    "duration": 2,
    "start_time": "2023-12-03T18:16:45.265Z"
   },
   {
    "duration": 5,
    "start_time": "2023-12-03T18:23:48.647Z"
   },
   {
    "duration": 2626,
    "start_time": "2023-12-03T18:23:50.847Z"
   },
   {
    "duration": 1544,
    "start_time": "2023-12-03T18:24:24.223Z"
   },
   {
    "duration": 1536,
    "start_time": "2023-12-03T18:25:52.837Z"
   },
   {
    "duration": 5,
    "start_time": "2023-12-03T18:35:26.361Z"
   },
   {
    "duration": 0,
    "start_time": "2023-12-03T18:39:06.341Z"
   },
   {
    "duration": 12,
    "start_time": "2023-12-03T18:39:25.309Z"
   },
   {
    "duration": 11,
    "start_time": "2023-12-03T18:39:32.933Z"
   },
   {
    "duration": 11,
    "start_time": "2023-12-03T18:39:38.127Z"
   },
   {
    "duration": 5217,
    "start_time": "2023-12-03T18:41:16.171Z"
   },
   {
    "duration": 102,
    "start_time": "2023-12-03T18:42:33.114Z"
   },
   {
    "duration": 103,
    "start_time": "2023-12-03T18:43:31.712Z"
   },
   {
    "duration": 49,
    "start_time": "2023-12-03T18:50:05.576Z"
   },
   {
    "duration": 1051,
    "start_time": "2023-12-03T18:50:17.514Z"
   },
   {
    "duration": 309,
    "start_time": "2023-12-03T18:50:18.567Z"
   },
   {
    "duration": 25,
    "start_time": "2023-12-03T18:50:18.878Z"
   },
   {
    "duration": 964,
    "start_time": "2023-12-03T18:50:18.904Z"
   },
   {
    "duration": 14,
    "start_time": "2023-12-03T18:50:19.870Z"
   },
   {
    "duration": 9,
    "start_time": "2023-12-03T18:50:19.886Z"
   },
   {
    "duration": 4,
    "start_time": "2023-12-03T18:50:19.897Z"
   },
   {
    "duration": 16,
    "start_time": "2023-12-03T18:50:19.903Z"
   },
   {
    "duration": 5,
    "start_time": "2023-12-03T18:50:19.921Z"
   },
   {
    "duration": 233,
    "start_time": "2023-12-03T18:50:19.928Z"
   },
   {
    "duration": 5,
    "start_time": "2023-12-03T18:50:20.162Z"
   },
   {
    "duration": 168,
    "start_time": "2023-12-03T18:50:20.168Z"
   },
   {
    "duration": 124,
    "start_time": "2023-12-03T18:50:20.338Z"
   },
   {
    "duration": 185,
    "start_time": "2023-12-03T18:50:20.464Z"
   },
   {
    "duration": 202,
    "start_time": "2023-12-03T18:50:20.650Z"
   },
   {
    "duration": 269,
    "start_time": "2023-12-03T18:50:20.854Z"
   },
   {
    "duration": 22,
    "start_time": "2023-12-03T18:50:21.124Z"
   },
   {
    "duration": 45,
    "start_time": "2023-12-03T18:50:21.147Z"
   },
   {
    "duration": 36,
    "start_time": "2023-12-03T18:50:21.194Z"
   },
   {
    "duration": 252,
    "start_time": "2023-12-03T18:50:21.232Z"
   },
   {
    "duration": 260,
    "start_time": "2023-12-03T18:50:21.486Z"
   },
   {
    "duration": 4,
    "start_time": "2023-12-03T18:50:21.748Z"
   },
   {
    "duration": 662,
    "start_time": "2023-12-03T18:50:21.753Z"
   },
   {
    "duration": 313,
    "start_time": "2023-12-03T18:50:22.417Z"
   },
   {
    "duration": 5,
    "start_time": "2023-12-03T18:50:22.731Z"
   },
   {
    "duration": 14,
    "start_time": "2023-12-03T18:50:22.738Z"
   },
   {
    "duration": 38,
    "start_time": "2023-12-03T18:50:22.753Z"
   },
   {
    "duration": 4,
    "start_time": "2023-12-03T18:50:22.794Z"
   },
   {
    "duration": 17,
    "start_time": "2023-12-03T18:50:22.799Z"
   },
   {
    "duration": 1739,
    "start_time": "2023-12-03T18:50:22.817Z"
   },
   {
    "duration": 5,
    "start_time": "2023-12-03T18:50:24.558Z"
   },
   {
    "duration": 1549,
    "start_time": "2023-12-03T18:51:01.967Z"
   },
   {
    "duration": 1717,
    "start_time": "2023-12-03T18:51:11.263Z"
   },
   {
    "duration": 90,
    "start_time": "2023-12-03T18:53:36.004Z"
   },
   {
    "duration": 191,
    "start_time": "2023-12-03T18:53:45.580Z"
   },
   {
    "duration": 9,
    "start_time": "2023-12-03T18:56:04.738Z"
   },
   {
    "duration": 117,
    "start_time": "2023-12-03T18:56:18.697Z"
   },
   {
    "duration": 131,
    "start_time": "2023-12-03T18:56:56.616Z"
   },
   {
    "duration": 179,
    "start_time": "2023-12-03T18:57:50.256Z"
   },
   {
    "duration": 151,
    "start_time": "2023-12-03T18:58:20.159Z"
   },
   {
    "duration": 154,
    "start_time": "2023-12-03T18:58:27.242Z"
   },
   {
    "duration": 153,
    "start_time": "2023-12-03T18:58:53.672Z"
   },
   {
    "duration": 244,
    "start_time": "2023-12-03T19:00:32.541Z"
   },
   {
    "duration": 6,
    "start_time": "2023-12-03T19:02:20.618Z"
   },
   {
    "duration": 9,
    "start_time": "2023-12-03T19:02:33.458Z"
   },
   {
    "duration": 166,
    "start_time": "2023-12-03T19:04:33.287Z"
   },
   {
    "duration": 161,
    "start_time": "2023-12-03T19:04:57.224Z"
   },
   {
    "duration": 160,
    "start_time": "2023-12-03T19:05:15.024Z"
   },
   {
    "duration": 153,
    "start_time": "2023-12-03T19:05:23.638Z"
   },
   {
    "duration": 150,
    "start_time": "2023-12-03T19:06:03.222Z"
   },
   {
    "duration": 142,
    "start_time": "2023-12-03T19:07:12.524Z"
   },
   {
    "duration": 144,
    "start_time": "2023-12-03T19:07:29.908Z"
   },
   {
    "duration": 136,
    "start_time": "2023-12-03T19:07:41.708Z"
   },
   {
    "duration": 156,
    "start_time": "2023-12-03T19:07:50.284Z"
   },
   {
    "duration": 149,
    "start_time": "2023-12-03T19:08:18.773Z"
   },
   {
    "duration": 148,
    "start_time": "2023-12-03T19:11:09.960Z"
   },
   {
    "duration": 266,
    "start_time": "2023-12-03T19:11:20.984Z"
   },
   {
    "duration": 257,
    "start_time": "2023-12-03T19:12:05.271Z"
   },
   {
    "duration": 3,
    "start_time": "2023-12-03T19:13:29.804Z"
   },
   {
    "duration": 333,
    "start_time": "2023-12-03T19:13:48.804Z"
   },
   {
    "duration": 177,
    "start_time": "2023-12-03T19:14:41.524Z"
   },
   {
    "duration": 259,
    "start_time": "2023-12-03T19:14:53.515Z"
   },
   {
    "duration": 258,
    "start_time": "2023-12-03T19:15:34.795Z"
   },
   {
    "duration": 258,
    "start_time": "2023-12-03T19:15:39.842Z"
   },
   {
    "duration": 280,
    "start_time": "2023-12-03T19:18:36.751Z"
   },
   {
    "duration": 264,
    "start_time": "2023-12-03T19:18:41.143Z"
   },
   {
    "duration": 277,
    "start_time": "2023-12-03T19:19:40.630Z"
   },
   {
    "duration": 7,
    "start_time": "2023-12-03T19:21:28.516Z"
   },
   {
    "duration": 1636,
    "start_time": "2023-12-03T19:23:58.168Z"
   },
   {
    "duration": 1502,
    "start_time": "2023-12-03T19:24:25.601Z"
   },
   {
    "duration": 1083,
    "start_time": "2023-12-03T19:24:32.290Z"
   },
   {
    "duration": 86,
    "start_time": "2023-12-03T19:24:33.375Z"
   },
   {
    "duration": 22,
    "start_time": "2023-12-03T19:24:33.462Z"
   },
   {
    "duration": 982,
    "start_time": "2023-12-03T19:24:33.486Z"
   },
   {
    "duration": 15,
    "start_time": "2023-12-03T19:24:34.470Z"
   },
   {
    "duration": 9,
    "start_time": "2023-12-03T19:24:34.486Z"
   },
   {
    "duration": 6,
    "start_time": "2023-12-03T19:24:34.496Z"
   },
   {
    "duration": 19,
    "start_time": "2023-12-03T19:24:34.503Z"
   },
   {
    "duration": 5,
    "start_time": "2023-12-03T19:24:34.524Z"
   },
   {
    "duration": 227,
    "start_time": "2023-12-03T19:24:34.532Z"
   },
   {
    "duration": 5,
    "start_time": "2023-12-03T19:24:34.760Z"
   },
   {
    "duration": 181,
    "start_time": "2023-12-03T19:24:34.766Z"
   },
   {
    "duration": 138,
    "start_time": "2023-12-03T19:24:34.948Z"
   },
   {
    "duration": 169,
    "start_time": "2023-12-03T19:24:35.088Z"
   },
   {
    "duration": 209,
    "start_time": "2023-12-03T19:24:35.259Z"
   },
   {
    "duration": 266,
    "start_time": "2023-12-03T19:24:35.469Z"
   },
   {
    "duration": 23,
    "start_time": "2023-12-03T19:24:35.736Z"
   },
   {
    "duration": 31,
    "start_time": "2023-12-03T19:24:35.761Z"
   },
   {
    "duration": 48,
    "start_time": "2023-12-03T19:24:35.793Z"
   },
   {
    "duration": 265,
    "start_time": "2023-12-03T19:24:35.843Z"
   },
   {
    "duration": 272,
    "start_time": "2023-12-03T19:24:36.110Z"
   },
   {
    "duration": 4,
    "start_time": "2023-12-03T19:24:36.383Z"
   },
   {
    "duration": 655,
    "start_time": "2023-12-03T19:24:36.389Z"
   },
   {
    "duration": 309,
    "start_time": "2023-12-03T19:24:37.047Z"
   },
   {
    "duration": 6,
    "start_time": "2023-12-03T19:24:37.358Z"
   },
   {
    "duration": 6,
    "start_time": "2023-12-03T19:24:37.365Z"
   },
   {
    "duration": 44,
    "start_time": "2023-12-03T19:24:37.372Z"
   },
   {
    "duration": 5,
    "start_time": "2023-12-03T19:24:37.419Z"
   },
   {
    "duration": 7,
    "start_time": "2023-12-03T19:24:37.426Z"
   },
   {
    "duration": 1494,
    "start_time": "2023-12-03T19:24:37.434Z"
   },
   {
    "duration": 5,
    "start_time": "2023-12-03T19:24:38.929Z"
   },
   {
    "duration": 299,
    "start_time": "2023-12-03T19:24:38.935Z"
   },
   {
    "duration": 1079,
    "start_time": "2023-12-03T19:24:54.785Z"
   },
   {
    "duration": 87,
    "start_time": "2023-12-03T19:24:55.866Z"
   },
   {
    "duration": 23,
    "start_time": "2023-12-03T19:24:55.954Z"
   },
   {
    "duration": 952,
    "start_time": "2023-12-03T19:24:55.980Z"
   },
   {
    "duration": 15,
    "start_time": "2023-12-03T19:24:56.934Z"
   },
   {
    "duration": 9,
    "start_time": "2023-12-03T19:24:56.950Z"
   },
   {
    "duration": 7,
    "start_time": "2023-12-03T19:24:56.960Z"
   },
   {
    "duration": 11,
    "start_time": "2023-12-03T19:24:56.969Z"
   },
   {
    "duration": 5,
    "start_time": "2023-12-03T19:24:56.981Z"
   },
   {
    "duration": 221,
    "start_time": "2023-12-03T19:24:56.989Z"
   },
   {
    "duration": 5,
    "start_time": "2023-12-03T19:24:57.214Z"
   },
   {
    "duration": 183,
    "start_time": "2023-12-03T19:24:57.221Z"
   },
   {
    "duration": 124,
    "start_time": "2023-12-03T19:24:57.405Z"
   },
   {
    "duration": 176,
    "start_time": "2023-12-03T19:24:57.530Z"
   },
   {
    "duration": 205,
    "start_time": "2023-12-03T19:24:57.715Z"
   },
   {
    "duration": 296,
    "start_time": "2023-12-03T19:24:57.921Z"
   },
   {
    "duration": 30,
    "start_time": "2023-12-03T19:24:58.219Z"
   },
   {
    "duration": 33,
    "start_time": "2023-12-03T19:24:58.251Z"
   },
   {
    "duration": 59,
    "start_time": "2023-12-03T19:24:58.285Z"
   },
   {
    "duration": 272,
    "start_time": "2023-12-03T19:24:58.345Z"
   },
   {
    "duration": 295,
    "start_time": "2023-12-03T19:24:58.619Z"
   },
   {
    "duration": 4,
    "start_time": "2023-12-03T19:24:58.916Z"
   },
   {
    "duration": 697,
    "start_time": "2023-12-03T19:24:58.921Z"
   },
   {
    "duration": 314,
    "start_time": "2023-12-03T19:24:59.620Z"
   },
   {
    "duration": 6,
    "start_time": "2023-12-03T19:24:59.935Z"
   },
   {
    "duration": 5,
    "start_time": "2023-12-03T19:24:59.942Z"
   },
   {
    "duration": 21,
    "start_time": "2023-12-03T19:24:59.949Z"
   },
   {
    "duration": 5,
    "start_time": "2023-12-03T19:24:59.973Z"
   },
   {
    "duration": 37,
    "start_time": "2023-12-03T19:24:59.979Z"
   },
   {
    "duration": 929,
    "start_time": "2023-12-03T19:25:00.018Z"
   },
   {
    "duration": 6,
    "start_time": "2023-12-03T19:25:00.948Z"
   },
   {
    "duration": 307,
    "start_time": "2023-12-03T19:25:00.955Z"
   },
   {
    "duration": 1077,
    "start_time": "2023-12-03T19:25:10.580Z"
   },
   {
    "duration": 86,
    "start_time": "2023-12-03T19:25:11.659Z"
   },
   {
    "duration": 24,
    "start_time": "2023-12-03T19:25:11.746Z"
   },
   {
    "duration": 952,
    "start_time": "2023-12-03T19:25:11.772Z"
   },
   {
    "duration": 19,
    "start_time": "2023-12-03T19:25:12.725Z"
   },
   {
    "duration": 9,
    "start_time": "2023-12-03T19:25:12.745Z"
   },
   {
    "duration": 4,
    "start_time": "2023-12-03T19:25:12.756Z"
   },
   {
    "duration": 11,
    "start_time": "2023-12-03T19:25:12.761Z"
   },
   {
    "duration": 14,
    "start_time": "2023-12-03T19:25:12.773Z"
   },
   {
    "duration": 241,
    "start_time": "2023-12-03T19:25:12.789Z"
   },
   {
    "duration": 5,
    "start_time": "2023-12-03T19:25:13.032Z"
   },
   {
    "duration": 191,
    "start_time": "2023-12-03T19:25:13.038Z"
   },
   {
    "duration": 127,
    "start_time": "2023-12-03T19:25:13.230Z"
   },
   {
    "duration": 179,
    "start_time": "2023-12-03T19:25:13.358Z"
   },
   {
    "duration": 199,
    "start_time": "2023-12-03T19:25:13.538Z"
   },
   {
    "duration": 265,
    "start_time": "2023-12-03T19:25:13.739Z"
   },
   {
    "duration": 30,
    "start_time": "2023-12-03T19:25:14.006Z"
   },
   {
    "duration": 27,
    "start_time": "2023-12-03T19:25:14.038Z"
   },
   {
    "duration": 24,
    "start_time": "2023-12-03T19:25:14.066Z"
   },
   {
    "duration": 254,
    "start_time": "2023-12-03T19:25:14.116Z"
   },
   {
    "duration": 261,
    "start_time": "2023-12-03T19:25:14.372Z"
   },
   {
    "duration": 4,
    "start_time": "2023-12-03T19:25:14.634Z"
   },
   {
    "duration": 697,
    "start_time": "2023-12-03T19:25:14.640Z"
   },
   {
    "duration": 318,
    "start_time": "2023-12-03T19:25:15.338Z"
   },
   {
    "duration": 4,
    "start_time": "2023-12-03T19:25:15.658Z"
   },
   {
    "duration": 13,
    "start_time": "2023-12-03T19:25:15.664Z"
   },
   {
    "duration": 21,
    "start_time": "2023-12-03T19:25:15.678Z"
   },
   {
    "duration": 17,
    "start_time": "2023-12-03T19:25:15.701Z"
   },
   {
    "duration": 16,
    "start_time": "2023-12-03T19:25:15.719Z"
   },
   {
    "duration": 1437,
    "start_time": "2023-12-03T19:25:15.736Z"
   },
   {
    "duration": 5,
    "start_time": "2023-12-03T19:25:17.175Z"
   },
   {
    "duration": 305,
    "start_time": "2023-12-03T19:25:17.181Z"
   },
   {
    "duration": 1046,
    "start_time": "2023-12-03T19:25:27.512Z"
   },
   {
    "duration": 85,
    "start_time": "2023-12-03T19:25:28.560Z"
   },
   {
    "duration": 23,
    "start_time": "2023-12-03T19:25:28.647Z"
   },
   {
    "duration": 968,
    "start_time": "2023-12-03T19:25:28.672Z"
   },
   {
    "duration": 15,
    "start_time": "2023-12-03T19:25:29.642Z"
   },
   {
    "duration": 9,
    "start_time": "2023-12-03T19:25:29.658Z"
   },
   {
    "duration": 7,
    "start_time": "2023-12-03T19:25:29.669Z"
   },
   {
    "duration": 38,
    "start_time": "2023-12-03T19:25:29.677Z"
   },
   {
    "duration": 8,
    "start_time": "2023-12-03T19:25:29.717Z"
   },
   {
    "duration": 222,
    "start_time": "2023-12-03T19:25:29.728Z"
   },
   {
    "duration": 5,
    "start_time": "2023-12-03T19:25:29.952Z"
   },
   {
    "duration": 174,
    "start_time": "2023-12-03T19:25:29.958Z"
   },
   {
    "duration": 127,
    "start_time": "2023-12-03T19:25:30.134Z"
   },
   {
    "duration": 182,
    "start_time": "2023-12-03T19:25:30.262Z"
   },
   {
    "duration": 208,
    "start_time": "2023-12-03T19:25:30.446Z"
   },
   {
    "duration": 269,
    "start_time": "2023-12-03T19:25:30.656Z"
   },
   {
    "duration": 23,
    "start_time": "2023-12-03T19:25:30.926Z"
   },
   {
    "duration": 41,
    "start_time": "2023-12-03T19:25:30.951Z"
   },
   {
    "duration": 41,
    "start_time": "2023-12-03T19:25:30.994Z"
   },
   {
    "duration": 270,
    "start_time": "2023-12-03T19:25:31.036Z"
   },
   {
    "duration": 269,
    "start_time": "2023-12-03T19:25:31.308Z"
   },
   {
    "duration": 4,
    "start_time": "2023-12-03T19:25:31.578Z"
   },
   {
    "duration": 687,
    "start_time": "2023-12-03T19:25:31.583Z"
   },
   {
    "duration": 314,
    "start_time": "2023-12-03T19:25:32.272Z"
   },
   {
    "duration": 5,
    "start_time": "2023-12-03T19:25:32.587Z"
   },
   {
    "duration": 10,
    "start_time": "2023-12-03T19:25:32.593Z"
   },
   {
    "duration": 29,
    "start_time": "2023-12-03T19:25:32.604Z"
   },
   {
    "duration": 4,
    "start_time": "2023-12-03T19:25:32.637Z"
   },
   {
    "duration": 13,
    "start_time": "2023-12-03T19:25:32.642Z"
   },
   {
    "duration": 1804,
    "start_time": "2023-12-03T19:25:32.657Z"
   },
   {
    "duration": 6,
    "start_time": "2023-12-03T19:25:34.463Z"
   },
   {
    "duration": 295,
    "start_time": "2023-12-03T19:25:34.470Z"
   },
   {
    "duration": 167,
    "start_time": "2023-12-03T19:26:49.934Z"
   },
   {
    "duration": 173,
    "start_time": "2023-12-03T19:27:47.005Z"
   },
   {
    "duration": 167,
    "start_time": "2023-12-03T19:27:55.477Z"
   },
   {
    "duration": 1087,
    "start_time": "2023-12-03T19:28:03.694Z"
   },
   {
    "duration": 91,
    "start_time": "2023-12-03T19:28:04.783Z"
   },
   {
    "duration": 25,
    "start_time": "2023-12-03T19:28:04.876Z"
   },
   {
    "duration": 937,
    "start_time": "2023-12-03T19:28:04.903Z"
   },
   {
    "duration": 15,
    "start_time": "2023-12-03T19:28:05.842Z"
   },
   {
    "duration": 9,
    "start_time": "2023-12-03T19:28:05.858Z"
   },
   {
    "duration": 6,
    "start_time": "2023-12-03T19:28:05.868Z"
   },
   {
    "duration": 18,
    "start_time": "2023-12-03T19:28:05.876Z"
   },
   {
    "duration": 29,
    "start_time": "2023-12-03T19:28:05.896Z"
   },
   {
    "duration": 250,
    "start_time": "2023-12-03T19:28:05.927Z"
   },
   {
    "duration": 5,
    "start_time": "2023-12-03T19:28:06.178Z"
   },
   {
    "duration": 167,
    "start_time": "2023-12-03T19:28:06.185Z"
   },
   {
    "duration": 122,
    "start_time": "2023-12-03T19:28:06.353Z"
   },
   {
    "duration": 176,
    "start_time": "2023-12-03T19:28:06.477Z"
   },
   {
    "duration": 207,
    "start_time": "2023-12-03T19:28:06.655Z"
   },
   {
    "duration": 272,
    "start_time": "2023-12-03T19:28:06.864Z"
   },
   {
    "duration": 24,
    "start_time": "2023-12-03T19:28:07.137Z"
   },
   {
    "duration": 52,
    "start_time": "2023-12-03T19:28:07.163Z"
   },
   {
    "duration": 32,
    "start_time": "2023-12-03T19:28:07.216Z"
   },
   {
    "duration": 267,
    "start_time": "2023-12-03T19:28:07.250Z"
   },
   {
    "duration": 267,
    "start_time": "2023-12-03T19:28:07.518Z"
   },
   {
    "duration": 4,
    "start_time": "2023-12-03T19:28:07.786Z"
   },
   {
    "duration": 671,
    "start_time": "2023-12-03T19:28:07.791Z"
   },
   {
    "duration": 302,
    "start_time": "2023-12-03T19:28:08.464Z"
   },
   {
    "duration": 6,
    "start_time": "2023-12-03T19:28:08.767Z"
   },
   {
    "duration": 23,
    "start_time": "2023-12-03T19:28:08.775Z"
   },
   {
    "duration": 27,
    "start_time": "2023-12-03T19:28:08.799Z"
   },
   {
    "duration": 5,
    "start_time": "2023-12-03T19:28:08.829Z"
   },
   {
    "duration": 10,
    "start_time": "2023-12-03T19:28:08.835Z"
   },
   {
    "duration": 185,
    "start_time": "2023-12-03T19:28:08.846Z"
   },
   {
    "duration": 5,
    "start_time": "2023-12-03T19:28:09.033Z"
   },
   {
    "duration": 368,
    "start_time": "2023-12-03T19:28:09.040Z"
   },
   {
    "duration": 165,
    "start_time": "2023-12-03T19:28:42.484Z"
   },
   {
    "duration": 146,
    "start_time": "2023-12-03T19:29:36.403Z"
   },
   {
    "duration": 166,
    "start_time": "2023-12-03T19:29:42.860Z"
   },
   {
    "duration": 180,
    "start_time": "2023-12-03T19:29:55.210Z"
   },
   {
    "duration": 1021,
    "start_time": "2023-12-03T19:46:40.933Z"
   },
   {
    "duration": 86,
    "start_time": "2023-12-03T19:46:41.956Z"
   },
   {
    "duration": 24,
    "start_time": "2023-12-03T19:46:42.043Z"
   },
   {
    "duration": 951,
    "start_time": "2023-12-03T19:46:42.069Z"
   },
   {
    "duration": 15,
    "start_time": "2023-12-03T19:46:43.022Z"
   },
   {
    "duration": 128,
    "start_time": "2023-12-03T19:46:43.038Z"
   },
   {
    "duration": 58,
    "start_time": "2023-12-03T19:46:43.167Z"
   },
   {
    "duration": 13,
    "start_time": "2023-12-03T19:46:43.227Z"
   },
   {
    "duration": 5,
    "start_time": "2023-12-03T19:46:43.241Z"
   },
   {
    "duration": 236,
    "start_time": "2023-12-03T19:46:43.249Z"
   },
   {
    "duration": 5,
    "start_time": "2023-12-03T19:46:43.486Z"
   },
   {
    "duration": 174,
    "start_time": "2023-12-03T19:46:43.492Z"
   },
   {
    "duration": 132,
    "start_time": "2023-12-03T19:46:43.667Z"
   },
   {
    "duration": 182,
    "start_time": "2023-12-03T19:46:43.801Z"
   },
   {
    "duration": 206,
    "start_time": "2023-12-03T19:46:43.984Z"
   },
   {
    "duration": 277,
    "start_time": "2023-12-03T19:46:44.192Z"
   },
   {
    "duration": 23,
    "start_time": "2023-12-03T19:46:44.470Z"
   },
   {
    "duration": 76,
    "start_time": "2023-12-03T19:46:44.494Z"
   },
   {
    "duration": 33,
    "start_time": "2023-12-03T19:46:44.571Z"
   },
   {
    "duration": 247,
    "start_time": "2023-12-03T19:46:44.605Z"
   },
   {
    "duration": 282,
    "start_time": "2023-12-03T19:46:44.854Z"
   },
   {
    "duration": 4,
    "start_time": "2023-12-03T19:46:45.138Z"
   },
   {
    "duration": 679,
    "start_time": "2023-12-03T19:46:45.144Z"
   },
   {
    "duration": 327,
    "start_time": "2023-12-03T19:46:45.824Z"
   },
   {
    "duration": 6,
    "start_time": "2023-12-03T19:46:46.152Z"
   },
   {
    "duration": 27,
    "start_time": "2023-12-03T19:46:46.159Z"
   },
   {
    "duration": 27,
    "start_time": "2023-12-03T19:46:46.188Z"
   },
   {
    "duration": 5,
    "start_time": "2023-12-03T19:46:46.218Z"
   },
   {
    "duration": 8,
    "start_time": "2023-12-03T19:46:46.224Z"
   },
   {
    "duration": 191,
    "start_time": "2023-12-03T19:46:46.233Z"
   },
   {
    "duration": 5,
    "start_time": "2023-12-03T19:46:46.425Z"
   },
   {
    "duration": 342,
    "start_time": "2023-12-03T19:46:46.432Z"
   },
   {
    "duration": 1056,
    "start_time": "2023-12-03T19:47:16.012Z"
   },
   {
    "duration": 89,
    "start_time": "2023-12-03T19:47:17.070Z"
   },
   {
    "duration": 22,
    "start_time": "2023-12-03T19:47:17.160Z"
   },
   {
    "duration": 945,
    "start_time": "2023-12-03T19:47:17.184Z"
   },
   {
    "duration": 15,
    "start_time": "2023-12-03T19:47:18.130Z"
   },
   {
    "duration": 9,
    "start_time": "2023-12-03T19:47:18.147Z"
   },
   {
    "duration": 7,
    "start_time": "2023-12-03T19:47:18.159Z"
   },
   {
    "duration": 16,
    "start_time": "2023-12-03T19:47:18.168Z"
   },
   {
    "duration": 5,
    "start_time": "2023-12-03T19:47:18.186Z"
   },
   {
    "duration": 231,
    "start_time": "2023-12-03T19:47:18.194Z"
   },
   {
    "duration": 5,
    "start_time": "2023-12-03T19:47:18.427Z"
   },
   {
    "duration": 171,
    "start_time": "2023-12-03T19:47:18.434Z"
   },
   {
    "duration": 126,
    "start_time": "2023-12-03T19:47:18.607Z"
   },
   {
    "duration": 212,
    "start_time": "2023-12-03T19:47:18.735Z"
   },
   {
    "duration": 216,
    "start_time": "2023-12-03T19:47:18.949Z"
   },
   {
    "duration": 277,
    "start_time": "2023-12-03T19:47:19.166Z"
   },
   {
    "duration": 24,
    "start_time": "2023-12-03T19:47:19.444Z"
   },
   {
    "duration": 45,
    "start_time": "2023-12-03T19:47:19.470Z"
   },
   {
    "duration": 29,
    "start_time": "2023-12-03T19:47:19.516Z"
   },
   {
    "duration": 268,
    "start_time": "2023-12-03T19:47:19.546Z"
   },
   {
    "duration": 272,
    "start_time": "2023-12-03T19:47:19.816Z"
   },
   {
    "duration": 98,
    "start_time": "2023-12-03T19:47:20.089Z"
   },
   {
    "duration": 0,
    "start_time": "2023-12-03T19:47:20.188Z"
   },
   {
    "duration": 0,
    "start_time": "2023-12-03T19:47:20.189Z"
   },
   {
    "duration": 0,
    "start_time": "2023-12-03T19:47:20.190Z"
   },
   {
    "duration": 0,
    "start_time": "2023-12-03T19:47:20.192Z"
   },
   {
    "duration": 1,
    "start_time": "2023-12-03T19:47:20.192Z"
   },
   {
    "duration": 0,
    "start_time": "2023-12-03T19:47:20.194Z"
   },
   {
    "duration": 0,
    "start_time": "2023-12-03T19:47:20.195Z"
   },
   {
    "duration": 0,
    "start_time": "2023-12-03T19:47:20.214Z"
   },
   {
    "duration": 0,
    "start_time": "2023-12-03T19:47:20.216Z"
   },
   {
    "duration": 0,
    "start_time": "2023-12-03T19:47:20.217Z"
   },
   {
    "duration": 1021,
    "start_time": "2023-12-03T19:47:42.438Z"
   },
   {
    "duration": 84,
    "start_time": "2023-12-03T19:47:43.461Z"
   },
   {
    "duration": 24,
    "start_time": "2023-12-03T19:47:43.547Z"
   },
   {
    "duration": 968,
    "start_time": "2023-12-03T19:47:43.580Z"
   },
   {
    "duration": 15,
    "start_time": "2023-12-03T19:47:44.550Z"
   },
   {
    "duration": 10,
    "start_time": "2023-12-03T19:47:44.566Z"
   },
   {
    "duration": 7,
    "start_time": "2023-12-03T19:47:44.577Z"
   },
   {
    "duration": 13,
    "start_time": "2023-12-03T19:47:44.585Z"
   },
   {
    "duration": 6,
    "start_time": "2023-12-03T19:47:44.600Z"
   },
   {
    "duration": 219,
    "start_time": "2023-12-03T19:47:44.610Z"
   },
   {
    "duration": 5,
    "start_time": "2023-12-03T19:47:44.830Z"
   },
   {
    "duration": 180,
    "start_time": "2023-12-03T19:47:44.837Z"
   },
   {
    "duration": 128,
    "start_time": "2023-12-03T19:47:45.019Z"
   },
   {
    "duration": 176,
    "start_time": "2023-12-03T19:47:45.149Z"
   },
   {
    "duration": 206,
    "start_time": "2023-12-03T19:47:45.327Z"
   },
   {
    "duration": 282,
    "start_time": "2023-12-03T19:47:45.535Z"
   },
   {
    "duration": 23,
    "start_time": "2023-12-03T19:47:45.818Z"
   },
   {
    "duration": 33,
    "start_time": "2023-12-03T19:47:45.842Z"
   },
   {
    "duration": 44,
    "start_time": "2023-12-03T19:47:45.877Z"
   },
   {
    "duration": 261,
    "start_time": "2023-12-03T19:47:45.922Z"
   },
   {
    "duration": 267,
    "start_time": "2023-12-03T19:47:46.184Z"
   },
   {
    "duration": 4,
    "start_time": "2023-12-03T19:47:46.453Z"
   },
   {
    "duration": 691,
    "start_time": "2023-12-03T19:47:46.458Z"
   },
   {
    "duration": 306,
    "start_time": "2023-12-03T19:47:47.151Z"
   },
   {
    "duration": 5,
    "start_time": "2023-12-03T19:47:47.459Z"
   },
   {
    "duration": 4,
    "start_time": "2023-12-03T19:47:47.466Z"
   },
   {
    "duration": 49,
    "start_time": "2023-12-03T19:47:47.471Z"
   },
   {
    "duration": 5,
    "start_time": "2023-12-03T19:47:47.523Z"
   },
   {
    "duration": 6,
    "start_time": "2023-12-03T19:47:47.530Z"
   },
   {
    "duration": 194,
    "start_time": "2023-12-03T19:47:47.537Z"
   },
   {
    "duration": 5,
    "start_time": "2023-12-03T19:47:47.733Z"
   },
   {
    "duration": 350,
    "start_time": "2023-12-03T19:47:47.739Z"
   },
   {
    "duration": 79,
    "start_time": "2023-12-03T19:48:11.148Z"
   },
   {
    "duration": 5,
    "start_time": "2023-12-03T19:56:06.740Z"
   },
   {
    "duration": 1118,
    "start_time": "2023-12-03T20:00:01.851Z"
   },
   {
    "duration": 96,
    "start_time": "2023-12-03T20:00:02.970Z"
   },
   {
    "duration": 21,
    "start_time": "2023-12-03T20:00:03.068Z"
   },
   {
    "duration": 1068,
    "start_time": "2023-12-03T20:00:03.091Z"
   },
   {
    "duration": 15,
    "start_time": "2023-12-03T20:00:04.161Z"
   },
   {
    "duration": 27,
    "start_time": "2023-12-03T20:00:04.177Z"
   },
   {
    "duration": 16,
    "start_time": "2023-12-03T20:00:04.206Z"
   },
   {
    "duration": 26,
    "start_time": "2023-12-03T20:00:04.227Z"
   },
   {
    "duration": 5,
    "start_time": "2023-12-03T20:00:04.254Z"
   },
   {
    "duration": 265,
    "start_time": "2023-12-03T20:00:04.262Z"
   },
   {
    "duration": 6,
    "start_time": "2023-12-03T20:00:04.530Z"
   },
   {
    "duration": 242,
    "start_time": "2023-12-03T20:00:04.537Z"
   },
   {
    "duration": 130,
    "start_time": "2023-12-03T20:00:04.780Z"
   },
   {
    "duration": 218,
    "start_time": "2023-12-03T20:00:04.915Z"
   },
   {
    "duration": 217,
    "start_time": "2023-12-03T20:00:05.135Z"
   },
   {
    "duration": 290,
    "start_time": "2023-12-03T20:00:05.354Z"
   },
   {
    "duration": 24,
    "start_time": "2023-12-03T20:00:05.646Z"
   },
   {
    "duration": 43,
    "start_time": "2023-12-03T20:00:05.672Z"
   },
   {
    "duration": 33,
    "start_time": "2023-12-03T20:00:05.717Z"
   },
   {
    "duration": 283,
    "start_time": "2023-12-03T20:00:05.752Z"
   },
   {
    "duration": 295,
    "start_time": "2023-12-03T20:00:06.037Z"
   },
   {
    "duration": 5,
    "start_time": "2023-12-03T20:00:06.333Z"
   },
   {
    "duration": 742,
    "start_time": "2023-12-03T20:00:06.339Z"
   },
   {
    "duration": 333,
    "start_time": "2023-12-03T20:00:07.083Z"
   },
   {
    "duration": 10,
    "start_time": "2023-12-03T20:00:07.418Z"
   },
   {
    "duration": 8,
    "start_time": "2023-12-03T20:00:07.430Z"
   },
   {
    "duration": 21,
    "start_time": "2023-12-03T20:00:07.439Z"
   },
   {
    "duration": 4,
    "start_time": "2023-12-03T20:00:07.463Z"
   },
   {
    "duration": 24,
    "start_time": "2023-12-03T20:00:07.468Z"
   },
   {
    "duration": 201,
    "start_time": "2023-12-03T20:00:07.494Z"
   },
   {
    "duration": 5,
    "start_time": "2023-12-03T20:00:07.696Z"
   },
   {
    "duration": 365,
    "start_time": "2023-12-03T20:00:07.702Z"
   },
   {
    "duration": 1139,
    "start_time": "2023-12-03T20:38:05.401Z"
   },
   {
    "duration": 93,
    "start_time": "2023-12-03T20:38:06.542Z"
   },
   {
    "duration": 23,
    "start_time": "2023-12-03T20:38:06.637Z"
   },
   {
    "duration": 996,
    "start_time": "2023-12-03T20:38:06.661Z"
   },
   {
    "duration": 14,
    "start_time": "2023-12-03T20:38:07.658Z"
   },
   {
    "duration": 11,
    "start_time": "2023-12-03T20:38:07.674Z"
   },
   {
    "duration": 20,
    "start_time": "2023-12-03T20:38:07.686Z"
   },
   {
    "duration": 16,
    "start_time": "2023-12-03T20:38:07.708Z"
   },
   {
    "duration": 7,
    "start_time": "2023-12-03T20:38:07.726Z"
   },
   {
    "duration": 259,
    "start_time": "2023-12-03T20:38:07.736Z"
   },
   {
    "duration": 5,
    "start_time": "2023-12-03T20:38:07.996Z"
   },
   {
    "duration": 192,
    "start_time": "2023-12-03T20:38:08.002Z"
   },
   {
    "duration": 121,
    "start_time": "2023-12-03T20:38:08.196Z"
   },
   {
    "duration": 194,
    "start_time": "2023-12-03T20:38:08.319Z"
   },
   {
    "duration": 227,
    "start_time": "2023-12-03T20:38:08.515Z"
   },
   {
    "duration": 290,
    "start_time": "2023-12-03T20:38:08.743Z"
   },
   {
    "duration": 25,
    "start_time": "2023-12-03T20:38:09.034Z"
   },
   {
    "duration": 30,
    "start_time": "2023-12-03T20:38:09.060Z"
   },
   {
    "duration": 54,
    "start_time": "2023-12-03T20:38:09.092Z"
   },
   {
    "duration": 295,
    "start_time": "2023-12-03T20:38:09.147Z"
   },
   {
    "duration": 287,
    "start_time": "2023-12-03T20:38:09.443Z"
   },
   {
    "duration": 6,
    "start_time": "2023-12-03T20:38:09.731Z"
   },
   {
    "duration": 664,
    "start_time": "2023-12-03T20:38:09.738Z"
   },
   {
    "duration": 356,
    "start_time": "2023-12-03T20:38:10.404Z"
   },
   {
    "duration": 5,
    "start_time": "2023-12-03T20:38:10.761Z"
   },
   {
    "duration": 15,
    "start_time": "2023-12-03T20:38:10.767Z"
   },
   {
    "duration": 24,
    "start_time": "2023-12-03T20:38:10.784Z"
   },
   {
    "duration": 6,
    "start_time": "2023-12-03T20:38:10.815Z"
   },
   {
    "duration": 8,
    "start_time": "2023-12-03T20:38:10.822Z"
   },
   {
    "duration": 196,
    "start_time": "2023-12-03T20:38:10.832Z"
   },
   {
    "duration": 10,
    "start_time": "2023-12-03T20:38:11.030Z"
   },
   {
    "duration": 408,
    "start_time": "2023-12-03T20:38:11.041Z"
   },
   {
    "duration": 11,
    "start_time": "2023-12-03T20:54:30.601Z"
   },
   {
    "duration": 9,
    "start_time": "2023-12-03T20:54:56.342Z"
   },
   {
    "duration": 21,
    "start_time": "2023-12-03T21:37:10.017Z"
   },
   {
    "duration": 7,
    "start_time": "2023-12-03T21:44:10.942Z"
   },
   {
    "duration": 6,
    "start_time": "2023-12-03T21:44:26.647Z"
   },
   {
    "duration": 1218,
    "start_time": "2023-12-03T21:53:05.087Z"
   },
   {
    "duration": 109,
    "start_time": "2023-12-03T21:53:06.307Z"
   },
   {
    "duration": 34,
    "start_time": "2023-12-03T21:53:06.421Z"
   },
   {
    "duration": 1142,
    "start_time": "2023-12-03T21:53:06.457Z"
   },
   {
    "duration": 31,
    "start_time": "2023-12-03T21:53:07.600Z"
   },
   {
    "duration": 11,
    "start_time": "2023-12-03T21:53:07.635Z"
   },
   {
    "duration": 6,
    "start_time": "2023-12-03T21:53:07.649Z"
   },
   {
    "duration": 18,
    "start_time": "2023-12-03T21:53:07.657Z"
   },
   {
    "duration": 8,
    "start_time": "2023-12-03T21:53:07.676Z"
   },
   {
    "duration": 283,
    "start_time": "2023-12-03T21:53:07.687Z"
   },
   {
    "duration": 6,
    "start_time": "2023-12-03T21:53:07.972Z"
   },
   {
    "duration": 206,
    "start_time": "2023-12-03T21:53:07.979Z"
   },
   {
    "duration": 163,
    "start_time": "2023-12-03T21:53:08.187Z"
   },
   {
    "duration": 222,
    "start_time": "2023-12-03T21:53:08.352Z"
   },
   {
    "duration": 235,
    "start_time": "2023-12-03T21:53:08.575Z"
   },
   {
    "duration": 330,
    "start_time": "2023-12-03T21:53:08.814Z"
   },
   {
    "duration": 26,
    "start_time": "2023-12-03T21:53:09.145Z"
   },
   {
    "duration": 51,
    "start_time": "2023-12-03T21:53:09.172Z"
   },
   {
    "duration": 37,
    "start_time": "2023-12-03T21:53:09.229Z"
   },
   {
    "duration": 377,
    "start_time": "2023-12-03T21:53:09.268Z"
   },
   {
    "duration": 314,
    "start_time": "2023-12-03T21:53:09.646Z"
   },
   {
    "duration": 4,
    "start_time": "2023-12-03T21:53:09.961Z"
   },
   {
    "duration": 817,
    "start_time": "2023-12-03T21:53:09.967Z"
   },
   {
    "duration": 382,
    "start_time": "2023-12-03T21:53:10.785Z"
   },
   {
    "duration": 7,
    "start_time": "2023-12-03T21:53:11.169Z"
   },
   {
    "duration": 47,
    "start_time": "2023-12-03T21:53:11.178Z"
   },
   {
    "duration": 26,
    "start_time": "2023-12-03T21:53:11.230Z"
   },
   {
    "duration": 6,
    "start_time": "2023-12-03T21:53:11.259Z"
   },
   {
    "duration": 15,
    "start_time": "2023-12-03T21:53:11.266Z"
   },
   {
    "duration": 216,
    "start_time": "2023-12-03T21:53:11.283Z"
   },
   {
    "duration": 5,
    "start_time": "2023-12-03T21:53:11.501Z"
   },
   {
    "duration": 426,
    "start_time": "2023-12-03T21:53:11.513Z"
   },
   {
    "duration": 85,
    "start_time": "2023-12-04T14:21:16.835Z"
   },
   {
    "duration": 46,
    "start_time": "2023-12-04T14:39:26.073Z"
   },
   {
    "duration": 1347,
    "start_time": "2023-12-04T14:39:32.412Z"
   },
   {
    "duration": 209,
    "start_time": "2023-12-04T14:39:33.766Z"
   },
   {
    "duration": 21,
    "start_time": "2023-12-04T14:39:33.977Z"
   },
   {
    "duration": 1023,
    "start_time": "2023-12-04T14:39:34.000Z"
   },
   {
    "duration": 40,
    "start_time": "2023-12-04T14:39:35.025Z"
   },
   {
    "duration": 14,
    "start_time": "2023-12-04T14:39:35.070Z"
   },
   {
    "duration": 5,
    "start_time": "2023-12-04T14:39:35.086Z"
   },
   {
    "duration": 14,
    "start_time": "2023-12-04T14:39:35.092Z"
   },
   {
    "duration": 5,
    "start_time": "2023-12-04T14:39:35.107Z"
   },
   {
    "duration": 251,
    "start_time": "2023-12-04T14:39:35.115Z"
   },
   {
    "duration": 6,
    "start_time": "2023-12-04T14:39:35.368Z"
   },
   {
    "duration": 5,
    "start_time": "2023-12-04T14:39:35.376Z"
   },
   {
    "duration": 194,
    "start_time": "2023-12-04T14:39:35.383Z"
   },
   {
    "duration": 118,
    "start_time": "2023-12-04T14:39:35.579Z"
   },
   {
    "duration": 180,
    "start_time": "2023-12-04T14:39:35.699Z"
   },
   {
    "duration": 205,
    "start_time": "2023-12-04T14:39:35.881Z"
   },
   {
    "duration": 269,
    "start_time": "2023-12-04T14:39:36.087Z"
   },
   {
    "duration": 26,
    "start_time": "2023-12-04T14:39:36.357Z"
   },
   {
    "duration": 31,
    "start_time": "2023-12-04T14:39:36.385Z"
   },
   {
    "duration": 54,
    "start_time": "2023-12-04T14:39:36.418Z"
   },
   {
    "duration": 295,
    "start_time": "2023-12-04T14:39:36.473Z"
   },
   {
    "duration": 291,
    "start_time": "2023-12-04T14:39:36.770Z"
   },
   {
    "duration": 4,
    "start_time": "2023-12-04T14:39:37.063Z"
   },
   {
    "duration": 751,
    "start_time": "2023-12-04T14:39:37.068Z"
   },
   {
    "duration": 334,
    "start_time": "2023-12-04T14:39:37.820Z"
   },
   {
    "duration": 13,
    "start_time": "2023-12-04T14:39:38.156Z"
   },
   {
    "duration": 7,
    "start_time": "2023-12-04T14:39:38.170Z"
   },
   {
    "duration": 28,
    "start_time": "2023-12-04T14:39:38.179Z"
   },
   {
    "duration": 4,
    "start_time": "2023-12-04T14:39:38.209Z"
   },
   {
    "duration": 8,
    "start_time": "2023-12-04T14:39:38.214Z"
   },
   {
    "duration": 184,
    "start_time": "2023-12-04T14:39:38.223Z"
   },
   {
    "duration": 5,
    "start_time": "2023-12-04T14:39:38.408Z"
   },
   {
    "duration": 350,
    "start_time": "2023-12-04T14:39:38.414Z"
   },
   {
    "duration": 8,
    "start_time": "2023-12-04T14:40:05.560Z"
   },
   {
    "duration": 7,
    "start_time": "2023-12-04T14:41:16.069Z"
   },
   {
    "duration": 1130,
    "start_time": "2023-12-04T14:41:22.461Z"
   },
   {
    "duration": 87,
    "start_time": "2023-12-04T14:41:23.593Z"
   },
   {
    "duration": 21,
    "start_time": "2023-12-04T14:41:23.682Z"
   },
   {
    "duration": 1004,
    "start_time": "2023-12-04T14:41:23.705Z"
   },
   {
    "duration": 16,
    "start_time": "2023-12-04T14:41:24.710Z"
   },
   {
    "duration": 31,
    "start_time": "2023-12-04T14:41:24.728Z"
   },
   {
    "duration": 7,
    "start_time": "2023-12-04T14:41:24.768Z"
   },
   {
    "duration": 12,
    "start_time": "2023-12-04T14:41:24.776Z"
   },
   {
    "duration": 5,
    "start_time": "2023-12-04T14:41:24.789Z"
   },
   {
    "duration": 236,
    "start_time": "2023-12-04T14:41:24.797Z"
   },
   {
    "duration": 21,
    "start_time": "2023-12-04T14:41:25.035Z"
   },
   {
    "duration": 11,
    "start_time": "2023-12-04T14:41:25.062Z"
   },
   {
    "duration": 165,
    "start_time": "2023-12-04T14:41:25.075Z"
   },
   {
    "duration": 132,
    "start_time": "2023-12-04T14:41:25.242Z"
   },
   {
    "duration": 194,
    "start_time": "2023-12-04T14:41:25.376Z"
   },
   {
    "duration": 212,
    "start_time": "2023-12-04T14:41:25.572Z"
   },
   {
    "duration": 260,
    "start_time": "2023-12-04T14:41:25.786Z"
   },
   {
    "duration": 31,
    "start_time": "2023-12-04T14:41:26.047Z"
   },
   {
    "duration": 30,
    "start_time": "2023-12-04T14:41:26.079Z"
   },
   {
    "duration": 54,
    "start_time": "2023-12-04T14:41:26.110Z"
   },
   {
    "duration": 257,
    "start_time": "2023-12-04T14:41:26.165Z"
   },
   {
    "duration": 287,
    "start_time": "2023-12-04T14:41:26.423Z"
   },
   {
    "duration": 4,
    "start_time": "2023-12-04T14:41:26.712Z"
   },
   {
    "duration": 763,
    "start_time": "2023-12-04T14:41:26.717Z"
   },
   {
    "duration": 394,
    "start_time": "2023-12-04T14:41:27.482Z"
   },
   {
    "duration": 6,
    "start_time": "2023-12-04T14:41:27.877Z"
   },
   {
    "duration": 5,
    "start_time": "2023-12-04T14:41:27.885Z"
   },
   {
    "duration": 25,
    "start_time": "2023-12-04T14:41:27.894Z"
   },
   {
    "duration": 5,
    "start_time": "2023-12-04T14:41:27.921Z"
   },
   {
    "duration": 33,
    "start_time": "2023-12-04T14:41:27.928Z"
   },
   {
    "duration": 172,
    "start_time": "2023-12-04T14:41:27.969Z"
   },
   {
    "duration": 15,
    "start_time": "2023-12-04T14:41:28.143Z"
   },
   {
    "duration": 344,
    "start_time": "2023-12-04T14:41:28.160Z"
   },
   {
    "duration": 7,
    "start_time": "2023-12-04T14:42:19.402Z"
   },
   {
    "duration": 1084,
    "start_time": "2023-12-04T14:42:59.475Z"
   },
   {
    "duration": 82,
    "start_time": "2023-12-04T14:43:00.566Z"
   },
   {
    "duration": 31,
    "start_time": "2023-12-04T14:43:00.649Z"
   },
   {
    "duration": 1039,
    "start_time": "2023-12-04T14:43:00.682Z"
   },
   {
    "duration": 30,
    "start_time": "2023-12-04T14:43:01.723Z"
   },
   {
    "duration": 12,
    "start_time": "2023-12-04T14:43:01.755Z"
   },
   {
    "duration": 32,
    "start_time": "2023-12-04T14:43:01.768Z"
   },
   {
    "duration": 42,
    "start_time": "2023-12-04T14:43:01.802Z"
   },
   {
    "duration": 27,
    "start_time": "2023-12-04T14:43:01.846Z"
   },
   {
    "duration": 280,
    "start_time": "2023-12-04T14:43:01.876Z"
   },
   {
    "duration": 7,
    "start_time": "2023-12-04T14:43:02.158Z"
   },
   {
    "duration": 31,
    "start_time": "2023-12-04T14:43:02.169Z"
   },
   {
    "duration": 257,
    "start_time": "2023-12-04T14:43:02.202Z"
   },
   {
    "duration": 134,
    "start_time": "2023-12-04T14:43:02.462Z"
   },
   {
    "duration": 198,
    "start_time": "2023-12-04T14:43:02.598Z"
   },
   {
    "duration": 211,
    "start_time": "2023-12-04T14:43:02.798Z"
   },
   {
    "duration": 285,
    "start_time": "2023-12-04T14:43:03.011Z"
   },
   {
    "duration": 23,
    "start_time": "2023-12-04T14:43:03.297Z"
   },
   {
    "duration": 49,
    "start_time": "2023-12-04T14:43:03.322Z"
   },
   {
    "duration": 29,
    "start_time": "2023-12-04T14:43:03.372Z"
   },
   {
    "duration": 307,
    "start_time": "2023-12-04T14:43:03.403Z"
   },
   {
    "duration": 300,
    "start_time": "2023-12-04T14:43:03.712Z"
   },
   {
    "duration": 5,
    "start_time": "2023-12-04T14:43:04.014Z"
   },
   {
    "duration": 720,
    "start_time": "2023-12-04T14:43:04.020Z"
   },
   {
    "duration": 384,
    "start_time": "2023-12-04T14:43:04.742Z"
   },
   {
    "duration": 6,
    "start_time": "2023-12-04T14:43:05.128Z"
   },
   {
    "duration": 27,
    "start_time": "2023-12-04T14:43:05.136Z"
   },
   {
    "duration": 18,
    "start_time": "2023-12-04T14:43:05.173Z"
   },
   {
    "duration": 30,
    "start_time": "2023-12-04T14:43:05.193Z"
   },
   {
    "duration": 16,
    "start_time": "2023-12-04T14:43:05.225Z"
   },
   {
    "duration": 223,
    "start_time": "2023-12-04T14:43:05.243Z"
   },
   {
    "duration": 6,
    "start_time": "2023-12-04T14:43:05.471Z"
   },
   {
    "duration": 358,
    "start_time": "2023-12-04T14:43:05.479Z"
   },
   {
    "duration": 140,
    "start_time": "2023-12-04T14:46:20.046Z"
   },
   {
    "duration": 154,
    "start_time": "2023-12-04T14:47:35.169Z"
   },
   {
    "duration": 155,
    "start_time": "2023-12-04T14:47:56.796Z"
   },
   {
    "duration": 153,
    "start_time": "2023-12-04T14:48:20.862Z"
   },
   {
    "duration": 156,
    "start_time": "2023-12-04T14:48:32.043Z"
   },
   {
    "duration": 185,
    "start_time": "2023-12-04T14:48:49.515Z"
   },
   {
    "duration": 95,
    "start_time": "2023-12-04T14:50:40.683Z"
   },
   {
    "duration": 104,
    "start_time": "2023-12-04T14:53:09.103Z"
   },
   {
    "duration": 124,
    "start_time": "2023-12-04T14:53:13.630Z"
   },
   {
    "duration": 91,
    "start_time": "2023-12-04T14:53:18.876Z"
   },
   {
    "duration": 81,
    "start_time": "2023-12-04T14:54:39.502Z"
   },
   {
    "duration": 76,
    "start_time": "2023-12-04T14:54:47.761Z"
   },
   {
    "duration": 83,
    "start_time": "2023-12-04T14:55:12.812Z"
   },
   {
    "duration": 97,
    "start_time": "2023-12-04T14:55:41.140Z"
   },
   {
    "duration": 90,
    "start_time": "2023-12-04T14:55:52.734Z"
   },
   {
    "duration": 19,
    "start_time": "2023-12-04T14:56:46.869Z"
   },
   {
    "duration": 184,
    "start_time": "2023-12-04T14:57:30.809Z"
   },
   {
    "duration": 4,
    "start_time": "2023-12-04T14:58:33.041Z"
   },
   {
    "duration": 97,
    "start_time": "2023-12-04T14:58:36.729Z"
   },
   {
    "duration": 98,
    "start_time": "2023-12-04T14:58:50.040Z"
   },
   {
    "duration": 104,
    "start_time": "2023-12-04T16:24:44.319Z"
   },
   {
    "duration": 184,
    "start_time": "2023-12-04T16:25:39.967Z"
   },
   {
    "duration": 198,
    "start_time": "2023-12-04T16:25:50.541Z"
   },
   {
    "duration": 1221,
    "start_time": "2023-12-04T16:32:20.360Z"
   },
   {
    "duration": 1086,
    "start_time": "2023-12-04T16:32:53.903Z"
   },
   {
    "duration": 88,
    "start_time": "2023-12-04T16:32:54.991Z"
   },
   {
    "duration": 23,
    "start_time": "2023-12-04T16:32:55.081Z"
   },
   {
    "duration": 998,
    "start_time": "2023-12-04T16:32:55.105Z"
   },
   {
    "duration": 13,
    "start_time": "2023-12-04T16:32:56.105Z"
   },
   {
    "duration": 12,
    "start_time": "2023-12-04T16:32:56.119Z"
   },
   {
    "duration": 5,
    "start_time": "2023-12-04T16:32:56.151Z"
   },
   {
    "duration": 24,
    "start_time": "2023-12-04T16:32:56.158Z"
   },
   {
    "duration": 5,
    "start_time": "2023-12-04T16:32:56.184Z"
   },
   {
    "duration": 226,
    "start_time": "2023-12-04T16:32:56.191Z"
   },
   {
    "duration": 4,
    "start_time": "2023-12-04T16:32:56.418Z"
   },
   {
    "duration": 6,
    "start_time": "2023-12-04T16:32:56.423Z"
   },
   {
    "duration": 198,
    "start_time": "2023-12-04T16:32:56.431Z"
   },
   {
    "duration": 96,
    "start_time": "2023-12-04T16:32:56.631Z"
   },
   {
    "duration": 186,
    "start_time": "2023-12-04T16:32:56.729Z"
   },
   {
    "duration": 1327,
    "start_time": "2023-12-04T16:32:56.917Z"
   },
   {
    "duration": 0,
    "start_time": "2023-12-04T16:32:58.246Z"
   },
   {
    "duration": 0,
    "start_time": "2023-12-04T16:32:58.247Z"
   },
   {
    "duration": 0,
    "start_time": "2023-12-04T16:32:58.248Z"
   },
   {
    "duration": 0,
    "start_time": "2023-12-04T16:32:58.249Z"
   },
   {
    "duration": 0,
    "start_time": "2023-12-04T16:32:58.250Z"
   },
   {
    "duration": 0,
    "start_time": "2023-12-04T16:32:58.252Z"
   },
   {
    "duration": 0,
    "start_time": "2023-12-04T16:32:58.255Z"
   },
   {
    "duration": 0,
    "start_time": "2023-12-04T16:32:58.257Z"
   },
   {
    "duration": 0,
    "start_time": "2023-12-04T16:32:58.257Z"
   },
   {
    "duration": 0,
    "start_time": "2023-12-04T16:32:58.258Z"
   },
   {
    "duration": 0,
    "start_time": "2023-12-04T16:32:58.259Z"
   },
   {
    "duration": 0,
    "start_time": "2023-12-04T16:32:58.264Z"
   },
   {
    "duration": 0,
    "start_time": "2023-12-04T16:32:58.265Z"
   },
   {
    "duration": 0,
    "start_time": "2023-12-04T16:32:58.266Z"
   },
   {
    "duration": 0,
    "start_time": "2023-12-04T16:32:58.267Z"
   },
   {
    "duration": 0,
    "start_time": "2023-12-04T16:32:58.267Z"
   },
   {
    "duration": 0,
    "start_time": "2023-12-04T16:32:58.269Z"
   },
   {
    "duration": 225,
    "start_time": "2023-12-04T16:33:40.791Z"
   },
   {
    "duration": 286,
    "start_time": "2023-12-04T16:36:36.121Z"
   },
   {
    "duration": 191,
    "start_time": "2023-12-04T16:38:28.046Z"
   },
   {
    "duration": 202,
    "start_time": "2023-12-04T16:39:04.167Z"
   },
   {
    "duration": 197,
    "start_time": "2023-12-04T16:39:11.229Z"
   },
   {
    "duration": 222,
    "start_time": "2023-12-04T16:39:25.567Z"
   },
   {
    "duration": 197,
    "start_time": "2023-12-04T16:39:40.462Z"
   },
   {
    "duration": 8,
    "start_time": "2023-12-04T16:43:09.825Z"
   },
   {
    "duration": 24,
    "start_time": "2023-12-04T16:43:18.808Z"
   },
   {
    "duration": 22,
    "start_time": "2023-12-04T16:43:25.424Z"
   },
   {
    "duration": 42,
    "start_time": "2023-12-04T16:45:01.639Z"
   },
   {
    "duration": 28,
    "start_time": "2023-12-04T16:46:18.597Z"
   },
   {
    "duration": 33,
    "start_time": "2023-12-04T16:46:30.569Z"
   },
   {
    "duration": 273,
    "start_time": "2023-12-04T16:50:37.792Z"
   },
   {
    "duration": 290,
    "start_time": "2023-12-04T16:50:39.984Z"
   },
   {
    "duration": 274,
    "start_time": "2023-12-04T16:51:02.424Z"
   },
   {
    "duration": 263,
    "start_time": "2023-12-04T16:51:22.711Z"
   },
   {
    "duration": 273,
    "start_time": "2023-12-04T16:51:25.751Z"
   },
   {
    "duration": 279,
    "start_time": "2023-12-04T16:54:17.668Z"
   },
   {
    "duration": 621,
    "start_time": "2023-12-04T16:55:52.315Z"
   },
   {
    "duration": 9,
    "start_time": "2023-12-04T16:56:10.179Z"
   },
   {
    "duration": 272,
    "start_time": "2023-12-04T16:56:23.594Z"
   },
   {
    "duration": 81,
    "start_time": "2023-12-04T16:57:24.232Z"
   },
   {
    "duration": 82,
    "start_time": "2023-12-04T16:57:31.048Z"
   },
   {
    "duration": 21,
    "start_time": "2023-12-04T16:57:42.544Z"
   },
   {
    "duration": 10,
    "start_time": "2023-12-04T16:58:28.495Z"
   },
   {
    "duration": 72,
    "start_time": "2023-12-04T16:59:25.762Z"
   },
   {
    "duration": 71,
    "start_time": "2023-12-04T16:59:43.733Z"
   },
   {
    "duration": 68,
    "start_time": "2023-12-04T16:59:50.932Z"
   },
   {
    "duration": 286,
    "start_time": "2023-12-04T17:00:38.446Z"
   },
   {
    "duration": 366,
    "start_time": "2023-12-04T17:00:57.756Z"
   },
   {
    "duration": 305,
    "start_time": "2023-12-04T17:02:33.459Z"
   },
   {
    "duration": 316,
    "start_time": "2023-12-04T17:02:44.929Z"
   },
   {
    "duration": 79,
    "start_time": "2023-12-04T17:02:53.706Z"
   },
   {
    "duration": 310,
    "start_time": "2023-12-04T17:03:09.666Z"
   },
   {
    "duration": 281,
    "start_time": "2023-12-04T17:03:59.961Z"
   },
   {
    "duration": 368,
    "start_time": "2023-12-04T17:04:11.793Z"
   },
   {
    "duration": 6,
    "start_time": "2023-12-04T17:19:16.345Z"
   },
   {
    "duration": 5,
    "start_time": "2023-12-04T17:24:21.825Z"
   },
   {
    "duration": 8,
    "start_time": "2023-12-04T17:25:26.200Z"
   },
   {
    "duration": 1014,
    "start_time": "2023-12-04T17:25:36.081Z"
   },
   {
    "duration": 90,
    "start_time": "2023-12-04T17:25:37.097Z"
   },
   {
    "duration": 23,
    "start_time": "2023-12-04T17:25:37.188Z"
   },
   {
    "duration": 998,
    "start_time": "2023-12-04T17:25:37.213Z"
   },
   {
    "duration": 15,
    "start_time": "2023-12-04T17:25:38.212Z"
   },
   {
    "duration": 30,
    "start_time": "2023-12-04T17:25:38.229Z"
   },
   {
    "duration": 8,
    "start_time": "2023-12-04T17:25:38.260Z"
   },
   {
    "duration": 12,
    "start_time": "2023-12-04T17:25:38.270Z"
   },
   {
    "duration": 5,
    "start_time": "2023-12-04T17:25:38.283Z"
   },
   {
    "duration": 250,
    "start_time": "2023-12-04T17:25:38.291Z"
   },
   {
    "duration": 10,
    "start_time": "2023-12-04T17:25:38.542Z"
   },
   {
    "duration": 14,
    "start_time": "2023-12-04T17:25:38.555Z"
   },
   {
    "duration": 157,
    "start_time": "2023-12-04T17:25:38.570Z"
   },
   {
    "duration": 98,
    "start_time": "2023-12-04T17:25:38.729Z"
   },
   {
    "duration": 202,
    "start_time": "2023-12-04T17:25:38.829Z"
   },
   {
    "duration": 232,
    "start_time": "2023-12-04T17:25:39.033Z"
   },
   {
    "duration": 267,
    "start_time": "2023-12-04T17:25:39.267Z"
   },
   {
    "duration": 47,
    "start_time": "2023-12-04T17:25:39.535Z"
   },
   {
    "duration": 27,
    "start_time": "2023-12-04T17:25:39.583Z"
   },
   {
    "duration": 58,
    "start_time": "2023-12-04T17:25:39.612Z"
   },
   {
    "duration": 310,
    "start_time": "2023-12-04T17:25:39.672Z"
   },
   {
    "duration": 337,
    "start_time": "2023-12-04T17:25:39.984Z"
   },
   {
    "duration": 4,
    "start_time": "2023-12-04T17:25:40.323Z"
   },
   {
    "duration": 695,
    "start_time": "2023-12-04T17:25:40.328Z"
   },
   {
    "duration": 354,
    "start_time": "2023-12-04T17:25:41.025Z"
   },
   {
    "duration": 5,
    "start_time": "2023-12-04T17:25:41.381Z"
   },
   {
    "duration": 14,
    "start_time": "2023-12-04T17:25:41.388Z"
   },
   {
    "duration": 19,
    "start_time": "2023-12-04T17:25:41.406Z"
   },
   {
    "duration": 4,
    "start_time": "2023-12-04T17:25:41.427Z"
   },
   {
    "duration": 8,
    "start_time": "2023-12-04T17:25:41.451Z"
   },
   {
    "duration": 177,
    "start_time": "2023-12-04T17:25:41.460Z"
   },
   {
    "duration": 5,
    "start_time": "2023-12-04T17:25:41.639Z"
   },
   {
    "duration": 348,
    "start_time": "2023-12-04T17:25:41.645Z"
   },
   {
    "duration": 114,
    "start_time": "2023-12-04T17:29:01.333Z"
   },
   {
    "duration": 25,
    "start_time": "2023-12-04T17:29:22.972Z"
   },
   {
    "duration": 15,
    "start_time": "2023-12-04T17:30:36.484Z"
   },
   {
    "duration": 22,
    "start_time": "2023-12-04T17:31:05.435Z"
   },
   {
    "duration": 10,
    "start_time": "2023-12-04T17:31:32.395Z"
   },
   {
    "duration": 15,
    "start_time": "2023-12-04T17:31:52.144Z"
   },
   {
    "duration": 5,
    "start_time": "2023-12-04T17:34:38.798Z"
   },
   {
    "duration": 700,
    "start_time": "2023-12-04T17:51:08.844Z"
   },
   {
    "duration": 193,
    "start_time": "2023-12-04T17:55:38.342Z"
   },
   {
    "duration": 186,
    "start_time": "2023-12-04T17:55:51.694Z"
   },
   {
    "duration": 177,
    "start_time": "2023-12-04T17:55:57.295Z"
   },
   {
    "duration": 1068,
    "start_time": "2023-12-04T17:57:49.921Z"
   },
   {
    "duration": 90,
    "start_time": "2023-12-04T17:57:50.991Z"
   },
   {
    "duration": 20,
    "start_time": "2023-12-04T17:57:51.082Z"
   },
   {
    "duration": 1040,
    "start_time": "2023-12-04T17:57:51.104Z"
   },
   {
    "duration": 25,
    "start_time": "2023-12-04T17:57:52.146Z"
   },
   {
    "duration": 9,
    "start_time": "2023-12-04T17:57:52.172Z"
   },
   {
    "duration": 21,
    "start_time": "2023-12-04T17:57:52.182Z"
   },
   {
    "duration": 37,
    "start_time": "2023-12-04T17:57:52.204Z"
   },
   {
    "duration": 6,
    "start_time": "2023-12-04T17:57:52.243Z"
   },
   {
    "duration": 241,
    "start_time": "2023-12-04T17:57:52.251Z"
   },
   {
    "duration": 5,
    "start_time": "2023-12-04T17:57:52.493Z"
   },
   {
    "duration": 8,
    "start_time": "2023-12-04T17:57:52.500Z"
   },
   {
    "duration": 185,
    "start_time": "2023-12-04T17:57:52.510Z"
   },
   {
    "duration": 106,
    "start_time": "2023-12-04T17:57:52.697Z"
   },
   {
    "duration": 195,
    "start_time": "2023-12-04T17:57:52.805Z"
   },
   {
    "duration": 228,
    "start_time": "2023-12-04T17:57:53.002Z"
   },
   {
    "duration": 273,
    "start_time": "2023-12-04T17:57:53.232Z"
   },
   {
    "duration": 47,
    "start_time": "2023-12-04T17:57:53.507Z"
   },
   {
    "duration": 30,
    "start_time": "2023-12-04T17:57:53.558Z"
   },
   {
    "duration": 24,
    "start_time": "2023-12-04T17:57:53.590Z"
   },
   {
    "duration": 291,
    "start_time": "2023-12-04T17:57:53.616Z"
   },
   {
    "duration": 303,
    "start_time": "2023-12-04T17:57:53.908Z"
   },
   {
    "duration": 4,
    "start_time": "2023-12-04T17:57:54.213Z"
   },
   {
    "duration": 683,
    "start_time": "2023-12-04T17:57:54.218Z"
   },
   {
    "duration": 351,
    "start_time": "2023-12-04T17:57:54.903Z"
   },
   {
    "duration": 11,
    "start_time": "2023-12-04T17:57:55.257Z"
   },
   {
    "duration": 29,
    "start_time": "2023-12-04T17:57:55.270Z"
   },
   {
    "duration": 16,
    "start_time": "2023-12-04T17:57:55.302Z"
   },
   {
    "duration": 9,
    "start_time": "2023-12-04T17:57:55.320Z"
   },
   {
    "duration": 178,
    "start_time": "2023-12-04T17:57:55.331Z"
   },
   {
    "duration": 5,
    "start_time": "2023-12-04T17:57:55.511Z"
   },
   {
    "duration": 343,
    "start_time": "2023-12-04T17:57:55.517Z"
   },
   {
    "duration": 1168,
    "start_time": "2023-12-05T09:32:08.076Z"
   },
   {
    "duration": 323,
    "start_time": "2023-12-05T09:32:09.246Z"
   },
   {
    "duration": 23,
    "start_time": "2023-12-05T09:32:09.570Z"
   },
   {
    "duration": 986,
    "start_time": "2023-12-05T09:32:09.595Z"
   },
   {
    "duration": 14,
    "start_time": "2023-12-05T09:32:10.583Z"
   },
   {
    "duration": 16,
    "start_time": "2023-12-05T09:32:10.598Z"
   },
   {
    "duration": 6,
    "start_time": "2023-12-05T09:32:10.615Z"
   },
   {
    "duration": 17,
    "start_time": "2023-12-05T09:32:10.623Z"
   },
   {
    "duration": 8,
    "start_time": "2023-12-05T09:32:10.642Z"
   },
   {
    "duration": 260,
    "start_time": "2023-12-05T09:32:10.653Z"
   },
   {
    "duration": 6,
    "start_time": "2023-12-05T09:32:10.915Z"
   },
   {
    "duration": 16,
    "start_time": "2023-12-05T09:32:10.923Z"
   },
   {
    "duration": 179,
    "start_time": "2023-12-05T09:32:10.941Z"
   },
   {
    "duration": 113,
    "start_time": "2023-12-05T09:32:11.122Z"
   },
   {
    "duration": 190,
    "start_time": "2023-12-05T09:32:11.236Z"
   },
   {
    "duration": 239,
    "start_time": "2023-12-05T09:32:11.428Z"
   },
   {
    "duration": 291,
    "start_time": "2023-12-05T09:32:11.669Z"
   },
   {
    "duration": 47,
    "start_time": "2023-12-05T09:32:11.962Z"
   },
   {
    "duration": 32,
    "start_time": "2023-12-05T09:32:12.011Z"
   },
   {
    "duration": 30,
    "start_time": "2023-12-05T09:32:12.044Z"
   },
   {
    "duration": 274,
    "start_time": "2023-12-05T09:32:12.098Z"
   },
   {
    "duration": 296,
    "start_time": "2023-12-05T09:32:12.374Z"
   },
   {
    "duration": 5,
    "start_time": "2023-12-05T09:32:12.672Z"
   },
   {
    "duration": 654,
    "start_time": "2023-12-05T09:32:12.678Z"
   },
   {
    "duration": 335,
    "start_time": "2023-12-05T09:32:13.334Z"
   },
   {
    "duration": 6,
    "start_time": "2023-12-05T09:32:13.670Z"
   },
   {
    "duration": 12,
    "start_time": "2023-12-05T09:32:13.678Z"
   },
   {
    "duration": 15,
    "start_time": "2023-12-05T09:32:13.702Z"
   },
   {
    "duration": 20,
    "start_time": "2023-12-05T09:32:13.718Z"
   },
   {
    "duration": 194,
    "start_time": "2023-12-05T09:32:13.740Z"
   },
   {
    "duration": 6,
    "start_time": "2023-12-05T09:32:13.935Z"
   },
   {
    "duration": 359,
    "start_time": "2023-12-05T09:32:13.943Z"
   },
   {
    "duration": 1090,
    "start_time": "2023-12-05T09:48:23.237Z"
   },
   {
    "duration": 86,
    "start_time": "2023-12-05T09:48:24.329Z"
   },
   {
    "duration": 22,
    "start_time": "2023-12-05T09:48:24.417Z"
   },
   {
    "duration": 976,
    "start_time": "2023-12-05T09:48:24.441Z"
   },
   {
    "duration": 14,
    "start_time": "2023-12-05T09:48:25.419Z"
   },
   {
    "duration": 13,
    "start_time": "2023-12-05T09:48:25.434Z"
   },
   {
    "duration": 17,
    "start_time": "2023-12-05T09:48:25.448Z"
   },
   {
    "duration": 28,
    "start_time": "2023-12-05T09:48:25.467Z"
   },
   {
    "duration": 5,
    "start_time": "2023-12-05T09:48:25.496Z"
   },
   {
    "duration": 220,
    "start_time": "2023-12-05T09:48:25.503Z"
   },
   {
    "duration": 5,
    "start_time": "2023-12-05T09:48:25.724Z"
   },
   {
    "duration": 13,
    "start_time": "2023-12-05T09:48:25.730Z"
   },
   {
    "duration": 164,
    "start_time": "2023-12-05T09:48:25.745Z"
   },
   {
    "duration": 90,
    "start_time": "2023-12-05T09:48:25.911Z"
   },
   {
    "duration": 184,
    "start_time": "2023-12-05T09:48:26.002Z"
   },
   {
    "duration": 206,
    "start_time": "2023-12-05T09:48:26.187Z"
   },
   {
    "duration": 275,
    "start_time": "2023-12-05T09:48:26.399Z"
   },
   {
    "duration": 48,
    "start_time": "2023-12-05T09:48:26.676Z"
   },
   {
    "duration": 29,
    "start_time": "2023-12-05T09:48:26.726Z"
   },
   {
    "duration": 52,
    "start_time": "2023-12-05T09:48:26.757Z"
   },
   {
    "duration": 280,
    "start_time": "2023-12-05T09:48:26.811Z"
   },
   {
    "duration": 292,
    "start_time": "2023-12-05T09:48:27.099Z"
   },
   {
    "duration": 6,
    "start_time": "2023-12-05T09:48:27.393Z"
   },
   {
    "duration": 651,
    "start_time": "2023-12-05T09:48:27.401Z"
   },
   {
    "duration": 315,
    "start_time": "2023-12-05T09:48:28.054Z"
   },
   {
    "duration": 6,
    "start_time": "2023-12-05T09:48:28.371Z"
   },
   {
    "duration": 9,
    "start_time": "2023-12-05T09:48:28.378Z"
   },
   {
    "duration": 11,
    "start_time": "2023-12-05T09:48:28.400Z"
   },
   {
    "duration": 6,
    "start_time": "2023-12-05T09:48:28.412Z"
   },
   {
    "duration": 180,
    "start_time": "2023-12-05T09:48:28.420Z"
   },
   {
    "duration": 5,
    "start_time": "2023-12-05T09:48:28.601Z"
   },
   {
    "duration": 342,
    "start_time": "2023-12-05T09:48:28.608Z"
   },
   {
    "duration": 1076,
    "start_time": "2023-12-05T09:49:04.066Z"
   },
   {
    "duration": 86,
    "start_time": "2023-12-05T09:49:05.144Z"
   },
   {
    "duration": 22,
    "start_time": "2023-12-05T09:49:05.232Z"
   },
   {
    "duration": 929,
    "start_time": "2023-12-05T09:49:05.256Z"
   },
   {
    "duration": 16,
    "start_time": "2023-12-05T09:49:06.187Z"
   },
   {
    "duration": 9,
    "start_time": "2023-12-05T09:49:06.205Z"
   },
   {
    "duration": 5,
    "start_time": "2023-12-05T09:49:06.215Z"
   },
   {
    "duration": 11,
    "start_time": "2023-12-05T09:49:06.221Z"
   },
   {
    "duration": 5,
    "start_time": "2023-12-05T09:49:06.233Z"
   },
   {
    "duration": 225,
    "start_time": "2023-12-05T09:49:06.240Z"
   },
   {
    "duration": 4,
    "start_time": "2023-12-05T09:49:06.467Z"
   },
   {
    "duration": 6,
    "start_time": "2023-12-05T09:49:06.472Z"
   },
   {
    "duration": 163,
    "start_time": "2023-12-05T09:49:06.480Z"
   },
   {
    "duration": 94,
    "start_time": "2023-12-05T09:49:06.645Z"
   },
   {
    "duration": 194,
    "start_time": "2023-12-05T09:49:06.740Z"
   },
   {
    "duration": 209,
    "start_time": "2023-12-05T09:49:06.936Z"
   },
   {
    "duration": 269,
    "start_time": "2023-12-05T09:49:07.146Z"
   },
   {
    "duration": 34,
    "start_time": "2023-12-05T09:49:07.416Z"
   },
   {
    "duration": 26,
    "start_time": "2023-12-05T09:49:07.451Z"
   },
   {
    "duration": 46,
    "start_time": "2023-12-05T09:49:07.478Z"
   },
   {
    "duration": 268,
    "start_time": "2023-12-05T09:49:07.526Z"
   },
   {
    "duration": 293,
    "start_time": "2023-12-05T09:49:07.798Z"
   },
   {
    "duration": 8,
    "start_time": "2023-12-05T09:49:08.092Z"
   },
   {
    "duration": 659,
    "start_time": "2023-12-05T09:49:08.101Z"
   },
   {
    "duration": 308,
    "start_time": "2023-12-05T09:49:08.761Z"
   },
   {
    "duration": 5,
    "start_time": "2023-12-05T09:49:09.071Z"
   },
   {
    "duration": 6,
    "start_time": "2023-12-05T09:49:09.077Z"
   },
   {
    "duration": 11,
    "start_time": "2023-12-05T09:49:09.098Z"
   },
   {
    "duration": 6,
    "start_time": "2023-12-05T09:49:09.111Z"
   },
   {
    "duration": 193,
    "start_time": "2023-12-05T09:49:09.118Z"
   },
   {
    "duration": 6,
    "start_time": "2023-12-05T09:49:09.313Z"
   },
   {
    "duration": 335,
    "start_time": "2023-12-05T09:49:09.321Z"
   },
   {
    "duration": 1093,
    "start_time": "2023-12-05T09:59:07.644Z"
   },
   {
    "duration": 91,
    "start_time": "2023-12-05T09:59:08.739Z"
   },
   {
    "duration": 25,
    "start_time": "2023-12-05T09:59:08.831Z"
   },
   {
    "duration": 951,
    "start_time": "2023-12-05T09:59:08.858Z"
   },
   {
    "duration": 17,
    "start_time": "2023-12-05T09:59:09.811Z"
   },
   {
    "duration": 10,
    "start_time": "2023-12-05T09:59:09.830Z"
   },
   {
    "duration": 7,
    "start_time": "2023-12-05T09:59:09.842Z"
   },
   {
    "duration": 13,
    "start_time": "2023-12-05T09:59:09.850Z"
   },
   {
    "duration": 6,
    "start_time": "2023-12-05T09:59:09.865Z"
   },
   {
    "duration": 220,
    "start_time": "2023-12-05T09:59:09.898Z"
   },
   {
    "duration": 6,
    "start_time": "2023-12-05T09:59:10.120Z"
   },
   {
    "duration": 6,
    "start_time": "2023-12-05T09:59:10.128Z"
   },
   {
    "duration": 186,
    "start_time": "2023-12-05T09:59:10.136Z"
   },
   {
    "duration": 95,
    "start_time": "2023-12-05T09:59:10.323Z"
   },
   {
    "duration": 195,
    "start_time": "2023-12-05T09:59:10.419Z"
   },
   {
    "duration": 209,
    "start_time": "2023-12-05T09:59:10.615Z"
   },
   {
    "duration": 273,
    "start_time": "2023-12-05T09:59:10.826Z"
   },
   {
    "duration": 35,
    "start_time": "2023-12-05T09:59:11.100Z"
   },
   {
    "duration": 28,
    "start_time": "2023-12-05T09:59:11.136Z"
   },
   {
    "duration": 50,
    "start_time": "2023-12-05T09:59:11.165Z"
   },
   {
    "duration": 268,
    "start_time": "2023-12-05T09:59:11.217Z"
   },
   {
    "duration": 303,
    "start_time": "2023-12-05T09:59:11.487Z"
   },
   {
    "duration": 9,
    "start_time": "2023-12-05T09:59:11.791Z"
   },
   {
    "duration": 654,
    "start_time": "2023-12-05T09:59:11.802Z"
   },
   {
    "duration": 314,
    "start_time": "2023-12-05T09:59:12.458Z"
   },
   {
    "duration": 6,
    "start_time": "2023-12-05T09:59:12.774Z"
   },
   {
    "duration": 21,
    "start_time": "2023-12-05T09:59:12.782Z"
   },
   {
    "duration": 21,
    "start_time": "2023-12-05T09:59:12.806Z"
   },
   {
    "duration": 5,
    "start_time": "2023-12-05T09:59:12.829Z"
   },
   {
    "duration": 198,
    "start_time": "2023-12-05T09:59:12.836Z"
   },
   {
    "duration": 5,
    "start_time": "2023-12-05T09:59:13.035Z"
   },
   {
    "duration": 383,
    "start_time": "2023-12-05T09:59:13.042Z"
   },
   {
    "duration": 1114,
    "start_time": "2023-12-05T10:04:14.861Z"
   },
   {
    "duration": 88,
    "start_time": "2023-12-05T10:04:15.977Z"
   },
   {
    "duration": 22,
    "start_time": "2023-12-05T10:04:16.067Z"
   },
   {
    "duration": 986,
    "start_time": "2023-12-05T10:04:16.091Z"
   },
   {
    "duration": 15,
    "start_time": "2023-12-05T10:04:17.079Z"
   },
   {
    "duration": 10,
    "start_time": "2023-12-05T10:04:17.095Z"
   },
   {
    "duration": 8,
    "start_time": "2023-12-05T10:04:17.106Z"
   },
   {
    "duration": 14,
    "start_time": "2023-12-05T10:04:17.115Z"
   },
   {
    "duration": 8,
    "start_time": "2023-12-05T10:04:17.130Z"
   },
   {
    "duration": 258,
    "start_time": "2023-12-05T10:04:17.141Z"
   },
   {
    "duration": 5,
    "start_time": "2023-12-05T10:04:17.401Z"
   },
   {
    "duration": 18,
    "start_time": "2023-12-05T10:04:17.408Z"
   },
   {
    "duration": 190,
    "start_time": "2023-12-05T10:04:17.429Z"
   },
   {
    "duration": 107,
    "start_time": "2023-12-05T10:04:17.620Z"
   },
   {
    "duration": 195,
    "start_time": "2023-12-05T10:04:17.728Z"
   },
   {
    "duration": 216,
    "start_time": "2023-12-05T10:04:17.924Z"
   },
   {
    "duration": 289,
    "start_time": "2023-12-05T10:04:18.142Z"
   },
   {
    "duration": 39,
    "start_time": "2023-12-05T10:04:18.432Z"
   },
   {
    "duration": 50,
    "start_time": "2023-12-05T10:04:18.472Z"
   },
   {
    "duration": 43,
    "start_time": "2023-12-05T10:04:18.524Z"
   },
   {
    "duration": 292,
    "start_time": "2023-12-05T10:04:18.569Z"
   },
   {
    "duration": 299,
    "start_time": "2023-12-05T10:04:18.863Z"
   },
   {
    "duration": 4,
    "start_time": "2023-12-05T10:04:19.164Z"
   },
   {
    "duration": 707,
    "start_time": "2023-12-05T10:04:19.170Z"
   },
   {
    "duration": 313,
    "start_time": "2023-12-05T10:04:19.879Z"
   },
   {
    "duration": 9,
    "start_time": "2023-12-05T10:04:20.194Z"
   },
   {
    "duration": 46,
    "start_time": "2023-12-05T10:04:20.204Z"
   },
   {
    "duration": 11,
    "start_time": "2023-12-05T10:04:20.254Z"
   },
   {
    "duration": 14,
    "start_time": "2023-12-05T10:04:20.267Z"
   },
   {
    "duration": 181,
    "start_time": "2023-12-05T10:04:20.283Z"
   },
   {
    "duration": 6,
    "start_time": "2023-12-05T10:04:20.467Z"
   },
   {
    "duration": 382,
    "start_time": "2023-12-05T10:04:20.475Z"
   },
   {
    "duration": 52,
    "start_time": "2023-12-12T17:09:28.142Z"
   },
   {
    "duration": 1220,
    "start_time": "2024-10-03T16:23:24.824Z"
   },
   {
    "duration": 338,
    "start_time": "2024-10-03T16:23:26.046Z"
   },
   {
    "duration": 24,
    "start_time": "2024-10-03T16:23:26.385Z"
   },
   {
    "duration": 957,
    "start_time": "2024-10-03T16:23:26.411Z"
   },
   {
    "duration": 18,
    "start_time": "2024-10-03T16:23:27.370Z"
   },
   {
    "duration": 10,
    "start_time": "2024-10-03T16:23:27.389Z"
   },
   {
    "duration": 6,
    "start_time": "2024-10-03T16:23:27.401Z"
   },
   {
    "duration": 13,
    "start_time": "2024-10-03T16:23:27.408Z"
   },
   {
    "duration": 6,
    "start_time": "2024-10-03T16:23:27.422Z"
   },
   {
    "duration": 256,
    "start_time": "2024-10-03T16:23:27.432Z"
   },
   {
    "duration": 5,
    "start_time": "2024-10-03T16:23:27.689Z"
   },
   {
    "duration": 6,
    "start_time": "2024-10-03T16:23:27.695Z"
   },
   {
    "duration": 181,
    "start_time": "2024-10-03T16:23:27.702Z"
   },
   {
    "duration": 95,
    "start_time": "2024-10-03T16:23:27.885Z"
   },
   {
    "duration": 211,
    "start_time": "2024-10-03T16:23:27.981Z"
   },
   {
    "duration": 237,
    "start_time": "2024-10-03T16:23:28.196Z"
   },
   {
    "duration": 288,
    "start_time": "2024-10-03T16:23:28.434Z"
   },
   {
    "duration": 35,
    "start_time": "2024-10-03T16:23:28.724Z"
   },
   {
    "duration": 29,
    "start_time": "2024-10-03T16:23:28.775Z"
   },
   {
    "duration": 67,
    "start_time": "2024-10-03T16:23:28.806Z"
   },
   {
    "duration": 268,
    "start_time": "2024-10-03T16:23:28.875Z"
   },
   {
    "duration": 318,
    "start_time": "2024-10-03T16:23:29.145Z"
   },
   {
    "duration": 11,
    "start_time": "2024-10-03T16:23:29.465Z"
   },
   {
    "duration": 700,
    "start_time": "2024-10-03T16:23:29.478Z"
   },
   {
    "duration": 322,
    "start_time": "2024-10-03T16:23:30.179Z"
   },
   {
    "duration": 5,
    "start_time": "2024-10-03T16:23:30.503Z"
   },
   {
    "duration": 16,
    "start_time": "2024-10-03T16:23:30.510Z"
   },
   {
    "duration": 14,
    "start_time": "2024-10-03T16:23:30.531Z"
   },
   {
    "duration": 14,
    "start_time": "2024-10-03T16:23:30.547Z"
   },
   {
    "duration": 211,
    "start_time": "2024-10-03T16:23:30.562Z"
   },
   {
    "duration": 5,
    "start_time": "2024-10-03T16:23:30.775Z"
   },
   {
    "duration": 408,
    "start_time": "2024-10-03T16:23:30.782Z"
   },
   {
    "duration": 1028,
    "start_time": "2024-10-03T16:28:02.205Z"
   },
   {
    "duration": 86,
    "start_time": "2024-10-03T16:28:03.235Z"
   },
   {
    "duration": 25,
    "start_time": "2024-10-03T16:28:03.322Z"
   },
   {
    "duration": 1035,
    "start_time": "2024-10-03T16:28:03.349Z"
   },
   {
    "duration": 16,
    "start_time": "2024-10-03T16:28:04.386Z"
   },
   {
    "duration": 11,
    "start_time": "2024-10-03T16:28:04.403Z"
   },
   {
    "duration": 18,
    "start_time": "2024-10-03T16:28:04.415Z"
   },
   {
    "duration": 16,
    "start_time": "2024-10-03T16:28:04.435Z"
   },
   {
    "duration": 6,
    "start_time": "2024-10-03T16:28:04.453Z"
   },
   {
    "duration": 247,
    "start_time": "2024-10-03T16:28:04.461Z"
   },
   {
    "duration": 5,
    "start_time": "2024-10-03T16:28:04.709Z"
   },
   {
    "duration": 25,
    "start_time": "2024-10-03T16:28:04.716Z"
   },
   {
    "duration": 162,
    "start_time": "2024-10-03T16:28:04.743Z"
   },
   {
    "duration": 101,
    "start_time": "2024-10-03T16:28:04.907Z"
   },
   {
    "duration": 197,
    "start_time": "2024-10-03T16:28:05.010Z"
   },
   {
    "duration": 224,
    "start_time": "2024-10-03T16:28:05.209Z"
   },
   {
    "duration": 293,
    "start_time": "2024-10-03T16:28:05.434Z"
   },
   {
    "duration": 59,
    "start_time": "2024-10-03T16:28:05.729Z"
   },
   {
    "duration": 45,
    "start_time": "2024-10-03T16:28:05.790Z"
   },
   {
    "duration": 28,
    "start_time": "2024-10-03T16:28:05.836Z"
   },
   {
    "duration": 310,
    "start_time": "2024-10-03T16:28:05.866Z"
   },
   {
    "duration": 311,
    "start_time": "2024-10-03T16:28:06.177Z"
   },
   {
    "duration": 3,
    "start_time": "2024-10-03T16:28:06.490Z"
   },
   {
    "duration": 690,
    "start_time": "2024-10-03T16:28:06.495Z"
   },
   {
    "duration": 306,
    "start_time": "2024-10-03T16:28:07.187Z"
   },
   {
    "duration": 5,
    "start_time": "2024-10-03T16:28:07.495Z"
   },
   {
    "duration": 8,
    "start_time": "2024-10-03T16:28:07.501Z"
   },
   {
    "duration": 12,
    "start_time": "2024-10-03T16:28:07.512Z"
   },
   {
    "duration": 24,
    "start_time": "2024-10-03T16:28:07.526Z"
   },
   {
    "duration": 188,
    "start_time": "2024-10-03T16:28:07.551Z"
   },
   {
    "duration": 6,
    "start_time": "2024-10-03T16:28:07.740Z"
   },
   {
    "duration": 411,
    "start_time": "2024-10-03T16:28:07.748Z"
   }
  ],
  "kernelspec": {
   "display_name": "Python 3 (ipykernel)",
   "language": "python",
   "name": "python3"
  },
  "language_info": {
   "codemirror_mode": {
    "name": "ipython",
    "version": 3
   },
   "file_extension": ".py",
   "mimetype": "text/x-python",
   "name": "python",
   "nbconvert_exporter": "python",
   "pygments_lexer": "ipython3",
   "version": "3.9.5"
  },
  "toc": {
   "base_numbering": 1,
   "nav_menu": {
    "height": "272px",
    "width": "262px"
   },
   "number_sections": true,
   "sideBar": true,
   "skip_h1_title": true,
   "title_cell": "Table of Contents",
   "title_sidebar": "Contents",
   "toc_cell": false,
   "toc_position": {},
   "toc_section_display": true,
   "toc_window_display": true
  }
 },
 "nbformat": 4,
 "nbformat_minor": 5
}
