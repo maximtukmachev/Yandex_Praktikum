{
 "cells": [
  {
   "cell_type": "markdown",
   "metadata": {},
   "source": [
    "Привет! меня зовут Люман Аблаев. Сегодня я проверю твой проект.\n",
    "<br> Дальнейшее общение будет происходить на \"ты\" если это не вызывает никаких проблем.\n",
    "<br> Желательно реагировать на красные комментарии ('исправил', 'не понятно как исправить ошибку', ...)\n",
    "<br> Пожалуйста, не удаляй комментарии ревьюера, так как они повышают качество повторного ревью.\n",
    "\n",
    "Комментарии будут в <font color='green'>зеленой</font>, <font color='blue'>синей</font> или <font color='red'>красной</font> рамках:\n",
    "\n",
    "\n",
    "<div class=\"alert alert-block alert-success\">\n",
    "<b>Успех:</b> Если все сделано отлично\n",
    "</div>\n",
    "\n",
    "<div class=\"alert alert-block alert-info\">\n",
    "<b>Совет: </b> Если можно немного улучшить\n",
    "</div>\n",
    "\n",
    "<div class=\"alert alert-block alert-danger\">\n",
    "<b>Ошибка:</b> Если требуются исправления. Работа не может быть принята с красными комментариями.\n",
    "</div>\n",
    "\n",
    "-------------------\n",
    "\n",
    "Будет очень хорошо, если ты будешь помечать свои действия следующим образом:\n",
    "<div class=\"alert alert-block alert-warning\">\n",
    "<b>Комментарий студента:</b> ..\n",
    "</div>\n",
    "<div class=\"alert alert-block alert-warning\">\n",
    "<b>Изменения:</b> Были внесены следующие изменения ...\n",
    "</div>\n",
    "\n",
    "<font color='orange' style='font-size:24px; font-weight:bold'>Общее впечатление</font>\n",
    "* Спасибо за  качественную работу, было интересно ее проверять.\n",
    "- Я оставил некоторые советы надеюсь они будут полезными или интересными.\n",
    "\n",
    "- Есть небольшие недочеты, но думаю у тебя не составить труда их исправить\n",
    "- Жду обновленную работу!\n"
   ]
  },
  {
   "cell_type": "markdown",
   "metadata": {},
   "source": [
    "Будет очень хорошо, если ты будешь помечать свои действия следующим образом:\n",
    "<div class=\"alert alert-block alert-warning\">\n",
    "<b>Комментарий студента:</b>\n",
    "    \n",
    "Спасибо за ревью, все замечания исправил!\n",
    "</div>"
   ]
  },
  {
   "cell_type": "markdown",
   "metadata": {},
   "source": [
    "<font color='orange' style='font-size:24px; font-weight:bold'>Общее впечатление[2]</font>\n",
    "* Спасибо за оперативность\n",
    "- Приятно видеть фидбек \n",
    "- Недочеты исправлены - работа полностью корректна\n",
    "- Рад был быть полезен. Удачи в дальнейшем обучении!"
   ]
  },
  {
   "cell_type": "markdown",
   "metadata": {},
   "source": [
    "# Проект: Выбор локации для скважины"
   ]
  },
  {
   "cell_type": "markdown",
   "metadata": {},
   "source": [
    "Для нефтедобывающей компании  «ГлавРосГосНефть» необходимо решить, где бурить новые скважины, по предоставленнным пробам нефти в трёх регионах: в каждом 100 000 месторождений, где измерили:\n",
    "- уникальный идентификатор скважины: `id`;\n",
    "- качество нефти:\n",
    "    - `f0`;\n",
    "    - `f1`;\n",
    "    - `f2`;\n",
    "- объём её запасов: `product `.\n",
    "\n",
    "Шаги для выбора локации:\n",
    "\n",
    "- в избранном регионе ищут месторождения, для каждого определяют значения признаков;\n",
    "- строят модель и оценивают объём запасов;\n",
    "- выбирают месторождения с самым высокими оценками значений;\n",
    "- прибыль равна суммарной прибыли отобранных месторождений.\n",
    "\n",
    "Условия задачи:\n",
    "- для обучения модели подходит только линейная регрессия;\n",
    "- при разведке региона исследуют 500 точек, из которых с помощью машинного обучения выбирают 200 лучших для разработки;\n",
    "- бюджет на разработку скважин в регионе — 10 млрд рублей;\n",
    "- один баррель сырья приносит 450 рублей дохода;\n",
    "- после оценки рисков нужно оставить лишь те регионы, в которых вероятность убытков меньше 2.5%, среди них необходимо выбрать регион с наибольшей средней прибылью.\n",
    "\n",
    "В данном проекте будут решены две задачи:\n",
    "- построить модель машинного обучения для предсказания объёма запасов в скважине, которая поможет определить регион, где добыча принесёт наибольшую прибыль;\n",
    "- анализ возможной прибыли и рисков техникой *Bootstrap.*\n",
    "\n",
    "В проекте будет несколько блоков:\n",
    "- загрузка и анализ данных;\n",
    "- обучение и проверка модели;\n",
    "- подготовка к расчёту прибыли;\n",
    "- расчет прибыли и убытков;\n",
    "- общий вывод."
   ]
  },
  {
   "cell_type": "markdown",
   "metadata": {},
   "source": [
    "## Загрузка и анализ данных"
   ]
  },
  {
   "cell_type": "markdown",
   "metadata": {},
   "source": [
    "### Загрузка данных и изучение общей информации"
   ]
  },
  {
   "cell_type": "markdown",
   "metadata": {},
   "source": [
    "Для начала работы импортируем (установим) все необходимые в прокте библиотеки:"
   ]
  },
  {
   "cell_type": "code",
   "execution_count": 1,
   "metadata": {},
   "outputs": [
    {
     "name": "stdout",
     "output_type": "stream",
     "text": [
      "Collecting typing-extensions==4.10.0\n",
      "  Downloading typing_extensions-4.10.0-py3-none-any.whl (33 kB)\n",
      "Installing collected packages: typing-extensions\n",
      "  Attempting uninstall: typing-extensions\n",
      "    Found existing installation: typing-extensions 4.3.0\n",
      "    Uninstalling typing-extensions-4.3.0:\n",
      "      Successfully uninstalled typing-extensions-4.3.0\n",
      "Successfully installed typing-extensions-4.10.0\n",
      "\u001b[31mERROR: pip's dependency resolver does not currently take into account all the packages that are installed. This behaviour is the source of the following dependency conflicts.\n",
      "thinc 8.0.17 requires pydantic!=1.8,!=1.8.1,<1.9.0,>=1.7.4, but you have pydantic 2.7.3 which is incompatible.\n",
      "spacy 3.2.0 requires pydantic!=1.8,!=1.8.1,<1.9.0,>=1.7.4, but you have pydantic 2.7.3 which is incompatible.\u001b[0m\n"
     ]
    }
   ],
   "source": [
    "! pip install phik -q\n",
    "! pip install typing-extensions==4.10.0\n",
    "! pip install ydata-profiling -q\n",
    "from ydata_profiling import ProfileReport"
   ]
  },
  {
   "cell_type": "code",
   "execution_count": 2,
   "metadata": {},
   "outputs": [],
   "source": [
    "import pandas as pd \n",
    "import numpy as np\n",
    "import matplotlib.pyplot as plt\n",
    "import seaborn as sns\n",
    "import phik\n",
    "\n",
    "from scipy import stats\n",
    "\n",
    "from sklearn.preprocessing import StandardScaler, MinMaxScaler\n",
    "\n",
    "from sklearn.linear_model import LinearRegression, Ridge, Lasso\n",
    "\n",
    "from sklearn.model_selection import GridSearchCV\n",
    "\n",
    "from sklearn.pipeline import Pipeline\n",
    "\n",
    "from sklearn.metrics import mean_squared_error, make_scorer, r2_score\n",
    "\n",
    "from sklearn.model_selection import train_test_split\n",
    "\n",
    "from sklearn.compose import ColumnTransformer"
   ]
  },
  {
   "cell_type": "markdown",
   "metadata": {},
   "source": [
    "\n",
    "\n",
    "<div class=\"alert alert-block alert-success\">\n",
    "<b>Успех:</b> Импорты и настройки на месте\n",
    "</div>"
   ]
  },
  {
   "cell_type": "markdown",
   "metadata": {},
   "source": [
    "Загрузим все данные и посмотрим первые их строки:"
   ]
  },
  {
   "cell_type": "code",
   "execution_count": 3,
   "metadata": {},
   "outputs": [],
   "source": [
    "#Считываем данные и сохраняем в переменные\n",
    "\n",
    "# Данные геологоразведки нулевого региона geo_data_0\n",
    "try:\n",
    "    geo_data_0 = pd.read_csv('/datasets/geo_data_0.csv')\n",
    "except:\n",
    "    geo_data_0 = pd.read_csv('https://code.s3.yandex.net/datasets/geo_data_0.csv')\n",
    "\n",
    "# Данные геологоразведки первого региона geo_data_1\n",
    "try:\n",
    "    geo_data_1 = pd.read_csv('/datasets/geo_data_1.csv')\n",
    "except:\n",
    "    geo_data_1 = pd.read_csv('https://code.s3.yandex.net/datasets/geo_data_1.csv')\n",
    "    \n",
    "# Данные геологоразведки второго региона geo_data_2\n",
    "try:\n",
    "    geo_data_2 = pd.read_csv('/datasets/geo_data_2.csv')\n",
    "except:\n",
    "    geo_data_2 = pd.read_csv('https://code.s3.yandex.net/datasets/geo_data_2.csv')"
   ]
  },
  {
   "cell_type": "code",
   "execution_count": 4,
   "metadata": {},
   "outputs": [
    {
     "data": {
      "text/html": [
       "<div>\n",
       "<style scoped>\n",
       "    .dataframe tbody tr th:only-of-type {\n",
       "        vertical-align: middle;\n",
       "    }\n",
       "\n",
       "    .dataframe tbody tr th {\n",
       "        vertical-align: top;\n",
       "    }\n",
       "\n",
       "    .dataframe thead th {\n",
       "        text-align: right;\n",
       "    }\n",
       "</style>\n",
       "<table border=\"1\" class=\"dataframe\">\n",
       "  <thead>\n",
       "    <tr style=\"text-align: right;\">\n",
       "      <th></th>\n",
       "      <th>id</th>\n",
       "      <th>f0</th>\n",
       "      <th>f1</th>\n",
       "      <th>f2</th>\n",
       "      <th>product</th>\n",
       "    </tr>\n",
       "  </thead>\n",
       "  <tbody>\n",
       "    <tr>\n",
       "      <th>0</th>\n",
       "      <td>txEyH</td>\n",
       "      <td>0.705745</td>\n",
       "      <td>-0.497823</td>\n",
       "      <td>1.221170</td>\n",
       "      <td>105.280062</td>\n",
       "    </tr>\n",
       "    <tr>\n",
       "      <th>1</th>\n",
       "      <td>2acmU</td>\n",
       "      <td>1.334711</td>\n",
       "      <td>-0.340164</td>\n",
       "      <td>4.365080</td>\n",
       "      <td>73.037750</td>\n",
       "    </tr>\n",
       "    <tr>\n",
       "      <th>2</th>\n",
       "      <td>409Wp</td>\n",
       "      <td>1.022732</td>\n",
       "      <td>0.151990</td>\n",
       "      <td>1.419926</td>\n",
       "      <td>85.265647</td>\n",
       "    </tr>\n",
       "    <tr>\n",
       "      <th>3</th>\n",
       "      <td>iJLyR</td>\n",
       "      <td>-0.032172</td>\n",
       "      <td>0.139033</td>\n",
       "      <td>2.978566</td>\n",
       "      <td>168.620776</td>\n",
       "    </tr>\n",
       "    <tr>\n",
       "      <th>4</th>\n",
       "      <td>Xdl7t</td>\n",
       "      <td>1.988431</td>\n",
       "      <td>0.155413</td>\n",
       "      <td>4.751769</td>\n",
       "      <td>154.036647</td>\n",
       "    </tr>\n",
       "  </tbody>\n",
       "</table>\n",
       "</div>"
      ],
      "text/plain": [
       "      id        f0        f1        f2     product\n",
       "0  txEyH  0.705745 -0.497823  1.221170  105.280062\n",
       "1  2acmU  1.334711 -0.340164  4.365080   73.037750\n",
       "2  409Wp  1.022732  0.151990  1.419926   85.265647\n",
       "3  iJLyR -0.032172  0.139033  2.978566  168.620776\n",
       "4  Xdl7t  1.988431  0.155413  4.751769  154.036647"
      ]
     },
     "metadata": {},
     "output_type": "display_data"
    },
    {
     "data": {
      "text/html": [
       "<div>\n",
       "<style scoped>\n",
       "    .dataframe tbody tr th:only-of-type {\n",
       "        vertical-align: middle;\n",
       "    }\n",
       "\n",
       "    .dataframe tbody tr th {\n",
       "        vertical-align: top;\n",
       "    }\n",
       "\n",
       "    .dataframe thead th {\n",
       "        text-align: right;\n",
       "    }\n",
       "</style>\n",
       "<table border=\"1\" class=\"dataframe\">\n",
       "  <thead>\n",
       "    <tr style=\"text-align: right;\">\n",
       "      <th></th>\n",
       "      <th>id</th>\n",
       "      <th>f0</th>\n",
       "      <th>f1</th>\n",
       "      <th>f2</th>\n",
       "      <th>product</th>\n",
       "    </tr>\n",
       "  </thead>\n",
       "  <tbody>\n",
       "    <tr>\n",
       "      <th>0</th>\n",
       "      <td>kBEdx</td>\n",
       "      <td>-15.001348</td>\n",
       "      <td>-8.276000</td>\n",
       "      <td>-0.005876</td>\n",
       "      <td>3.179103</td>\n",
       "    </tr>\n",
       "    <tr>\n",
       "      <th>1</th>\n",
       "      <td>62mP7</td>\n",
       "      <td>14.272088</td>\n",
       "      <td>-3.475083</td>\n",
       "      <td>0.999183</td>\n",
       "      <td>26.953261</td>\n",
       "    </tr>\n",
       "    <tr>\n",
       "      <th>2</th>\n",
       "      <td>vyE1P</td>\n",
       "      <td>6.263187</td>\n",
       "      <td>-5.948386</td>\n",
       "      <td>5.001160</td>\n",
       "      <td>134.766305</td>\n",
       "    </tr>\n",
       "    <tr>\n",
       "      <th>3</th>\n",
       "      <td>KcrkZ</td>\n",
       "      <td>-13.081196</td>\n",
       "      <td>-11.506057</td>\n",
       "      <td>4.999415</td>\n",
       "      <td>137.945408</td>\n",
       "    </tr>\n",
       "    <tr>\n",
       "      <th>4</th>\n",
       "      <td>AHL4O</td>\n",
       "      <td>12.702195</td>\n",
       "      <td>-8.147433</td>\n",
       "      <td>5.004363</td>\n",
       "      <td>134.766305</td>\n",
       "    </tr>\n",
       "  </tbody>\n",
       "</table>\n",
       "</div>"
      ],
      "text/plain": [
       "      id         f0         f1        f2     product\n",
       "0  kBEdx -15.001348  -8.276000 -0.005876    3.179103\n",
       "1  62mP7  14.272088  -3.475083  0.999183   26.953261\n",
       "2  vyE1P   6.263187  -5.948386  5.001160  134.766305\n",
       "3  KcrkZ -13.081196 -11.506057  4.999415  137.945408\n",
       "4  AHL4O  12.702195  -8.147433  5.004363  134.766305"
      ]
     },
     "metadata": {},
     "output_type": "display_data"
    },
    {
     "data": {
      "text/html": [
       "<div>\n",
       "<style scoped>\n",
       "    .dataframe tbody tr th:only-of-type {\n",
       "        vertical-align: middle;\n",
       "    }\n",
       "\n",
       "    .dataframe tbody tr th {\n",
       "        vertical-align: top;\n",
       "    }\n",
       "\n",
       "    .dataframe thead th {\n",
       "        text-align: right;\n",
       "    }\n",
       "</style>\n",
       "<table border=\"1\" class=\"dataframe\">\n",
       "  <thead>\n",
       "    <tr style=\"text-align: right;\">\n",
       "      <th></th>\n",
       "      <th>id</th>\n",
       "      <th>f0</th>\n",
       "      <th>f1</th>\n",
       "      <th>f2</th>\n",
       "      <th>product</th>\n",
       "    </tr>\n",
       "  </thead>\n",
       "  <tbody>\n",
       "    <tr>\n",
       "      <th>0</th>\n",
       "      <td>fwXo0</td>\n",
       "      <td>-1.146987</td>\n",
       "      <td>0.963328</td>\n",
       "      <td>-0.828965</td>\n",
       "      <td>27.758673</td>\n",
       "    </tr>\n",
       "    <tr>\n",
       "      <th>1</th>\n",
       "      <td>WJtFt</td>\n",
       "      <td>0.262778</td>\n",
       "      <td>0.269839</td>\n",
       "      <td>-2.530187</td>\n",
       "      <td>56.069697</td>\n",
       "    </tr>\n",
       "    <tr>\n",
       "      <th>2</th>\n",
       "      <td>ovLUW</td>\n",
       "      <td>0.194587</td>\n",
       "      <td>0.289035</td>\n",
       "      <td>-5.586433</td>\n",
       "      <td>62.871910</td>\n",
       "    </tr>\n",
       "    <tr>\n",
       "      <th>3</th>\n",
       "      <td>q6cA6</td>\n",
       "      <td>2.236060</td>\n",
       "      <td>-0.553760</td>\n",
       "      <td>0.930038</td>\n",
       "      <td>114.572842</td>\n",
       "    </tr>\n",
       "    <tr>\n",
       "      <th>4</th>\n",
       "      <td>WPMUX</td>\n",
       "      <td>-0.515993</td>\n",
       "      <td>1.716266</td>\n",
       "      <td>5.899011</td>\n",
       "      <td>149.600746</td>\n",
       "    </tr>\n",
       "  </tbody>\n",
       "</table>\n",
       "</div>"
      ],
      "text/plain": [
       "      id        f0        f1        f2     product\n",
       "0  fwXo0 -1.146987  0.963328 -0.828965   27.758673\n",
       "1  WJtFt  0.262778  0.269839 -2.530187   56.069697\n",
       "2  ovLUW  0.194587  0.289035 -5.586433   62.871910\n",
       "3  q6cA6  2.236060 -0.553760  0.930038  114.572842\n",
       "4  WPMUX -0.515993  1.716266  5.899011  149.600746"
      ]
     },
     "metadata": {},
     "output_type": "display_data"
    }
   ],
   "source": [
    "# выводим первые 5 строк каждого датафрейма\n",
    "for i in geo_data_0, geo_data_1, geo_data_2:\n",
    "    display(i.head(5))"
   ]
  },
  {
   "cell_type": "markdown",
   "metadata": {},
   "source": [
    "Данные считались корректно.\n",
    "\n",
    "Посмотрим информацию о датафреймах с помощью метода `info()`:"
   ]
  },
  {
   "cell_type": "code",
   "execution_count": 5,
   "metadata": {},
   "outputs": [
    {
     "name": "stdout",
     "output_type": "stream",
     "text": [
      "<class 'pandas.core.frame.DataFrame'>\n",
      "RangeIndex: 100000 entries, 0 to 99999\n",
      "Data columns (total 5 columns):\n",
      " #   Column   Non-Null Count   Dtype  \n",
      "---  ------   --------------   -----  \n",
      " 0   id       100000 non-null  object \n",
      " 1   f0       100000 non-null  float64\n",
      " 2   f1       100000 non-null  float64\n",
      " 3   f2       100000 non-null  float64\n",
      " 4   product  100000 non-null  float64\n",
      "dtypes: float64(4), object(1)\n",
      "memory usage: 3.8+ MB\n"
     ]
    },
    {
     "data": {
      "text/plain": [
       "None"
      ]
     },
     "metadata": {},
     "output_type": "display_data"
    },
    {
     "name": "stdout",
     "output_type": "stream",
     "text": [
      "<class 'pandas.core.frame.DataFrame'>\n",
      "RangeIndex: 100000 entries, 0 to 99999\n",
      "Data columns (total 5 columns):\n",
      " #   Column   Non-Null Count   Dtype  \n",
      "---  ------   --------------   -----  \n",
      " 0   id       100000 non-null  object \n",
      " 1   f0       100000 non-null  float64\n",
      " 2   f1       100000 non-null  float64\n",
      " 3   f2       100000 non-null  float64\n",
      " 4   product  100000 non-null  float64\n",
      "dtypes: float64(4), object(1)\n",
      "memory usage: 3.8+ MB\n"
     ]
    },
    {
     "data": {
      "text/plain": [
       "None"
      ]
     },
     "metadata": {},
     "output_type": "display_data"
    },
    {
     "name": "stdout",
     "output_type": "stream",
     "text": [
      "<class 'pandas.core.frame.DataFrame'>\n",
      "RangeIndex: 100000 entries, 0 to 99999\n",
      "Data columns (total 5 columns):\n",
      " #   Column   Non-Null Count   Dtype  \n",
      "---  ------   --------------   -----  \n",
      " 0   id       100000 non-null  object \n",
      " 1   f0       100000 non-null  float64\n",
      " 2   f1       100000 non-null  float64\n",
      " 3   f2       100000 non-null  float64\n",
      " 4   product  100000 non-null  float64\n",
      "dtypes: float64(4), object(1)\n",
      "memory usage: 3.8+ MB\n"
     ]
    },
    {
     "data": {
      "text/plain": [
       "None"
      ]
     },
     "metadata": {},
     "output_type": "display_data"
    }
   ],
   "source": [
    "# выводим информацию о каждом датафрейме\n",
    "for i in geo_data_0, geo_data_1, geo_data_2:\n",
    "    display(i.info())"
   ]
  },
  {
   "cell_type": "markdown",
   "metadata": {},
   "source": [
    "Пропусков нет, типы данных столбцов соответствуют наполнению.\n",
    "\n",
    "Посмотрим на информацию о признаках в датафреймах с помощью метода `describe`"
   ]
  },
  {
   "cell_type": "code",
   "execution_count": 6,
   "metadata": {},
   "outputs": [
    {
     "data": {
      "text/html": [
       "<div>\n",
       "<style scoped>\n",
       "    .dataframe tbody tr th:only-of-type {\n",
       "        vertical-align: middle;\n",
       "    }\n",
       "\n",
       "    .dataframe tbody tr th {\n",
       "        vertical-align: top;\n",
       "    }\n",
       "\n",
       "    .dataframe thead th {\n",
       "        text-align: right;\n",
       "    }\n",
       "</style>\n",
       "<table border=\"1\" class=\"dataframe\">\n",
       "  <thead>\n",
       "    <tr style=\"text-align: right;\">\n",
       "      <th></th>\n",
       "      <th>f0</th>\n",
       "      <th>f1</th>\n",
       "      <th>f2</th>\n",
       "      <th>product</th>\n",
       "    </tr>\n",
       "  </thead>\n",
       "  <tbody>\n",
       "    <tr>\n",
       "      <th>count</th>\n",
       "      <td>100000.000000</td>\n",
       "      <td>100000.000000</td>\n",
       "      <td>100000.000000</td>\n",
       "      <td>100000.000000</td>\n",
       "    </tr>\n",
       "    <tr>\n",
       "      <th>mean</th>\n",
       "      <td>0.500419</td>\n",
       "      <td>0.250143</td>\n",
       "      <td>2.502647</td>\n",
       "      <td>92.500000</td>\n",
       "    </tr>\n",
       "    <tr>\n",
       "      <th>std</th>\n",
       "      <td>0.871832</td>\n",
       "      <td>0.504433</td>\n",
       "      <td>3.248248</td>\n",
       "      <td>44.288691</td>\n",
       "    </tr>\n",
       "    <tr>\n",
       "      <th>min</th>\n",
       "      <td>-1.408605</td>\n",
       "      <td>-0.848218</td>\n",
       "      <td>-12.088328</td>\n",
       "      <td>0.000000</td>\n",
       "    </tr>\n",
       "    <tr>\n",
       "      <th>25%</th>\n",
       "      <td>-0.072580</td>\n",
       "      <td>-0.200881</td>\n",
       "      <td>0.287748</td>\n",
       "      <td>56.497507</td>\n",
       "    </tr>\n",
       "    <tr>\n",
       "      <th>50%</th>\n",
       "      <td>0.502360</td>\n",
       "      <td>0.250252</td>\n",
       "      <td>2.515969</td>\n",
       "      <td>91.849972</td>\n",
       "    </tr>\n",
       "    <tr>\n",
       "      <th>75%</th>\n",
       "      <td>1.073581</td>\n",
       "      <td>0.700646</td>\n",
       "      <td>4.715088</td>\n",
       "      <td>128.564089</td>\n",
       "    </tr>\n",
       "    <tr>\n",
       "      <th>max</th>\n",
       "      <td>2.362331</td>\n",
       "      <td>1.343769</td>\n",
       "      <td>16.003790</td>\n",
       "      <td>185.364347</td>\n",
       "    </tr>\n",
       "  </tbody>\n",
       "</table>\n",
       "</div>"
      ],
      "text/plain": [
       "                  f0             f1             f2        product\n",
       "count  100000.000000  100000.000000  100000.000000  100000.000000\n",
       "mean        0.500419       0.250143       2.502647      92.500000\n",
       "std         0.871832       0.504433       3.248248      44.288691\n",
       "min        -1.408605      -0.848218     -12.088328       0.000000\n",
       "25%        -0.072580      -0.200881       0.287748      56.497507\n",
       "50%         0.502360       0.250252       2.515969      91.849972\n",
       "75%         1.073581       0.700646       4.715088     128.564089\n",
       "max         2.362331       1.343769      16.003790     185.364347"
      ]
     },
     "metadata": {},
     "output_type": "display_data"
    },
    {
     "data": {
      "text/html": [
       "<div>\n",
       "<style scoped>\n",
       "    .dataframe tbody tr th:only-of-type {\n",
       "        vertical-align: middle;\n",
       "    }\n",
       "\n",
       "    .dataframe tbody tr th {\n",
       "        vertical-align: top;\n",
       "    }\n",
       "\n",
       "    .dataframe thead th {\n",
       "        text-align: right;\n",
       "    }\n",
       "</style>\n",
       "<table border=\"1\" class=\"dataframe\">\n",
       "  <thead>\n",
       "    <tr style=\"text-align: right;\">\n",
       "      <th></th>\n",
       "      <th>f0</th>\n",
       "      <th>f1</th>\n",
       "      <th>f2</th>\n",
       "      <th>product</th>\n",
       "    </tr>\n",
       "  </thead>\n",
       "  <tbody>\n",
       "    <tr>\n",
       "      <th>count</th>\n",
       "      <td>100000.000000</td>\n",
       "      <td>100000.000000</td>\n",
       "      <td>100000.000000</td>\n",
       "      <td>100000.000000</td>\n",
       "    </tr>\n",
       "    <tr>\n",
       "      <th>mean</th>\n",
       "      <td>1.141296</td>\n",
       "      <td>-4.796579</td>\n",
       "      <td>2.494541</td>\n",
       "      <td>68.825000</td>\n",
       "    </tr>\n",
       "    <tr>\n",
       "      <th>std</th>\n",
       "      <td>8.965932</td>\n",
       "      <td>5.119872</td>\n",
       "      <td>1.703572</td>\n",
       "      <td>45.944423</td>\n",
       "    </tr>\n",
       "    <tr>\n",
       "      <th>min</th>\n",
       "      <td>-31.609576</td>\n",
       "      <td>-26.358598</td>\n",
       "      <td>-0.018144</td>\n",
       "      <td>0.000000</td>\n",
       "    </tr>\n",
       "    <tr>\n",
       "      <th>25%</th>\n",
       "      <td>-6.298551</td>\n",
       "      <td>-8.267985</td>\n",
       "      <td>1.000021</td>\n",
       "      <td>26.953261</td>\n",
       "    </tr>\n",
       "    <tr>\n",
       "      <th>50%</th>\n",
       "      <td>1.153055</td>\n",
       "      <td>-4.813172</td>\n",
       "      <td>2.011479</td>\n",
       "      <td>57.085625</td>\n",
       "    </tr>\n",
       "    <tr>\n",
       "      <th>75%</th>\n",
       "      <td>8.621015</td>\n",
       "      <td>-1.332816</td>\n",
       "      <td>3.999904</td>\n",
       "      <td>107.813044</td>\n",
       "    </tr>\n",
       "    <tr>\n",
       "      <th>max</th>\n",
       "      <td>29.421755</td>\n",
       "      <td>18.734063</td>\n",
       "      <td>5.019721</td>\n",
       "      <td>137.945408</td>\n",
       "    </tr>\n",
       "  </tbody>\n",
       "</table>\n",
       "</div>"
      ],
      "text/plain": [
       "                  f0             f1             f2        product\n",
       "count  100000.000000  100000.000000  100000.000000  100000.000000\n",
       "mean        1.141296      -4.796579       2.494541      68.825000\n",
       "std         8.965932       5.119872       1.703572      45.944423\n",
       "min       -31.609576     -26.358598      -0.018144       0.000000\n",
       "25%        -6.298551      -8.267985       1.000021      26.953261\n",
       "50%         1.153055      -4.813172       2.011479      57.085625\n",
       "75%         8.621015      -1.332816       3.999904     107.813044\n",
       "max        29.421755      18.734063       5.019721     137.945408"
      ]
     },
     "metadata": {},
     "output_type": "display_data"
    },
    {
     "data": {
      "text/html": [
       "<div>\n",
       "<style scoped>\n",
       "    .dataframe tbody tr th:only-of-type {\n",
       "        vertical-align: middle;\n",
       "    }\n",
       "\n",
       "    .dataframe tbody tr th {\n",
       "        vertical-align: top;\n",
       "    }\n",
       "\n",
       "    .dataframe thead th {\n",
       "        text-align: right;\n",
       "    }\n",
       "</style>\n",
       "<table border=\"1\" class=\"dataframe\">\n",
       "  <thead>\n",
       "    <tr style=\"text-align: right;\">\n",
       "      <th></th>\n",
       "      <th>f0</th>\n",
       "      <th>f1</th>\n",
       "      <th>f2</th>\n",
       "      <th>product</th>\n",
       "    </tr>\n",
       "  </thead>\n",
       "  <tbody>\n",
       "    <tr>\n",
       "      <th>count</th>\n",
       "      <td>100000.000000</td>\n",
       "      <td>100000.000000</td>\n",
       "      <td>100000.000000</td>\n",
       "      <td>100000.000000</td>\n",
       "    </tr>\n",
       "    <tr>\n",
       "      <th>mean</th>\n",
       "      <td>0.002023</td>\n",
       "      <td>-0.002081</td>\n",
       "      <td>2.495128</td>\n",
       "      <td>95.000000</td>\n",
       "    </tr>\n",
       "    <tr>\n",
       "      <th>std</th>\n",
       "      <td>1.732045</td>\n",
       "      <td>1.730417</td>\n",
       "      <td>3.473445</td>\n",
       "      <td>44.749921</td>\n",
       "    </tr>\n",
       "    <tr>\n",
       "      <th>min</th>\n",
       "      <td>-8.760004</td>\n",
       "      <td>-7.084020</td>\n",
       "      <td>-11.970335</td>\n",
       "      <td>0.000000</td>\n",
       "    </tr>\n",
       "    <tr>\n",
       "      <th>25%</th>\n",
       "      <td>-1.162288</td>\n",
       "      <td>-1.174820</td>\n",
       "      <td>0.130359</td>\n",
       "      <td>59.450441</td>\n",
       "    </tr>\n",
       "    <tr>\n",
       "      <th>50%</th>\n",
       "      <td>0.009424</td>\n",
       "      <td>-0.009482</td>\n",
       "      <td>2.484236</td>\n",
       "      <td>94.925613</td>\n",
       "    </tr>\n",
       "    <tr>\n",
       "      <th>75%</th>\n",
       "      <td>1.158535</td>\n",
       "      <td>1.163678</td>\n",
       "      <td>4.858794</td>\n",
       "      <td>130.595027</td>\n",
       "    </tr>\n",
       "    <tr>\n",
       "      <th>max</th>\n",
       "      <td>7.238262</td>\n",
       "      <td>7.844801</td>\n",
       "      <td>16.739402</td>\n",
       "      <td>190.029838</td>\n",
       "    </tr>\n",
       "  </tbody>\n",
       "</table>\n",
       "</div>"
      ],
      "text/plain": [
       "                  f0             f1             f2        product\n",
       "count  100000.000000  100000.000000  100000.000000  100000.000000\n",
       "mean        0.002023      -0.002081       2.495128      95.000000\n",
       "std         1.732045       1.730417       3.473445      44.749921\n",
       "min        -8.760004      -7.084020     -11.970335       0.000000\n",
       "25%        -1.162288      -1.174820       0.130359      59.450441\n",
       "50%         0.009424      -0.009482       2.484236      94.925613\n",
       "75%         1.158535       1.163678       4.858794     130.595027\n",
       "max         7.238262       7.844801      16.739402     190.029838"
      ]
     },
     "metadata": {},
     "output_type": "display_data"
    }
   ],
   "source": [
    "# информация о признаках в датфреймах\n",
    "for i in geo_data_0, geo_data_1, geo_data_2:\n",
    "    display(i.describe())"
   ]
  },
  {
   "cell_type": "markdown",
   "metadata": {},
   "source": [
    "Вывод:\n",
    "- данные загрузились корректно;\n",
    "- пропусков нет, типы данных столбцов соответствуют наполнению;\n",
    "- признак `f0` и `f1` во всех трех регионах в разных пределах;\n",
    "- признак `f2` в нулевом и втором регионе в одинаковых пределах;\n",
    "- объемы запасов в нулевом и втором регионе выше чем в первом."
   ]
  },
  {
   "cell_type": "markdown",
   "metadata": {},
   "source": [
    "\n",
    "\n",
    "<div class=\"alert alert-block alert-success\">\n",
    "<b>Успех:</b> Первичный осмотр проведен\n",
    "</div>"
   ]
  },
  {
   "cell_type": "markdown",
   "metadata": {},
   "source": [
    "###  Проверка на наличие неявных дубликатов"
   ]
  },
  {
   "cell_type": "markdown",
   "metadata": {},
   "source": [
    "Посмотрим на количество дубликатов без столбца `id`:"
   ]
  },
  {
   "cell_type": "code",
   "execution_count": 7,
   "metadata": {},
   "outputs": [
    {
     "name": "stdout",
     "output_type": "stream",
     "text": [
      "Количество неявных дубликатов в geo_data_0: 0\n",
      "Количество неявных дубликатов в geo_data_1: 0\n",
      "Количество неявных дубликатов в geo_data_2: 0\n"
     ]
    }
   ],
   "source": [
    "for i, j in zip ([geo_data_0, geo_data_1, geo_data_2], ['geo_data_0', 'geo_data_1', 'geo_data_2']):\n",
    "    print(f'Количество неявных дубликатов в {j}: {i.drop(\"id\", axis=1).duplicated().sum()}')"
   ]
  },
  {
   "cell_type": "markdown",
   "metadata": {},
   "source": [
    "Неявных дубликатов нет."
   ]
  },
  {
   "cell_type": "markdown",
   "metadata": {},
   "source": [
    "### Исследовательский анализ"
   ]
  },
  {
   "cell_type": "markdown",
   "metadata": {},
   "source": [
    "Построим гистограммы и \"ящики с усами\" для признаков, предварительно создав функцию для их построения:"
   ]
  },
  {
   "cell_type": "code",
   "execution_count": 8,
   "metadata": {},
   "outputs": [],
   "source": [
    "# создадим функцию для построения гистограммы (барплота) и ящика с усами для количетсвенных признаков\n",
    "def hist_and_boxplot (df, parametr, number_area):\n",
    "    # df - датафрейм\n",
    "    # parametr - признак для построения\n",
    "    # number_area - номер региона\n",
    "    \n",
    "    # построение фигур для графиков\n",
    "    fig, axes = plt.subplots(1, 2, figsize=(18, 9))\n",
    "    plt.suptitle(f'Распределение признака {parametr} в {number_area} регионе', fontsize=20)\n",
    "    \n",
    "    # построение гистограммы\n",
    "    df[parametr].hist(bins=20, grid=True, ax=axes[0])\n",
    "    axes[0].set_ylabel('Количество', fontsize=15)\n",
    "    axes[0].set_xlabel(f'Значение {parametr}', fontsize=15)\n",
    "        \n",
    "    # построение ящика с усами\n",
    "    df.boxplot(column=parametr, ax=axes[1])\n",
    "    axes[1].set_ylabel(f'Значение {parametr}', fontsize=15)\n",
    "    \n",
    "    plt.show()"
   ]
  },
  {
   "cell_type": "markdown",
   "metadata": {},
   "source": [
    "Посмотрим на распределения признака `f0` во всех датафреймах:"
   ]
  },
  {
   "cell_type": "code",
   "execution_count": 9,
   "metadata": {},
   "outputs": [
    {
     "data": {
      "image/png": "[encoded data removed]",
      "text/plain": [
       "<Figure size 1296x648 with 2 Axes>"
      ]
     },
     "metadata": {
      "needs_background": "light"
     },
     "output_type": "display_data"
    },
    {
     "data": {
      "image/png": "[encoded data removed]",
      "text/plain": [
       "<Figure size 1296x648 with 2 Axes>"
      ]
     },
     "metadata": {
      "needs_background": "light"
     },
     "output_type": "display_data"
    },
    {
     "data": {
      "image/png": "[encoded data removed]",
      "text/plain": [
       "<Figure size 1296x648 with 2 Axes>"
      ]
     },
     "metadata": {
      "needs_background": "light"
     },
     "output_type": "display_data"
    }
   ],
   "source": [
    "for i, j in zip ([geo_data_0, geo_data_1, geo_data_2], range(3)):\n",
    "    hist_and_boxplot (i, 'f0', j)"
   ]
  },
  {
   "cell_type": "markdown",
   "metadata": {},
   "source": [
    "По графикам видно, что:\n",
    "- сильных выбросов в распределениях признака `f0` нет;\n",
    "- в нулевом и первом регионе распределение признака `f0` не похоже на нормальное (несколько пиков);\n",
    "- во втором регионе распределение похоже на нормальное.\n",
    "\n",
    "Посмотрим на распределения признака `f1` во всех датафреймах:"
   ]
  },
  {
   "cell_type": "code",
   "execution_count": 10,
   "metadata": {},
   "outputs": [
    {
     "data": {
      "image/png": "[encoded data removed]",
      "text/plain": [
       "<Figure size 1296x648 with 2 Axes>"
      ]
     },
     "metadata": {
      "needs_background": "light"
     },
     "output_type": "display_data"
    },
    {
     "data": {
      "image/png": "[encoded data removed]",
      "text/plain": [
       "<Figure size 1296x648 with 2 Axes>"
      ]
     },
     "metadata": {
      "needs_background": "light"
     },
     "output_type": "display_data"
    },
    {
     "data": {
      "image/png": "[encoded data removed]",
      "text/plain": [
       "<Figure size 1296x648 with 2 Axes>"
      ]
     },
     "metadata": {
      "needs_background": "light"
     },
     "output_type": "display_data"
    }
   ],
   "source": [
    "for i, j in zip ([geo_data_0, geo_data_1, geo_data_2], range(3)):\n",
    "    hist_and_boxplot (i, 'f1', j)"
   ]
  },
  {
   "cell_type": "markdown",
   "metadata": {},
   "source": [
    "По графикам видно, что:\n",
    "- сильных выбросов в распределениях признака `f1` нет;\n",
    "- в нулевом регионе распределение признака `f1` не похоже на нормальное (несколько пиков);\n",
    "- в первом и втором регионе распределение похоже на нормальное.\n",
    "\n",
    "Посмотрим на распределения признака `f2` во всех датафреймах:"
   ]
  },
  {
   "cell_type": "code",
   "execution_count": 11,
   "metadata": {},
   "outputs": [
    {
     "data": {
      "image/png": "[encoded data removed]",
      "text/plain": [
       "<Figure size 1296x648 with 2 Axes>"
      ]
     },
     "metadata": {
      "needs_background": "light"
     },
     "output_type": "display_data"
    },
    {
     "data": {
      "image/png": "[encoded data removed]",
      "text/plain": [
       "<Figure size 1296x648 with 2 Axes>"
      ]
     },
     "metadata": {
      "needs_background": "light"
     },
     "output_type": "display_data"
    },
    {
     "data": {
      "image/png": "[encoded data removed]",
      "text/plain": [
       "<Figure size 1296x648 with 2 Axes>"
      ]
     },
     "metadata": {
      "needs_background": "light"
     },
     "output_type": "display_data"
    }
   ],
   "source": [
    "for i, j in zip ([geo_data_0, geo_data_1, geo_data_2], range(3)):\n",
    "    hist_and_boxplot (i, 'f2', j)"
   ]
  },
  {
   "cell_type": "markdown",
   "metadata": {},
   "source": [
    "По графикам видно, что:\n",
    "- сильных выбросов в распределениях признака `f2` нет;\n",
    "- в первом регионе распределение признака `f2` не похоже на нормальное (много пиков);\n",
    "- в нулевом и втором регионе распределение похоже на нормальное."
   ]
  },
  {
   "cell_type": "markdown",
   "metadata": {},
   "source": [
    "Вывод по исследовательскому анализу:\n",
    "- значения одних и тех же признаков имеют разное распределение и пределы в разных регионах;\n",
    "- только во втором регионе все признаки распределены нормально."
   ]
  },
  {
   "cell_type": "markdown",
   "metadata": {},
   "source": [
    "### Корреляционный анализ"
   ]
  },
  {
   "cell_type": "markdown",
   "metadata": {},
   "source": [
    "Для нахождения зависимостей признаков воспользуемся коэффициентом Фи (указав все признаки и объем запасов в параметре `interval_cols`, где отображаются непрерывные признаки):"
   ]
  },
  {
   "cell_type": "code",
   "execution_count": 12,
   "metadata": {},
   "outputs": [
    {
     "data": {
      "image/png": "[encoded data removed]",
      "text/plain": [
       "<Figure size 1296x360 with 6 Axes>"
      ]
     },
     "metadata": {
      "needs_background": "light"
     },
     "output_type": "display_data"
    }
   ],
   "source": [
    "# построение фигуры для графиков\n",
    "fig, axes = plt.subplots(1, 3, figsize=(18, 5))\n",
    "plt.suptitle(f'Коэффициенты корреляции Фи', fontsize=20, y=1.05)\n",
    "    \n",
    "# построение тепловой карты\n",
    "for i, j in zip([geo_data_0, geo_data_1, geo_data_2], range(3)):\n",
    "    sns.heatmap(i.drop('id', axis=1).phik_matrix(interval_cols=['f0', 'f1', 'f2', 'product']),\n",
    "                annot=True,\n",
    "                fmt=\".2f\",\n",
    "                ax=axes[j]               \n",
    "               )\n",
    "    axes[j].set_title(f'{j} регион', fontsize=20)\n",
    "    axes[j].set_ylabel('Признак', fontsize=15)\n",
    "    axes[j].set_xlabel('Признак ', fontsize=15)"
   ]
  },
  {
   "cell_type": "markdown",
   "metadata": {},
   "source": [
    "По тепловой карте коэффициентов корреляции Фи видно, что:\n",
    "- в нулевом и втором регионах признаки одинаково влияют на объем запасов `product`:\n",
    "    - признаки `f0` и `f1` слабо влияют на объемы запасов (коэффициент Фи от 0,20 до 0,25);\n",
    "    - признак `f2` немного сильнее влияет на `product` (коэффициент Фи 0,44-0,48);\n",
    "- в первом регионе наблюдается очень сильная корреляция между `f2` и `product` (коэффициент Фи 0,98), средняя корреляция также наблюдается у признака `f0` (коэффициент Фи 0,63) и слабая корреляция с признаков `f1` (коэффициент Фи 0,19);\n",
    "- в нулевом регионе наблюдается высокая зависимость признаков `f0` и `f1` (коэффициент Фи 0,76), но о мультикорллинеарности речи не идет.\n",
    "\n",
    "Посмотрим на диаграммы рассеяния признаков:"
   ]
  },
  {
   "cell_type": "markdown",
   "metadata": {},
   "source": [
    "\n",
    "<div class=\"alert alert-block alert-info\">\n",
    "<b>Совет:</b> Можно было бы еще выдвинуть предположение, откуда такая высокая корреляция во 2 регионе с целевым признаком могла возникнуть\n",
    "</div>"
   ]
  },
  {
   "cell_type": "markdown",
   "metadata": {},
   "source": [
    "<div class=\"alert alert-block alert-warning\">\n",
    "<b>Комментарий студента:</b> \n",
    "    \n",
    "Утечка данных?\n",
    "</div>"
   ]
  },
  {
   "cell_type": "markdown",
   "metadata": {},
   "source": [
    "\n",
    "<div class=\"alert alert-block alert-info\">\n",
    "<b>Совет[2]:</b> Возможно, но не явное.  Могу предположить, что для регионов с определенными условиями (климатическими, геологическими) этот признак является практически дублирующим целевой. Например \"\"как часто местные жители обнаруживали внезапно появляющиеся лужи из нефти. Для определенных регионов это может быть следствием залегания близко к поверхности залежей нефти. В том числе и прямым признаком \"богатства\" зележей данного региона.\n",
    "</div>\n"
   ]
  },
  {
   "cell_type": "code",
   "execution_count": 13,
   "metadata": {
    "scrolled": false
   },
   "outputs": [
    {
     "data": {
      "image/png": "[encoded data removed]",
      "text/plain": [
       "<Figure size 648x648 with 16 Axes>"
      ]
     },
     "metadata": {
      "needs_background": "light"
     },
     "output_type": "display_data"
    },
    {
     "data": {
      "image/png": "[encoded data removed]",
      "text/plain": [
       "<Figure size 648x648 with 16 Axes>"
      ]
     },
     "metadata": {
      "needs_background": "light"
     },
     "output_type": "display_data"
    },
    {
     "data": {
      "image/png": "[encoded data removed]",
      "text/plain": [
       "<Figure size 648x648 with 16 Axes>"
      ]
     },
     "metadata": {
      "needs_background": "light"
     },
     "output_type": "display_data"
    }
   ],
   "source": [
    "# построение матриц диаграмм рассеяния признаков\n",
    "for i, j in zip([geo_data_0, geo_data_1, geo_data_2], range(3)):\n",
    "    pd.plotting.scatter_matrix(i, figsize=(9, 9), alpha=0.2)\n",
    "    plt.suptitle(f'Матрица диаграмм рассеяния признаков в {j} регионе', y=0.93, fontsize=20)\n",
    "    plt.show()"
   ]
  },
  {
   "cell_type": "markdown",
   "metadata": {},
   "source": [
    "На диаграммах подтверждается, то что `product` сильнее всех зависит от признака `f2`, а в первом регионе проглядывается прямая линейная зависимость. "
   ]
  },
  {
   "cell_type": "markdown",
   "metadata": {},
   "source": [
    "### Вывод по блоку"
   ]
  },
  {
   "cell_type": "markdown",
   "metadata": {},
   "source": [
    "Вывод по блоку загрузка и анализ данных:\n",
    "- данные загрузились корректно;\n",
    "- пропусков нет, типы данных столбцов соответствуют наполнению, неявных дубликатов нет;\n",
    "- объемы запасов в нулевом и втором регионе выше чем в первом;\n",
    "- значения одних и тех же признаков имеют разное распределение и пределы в разных регионах;\n",
    "- `product` сильнее всех зависит от признака `f2`, а в первом регионе проглядывается прямая линейная зависимость;\n",
    "- в каждом регионе зависимость целевого признака от входных признаков разная, поэтому для каждого региона обучим свою модель для определения запасов `product`."
   ]
  },
  {
   "cell_type": "markdown",
   "metadata": {},
   "source": [
    "\n",
    "<div class=\"alert alert-block alert-success\">\n",
    "<b>Успех:</b> Данные осмотрены хорошо, особенно радует, что изучены корреляции, так как мы планируем использовать линейные модели, а для них это важно. \n",
    "</div>\n",
    "\n",
    "\n",
    "\n",
    "<div class=\"alert alert-block alert-info\">\n",
    "<b>Совет:</b>  Советую обратить внимание на библиотеки sweetviz и ydata_profiling помогут в проведении более тщательного EDA анализа. Исследовательский анализ можно делать и с помощью ручного вызова функций дефолтных библиотек. Данные библиотеки хороши для максимизации комфорта презентации результатов анализа бизнес-пользователям.  \n",
    "\n",
    "Очень просты в использоовании, на вход кладется датафрейм: ydata_profiling.ProfileReport(df) \n",
    "</div>\n"
   ]
  },
  {
   "cell_type": "markdown",
   "metadata": {},
   "source": [
    "<div class=\"alert alert-block alert-warning\">\n",
    "<b>Комментарий студента:</b> \n",
    "\n",
    "Хотел попробовать библиотеку `ydata_profiling`, но не получилось ее импортировать, выдает ошибку:\n",
    "    \n",
    "`cannot import name 'Any' from 'typing_extensions' (/opt/conda/lib/python3.9/site-packages/typing_extensions.py)`\n",
    "    \n",
    "Вот код:\n",
    "    \n",
    "```\n",
    "! pip install typing-extensions==4.10.0\n",
    "! pip install ydata-profiling -q\n",
    "from ydata_profiling import ProfileReport\n",
    "```\n",
    "    \n",
    "Не понял почему не получается ее подключить, в чем проблема?\n",
    "    \n",
    "</div>"
   ]
  },
  {
   "cell_type": "markdown",
   "metadata": {},
   "source": [
    "<div class=\"alert alert-block alert-success\">\n",
    "    \n",
    "<b>Ответ[2]:</b> Попробуй перезапустить ядро - у меня  с твоим кодом - все импортировалось \n",
    "    \n",
    "P.S.Главное во время обучения не злоупотреблять, чтобы руки не забыл как делать EDA анализ\n",
    "</div>\n"
   ]
  },
  {
   "cell_type": "markdown",
   "metadata": {},
   "source": [
    "## Обучение и проверка модели"
   ]
  },
  {
   "cell_type": "markdown",
   "metadata": {},
   "source": [
    "Создадим пайплайн `pipe_final`, который объединит подготовку данных (в нашем случае только масштабирование признаков) и саму модель:"
   ]
  },
  {
   "cell_type": "code",
   "execution_count": 15,
   "metadata": {},
   "outputs": [],
   "source": [
    "# список столбцов для масштабирования\n",
    "num_columns = ['f0', 'f1', 'f2']\n",
    "\n",
    "# пайплайн для масштабирования данных\n",
    "data_preprocessor = ColumnTransformer(\n",
    "    [('num', MinMaxScaler(), num_columns)]\n",
    ")\n",
    "\n",
    "# итоговый пайплайн:\n",
    "pipe_final = Pipeline([\n",
    "    ('preprocessor', data_preprocessor),\n",
    "    ('models', LinearRegression())\n",
    "])"
   ]
  },
  {
   "cell_type": "markdown",
   "metadata": {},
   "source": [
    "Дальше создадим словарь с гиперпараметрами моделей, которые будем пробовать для предсказания объемов запасов `product`:\n",
    "- `LinearRegression()`:\n",
    "- `Lasso()`:\n",
    "    - штраф регуляризации: 0.1, 0.5, 1;\n",
    "- `Ridge()`:\n",
    "    - штраф регуляризации: 0.1, 0.5, 1;   \n",
    "- для всех моделей переберем два варианта масштабирования: `StandardScaler`, `MinMaxScaler`:"
   ]
  },
  {
   "cell_type": "code",
   "execution_count": 16,
   "metadata": {},
   "outputs": [],
   "source": [
    "param_distributions = [\n",
    "    \n",
    "    # словарь для модели LinearRegression() \n",
    "    {\n",
    "        'models':[LinearRegression()], # модель\n",
    "        'preprocessor__num': [StandardScaler(), MinMaxScaler()] # два варианта масштабирования\n",
    "    },\n",
    "    \n",
    "    # словарь для модели Lasso() \n",
    "    {\n",
    "        'models':[Lasso(random_state = 42)], # модель\n",
    "        'models__alpha': [0.1, 0.5, 1], # параметр alpha\n",
    "        'preprocessor__num': [StandardScaler(), MinMaxScaler()] # два варианта масштабирования\n",
    "    },\n",
    "    \n",
    "    # словарь для модели Ridge() \n",
    "    {\n",
    "        'models':[Ridge(random_state = 42)], # модель\n",
    "        'models__alpha': [0.1, 0.5, 1], # параметр alpha\n",
    "        'preprocessor__num': [StandardScaler(), MinMaxScaler()] # два варианта масштабирования\n",
    "    }\n",
    "]"
   ]
  },
  {
   "cell_type": "markdown",
   "metadata": {},
   "source": [
    "Дальше создадим функцию `best_model` для выбора лучшей модели на вход которой будем подавать данные о геологоразведки регионов, внутри функции будет происходить разделение на тренировочную и валидационную выборки и выбор лучшей модели с помощью `GridSearchCV`. Функция возвращает валидационную выборку и ее целевой признак, а также лучшую модель и выводит параметры лучшей модели и метрику `RMSE` лучшей модели:"
   ]
  },
  {
   "cell_type": "code",
   "execution_count": 17,
   "metadata": {},
   "outputs": [],
   "source": [
    "# функция для выбора лучшей модели\n",
    "def best_model (df):\n",
    "    # df - исходный датафрейм с целевым признаком\n",
    "\n",
    "    # разделение на тренировочную и валидационную выборки\n",
    "    X_train, X_test, y_train, y_test = train_test_split(\n",
    "        df.drop(['id', 'product'], axis=1),\n",
    "        df['product'],\n",
    "        test_size = 0.25, \n",
    "        random_state = 42\n",
    "    )\n",
    "    \n",
    "    # выбор лучшей модели с помощью GridSearchCV\n",
    "    grid_search = GridSearchCV(\n",
    "        pipe_final,\n",
    "        param_grid=param_distributions,\n",
    "        cv=5,\n",
    "        scoring=make_scorer(mean_squared_error, greater_is_better=False),\n",
    "        n_jobs=-1\n",
    "    )\n",
    "\n",
    "    # обучение лучшей модели на тренировочной выборке\n",
    "    grid_search.fit(X_train, y_train)\n",
    "\n",
    "    # вывод параметров лучшей модели и метрики лучшей модели\n",
    "    print('Лучшая модель и её параметры:\\n\\n', grid_search.best_estimator_)\n",
    "    print ('\\nМетрика RMSE лучшей модели на тренировочной выборке:', ((-grid_search.best_score_)**0.5).round(2))\n",
    "    \n",
    "    return X_test, y_test, grid_search.best_estimator_"
   ]
  },
  {
   "cell_type": "markdown",
   "metadata": {},
   "source": [
    "Получим параметры лучших моделей и значения метрики `RMSE` на тренировочной выборке для всех трех регионов:"
   ]
  },
  {
   "cell_type": "code",
   "execution_count": 18,
   "metadata": {},
   "outputs": [
    {
     "name": "stdout",
     "output_type": "stream",
     "text": [
      "Нулевой регион: \n",
      "\n",
      "Лучшая модель и её параметры:\n",
      "\n",
      " Pipeline(steps=[('preprocessor',\n",
      "                 ColumnTransformer(transformers=[('num', MinMaxScaler(),\n",
      "                                                  ['f0', 'f1', 'f2'])])),\n",
      "                ('models', Ridge(alpha=0.1, random_state=42))])\n",
      "\n",
      "Метрика RMSE лучшей модели на тренировочной выборке: 37.67\n"
     ]
    }
   ],
   "source": [
    "print('Нулевой регион: \\n')\n",
    "X_test_0, y_test_0, model_0 = best_model(geo_data_0)"
   ]
  },
  {
   "cell_type": "code",
   "execution_count": 19,
   "metadata": {},
   "outputs": [
    {
     "name": "stdout",
     "output_type": "stream",
     "text": [
      "Первый регион: \n",
      "\n",
      "Лучшая модель и её параметры:\n",
      "\n",
      " Pipeline(steps=[('preprocessor',\n",
      "                 ColumnTransformer(transformers=[('num', MinMaxScaler(),\n",
      "                                                  ['f0', 'f1', 'f2'])])),\n",
      "                ('models', LinearRegression())])\n",
      "\n",
      "Метрика RMSE лучшей модели на тренировочной выборке: 0.89\n"
     ]
    }
   ],
   "source": [
    "print('Первый регион: \\n')\n",
    "X_test_1, y_test_1, model_1 = best_model(geo_data_1)"
   ]
  },
  {
   "cell_type": "code",
   "execution_count": 20,
   "metadata": {},
   "outputs": [
    {
     "name": "stdout",
     "output_type": "stream",
     "text": [
      "Второй регион: \n",
      "\n",
      "Лучшая модель и её параметры:\n",
      "\n",
      " Pipeline(steps=[('preprocessor',\n",
      "                 ColumnTransformer(transformers=[('num', StandardScaler(),\n",
      "                                                  ['f0', 'f1', 'f2'])])),\n",
      "                ('models', Lasso(alpha=0.1, random_state=42))])\n",
      "\n",
      "Метрика RMSE лучшей модели на тренировочной выборке: 40.03\n"
     ]
    }
   ],
   "source": [
    "print('Второй регион: \\n')\n",
    "X_test_2, y_test_2, model_2 = best_model(geo_data_2)"
   ]
  },
  {
   "cell_type": "markdown",
   "metadata": {},
   "source": [
    "**Нулевой регион:**\n",
    "- лучшая модель:\n",
    "    - `Ridge` с параметром `alpha = 0.1`;\n",
    "    - масштабирование `MinMaxScaler`;\n",
    "- `RMSE = 37.67`.\n",
    "\n",
    "**Первый регион:**\n",
    "- лучшая модель:\n",
    "    - `LinearRegression`;\n",
    "    - масштабирование `MinMaxScaler`;\n",
    "- `RMSE = 0.89`.\n",
    "\n",
    "**Второй регион:**\n",
    "- лучшая модель:\n",
    "    - `Lasso` с параметром `alpha = 0.1`;\n",
    "    - масштабирование `StandardScaler`;\n",
    "- `RMSE = 40.03`.\n",
    "\n",
    "Теперь создадим функцию `pred`, которая вернет валидационную выборку с реальными значениями `product` и предсказанными лучшей моделью, а также выведет средний запас предсказанного сырья `product_pred` и `RMSE` модели:"
   ]
  },
  {
   "cell_type": "markdown",
   "metadata": {},
   "source": [
    "\n",
    "<div class=\"alert alert-block alert-success\">\n",
    "<b>Успех:</b>  Использование пайплайна вместе с кросс-валидацией и препроцессингом - вполне уместен. \n",
    "</div> "
   ]
  },
  {
   "cell_type": "code",
   "execution_count": null,
   "metadata": {},
   "outputs": [],
   "source": [
    "# функция для вывода среднего запаса предсказанного сырья product_pred и RMSE модели\n",
    "def pred (X_test, y_test, model):\n",
    "    # X_test - валидационная выборка\n",
    "    # y_test - целевой признак валидационной выборки\n",
    "    # model - модель МО\n",
    "    \n",
    "    # получение предсказаний\n",
    "    product_pred = model.predict(X_test)\n",
    "    \n",
    "    # объединение входных признаков, целевого и предсказаний\n",
    "    X_test['product'] = y_test\n",
    "    X_test['product_pred'] = product_pred\n",
    "    \n",
    "    # вывод среднего значения запаса предсказанного сырья и RMSE модели\n",
    "    print('Cреднее значение запаса предсказанного сырья на валидационной выборке: ', X_test['product_pred'].mean().round(2))\n",
    "    print('RMSE модели на валидационной выборке: ', mean_squared_error(X_test['product'], \n",
    "                                                                       X_test['product_pred'], \n",
    "                                                                       squared=False).round(2))\n",
    "    print('R2 модели на валидационной выборке: ', r2_score(X_test['product'], X_test['product_pred']).round(2))\n",
    "        \n",
    "    return X_test"
   ]
  },
  {
   "cell_type": "code",
   "execution_count": null,
   "metadata": {},
   "outputs": [],
   "source": [
    "print('Нулевой регион: \\n')\n",
    "X_test_0 = pred (X_test_0, y_test_0, model_0)"
   ]
  },
  {
   "cell_type": "code",
   "execution_count": null,
   "metadata": {},
   "outputs": [],
   "source": [
    "print('Первый регион: \\n')\n",
    "X_test_1 = pred (X_test_1, y_test_1, model_1)"
   ]
  },
  {
   "cell_type": "code",
   "execution_count": null,
   "metadata": {},
   "outputs": [],
   "source": [
    "print('Второй регион: \\n')\n",
    "X_test_2 = pred (X_test_2, y_test_2, model_2)"
   ]
  },
  {
   "cell_type": "markdown",
   "metadata": {},
   "source": [
    "Сравним остатки трех моделей:"
   ]
  },
  {
   "cell_type": "code",
   "execution_count": null,
   "metadata": {},
   "outputs": [],
   "source": [
    "# сведение остатков и предсказаний в один датафрейм\n",
    "residuals = pd.DataFrame({'y_test_0': X_test_0['product'], \n",
    "                          'y_pred_0': X_test_0['product_pred'], \n",
    "                          'residuals_0': (X_test_0['product'] - X_test_0['product_pred']), \n",
    "                          'y_test_1': X_test_1['product'], \n",
    "                          'y_pred_1': X_test_1['product_pred'], \n",
    "                          'residuals_1': (X_test_1['product'] - X_test_1['product_pred']),\n",
    "                          'y_test_2': X_test_2['product'], \n",
    "                          'y_pred_2': X_test_2['product_pred'], \n",
    "                          'residuals_2': (X_test_2['product'] - X_test_2['product_pred']),\n",
    "                         })"
   ]
  },
  {
   "cell_type": "code",
   "execution_count": null,
   "metadata": {},
   "outputs": [],
   "source": [
    "# построение фигуры для графиков\n",
    "fig, axes = plt.subplots(nrows=1, ncols=2, figsize=(16,8))\n",
    "\n",
    "# построение гистограммы частотности распределения\n",
    "sns.histplot(data=residuals[['residuals_0', 'residuals_1', 'residuals_2']], \n",
    "             element=\"step\", \n",
    "             fill=False, \n",
    "             bins=10, \n",
    "             ax=axes[0]\n",
    "            )\n",
    "axes[0].set_title('Гистограмма распределения \\n остатков трех моделей', fontsize=20)\n",
    "axes[0].set_xlabel('Остатки', fontsize=15)\n",
    "axes[0].set_ylabel('Частота', fontsize=15)\n",
    "\n",
    "# построение диаграмм рассеяния всех трех моделей\n",
    "for i in range(3):\n",
    "    sns.scatterplot(data=residuals, x='y_pred_' + str(i), y='residuals_' + str(i), ax=axes[1], label='residuals_' + str(i), \n",
    "                    alpha=0.1)\n",
    "axes[1].set_title('Диаграмма рассеяния \\n остатков трех моделей', fontsize=20)\n",
    "axes[1].set_xlabel('Предсказания модели', fontsize=15)\n",
    "axes[1].set_ylabel('Остатки', fontsize=15)\n",
    "\n",
    "plt.show()"
   ]
  },
  {
   "cell_type": "markdown",
   "metadata": {},
   "source": [
    "По графикам видно, что:\n",
    "- разброс остатков модели для первого региона одинаков для всех предсказаний;\n",
    "- остатки моделей нулевого и второго региона на гистограмме распределены равномерно (визуально отрицательных остатков столько же сколько и положительных);\n",
    "- модели для нулевого и второго региона в предсказаниях до 80 в основном занижают реальные значения, а после 80 больше завышают реальные значения."
   ]
  },
  {
   "cell_type": "markdown",
   "metadata": {},
   "source": [
    "Вывод по обучению и проверке модели:\n",
    "- для всех регионов были выбраны лучшие модели предсказания объемов запаса `product`;\n",
    "- у нулевого и второго региона `RMSE` модели получилась высокая (37,76 и 40.15 соответственно) и низкая метрика `r2` (0,27 и 0,2 соответственно) это говорит о том, что в 27% и 20% соответственно предсказание модели ближе к истине, чем среднее значение целевого признака;\n",
    "- у первого региона была сильная зависимость объемов запаса `product` от признака `f2` (коэффициент Фи 0,98), поэтому и модель получилась точнее (`RMSE` - 0,89, `r2` - 1)."
   ]
  },
  {
   "cell_type": "markdown",
   "metadata": {},
   "source": [
    "\n",
    "<div class=\"alert alert-block alert-success\">\n",
    "<b>Успех:</b> Шаг проделан лаконично, все метрики посчитаны корректно. Радует наличие анализа остатков - это важно для анализа модели.\n",
    "</div> "
   ]
  },
  {
   "cell_type": "markdown",
   "metadata": {},
   "source": [
    "## Подготовка к расчёту прибыли"
   ]
  },
  {
   "cell_type": "markdown",
   "metadata": {},
   "source": [
    "Создадим переменные с ключевыми значениями для расчетов:"
   ]
  },
  {
   "cell_type": "code",
   "execution_count": null,
   "metadata": {},
   "outputs": [],
   "source": [
    "# Бюджет на разработку скважин в регионе, руб\n",
    "BUDGET = 10_000_000_000\n",
    "\n",
    "# Количество исследуемых точек в регионе, шт\n",
    "WELLS = 500\n",
    "\n",
    "# Количество точек выбранных для разработки, шт\n",
    "WELLS_FINAL = 200\n",
    "\n",
    "# Доход с одной единицы продукта, руб\n",
    "INCOME_BARREL = 450000"
   ]
  },
  {
   "cell_type": "markdown",
   "metadata": {},
   "source": [
    "<div class=\"alert alert-block alert-info\">\n",
    "    \n",
    "<b>Совет:</b> Константы принято записывать в ВЕРХНЕМ РЕГИСТРЕ =) Читем здесь https://pythonworld.ru/osnovy/pep-8-rukovodstvo-po-napisaniyu-koda-na-python.html#section-29\n",
    "    \n",
    "А большие значение можно записывать так: `10_000_000_000`.\n",
    "</div> \n"
   ]
  },
  {
   "cell_type": "markdown",
   "metadata": {},
   "source": [
    "<div class=\"alert alert-block alert-warning\">\n",
    "<b>Комментарий студента:</b> \n",
    "\n",
    "Буду знать, исправил    \n",
    "</div>"
   ]
  },
  {
   "cell_type": "markdown",
   "metadata": {},
   "source": [
    "<div class=\"alert alert-block alert-success\">\n",
    "    \n",
    "<b>Успех[2]:</b> 👍\n",
    "</div>"
   ]
  },
  {
   "cell_type": "markdown",
   "metadata": {},
   "source": [
    "Рассчитаем достаточный объём сырья для безубыточной разработки новой скважины:"
   ]
  },
  {
   "cell_type": "code",
   "execution_count": null,
   "metadata": {},
   "outputs": [],
   "source": [
    "print('Достаточный объем сырья для безубыточной разработки новой скважины: ', round(BUDGET / (WELLS_FINAL * INCOME_BARREL), 2))"
   ]
  },
  {
   "cell_type": "markdown",
   "metadata": {},
   "source": [
    "Вывод:\n",
    "- средние предсказанные объемы сырья (для нулевого региона - 92.4, первого - 68.71, второго - 94.77) ниже, чем достаточный объем сырья для безубыточной разработки новой скважины, значит для разработки необходимо будет выбирать скважины с наибольшим запасом сырья, а не случайные, чтобы проект был окупаемым."
   ]
  },
  {
   "cell_type": "markdown",
   "metadata": {},
   "source": [
    "\n",
    "<div class=\"alert alert-block alert-info\">\n",
    "<b>Совет:</b> Значение для безубыточной разработки посчитано верно, сравнение проведено, но неплохо было бы добавить, что это может для нас значить\n",
    "</div>"
   ]
  },
  {
   "cell_type": "markdown",
   "metadata": {},
   "source": [
    "<div class=\"alert alert-block alert-warning\">\n",
    "<b>Комментарий студента:</b> \n",
    "\n",
    "Дополнил вывод\n",
    "</div>"
   ]
  },
  {
   "cell_type": "markdown",
   "metadata": {},
   "source": [
    "<div class=\"alert alert-block alert-success\">\n",
    "    \n",
    "<b>Успех[2]:</b> С выводом согласен\n",
    "</div>"
   ]
  },
  {
   "cell_type": "markdown",
   "metadata": {},
   "source": [
    "## Расчёт прибыли и рисков "
   ]
  },
  {
   "cell_type": "markdown",
   "metadata": {},
   "source": [
    "Создадим функцию для расчета прибыли:"
   ]
  },
  {
   "cell_type": "code",
   "execution_count": null,
   "metadata": {},
   "outputs": [],
   "source": [
    "# функция для расчета прибыли самых больших скважин\n",
    "def income (df, count):\n",
    "    # df - датафрейм с исследуемми точками в регионе\n",
    "    # count - количество точек выбранных для разработки\n",
    "    \n",
    "    # сортировка df по убыванию объема предсказанного сырья\n",
    "    df = df.sort_values(by='product_pred', ascending=False).reset_index(drop=True)\n",
    "    \n",
    "    # расчет прибыли скважин с самыми большими залежами\n",
    "    income = df['product_pred'].loc[:count].sum() * INCOME_BARREL - BUDGET\n",
    "           \n",
    "    return income"
   ]
  },
  {
   "cell_type": "markdown",
   "metadata": {},
   "source": [
    "<div class=\"alert alert-block alert-danger\">\n",
    "<b>Ошибка:</b>\n",
    "\n",
    "`Прибыль = доходы - расходы` - а у тебя здесь только доходы.\n",
    "\n",
    "</div>\n"
   ]
  },
  {
   "cell_type": "markdown",
   "metadata": {},
   "source": [
    "<div class=\"alert alert-block alert-warning\">\n",
    "<b>Комментарий студента:</b> \n",
    "\n",
    "Исправил\n",
    "</div>"
   ]
  },
  {
   "cell_type": "markdown",
   "metadata": {},
   "source": [
    "<div class=\"alert alert-block alert-success\">\n",
    "    \n",
    "<b>Успех[2]:</b> Есть\n",
    "</div>"
   ]
  },
  {
   "cell_type": "markdown",
   "metadata": {},
   "source": [
    "Создадим функцию для нахождения средней прибыли, 95%-й доверительного интервала и риска убытков."
   ]
  },
  {
   "cell_type": "code",
   "execution_count": null,
   "metadata": {},
   "outputs": [],
   "source": [
    "# функция для нахождения средней прибыли, 95%-й доверительного интервала и риска убытков\n",
    "def final_result (df):\n",
    "    # df - валидационная выборка с предсказанными объемами запасов сырья\n",
    "    \n",
    "    # создание state для фиксации выборок\n",
    "    state = np.random.RandomState(12345)\n",
    "    \n",
    "    # пустой список для прибыли\n",
    "    values = []\n",
    "        \n",
    "    # Bootstrap с 1000 выборок\n",
    "    for i in range(1000):\n",
    "        # случайная выборка из 500 точек без повторений\n",
    "        sample = df.sample(WELLS, replace=True, random_state=state)\n",
    "        \n",
    "        # расчет прибыли с помощью функции income\n",
    "        values.append(income(sample, WELLS_FINAL))\n",
    "                \n",
    "    # преобразование прибыли в список\n",
    "    values = pd.Series(values)\n",
    "    \n",
    "    # нахождение средней прибыли\n",
    "    mean = values.mean()\n",
    "    \n",
    "    # нахождение 95% доверительного интервала\n",
    "    lower = values.quantile(0.025)\n",
    "    upper = values.quantile(0.975)\n",
    "    \n",
    "    # нахождение квантиля, где прибыль равна капиталовложению\n",
    "    risk = stats.percentileofscore(values, 0)\n",
    "    \n",
    "    # вывод результатов\n",
    "    print(f'''\n",
    "    Средняя прибыль: {\"{:,.2f}\".format(mean).replace(\",\", \" \")}, руб\\n\n",
    "    95% доверительный интервал: ({\"{:,.2f}\".format(lower).replace(\",\", \" \")}, {\"{:,.2f}\".format(upper).replace(\",\", \" \")})\\n\n",
    "    Вероятность убытков: {\"{:.2f}\".format(risk)} %\n",
    "    ''')"
   ]
  },
  {
   "cell_type": "markdown",
   "metadata": {},
   "source": [
    "\n",
    "<div class=\"alert alert-block alert-danger\">\n",
    "<b>Ошибка:</b>\n",
    "\n",
    "Особенностью техники бутстреп является семплирование с возвратом (`replace = True`, которое нужно явно указать), то есть наблюдение в выборку может попасть несколько раз. Это необходимо для того, чтобы добиться независимости при каждом выборе, иначе вероятность достать элемент из выборки будет с каждым разом увеличиваться. Причем чем больше размер подвыборки, тем выраженнее будет зависимость. Для подвыборки размера 1, например, в крайнем случае, мы возрат можем не делать, так уж и быть, а вот для подвыборки размером с семплируемую, без возврата ну никак не получится получить разнообразные варианты, а подвыборку большего размера вообще — не получить.\n",
    "    \n",
    "Все это может показаться немного странным для понимания: как будто одна скважина может буриться несколько раз. Но давай вспомним, что выборка - это лишь некоторое представление о генеральной совокупности. Вполне возможно, что где-то в регионе существуют и другие потенциальные точки добычи, о которых мы даже не подозреваем, но они являются частью генеральной сововкупности. В таком случае повторяющиеся наблюдения можно рассматривать как разные точки добычи из всей генеральной совокупности, просто они имеют близкие характеристики.\n",
    "</div>"
   ]
  },
  {
   "cell_type": "markdown",
   "metadata": {},
   "source": [
    "<div class=\"alert alert-block alert-warning\">\n",
    "<b>Комментарий студента:</b> \n",
    "\n",
    "Я исходил как раз из этой логики: одна скважина **не может** буриться несколько раз, поэтому и делал сэмплирование без возврата, а теперь понял принцип бутстрепа.\n",
    "    \n",
    "Исправил\n",
    "</div>"
   ]
  },
  {
   "cell_type": "markdown",
   "metadata": {},
   "source": [
    "<div class=\"alert alert-block alert-success\">\n",
    "    \n",
    "<b>Успех[2]:</b> Есть контакт\n",
    "</div>"
   ]
  },
  {
   "cell_type": "markdown",
   "metadata": {},
   "source": [
    "\n",
    "<div class=\"alert alert-block alert-info\">\n",
    "<b>Совет: </b>\n",
    "   \n",
    "- Вызывая **`st.t.interval(...)`**, ты находишь 95%-доверительный интервал для значения **`средней прибыли`**, то есть промежуток, в котором с большой вероятностью при проведении аналогичных экспериментов окажется **`средняя прибыль`**. По заданию требовалось оценить 95%-доверительный интервал для значения **`прибыли`**, то есть найти такой промежуток, в котором с большой вероятностью окажется **`прибыль`**, случайно выбранного месторождения данного региона. Нижняя граница этого интервала – это 2.5%-квантиль полученных значений прибыли, верхняя граница – 97.5%-квантиль.\n",
    "    \n",
    "- После правки ф-ции прибыли, подсчет рисков нужно будет адаптировать под распределение прибыли\n",
    "</div>"
   ]
  },
  {
   "cell_type": "markdown",
   "metadata": {},
   "source": [
    "<div class=\"alert alert-block alert-warning\">\n",
    "<b>Комментарий студента:</b> \n",
    "\n",
    "Исправил\n",
    "</div>"
   ]
  },
  {
   "cell_type": "markdown",
   "metadata": {},
   "source": [
    "<div class=\"alert alert-block alert-success\">\n",
    "    \n",
    "<b>Успех[2]:</b> 👍\n",
    "</div>"
   ]
  },
  {
   "cell_type": "markdown",
   "metadata": {},
   "source": [
    "Посмотрим на результаты расчетов:"
   ]
  },
  {
   "cell_type": "code",
   "execution_count": null,
   "metadata": {},
   "outputs": [],
   "source": [
    "# вывод прибыли, 95% доверительного интервала и вероятности получения убытков\n",
    "print('Нулевой регион: \\n')\n",
    "final_result(X_test_0)"
   ]
  },
  {
   "cell_type": "code",
   "execution_count": null,
   "metadata": {},
   "outputs": [],
   "source": [
    "# вывод прибыли, 95% доверительного интервала и вероятности получения убытков\n",
    "print('Первый регион: \\n')\n",
    "final_result(X_test_1)"
   ]
  },
  {
   "cell_type": "code",
   "execution_count": null,
   "metadata": {},
   "outputs": [],
   "source": [
    "# вывод прибыли, 95% доверительного интервала и вероятности получения убытков\n",
    "print('Второй регион: \\n')\n",
    "final_result(X_test_2)"
   ]
  },
  {
   "cell_type": "markdown",
   "metadata": {},
   "source": [
    "Критерии выбора региона:\n",
    "- вероятность убытков меньше 2.5%;\n",
    "- регион с наибольшей средней прибылью.\n",
    "\n",
    "Первому критерию удовлетворяют все регионы, и как ни странно первый регион с самым низким средним значением запаса предсказанного сырья на валидационной выборке (68,71) получился самым прибыльным:\n",
    "- Средняя прибыль: 467 644 503.82, руб;\n",
    "- 95% доверительный интервал: (54 468 573.47, 861 215 193.07)\n",
    "- Вероятность убытков: 1.70 %"
   ]
  },
  {
   "cell_type": "markdown",
   "metadata": {},
   "source": [
    "\n",
    "<div class=\"alert alert-block alert-info\">\n",
    "<b>Совет: </b>\n",
    "    \n",
    "Не забудь обновить выводы, если потребуется\n",
    "</div>                                                              \n"
   ]
  },
  {
   "cell_type": "markdown",
   "metadata": {},
   "source": [
    "<div class=\"alert alert-block alert-warning\">\n",
    "<b>Комментарий студента:</b> \n",
    "\n",
    "Обновил\n",
    "</div>"
   ]
  },
  {
   "cell_type": "markdown",
   "metadata": {},
   "source": [
    "\n",
    "<div class=\"alert alert-block alert-success\">\n",
    "<b>Успех[2]:</b> Отлично, проведено детальное исследование и был выбран правильный регион!\n",
    "</div>\n",
    "\n",
    "\n",
    "\n",
    "<div class=\"alert alert-block alert-info\">\n",
    "<b>Совет[2]: </b> Если интересно изучить тему бутстрапа глубже - я оставлю  ниже несколько интересных и полезных ссылок по теме:\n",
    "        \n",
    "1. \"Bootstrap Hypothesis Testing in Statistics with Example\" \n",
    "        \n",
    "https://www.youtube.com/watch?v=9STZ7MxkNVg\n",
    "        \n",
    "2. \"How to Calculate Bootstrap Confidence Intervals For Machine Learning Results in Python\" \n",
    "        \n",
    "https://machinelearningmastery.com/calculate-bootstrap-confidence-intervals-machine-learning-results-python/\n",
    "        \n",
    "3. \"A Gentle Introduction to the Bootstrap Method\" \n",
    "\n",
    "https://machinelearningmastery.com/a-gentle-introduction-to-the-bootstrap-method/\n",
    "        \n",
    "4. \"An Introduction to the Bootstrap Method\" \n",
    "        \n",
    "https://towardsdatascience.com/an-introduction-to-the-bootstrap-method-58bcb51b4d60#:~:text=The%20basic%20idea%20of%20bootstrap,population%20mean)%20on%20sample%20data.&amp;text=A%20sample%20from%20population%20with%20sample%20size%20n\n",
    "        \n",
    "5. \"Bootstrapping and Resampling in Statistics with Example\" \n",
    "        \n",
    "        \n",
    "https://www.youtube.com/watch?v=O_Fj4q8lgmc\n",
    "\n",
    "6. Также одна из программ на рынке по этой теме управлненеческого моделирования - AnyLogic - интересный продукт. Можешь видео из интернета посмотреть по какому-нибудь примеру с её использованием. Тогда тема управленческого моделирования и бутстрапа может по-другому лечь.\n",
    "</div>\n"
   ]
  },
  {
   "cell_type": "markdown",
   "metadata": {},
   "source": [
    "## Общий вывод"
   ]
  },
  {
   "cell_type": "markdown",
   "metadata": {},
   "source": [
    "В данном проекте было решено две задачи:\n",
    "- первая: построение модели машинного обучения для предсказания объёма запасов в скважине, которая поможет определить регион, где добыча принесёт наибольшую прибыль;\n",
    "- вторая: анализ возможной прибыли и рисков техникой *Bootstrap.*\n",
    "\n",
    "В проекте проделана работа по изучению данных и их предобработке, а именно были:\n",
    "- были изучены данные с помощью методов `info` и `describe`.\n",
    "\n",
    "Так же был проведен исследовательский анализ признаков по регионам и выявлено, что:\n",
    "- значения одних и тех же признаков имеют разное распределение и пределы в разных регионах;\n",
    "- только во втором регионе все признаки распределены нормально.\n",
    "\n",
    "Еще был проведен корреляционный анализ и выявлено, что:\n",
    "- объём запасов в скважине `product` сильнее всех зависит от признака `f2`, а в первом регионе проглядывается прямая линейная зависимость.\n",
    "\n",
    "**Решение первой задачи:**\n",
    "\n",
    "Выбор модели предсказания объёма запасов в скважине:\n",
    "- для всех регионов из трех моделей линейной регрессии были выбраны лучшие модели предсказания объемов запаса `product`:\n",
    "    - нулевой регион:\n",
    "        - лучшая модель: `Ridge` с параметром `alpha = 0.1`;\n",
    "        - масштабирование `MinMaxScaler`;\n",
    "        - `RMSE = 37.67`\n",
    "    - первый регион:\n",
    "        - лучшая модель: `LinearRegression`;\n",
    "        - масштабирование `MinMaxScaler`;\n",
    "        - `RMSE = 0.89`\n",
    "    - нулевой регион:\n",
    "        - лучшая модель: `Lasso` с параметром `alpha = 0.1`;\n",
    "        - масштабирование `StandardScaler`;\n",
    "        - `RMSE = 40.03`;\n",
    "- у нулевого и второго региона `RMSE` модели получилась высокая, это говорит о том, что при таких зависимостях целевого признака от входных признаков модели сложно подобрать коэффициенты для точных предсказаний;\n",
    "- у первого региона была сильная зависимость объемов запаса `product` от признака `f2` (коэффициент Фи 0,98), поэтому и модель получилась точнее, `RMSE` всего 0,89.\n",
    "\n",
    "**Решение второй задачи:**\n",
    "\n",
    "Анализ возможной прибыли и рисков техникой *Bootstrap.* дал следующие результаты:\n",
    "- лучшим регионом для разработки скважин стал **первый регион**, он удовлетворяет критериям заказчика:\n",
    "    - вероятность убытков меньше 2.5%;\n",
    "    - регион с наибольшей средней прибылью;\n",
    "- показатели первого региона полученные техникой *Bootstrap.*:\n",
    "    - Средняя прибыль: 467 644 503.82, руб;\n",
    "    - 95% доверительный интервал: (54 468 573.47, 861 215 193.07)\n",
    "    - Вероятность убытков: 1.70 %\n",
    "\n",
    "\n"
   ]
  },
  {
   "cell_type": "markdown",
   "metadata": {},
   "source": [
    "\n",
    "<div class=\"alert alert-block alert-success\">\n",
    "<b>Успех:</b> Всегда приятно наблюдать подробный и структурированный итоговый вывод в конце работы! \n",
    "</div>\n",
    "\n"
   ]
  },
  {
   "cell_type": "markdown",
   "metadata": {},
   "source": [
    "## Чек-лист готовности проекта"
   ]
  },
  {
   "cell_type": "markdown",
   "metadata": {},
   "source": [
    "Поставьте 'x' в выполненных пунктах. Далее нажмите Shift+Enter."
   ]
  },
  {
   "cell_type": "markdown",
   "metadata": {},
   "source": [
    "- [x]  Jupyter Notebook открыт\n",
    "- [x]  Весь код выполняется без ошибок\n",
    "- [x]  Ячейки с кодом расположены в порядке исполнения\n",
    "- [x]  Выполнен шаг 1: данные подготовлены\n",
    "- [x]  Выполнен шаг 2: модели обучены и проверены\n",
    "    - [x]  Данные корректно разбиты на обучающую и валидационную выборки\n",
    "    - [x]  Модели обучены, предсказания сделаны\n",
    "    - [x]  Предсказания и правильные ответы на валидационной выборке сохранены\n",
    "    - [x]  На экране напечатаны результаты\n",
    "    - [x]  Сделаны выводы\n",
    "- [x]  Выполнен шаг 3: проведена подготовка к расчёту прибыли\n",
    "    - [x]  Для всех ключевых значений созданы константы Python\n",
    "    - [x]  Посчитано минимальное среднее количество продукта в месторождениях региона, достаточное для разработки\n",
    "    - [x]  По предыдущему пункту сделаны выводы\n",
    "    - [x]  Написана функция расчёта прибыли\n",
    "- [x]  Выполнен шаг 4: посчитаны риски и прибыль\n",
    "    - [x]  Проведена процедура *Bootstrap*\n",
    "    - [x]  Все параметры бутстрепа соответствуют условию\n",
    "    - [x]  Найдены все нужные величины\n",
    "    - [x]  Предложен регион для разработки месторождения\n",
    "    - [x]  Выбор региона обоснован"
   ]
  },
  {
   "cell_type": "code",
   "execution_count": null,
   "metadata": {},
   "outputs": [],
   "source": []
  }
 ],
 "metadata": {
  "ExecuteTimeLog": [
   {
    "duration": 52,
    "start_time": "2024-03-02T10:51:37.268Z"
   },
   {
    "duration": 1508,
    "start_time": "2024-03-02T10:51:54.472Z"
   },
   {
    "duration": 0,
    "start_time": "2024-03-02T10:51:55.982Z"
   },
   {
    "duration": 262,
    "start_time": "2024-03-02T10:52:04.878Z"
   },
   {
    "duration": 797,
    "start_time": "2024-03-02T10:52:06.751Z"
   },
   {
    "duration": 444,
    "start_time": "2024-03-02T10:52:36.904Z"
   },
   {
    "duration": 47,
    "start_time": "2024-03-02T10:53:29.870Z"
   },
   {
    "duration": 521,
    "start_time": "2024-03-02T11:51:47.327Z"
   },
   {
    "duration": 27,
    "start_time": "2024-03-02T11:52:20.412Z"
   },
   {
    "duration": 11,
    "start_time": "2024-03-02T11:52:50.754Z"
   },
   {
    "duration": 11,
    "start_time": "2024-03-02T11:53:10.843Z"
   },
   {
    "duration": 1550,
    "start_time": "2024-03-02T17:12:06.521Z"
   },
   {
    "duration": 768,
    "start_time": "2024-03-02T17:12:09.847Z"
   },
   {
    "duration": 36,
    "start_time": "2024-03-02T17:14:08.547Z"
   },
   {
    "duration": 86,
    "start_time": "2024-03-02T17:15:32.812Z"
   },
   {
    "duration": 3,
    "start_time": "2024-03-02T17:28:44.945Z"
   },
   {
    "duration": 100,
    "start_time": "2024-03-02T17:30:46.365Z"
   },
   {
    "duration": 41,
    "start_time": "2024-03-02T17:31:17.277Z"
   },
   {
    "duration": 42,
    "start_time": "2024-03-02T17:32:09.653Z"
   },
   {
    "duration": 1406,
    "start_time": "2024-03-02T17:32:15.870Z"
   },
   {
    "duration": 421,
    "start_time": "2024-03-02T17:32:17.278Z"
   },
   {
    "duration": 71,
    "start_time": "2024-03-02T17:32:17.701Z"
   },
   {
    "duration": 105,
    "start_time": "2024-03-02T17:32:17.775Z"
   },
   {
    "duration": 35,
    "start_time": "2024-03-02T17:32:17.882Z"
   },
   {
    "duration": 50,
    "start_time": "2024-03-02T17:33:21.347Z"
   },
   {
    "duration": 104,
    "start_time": "2024-03-02T17:34:20.641Z"
   },
   {
    "duration": 73,
    "start_time": "2024-03-02T17:37:35.195Z"
   },
   {
    "duration": 70,
    "start_time": "2024-03-02T17:38:03.931Z"
   },
   {
    "duration": 4,
    "start_time": "2024-03-02T17:58:36.383Z"
   },
   {
    "duration": 6,
    "start_time": "2024-03-02T17:59:25.278Z"
   },
   {
    "duration": 1403,
    "start_time": "2024-03-02T17:59:43.387Z"
   },
   {
    "duration": 1302,
    "start_time": "2024-03-02T17:59:48.507Z"
   },
   {
    "duration": 340,
    "start_time": "2024-03-02T18:00:13.890Z"
   },
   {
    "duration": 116,
    "start_time": "2024-03-02T18:01:34.137Z"
   },
   {
    "duration": 759,
    "start_time": "2024-03-02T18:01:49.832Z"
   },
   {
    "duration": 957,
    "start_time": "2024-03-02T18:01:56.089Z"
   },
   {
    "duration": 5,
    "start_time": "2024-03-02T18:03:50.326Z"
   },
   {
    "duration": 1145,
    "start_time": "2024-03-02T18:03:52.246Z"
   },
   {
    "duration": 953,
    "start_time": "2024-03-02T18:04:46.918Z"
   },
   {
    "duration": 1019,
    "start_time": "2024-03-02T18:04:55.142Z"
   },
   {
    "duration": 5,
    "start_time": "2024-03-02T18:05:37.572Z"
   },
   {
    "duration": 1006,
    "start_time": "2024-03-02T18:05:40.924Z"
   },
   {
    "duration": 8,
    "start_time": "2024-03-02T18:06:16.412Z"
   },
   {
    "duration": 13,
    "start_time": "2024-03-02T18:07:16.466Z"
   },
   {
    "duration": 13,
    "start_time": "2024-03-02T18:07:22.610Z"
   },
   {
    "duration": 9,
    "start_time": "2024-03-02T18:07:25.426Z"
   },
   {
    "duration": 6,
    "start_time": "2024-03-02T18:08:30.857Z"
   },
   {
    "duration": 1120,
    "start_time": "2024-03-02T18:08:33.816Z"
   },
   {
    "duration": 1036,
    "start_time": "2024-03-02T18:08:37.695Z"
   },
   {
    "duration": 981,
    "start_time": "2024-03-02T18:08:40.784Z"
   },
   {
    "duration": 4,
    "start_time": "2024-03-02T18:10:15.681Z"
   },
   {
    "duration": 899,
    "start_time": "2024-03-02T18:10:21.773Z"
   },
   {
    "duration": 5,
    "start_time": "2024-03-02T18:10:34.685Z"
   },
   {
    "duration": 1088,
    "start_time": "2024-03-02T18:10:36.774Z"
   },
   {
    "duration": 935,
    "start_time": "2024-03-02T18:10:40.846Z"
   },
   {
    "duration": 1042,
    "start_time": "2024-03-02T18:10:44.141Z"
   },
   {
    "duration": 25,
    "start_time": "2024-03-02T18:15:12.489Z"
   },
   {
    "duration": 510,
    "start_time": "2024-03-02T18:16:07.015Z"
   },
   {
    "duration": 506,
    "start_time": "2024-03-02T18:16:19.142Z"
   },
   {
    "duration": 547,
    "start_time": "2024-03-02T18:16:26.989Z"
   },
   {
    "duration": 484,
    "start_time": "2024-03-02T18:16:44.245Z"
   },
   {
    "duration": 4,
    "start_time": "2024-03-02T18:18:02.485Z"
   },
   {
    "duration": 1045,
    "start_time": "2024-03-02T18:18:48.299Z"
   },
   {
    "duration": 959,
    "start_time": "2024-03-02T18:46:26.799Z"
   },
   {
    "duration": 73,
    "start_time": "2024-03-02T18:48:42.355Z"
   },
   {
    "duration": 455,
    "start_time": "2024-03-02T18:52:30.173Z"
   },
   {
    "duration": 297,
    "start_time": "2024-03-02T18:53:00.270Z"
   },
   {
    "duration": 81,
    "start_time": "2024-03-02T18:56:18.272Z"
   },
   {
    "duration": 226,
    "start_time": "2024-03-02T18:56:34.352Z"
   },
   {
    "duration": 228,
    "start_time": "2024-03-02T18:57:04.936Z"
   },
   {
    "duration": 231,
    "start_time": "2024-03-02T18:58:24.614Z"
   },
   {
    "duration": 71,
    "start_time": "2024-03-02T18:58:34.479Z"
   },
   {
    "duration": 230,
    "start_time": "2024-03-02T18:58:47.701Z"
   },
   {
    "duration": 222,
    "start_time": "2024-03-02T18:58:54.061Z"
   },
   {
    "duration": 911,
    "start_time": "2024-03-02T18:59:59.436Z"
   },
   {
    "duration": 4076,
    "start_time": "2024-03-02T19:01:25.402Z"
   },
   {
    "duration": 4135,
    "start_time": "2024-03-02T19:02:11.104Z"
   },
   {
    "duration": 12186,
    "start_time": "2024-03-02T19:03:23.343Z"
   },
   {
    "duration": 17372,
    "start_time": "2024-03-02T19:19:05.894Z"
   },
   {
    "duration": 1755,
    "start_time": "2024-03-03T06:41:50.895Z"
   },
   {
    "duration": 1642,
    "start_time": "2024-03-03T06:41:52.652Z"
   },
   {
    "duration": 51,
    "start_time": "2024-03-03T06:41:54.296Z"
   },
   {
    "duration": 135,
    "start_time": "2024-03-03T06:41:54.349Z"
   },
   {
    "duration": 122,
    "start_time": "2024-03-03T06:41:54.485Z"
   },
   {
    "duration": 4,
    "start_time": "2024-03-03T06:41:54.609Z"
   },
   {
    "duration": 1290,
    "start_time": "2024-03-03T06:41:54.615Z"
   },
   {
    "duration": 1176,
    "start_time": "2024-03-03T06:41:55.907Z"
   },
   {
    "duration": 1244,
    "start_time": "2024-03-03T06:41:57.084Z"
   },
   {
    "duration": 1109,
    "start_time": "2024-03-03T06:41:58.330Z"
   },
   {
    "duration": 14870,
    "start_time": "2024-03-03T06:41:59.441Z"
   },
   {
    "duration": 137,
    "start_time": "2024-03-03T06:42:14.313Z"
   },
   {
    "duration": 1116,
    "start_time": "2024-03-03T06:47:14.811Z"
   },
   {
    "duration": 991,
    "start_time": "2024-03-03T07:13:25.470Z"
   },
   {
    "duration": 965,
    "start_time": "2024-03-03T07:14:15.756Z"
   },
   {
    "duration": 1101,
    "start_time": "2024-03-03T07:15:19.307Z"
   },
   {
    "duration": 963,
    "start_time": "2024-03-03T07:15:24.091Z"
   },
   {
    "duration": 977,
    "start_time": "2024-03-03T07:15:54.811Z"
   },
   {
    "duration": 14760,
    "start_time": "2024-03-03T07:16:59.937Z"
   },
   {
    "duration": 15097,
    "start_time": "2024-03-03T07:17:53.616Z"
   },
   {
    "duration": 1310,
    "start_time": "2024-03-03T07:18:09.440Z"
   },
   {
    "duration": 14882,
    "start_time": "2024-03-03T07:18:44.981Z"
   },
   {
    "duration": 14897,
    "start_time": "2024-03-03T07:20:31.206Z"
   },
   {
    "duration": 14802,
    "start_time": "2024-03-03T07:21:36.963Z"
   },
   {
    "duration": 14888,
    "start_time": "2024-03-03T07:22:00.666Z"
   },
   {
    "duration": 14824,
    "start_time": "2024-03-03T07:22:27.651Z"
   },
   {
    "duration": 14783,
    "start_time": "2024-03-03T07:23:43.505Z"
   },
   {
    "duration": 3890,
    "start_time": "2024-03-03T07:35:03.269Z"
   },
   {
    "duration": 4658,
    "start_time": "2024-03-03T07:36:16.795Z"
   },
   {
    "duration": 1782,
    "start_time": "2024-03-03T07:39:19.280Z"
   },
   {
    "duration": 1747,
    "start_time": "2024-03-03T07:39:45.798Z"
   },
   {
    "duration": 2608,
    "start_time": "2024-03-03T07:59:52.969Z"
   },
   {
    "duration": 1595,
    "start_time": "2024-03-03T07:59:55.580Z"
   },
   {
    "duration": 480,
    "start_time": "2024-03-03T07:59:57.177Z"
   },
   {
    "duration": 49,
    "start_time": "2024-03-03T07:59:57.659Z"
   },
   {
    "duration": 123,
    "start_time": "2024-03-03T07:59:57.710Z"
   },
   {
    "duration": 101,
    "start_time": "2024-03-03T07:59:57.835Z"
   },
   {
    "duration": 5,
    "start_time": "2024-03-03T07:59:57.937Z"
   },
   {
    "duration": 1327,
    "start_time": "2024-03-03T07:59:57.944Z"
   },
   {
    "duration": 1163,
    "start_time": "2024-03-03T07:59:59.279Z"
   },
   {
    "duration": 1276,
    "start_time": "2024-03-03T08:00:00.445Z"
   },
   {
    "duration": 1836,
    "start_time": "2024-03-03T08:00:01.723Z"
   },
   {
    "duration": 14678,
    "start_time": "2024-03-03T08:00:03.560Z"
   },
   {
    "duration": 4,
    "start_time": "2024-03-03T08:26:41.457Z"
   },
   {
    "duration": 6,
    "start_time": "2024-03-03T08:28:05.629Z"
   },
   {
    "duration": 122,
    "start_time": "2024-03-03T08:31:03.634Z"
   },
   {
    "duration": 4,
    "start_time": "2024-03-03T08:31:24.697Z"
   },
   {
    "duration": 17,
    "start_time": "2024-03-03T08:31:28.241Z"
   },
   {
    "duration": 12,
    "start_time": "2024-03-03T08:31:41.025Z"
   },
   {
    "duration": 3,
    "start_time": "2024-03-03T08:31:45.881Z"
   },
   {
    "duration": 4,
    "start_time": "2024-03-03T08:31:47.201Z"
   },
   {
    "duration": 13,
    "start_time": "2024-03-03T08:31:49.152Z"
   },
   {
    "duration": 12,
    "start_time": "2024-03-03T08:31:50.081Z"
   },
   {
    "duration": 2570,
    "start_time": "2024-03-03T08:35:01.486Z"
   },
   {
    "duration": 1562,
    "start_time": "2024-03-03T08:35:04.058Z"
   },
   {
    "duration": 460,
    "start_time": "2024-03-03T08:35:05.621Z"
   },
   {
    "duration": 54,
    "start_time": "2024-03-03T08:35:06.084Z"
   },
   {
    "duration": 264,
    "start_time": "2024-03-03T08:35:06.139Z"
   },
   {
    "duration": 115,
    "start_time": "2024-03-03T08:35:06.404Z"
   },
   {
    "duration": 6,
    "start_time": "2024-03-03T08:35:06.522Z"
   },
   {
    "duration": 1257,
    "start_time": "2024-03-03T08:35:06.530Z"
   },
   {
    "duration": 1135,
    "start_time": "2024-03-03T08:35:07.788Z"
   },
   {
    "duration": 1242,
    "start_time": "2024-03-03T08:35:08.925Z"
   },
   {
    "duration": 1770,
    "start_time": "2024-03-03T08:35:10.169Z"
   },
   {
    "duration": 14834,
    "start_time": "2024-03-03T08:35:11.941Z"
   },
   {
    "duration": 3,
    "start_time": "2024-03-03T08:35:26.780Z"
   },
   {
    "duration": 7,
    "start_time": "2024-03-03T08:35:26.784Z"
   },
   {
    "duration": 17,
    "start_time": "2024-03-03T08:35:26.793Z"
   },
   {
    "duration": 5821,
    "start_time": "2024-03-03T08:35:26.811Z"
   },
   {
    "duration": 4,
    "start_time": "2024-03-03T08:39:19.961Z"
   },
   {
    "duration": 116,
    "start_time": "2024-03-03T08:39:23.888Z"
   },
   {
    "duration": 12,
    "start_time": "2024-03-03T08:39:30.848Z"
   },
   {
    "duration": 5782,
    "start_time": "2024-03-03T08:40:29.300Z"
   },
   {
    "duration": 4,
    "start_time": "2024-03-03T08:42:15.501Z"
   },
   {
    "duration": 89351,
    "start_time": "2024-03-03T08:42:19.581Z"
   },
   {
    "duration": 10,
    "start_time": "2024-03-03T08:45:32.281Z"
   },
   {
    "duration": 6,
    "start_time": "2024-03-03T08:45:48.081Z"
   },
   {
    "duration": 4,
    "start_time": "2024-03-03T08:45:51.560Z"
   },
   {
    "duration": 3,
    "start_time": "2024-03-03T08:45:53.521Z"
   },
   {
    "duration": 32,
    "start_time": "2024-03-03T08:45:58.201Z"
   },
   {
    "duration": 33,
    "start_time": "2024-03-03T08:46:03.898Z"
   },
   {
    "duration": 2586,
    "start_time": "2024-03-03T08:48:17.650Z"
   },
   {
    "duration": 1482,
    "start_time": "2024-03-03T08:48:20.239Z"
   },
   {
    "duration": 475,
    "start_time": "2024-03-03T08:48:21.722Z"
   },
   {
    "duration": 42,
    "start_time": "2024-03-03T08:48:22.199Z"
   },
   {
    "duration": 126,
    "start_time": "2024-03-03T08:48:22.242Z"
   },
   {
    "duration": 98,
    "start_time": "2024-03-03T08:48:22.369Z"
   },
   {
    "duration": 5,
    "start_time": "2024-03-03T08:48:22.480Z"
   },
   {
    "duration": 1289,
    "start_time": "2024-03-03T08:48:22.486Z"
   },
   {
    "duration": 1157,
    "start_time": "2024-03-03T08:48:23.776Z"
   },
   {
    "duration": 1251,
    "start_time": "2024-03-03T08:48:24.935Z"
   },
   {
    "duration": 1849,
    "start_time": "2024-03-03T08:48:26.188Z"
   },
   {
    "duration": 15118,
    "start_time": "2024-03-03T08:48:28.038Z"
   },
   {
    "duration": 3,
    "start_time": "2024-03-03T08:48:43.158Z"
   },
   {
    "duration": 19,
    "start_time": "2024-03-03T08:48:43.163Z"
   },
   {
    "duration": 64,
    "start_time": "2024-03-03T08:48:43.184Z"
   },
   {
    "duration": 276,
    "start_time": "2024-03-03T08:48:43.250Z"
   },
   {
    "duration": 0,
    "start_time": "2024-03-03T08:48:43.581Z"
   },
   {
    "duration": 4,
    "start_time": "2024-03-03T08:50:16.555Z"
   },
   {
    "duration": 3,
    "start_time": "2024-03-03T08:50:21.077Z"
   },
   {
    "duration": 4,
    "start_time": "2024-03-03T08:50:22.067Z"
   },
   {
    "duration": 33,
    "start_time": "2024-03-03T08:50:24.693Z"
   },
   {
    "duration": 3,
    "start_time": "2024-03-03T08:50:47.963Z"
   },
   {
    "duration": 4,
    "start_time": "2024-03-03T08:50:49.051Z"
   },
   {
    "duration": 3292,
    "start_time": "2024-03-03T08:50:50.932Z"
   },
   {
    "duration": 101,
    "start_time": "2024-03-03T08:54:43.894Z"
   },
   {
    "duration": 3228,
    "start_time": "2024-03-03T08:54:49.237Z"
   },
   {
    "duration": 3282,
    "start_time": "2024-03-03T08:56:04.756Z"
   },
   {
    "duration": 92531,
    "start_time": "2024-03-03T09:02:20.939Z"
   },
   {
    "duration": 16,
    "start_time": "2024-03-03T09:06:01.877Z"
   },
   {
    "duration": 13,
    "start_time": "2024-03-03T09:06:09.101Z"
   },
   {
    "duration": 23,
    "start_time": "2024-03-03T09:09:06.346Z"
   },
   {
    "duration": 28,
    "start_time": "2024-03-03T09:09:21.274Z"
   },
   {
    "duration": 38,
    "start_time": "2024-03-03T09:12:01.230Z"
   },
   {
    "duration": 572,
    "start_time": "2024-03-03T09:12:30.718Z"
   },
   {
    "duration": 91,
    "start_time": "2024-03-03T09:13:14.029Z"
   },
   {
    "duration": 4,
    "start_time": "2024-03-03T09:13:45.275Z"
   },
   {
    "duration": 4,
    "start_time": "2024-03-03T09:13:46.677Z"
   },
   {
    "duration": 31,
    "start_time": "2024-03-03T09:13:50.294Z"
   },
   {
    "duration": 99,
    "start_time": "2024-03-03T09:14:04.355Z"
   },
   {
    "duration": 2607,
    "start_time": "2024-03-03T09:15:15.969Z"
   },
   {
    "duration": 1556,
    "start_time": "2024-03-03T09:15:18.579Z"
   },
   {
    "duration": 466,
    "start_time": "2024-03-03T09:15:20.137Z"
   },
   {
    "duration": 74,
    "start_time": "2024-03-03T09:15:20.606Z"
   },
   {
    "duration": 127,
    "start_time": "2024-03-03T09:15:20.682Z"
   },
   {
    "duration": 97,
    "start_time": "2024-03-03T09:15:20.810Z"
   },
   {
    "duration": 5,
    "start_time": "2024-03-03T09:15:20.908Z"
   },
   {
    "duration": 1287,
    "start_time": "2024-03-03T09:15:20.915Z"
   },
   {
    "duration": 1132,
    "start_time": "2024-03-03T09:15:22.203Z"
   },
   {
    "duration": 1234,
    "start_time": "2024-03-03T09:15:23.337Z"
   },
   {
    "duration": 1775,
    "start_time": "2024-03-03T09:15:24.573Z"
   },
   {
    "duration": 14640,
    "start_time": "2024-03-03T09:15:26.350Z"
   },
   {
    "duration": 4,
    "start_time": "2024-03-03T09:15:40.992Z"
   },
   {
    "duration": 12,
    "start_time": "2024-03-03T09:15:40.998Z"
   },
   {
    "duration": 22,
    "start_time": "2024-03-03T09:15:41.011Z"
   },
   {
    "duration": 266,
    "start_time": "2024-03-03T09:15:41.035Z"
   },
   {
    "duration": 0,
    "start_time": "2024-03-03T09:15:41.302Z"
   },
   {
    "duration": 3,
    "start_time": "2024-03-03T09:16:20.185Z"
   },
   {
    "duration": 4,
    "start_time": "2024-03-03T09:16:21.408Z"
   },
   {
    "duration": 3303,
    "start_time": "2024-03-03T09:16:26.746Z"
   },
   {
    "duration": 4,
    "start_time": "2024-03-03T09:16:50.719Z"
   },
   {
    "duration": 4104,
    "start_time": "2024-03-03T09:16:57.336Z"
   },
   {
    "duration": 4136,
    "start_time": "2024-03-03T09:17:45.469Z"
   },
   {
    "duration": 37498,
    "start_time": "2024-03-03T09:17:52.822Z"
   },
   {
    "duration": 4050,
    "start_time": "2024-03-03T09:19:44.780Z"
   },
   {
    "duration": 4160,
    "start_time": "2024-03-03T09:20:21.444Z"
   },
   {
    "duration": 37555,
    "start_time": "2024-03-03T09:21:20.913Z"
   },
   {
    "duration": 37675,
    "start_time": "2024-03-03T09:25:19.741Z"
   },
   {
    "duration": 37501,
    "start_time": "2024-03-03T09:26:30.860Z"
   },
   {
    "duration": 37577,
    "start_time": "2024-03-03T09:27:36.891Z"
   },
   {
    "duration": 4121,
    "start_time": "2024-03-03T10:13:38.682Z"
   },
   {
    "duration": 4243,
    "start_time": "2024-03-03T10:13:57.616Z"
   },
   {
    "duration": 4226,
    "start_time": "2024-03-03T10:14:15.231Z"
   },
   {
    "duration": 4110,
    "start_time": "2024-03-03T10:14:39.271Z"
   },
   {
    "duration": 4301,
    "start_time": "2024-03-03T10:14:53.679Z"
   },
   {
    "duration": 5,
    "start_time": "2024-03-03T10:20:42.328Z"
   },
   {
    "duration": 24047,
    "start_time": "2024-03-03T10:20:50.512Z"
   },
   {
    "duration": 2629,
    "start_time": "2024-03-03T10:21:16.642Z"
   },
   {
    "duration": 1558,
    "start_time": "2024-03-03T10:21:19.273Z"
   },
   {
    "duration": 464,
    "start_time": "2024-03-03T10:21:20.832Z"
   },
   {
    "duration": 44,
    "start_time": "2024-03-03T10:21:21.299Z"
   },
   {
    "duration": 122,
    "start_time": "2024-03-03T10:21:21.344Z"
   },
   {
    "duration": 96,
    "start_time": "2024-03-03T10:21:21.468Z"
   },
   {
    "duration": 5,
    "start_time": "2024-03-03T10:21:21.579Z"
   },
   {
    "duration": 1341,
    "start_time": "2024-03-03T10:21:21.586Z"
   },
   {
    "duration": 1139,
    "start_time": "2024-03-03T10:21:22.929Z"
   },
   {
    "duration": 1234,
    "start_time": "2024-03-03T10:21:24.079Z"
   },
   {
    "duration": 1787,
    "start_time": "2024-03-03T10:21:25.315Z"
   },
   {
    "duration": 15024,
    "start_time": "2024-03-03T10:21:27.104Z"
   },
   {
    "duration": 6,
    "start_time": "2024-03-03T10:21:42.131Z"
   },
   {
    "duration": 6,
    "start_time": "2024-03-03T10:21:42.138Z"
   },
   {
    "duration": 39,
    "start_time": "2024-03-03T10:21:42.146Z"
   },
   {
    "duration": 3886,
    "start_time": "2024-03-03T10:21:42.188Z"
   },
   {
    "duration": 23886,
    "start_time": "2024-03-03T10:21:46.075Z"
   },
   {
    "duration": 4,
    "start_time": "2024-03-03T10:22:59.469Z"
   },
   {
    "duration": 31008,
    "start_time": "2024-03-03T10:23:06.309Z"
   },
   {
    "duration": 4,
    "start_time": "2024-03-03T10:25:15.795Z"
   },
   {
    "duration": 4,
    "start_time": "2024-03-03T10:25:17.402Z"
   },
   {
    "duration": 4,
    "start_time": "2024-03-03T10:25:18.050Z"
   },
   {
    "duration": 13,
    "start_time": "2024-03-03T10:25:18.978Z"
   },
   {
    "duration": 3747,
    "start_time": "2024-03-03T10:25:20.034Z"
   },
   {
    "duration": 31062,
    "start_time": "2024-03-03T10:25:26.258Z"
   },
   {
    "duration": 2658,
    "start_time": "2024-03-03T10:26:52.200Z"
   },
   {
    "duration": 1553,
    "start_time": "2024-03-03T10:26:54.860Z"
   },
   {
    "duration": 479,
    "start_time": "2024-03-03T10:26:56.414Z"
   },
   {
    "duration": 44,
    "start_time": "2024-03-03T10:26:56.895Z"
   },
   {
    "duration": 129,
    "start_time": "2024-03-03T10:26:56.941Z"
   },
   {
    "duration": 111,
    "start_time": "2024-03-03T10:26:57.071Z"
   },
   {
    "duration": 5,
    "start_time": "2024-03-03T10:26:57.183Z"
   },
   {
    "duration": 1272,
    "start_time": "2024-03-03T10:26:57.189Z"
   },
   {
    "duration": 1149,
    "start_time": "2024-03-03T10:26:58.462Z"
   },
   {
    "duration": 1242,
    "start_time": "2024-03-03T10:26:59.613Z"
   },
   {
    "duration": 1800,
    "start_time": "2024-03-03T10:27:00.856Z"
   },
   {
    "duration": 14972,
    "start_time": "2024-03-03T10:27:02.658Z"
   },
   {
    "duration": 3,
    "start_time": "2024-03-03T10:27:17.632Z"
   },
   {
    "duration": 16,
    "start_time": "2024-03-03T10:27:17.637Z"
   },
   {
    "duration": 43,
    "start_time": "2024-03-03T10:27:17.654Z"
   },
   {
    "duration": 3790,
    "start_time": "2024-03-03T10:27:17.698Z"
   },
   {
    "duration": 31124,
    "start_time": "2024-03-03T10:27:21.490Z"
   },
   {
    "duration": 3631,
    "start_time": "2024-03-03T10:27:59.192Z"
   },
   {
    "duration": 3778,
    "start_time": "2024-03-03T10:28:10.719Z"
   },
   {
    "duration": 3617,
    "start_time": "2024-03-03T10:28:28.366Z"
   },
   {
    "duration": 4,
    "start_time": "2024-03-03T10:29:35.606Z"
   },
   {
    "duration": 3661,
    "start_time": "2024-03-03T10:29:38.029Z"
   },
   {
    "duration": 7885,
    "start_time": "2024-03-03T10:32:10.146Z"
   },
   {
    "duration": 3653,
    "start_time": "2024-03-03T10:33:29.328Z"
   },
   {
    "duration": 4,
    "start_time": "2024-03-03T10:33:44.073Z"
   },
   {
    "duration": 7544,
    "start_time": "2024-03-03T10:33:50.785Z"
   },
   {
    "duration": 2593,
    "start_time": "2024-03-03T10:34:03.702Z"
   },
   {
    "duration": 1542,
    "start_time": "2024-03-03T10:34:06.297Z"
   },
   {
    "duration": 492,
    "start_time": "2024-03-03T10:34:07.840Z"
   },
   {
    "duration": 62,
    "start_time": "2024-03-03T10:34:08.333Z"
   },
   {
    "duration": 130,
    "start_time": "2024-03-03T10:34:08.397Z"
   },
   {
    "duration": 111,
    "start_time": "2024-03-03T10:34:08.529Z"
   },
   {
    "duration": 6,
    "start_time": "2024-03-03T10:34:08.642Z"
   },
   {
    "duration": 1289,
    "start_time": "2024-03-03T10:34:08.650Z"
   },
   {
    "duration": 1119,
    "start_time": "2024-03-03T10:34:09.940Z"
   },
   {
    "duration": 1271,
    "start_time": "2024-03-03T10:34:11.061Z"
   },
   {
    "duration": 1809,
    "start_time": "2024-03-03T10:34:12.334Z"
   },
   {
    "duration": 14880,
    "start_time": "2024-03-03T10:34:14.145Z"
   },
   {
    "duration": 5,
    "start_time": "2024-03-03T10:34:29.027Z"
   },
   {
    "duration": 31,
    "start_time": "2024-03-03T10:34:29.034Z"
   },
   {
    "duration": 22,
    "start_time": "2024-03-03T10:34:29.067Z"
   },
   {
    "duration": 3790,
    "start_time": "2024-03-03T10:34:29.091Z"
   },
   {
    "duration": 31506,
    "start_time": "2024-03-03T10:34:32.882Z"
   },
   {
    "duration": 7852,
    "start_time": "2024-03-03T10:35:04.390Z"
   },
   {
    "duration": 62781,
    "start_time": "2024-03-03T10:36:10.951Z"
   },
   {
    "duration": 2612,
    "start_time": "2024-03-03T10:37:34.002Z"
   },
   {
    "duration": 1506,
    "start_time": "2024-03-03T10:37:36.617Z"
   },
   {
    "duration": 464,
    "start_time": "2024-03-03T10:37:38.125Z"
   },
   {
    "duration": 45,
    "start_time": "2024-03-03T10:37:38.591Z"
   },
   {
    "duration": 180,
    "start_time": "2024-03-03T10:37:38.638Z"
   },
   {
    "duration": 105,
    "start_time": "2024-03-03T10:37:38.820Z"
   },
   {
    "duration": 5,
    "start_time": "2024-03-03T10:37:38.927Z"
   },
   {
    "duration": 1328,
    "start_time": "2024-03-03T10:37:38.933Z"
   },
   {
    "duration": 1166,
    "start_time": "2024-03-03T10:37:40.264Z"
   },
   {
    "duration": 1291,
    "start_time": "2024-03-03T10:37:41.432Z"
   },
   {
    "duration": 1797,
    "start_time": "2024-03-03T10:37:42.724Z"
   },
   {
    "duration": 14943,
    "start_time": "2024-03-03T10:37:44.523Z"
   },
   {
    "duration": 13,
    "start_time": "2024-03-03T10:37:59.468Z"
   },
   {
    "duration": 7,
    "start_time": "2024-03-03T10:37:59.483Z"
   },
   {
    "duration": 16,
    "start_time": "2024-03-03T10:37:59.491Z"
   },
   {
    "duration": 3931,
    "start_time": "2024-03-03T10:37:59.509Z"
   },
   {
    "duration": 23692,
    "start_time": "2024-03-03T10:38:03.441Z"
   },
   {
    "duration": 7846,
    "start_time": "2024-03-03T10:38:27.135Z"
   },
   {
    "duration": 47712,
    "start_time": "2024-03-03T10:38:34.983Z"
   },
   {
    "duration": 6015,
    "start_time": "2024-03-03T10:40:51.290Z"
   },
   {
    "duration": 6966,
    "start_time": "2024-03-03T10:41:07.369Z"
   },
   {
    "duration": 6801,
    "start_time": "2024-03-03T10:41:20.097Z"
   },
   {
    "duration": 6200,
    "start_time": "2024-03-03T12:36:38.540Z"
   },
   {
    "duration": 7837,
    "start_time": "2024-03-03T12:36:57.122Z"
   },
   {
    "duration": 5442,
    "start_time": "2024-03-03T12:37:22.593Z"
   },
   {
    "duration": 5984,
    "start_time": "2024-03-03T12:37:39.130Z"
   },
   {
    "duration": 7821,
    "start_time": "2024-03-03T12:38:01.722Z"
   },
   {
    "duration": 6674,
    "start_time": "2024-03-03T12:38:30.329Z"
   },
   {
    "duration": 6225,
    "start_time": "2024-03-03T12:38:50.424Z"
   },
   {
    "duration": 7725,
    "start_time": "2024-03-03T12:40:19.311Z"
   },
   {
    "duration": 152,
    "start_time": "2024-03-03T12:43:48.762Z"
   },
   {
    "duration": 102,
    "start_time": "2024-03-03T12:44:08.938Z"
   },
   {
    "duration": 99,
    "start_time": "2024-03-03T12:44:23.225Z"
   },
   {
    "duration": 6,
    "start_time": "2024-03-03T12:49:50.364Z"
   },
   {
    "duration": 3610,
    "start_time": "2024-03-03T12:50:36.516Z"
   },
   {
    "duration": 99,
    "start_time": "2024-03-03T12:53:44.319Z"
   },
   {
    "duration": 3845,
    "start_time": "2024-03-03T12:53:49.767Z"
   },
   {
    "duration": 4,
    "start_time": "2024-03-03T12:54:14.798Z"
   },
   {
    "duration": 3784,
    "start_time": "2024-03-03T12:54:22.454Z"
   },
   {
    "duration": 3706,
    "start_time": "2024-03-03T12:54:32.294Z"
   },
   {
    "duration": 3648,
    "start_time": "2024-03-03T12:54:47.902Z"
   },
   {
    "duration": 3851,
    "start_time": "2024-03-03T12:55:30.094Z"
   },
   {
    "duration": 3958,
    "start_time": "2024-03-03T12:55:33.947Z"
   },
   {
    "duration": 13,
    "start_time": "2024-03-03T12:56:33.371Z"
   },
   {
    "duration": 6,
    "start_time": "2024-03-03T12:56:41.909Z"
   },
   {
    "duration": 5,
    "start_time": "2024-03-03T12:56:55.277Z"
   },
   {
    "duration": 7,
    "start_time": "2024-03-03T13:00:24.472Z"
   },
   {
    "duration": 9,
    "start_time": "2024-03-03T13:00:29.328Z"
   },
   {
    "duration": 7,
    "start_time": "2024-03-03T13:00:36.864Z"
   },
   {
    "duration": 4,
    "start_time": "2024-03-03T13:01:46.342Z"
   },
   {
    "duration": 5,
    "start_time": "2024-03-03T13:01:50.254Z"
   },
   {
    "duration": 10,
    "start_time": "2024-03-03T13:02:40.357Z"
   },
   {
    "duration": 16,
    "start_time": "2024-03-03T13:02:56.054Z"
   },
   {
    "duration": 12,
    "start_time": "2024-03-03T13:36:02.546Z"
   },
   {
    "duration": 3,
    "start_time": "2024-03-03T13:37:02.863Z"
   },
   {
    "duration": 4,
    "start_time": "2024-03-03T13:37:05.967Z"
   },
   {
    "duration": 5,
    "start_time": "2024-03-03T13:37:07.974Z"
   },
   {
    "duration": 55,
    "start_time": "2024-03-03T13:37:10.367Z"
   },
   {
    "duration": 2613,
    "start_time": "2024-03-03T13:37:20.820Z"
   },
   {
    "duration": 1505,
    "start_time": "2024-03-03T13:37:23.435Z"
   },
   {
    "duration": 482,
    "start_time": "2024-03-03T13:37:24.942Z"
   },
   {
    "duration": 63,
    "start_time": "2024-03-03T13:37:25.426Z"
   },
   {
    "duration": 113,
    "start_time": "2024-03-03T13:37:25.491Z"
   },
   {
    "duration": 96,
    "start_time": "2024-03-03T13:37:25.605Z"
   },
   {
    "duration": 5,
    "start_time": "2024-03-03T13:37:25.703Z"
   },
   {
    "duration": 1285,
    "start_time": "2024-03-03T13:37:25.709Z"
   },
   {
    "duration": 1121,
    "start_time": "2024-03-03T13:37:26.995Z"
   },
   {
    "duration": 1225,
    "start_time": "2024-03-03T13:37:28.119Z"
   },
   {
    "duration": 1805,
    "start_time": "2024-03-03T13:37:29.345Z"
   },
   {
    "duration": 15098,
    "start_time": "2024-03-03T13:37:31.152Z"
   },
   {
    "duration": 4,
    "start_time": "2024-03-03T13:37:46.251Z"
   },
   {
    "duration": 9,
    "start_time": "2024-03-03T13:37:46.256Z"
   },
   {
    "duration": 18,
    "start_time": "2024-03-03T13:37:46.266Z"
   },
   {
    "duration": 3973,
    "start_time": "2024-03-03T13:37:46.285Z"
   },
   {
    "duration": 3913,
    "start_time": "2024-03-03T13:37:50.259Z"
   },
   {
    "duration": 3753,
    "start_time": "2024-03-03T13:37:54.174Z"
   },
   {
    "duration": 11,
    "start_time": "2024-03-03T13:37:57.929Z"
   },
   {
    "duration": 24,
    "start_time": "2024-03-03T13:43:06.288Z"
   },
   {
    "duration": 4,
    "start_time": "2024-03-03T13:50:25.784Z"
   },
   {
    "duration": 121,
    "start_time": "2024-03-03T13:50:54.152Z"
   },
   {
    "duration": 3,
    "start_time": "2024-03-03T13:52:54.190Z"
   },
   {
    "duration": 25,
    "start_time": "2024-03-03T13:52:55.429Z"
   },
   {
    "duration": 20,
    "start_time": "2024-03-03T13:52:56.774Z"
   },
   {
    "duration": 13,
    "start_time": "2024-03-03T13:53:15.892Z"
   },
   {
    "duration": 4,
    "start_time": "2024-03-03T13:54:40.563Z"
   },
   {
    "duration": 19,
    "start_time": "2024-03-03T13:54:41.973Z"
   },
   {
    "duration": 4,
    "start_time": "2024-03-03T13:56:11.706Z"
   },
   {
    "duration": 19,
    "start_time": "2024-03-03T13:56:13.154Z"
   },
   {
    "duration": 4,
    "start_time": "2024-03-03T13:56:29.537Z"
   },
   {
    "duration": 21,
    "start_time": "2024-03-03T13:56:31.201Z"
   },
   {
    "duration": 3,
    "start_time": "2024-03-03T13:58:06.367Z"
   },
   {
    "duration": 25,
    "start_time": "2024-03-03T13:58:07.392Z"
   },
   {
    "duration": 18,
    "start_time": "2024-03-03T13:58:54.183Z"
   },
   {
    "duration": 18,
    "start_time": "2024-03-03T13:59:26.430Z"
   },
   {
    "duration": 3258,
    "start_time": "2024-03-03T17:01:29.395Z"
   },
   {
    "duration": 1395,
    "start_time": "2024-03-03T17:01:32.655Z"
   },
   {
    "duration": 656,
    "start_time": "2024-03-03T17:01:34.052Z"
   },
   {
    "duration": 30,
    "start_time": "2024-03-03T17:01:34.709Z"
   },
   {
    "duration": 82,
    "start_time": "2024-03-03T17:01:34.740Z"
   },
   {
    "duration": 85,
    "start_time": "2024-03-03T17:01:34.823Z"
   },
   {
    "duration": 4,
    "start_time": "2024-03-03T17:01:34.909Z"
   },
   {
    "duration": 976,
    "start_time": "2024-03-03T17:01:34.914Z"
   },
   {
    "duration": 883,
    "start_time": "2024-03-03T17:01:35.892Z"
   },
   {
    "duration": 954,
    "start_time": "2024-03-03T17:01:36.778Z"
   },
   {
    "duration": 1348,
    "start_time": "2024-03-03T17:01:37.733Z"
   },
   {
    "duration": 11822,
    "start_time": "2024-03-03T17:01:39.082Z"
   },
   {
    "duration": 4,
    "start_time": "2024-03-03T17:01:50.906Z"
   },
   {
    "duration": 9,
    "start_time": "2024-03-03T17:01:50.912Z"
   },
   {
    "duration": 10,
    "start_time": "2024-03-03T17:01:50.923Z"
   },
   {
    "duration": 3129,
    "start_time": "2024-03-03T17:01:50.934Z"
   },
   {
    "duration": 3248,
    "start_time": "2024-03-03T17:01:54.064Z"
   },
   {
    "duration": 3291,
    "start_time": "2024-03-03T17:01:57.313Z"
   },
   {
    "duration": 3,
    "start_time": "2024-03-03T17:02:00.605Z"
   },
   {
    "duration": 205,
    "start_time": "2024-03-03T17:02:00.609Z"
   },
   {
    "duration": 118,
    "start_time": "2024-03-03T17:02:00.816Z"
   },
   {
    "duration": 112,
    "start_time": "2024-03-03T17:14:15.107Z"
   },
   {
    "duration": 12,
    "start_time": "2024-03-03T17:14:20.795Z"
   },
   {
    "duration": 10,
    "start_time": "2024-03-03T17:14:34.307Z"
   },
   {
    "duration": 11,
    "start_time": "2024-03-03T17:14:54.516Z"
   },
   {
    "duration": 2424,
    "start_time": "2024-03-03T17:15:00.177Z"
   },
   {
    "duration": 1251,
    "start_time": "2024-03-03T17:15:02.603Z"
   },
   {
    "duration": 343,
    "start_time": "2024-03-03T17:15:03.855Z"
   },
   {
    "duration": 31,
    "start_time": "2024-03-03T17:15:04.199Z"
   },
   {
    "duration": 92,
    "start_time": "2024-03-03T17:15:04.231Z"
   },
   {
    "duration": 89,
    "start_time": "2024-03-03T17:15:04.324Z"
   },
   {
    "duration": 4,
    "start_time": "2024-03-03T17:15:04.414Z"
   },
   {
    "duration": 1002,
    "start_time": "2024-03-03T17:15:04.419Z"
   },
   {
    "duration": 875,
    "start_time": "2024-03-03T17:15:05.423Z"
   },
   {
    "duration": 949,
    "start_time": "2024-03-03T17:15:06.300Z"
   },
   {
    "duration": 1308,
    "start_time": "2024-03-03T17:15:07.251Z"
   },
   {
    "duration": 12298,
    "start_time": "2024-03-03T17:15:08.561Z"
   },
   {
    "duration": 4,
    "start_time": "2024-03-03T17:15:20.860Z"
   },
   {
    "duration": 8,
    "start_time": "2024-03-03T17:15:20.865Z"
   },
   {
    "duration": 7,
    "start_time": "2024-03-03T17:15:20.874Z"
   },
   {
    "duration": 3294,
    "start_time": "2024-03-03T17:15:20.883Z"
   },
   {
    "duration": 3328,
    "start_time": "2024-03-03T17:15:24.178Z"
   },
   {
    "duration": 3224,
    "start_time": "2024-03-03T17:15:27.507Z"
   },
   {
    "duration": 3,
    "start_time": "2024-03-03T17:15:30.732Z"
   },
   {
    "duration": 66,
    "start_time": "2024-03-03T17:15:30.736Z"
   },
   {
    "duration": 109,
    "start_time": "2024-03-03T17:15:30.859Z"
   },
   {
    "duration": 15,
    "start_time": "2024-03-03T17:16:25.082Z"
   },
   {
    "duration": 4,
    "start_time": "2024-03-03T17:25:20.830Z"
   },
   {
    "duration": 4,
    "start_time": "2024-03-03T17:25:23.998Z"
   },
   {
    "duration": 2869,
    "start_time": "2024-03-03T17:25:30.094Z"
   },
   {
    "duration": 2839,
    "start_time": "2024-03-03T17:25:37.710Z"
   },
   {
    "duration": 2908,
    "start_time": "2024-03-03T17:25:43.438Z"
   },
   {
    "duration": 3,
    "start_time": "2024-03-03T17:31:36.678Z"
   },
   {
    "duration": 4,
    "start_time": "2024-03-03T17:31:42.183Z"
   },
   {
    "duration": 4787,
    "start_time": "2024-03-03T17:31:45.326Z"
   },
   {
    "duration": 3,
    "start_time": "2024-03-03T17:32:14.710Z"
   },
   {
    "duration": 14252,
    "start_time": "2024-03-03T17:32:17.797Z"
   },
   {
    "duration": 11776,
    "start_time": "2024-03-03T17:32:39.805Z"
   },
   {
    "duration": 15525,
    "start_time": "2024-03-03T17:32:59.333Z"
   },
   {
    "duration": 8,
    "start_time": "2024-03-03T17:38:12.366Z"
   },
   {
    "duration": 4,
    "start_time": "2024-03-03T17:38:16.974Z"
   },
   {
    "duration": 101,
    "start_time": "2024-03-03T17:38:18.678Z"
   },
   {
    "duration": 11,
    "start_time": "2024-03-03T17:38:33.376Z"
   },
   {
    "duration": 3,
    "start_time": "2024-03-03T17:38:45.949Z"
   },
   {
    "duration": 3,
    "start_time": "2024-03-03T17:39:14.551Z"
   },
   {
    "duration": 14,
    "start_time": "2024-03-03T17:39:18.212Z"
   },
   {
    "duration": 2400,
    "start_time": "2024-03-03T17:39:34.788Z"
   },
   {
    "duration": 1260,
    "start_time": "2024-03-03T17:39:37.190Z"
   },
   {
    "duration": 330,
    "start_time": "2024-03-03T17:39:38.452Z"
   },
   {
    "duration": 30,
    "start_time": "2024-03-03T17:39:38.784Z"
   },
   {
    "duration": 95,
    "start_time": "2024-03-03T17:39:38.815Z"
   },
   {
    "duration": 80,
    "start_time": "2024-03-03T17:39:38.912Z"
   },
   {
    "duration": 4,
    "start_time": "2024-03-03T17:39:38.993Z"
   },
   {
    "duration": 991,
    "start_time": "2024-03-03T17:39:38.998Z"
   },
   {
    "duration": 888,
    "start_time": "2024-03-03T17:39:39.990Z"
   },
   {
    "duration": 976,
    "start_time": "2024-03-03T17:39:40.881Z"
   },
   {
    "duration": 1291,
    "start_time": "2024-03-03T17:39:41.858Z"
   },
   {
    "duration": 12051,
    "start_time": "2024-03-03T17:39:43.151Z"
   },
   {
    "duration": 3,
    "start_time": "2024-03-03T17:39:55.203Z"
   },
   {
    "duration": 9,
    "start_time": "2024-03-03T17:39:55.207Z"
   },
   {
    "duration": 6,
    "start_time": "2024-03-03T17:39:55.217Z"
   },
   {
    "duration": 3264,
    "start_time": "2024-03-03T17:39:55.224Z"
   },
   {
    "duration": 3293,
    "start_time": "2024-03-03T17:39:58.490Z"
   },
   {
    "duration": 3367,
    "start_time": "2024-03-03T17:40:01.784Z"
   },
   {
    "duration": 5,
    "start_time": "2024-03-03T17:40:05.153Z"
   },
   {
    "duration": 13,
    "start_time": "2024-03-03T17:40:05.160Z"
   },
   {
    "duration": 84,
    "start_time": "2024-03-03T17:40:05.175Z"
   },
   {
    "duration": 98,
    "start_time": "2024-03-03T17:40:05.261Z"
   },
   {
    "duration": 2411,
    "start_time": "2024-03-03T17:43:18.140Z"
   },
   {
    "duration": 1353,
    "start_time": "2024-03-03T17:43:20.554Z"
   },
   {
    "duration": 330,
    "start_time": "2024-03-03T17:43:21.909Z"
   },
   {
    "duration": 40,
    "start_time": "2024-03-03T17:43:22.241Z"
   },
   {
    "duration": 98,
    "start_time": "2024-03-03T17:43:22.283Z"
   },
   {
    "duration": 83,
    "start_time": "2024-03-03T17:43:22.382Z"
   },
   {
    "duration": 3,
    "start_time": "2024-03-03T17:43:22.467Z"
   },
   {
    "duration": 978,
    "start_time": "2024-03-03T17:43:22.472Z"
   },
   {
    "duration": 872,
    "start_time": "2024-03-03T17:43:23.451Z"
   },
   {
    "duration": 929,
    "start_time": "2024-03-03T17:43:24.325Z"
   },
   {
    "duration": 1280,
    "start_time": "2024-03-03T17:43:25.255Z"
   },
   {
    "duration": 12194,
    "start_time": "2024-03-03T17:43:26.537Z"
   },
   {
    "duration": 3,
    "start_time": "2024-03-03T17:43:38.733Z"
   },
   {
    "duration": 4,
    "start_time": "2024-03-03T17:43:38.738Z"
   },
   {
    "duration": 15,
    "start_time": "2024-03-03T17:43:38.743Z"
   },
   {
    "duration": 3246,
    "start_time": "2024-03-03T17:43:38.760Z"
   },
   {
    "duration": 3210,
    "start_time": "2024-03-03T17:43:42.007Z"
   },
   {
    "duration": 3278,
    "start_time": "2024-03-03T17:43:45.218Z"
   },
   {
    "duration": 3,
    "start_time": "2024-03-03T17:43:48.498Z"
   },
   {
    "duration": 17,
    "start_time": "2024-03-03T17:43:48.502Z"
   },
   {
    "duration": 140,
    "start_time": "2024-03-03T17:43:48.520Z"
   },
   {
    "duration": 8,
    "start_time": "2024-03-03T17:43:48.662Z"
   },
   {
    "duration": 6,
    "start_time": "2024-03-03T17:51:02.685Z"
   },
   {
    "duration": 18,
    "start_time": "2024-03-03T17:51:08.631Z"
   },
   {
    "duration": 272,
    "start_time": "2024-03-03T17:51:16.324Z"
   },
   {
    "duration": 609,
    "start_time": "2024-03-03T17:51:28.767Z"
   },
   {
    "duration": 751,
    "start_time": "2024-03-03T17:51:53.447Z"
   },
   {
    "duration": 772,
    "start_time": "2024-03-03T18:02:57.642Z"
   },
   {
    "duration": 3390,
    "start_time": "2024-03-04T06:14:34.704Z"
   },
   {
    "duration": 1628,
    "start_time": "2024-03-04T06:14:38.096Z"
   },
   {
    "duration": 1610,
    "start_time": "2024-03-04T06:14:39.726Z"
   },
   {
    "duration": 39,
    "start_time": "2024-03-04T06:14:41.338Z"
   },
   {
    "duration": 108,
    "start_time": "2024-03-04T06:14:41.380Z"
   },
   {
    "duration": 84,
    "start_time": "2024-03-04T06:14:41.490Z"
   },
   {
    "duration": 13,
    "start_time": "2024-03-04T06:14:41.575Z"
   },
   {
    "duration": 1195,
    "start_time": "2024-03-04T06:14:41.590Z"
   },
   {
    "duration": 1033,
    "start_time": "2024-03-04T06:14:42.787Z"
   },
   {
    "duration": 1160,
    "start_time": "2024-03-04T06:14:43.822Z"
   },
   {
    "duration": 1656,
    "start_time": "2024-03-04T06:14:44.984Z"
   },
   {
    "duration": 13767,
    "start_time": "2024-03-04T06:14:46.642Z"
   },
   {
    "duration": 4,
    "start_time": "2024-03-04T06:15:00.411Z"
   },
   {
    "duration": 81,
    "start_time": "2024-03-04T06:15:00.418Z"
   },
   {
    "duration": 80,
    "start_time": "2024-03-04T06:15:00.501Z"
   },
   {
    "duration": 3739,
    "start_time": "2024-03-04T06:15:00.582Z"
   },
   {
    "duration": 3791,
    "start_time": "2024-03-04T06:15:04.323Z"
   },
   {
    "duration": 3553,
    "start_time": "2024-03-04T06:15:08.115Z"
   },
   {
    "duration": 3,
    "start_time": "2024-03-04T06:15:11.670Z"
   },
   {
    "duration": 42,
    "start_time": "2024-03-04T06:15:11.674Z"
   },
   {
    "duration": 168,
    "start_time": "2024-03-04T06:15:11.719Z"
   },
   {
    "duration": 11,
    "start_time": "2024-03-04T06:15:11.889Z"
   },
   {
    "duration": 11,
    "start_time": "2024-03-04T06:15:11.901Z"
   },
   {
    "duration": 893,
    "start_time": "2024-03-04T06:15:11.914Z"
   },
   {
    "duration": 4,
    "start_time": "2024-03-04T06:38:54.731Z"
   },
   {
    "duration": 4,
    "start_time": "2024-03-04T06:39:41.874Z"
   },
   {
    "duration": 137,
    "start_time": "2024-03-04T06:39:43.216Z"
   },
   {
    "duration": 2326,
    "start_time": "2024-03-04T06:39:57.066Z"
   },
   {
    "duration": 1491,
    "start_time": "2024-03-04T06:39:59.395Z"
   },
   {
    "duration": 449,
    "start_time": "2024-03-04T06:40:00.888Z"
   },
   {
    "duration": 59,
    "start_time": "2024-03-04T06:40:01.338Z"
   },
   {
    "duration": 109,
    "start_time": "2024-03-04T06:40:01.399Z"
   },
   {
    "duration": 107,
    "start_time": "2024-03-04T06:40:01.509Z"
   },
   {
    "duration": 5,
    "start_time": "2024-03-04T06:40:01.618Z"
   },
   {
    "duration": 1263,
    "start_time": "2024-03-04T06:40:01.624Z"
   },
   {
    "duration": 1043,
    "start_time": "2024-03-04T06:40:02.889Z"
   },
   {
    "duration": 1202,
    "start_time": "2024-03-04T06:40:03.934Z"
   },
   {
    "duration": 1701,
    "start_time": "2024-03-04T06:40:05.137Z"
   },
   {
    "duration": 13969,
    "start_time": "2024-03-04T06:40:06.839Z"
   },
   {
    "duration": 3,
    "start_time": "2024-03-04T06:40:20.810Z"
   },
   {
    "duration": 27,
    "start_time": "2024-03-04T06:40:20.816Z"
   },
   {
    "duration": 30,
    "start_time": "2024-03-04T06:40:20.845Z"
   },
   {
    "duration": 3548,
    "start_time": "2024-03-04T06:40:20.877Z"
   },
   {
    "duration": 3651,
    "start_time": "2024-03-04T06:40:24.427Z"
   },
   {
    "duration": 3811,
    "start_time": "2024-03-04T06:40:28.080Z"
   },
   {
    "duration": 5,
    "start_time": "2024-03-04T06:40:31.892Z"
   },
   {
    "duration": 94,
    "start_time": "2024-03-04T06:40:31.898Z"
   },
   {
    "duration": 109,
    "start_time": "2024-03-04T06:40:31.995Z"
   },
   {
    "duration": 21,
    "start_time": "2024-03-04T06:40:32.105Z"
   },
   {
    "duration": 64,
    "start_time": "2024-03-04T06:40:32.127Z"
   },
   {
    "duration": 965,
    "start_time": "2024-03-04T06:40:32.193Z"
   },
   {
    "duration": 2374,
    "start_time": "2024-03-04T07:38:47.013Z"
   },
   {
    "duration": 1498,
    "start_time": "2024-03-04T07:38:49.389Z"
   },
   {
    "duration": 431,
    "start_time": "2024-03-04T07:38:50.889Z"
   },
   {
    "duration": 39,
    "start_time": "2024-03-04T07:38:51.322Z"
   },
   {
    "duration": 115,
    "start_time": "2024-03-04T07:38:51.362Z"
   },
   {
    "duration": 91,
    "start_time": "2024-03-04T07:38:51.479Z"
   },
   {
    "duration": 16,
    "start_time": "2024-03-04T07:38:51.571Z"
   },
   {
    "duration": 1176,
    "start_time": "2024-03-04T07:38:51.589Z"
   },
   {
    "duration": 1056,
    "start_time": "2024-03-04T07:38:52.766Z"
   },
   {
    "duration": 1167,
    "start_time": "2024-03-04T07:38:53.824Z"
   },
   {
    "duration": 1652,
    "start_time": "2024-03-04T07:38:54.992Z"
   },
   {
    "duration": 13783,
    "start_time": "2024-03-04T07:38:56.646Z"
   },
   {
    "duration": 3,
    "start_time": "2024-03-04T07:39:10.431Z"
   },
   {
    "duration": 13,
    "start_time": "2024-03-04T07:39:10.435Z"
   },
   {
    "duration": 6,
    "start_time": "2024-03-04T07:39:10.450Z"
   },
   {
    "duration": 3571,
    "start_time": "2024-03-04T07:39:10.458Z"
   },
   {
    "duration": 3700,
    "start_time": "2024-03-04T07:39:14.030Z"
   },
   {
    "duration": 3585,
    "start_time": "2024-03-04T07:39:17.732Z"
   },
   {
    "duration": 4,
    "start_time": "2024-03-04T07:39:21.318Z"
   },
   {
    "duration": 137,
    "start_time": "2024-03-04T07:39:21.323Z"
   },
   {
    "duration": 0,
    "start_time": "2024-03-04T07:39:21.462Z"
   },
   {
    "duration": 0,
    "start_time": "2024-03-04T07:39:21.463Z"
   },
   {
    "duration": 0,
    "start_time": "2024-03-04T07:39:21.464Z"
   },
   {
    "duration": 0,
    "start_time": "2024-03-04T07:39:21.465Z"
   },
   {
    "duration": 2392,
    "start_time": "2024-03-04T07:40:39.532Z"
   },
   {
    "duration": 1472,
    "start_time": "2024-03-04T07:40:41.926Z"
   },
   {
    "duration": 429,
    "start_time": "2024-03-04T07:40:43.400Z"
   },
   {
    "duration": 41,
    "start_time": "2024-03-04T07:40:43.831Z"
   },
   {
    "duration": 107,
    "start_time": "2024-03-04T07:40:43.889Z"
   },
   {
    "duration": 98,
    "start_time": "2024-03-04T07:40:43.998Z"
   },
   {
    "duration": 4,
    "start_time": "2024-03-04T07:40:44.097Z"
   },
   {
    "duration": 1213,
    "start_time": "2024-03-04T07:40:44.102Z"
   },
   {
    "duration": 1033,
    "start_time": "2024-03-04T07:40:45.317Z"
   },
   {
    "duration": 1140,
    "start_time": "2024-03-04T07:40:46.352Z"
   },
   {
    "duration": 1635,
    "start_time": "2024-03-04T07:40:47.493Z"
   },
   {
    "duration": 13434,
    "start_time": "2024-03-04T07:40:49.130Z"
   },
   {
    "duration": 3,
    "start_time": "2024-03-04T07:41:02.566Z"
   },
   {
    "duration": 55,
    "start_time": "2024-03-04T07:41:02.571Z"
   },
   {
    "duration": 27,
    "start_time": "2024-03-04T07:41:02.627Z"
   },
   {
    "duration": 3688,
    "start_time": "2024-03-04T07:41:02.655Z"
   },
   {
    "duration": 3614,
    "start_time": "2024-03-04T07:41:06.344Z"
   },
   {
    "duration": 3681,
    "start_time": "2024-03-04T07:41:09.960Z"
   },
   {
    "duration": 4,
    "start_time": "2024-03-04T07:41:13.643Z"
   },
   {
    "duration": 43,
    "start_time": "2024-03-04T07:41:13.649Z"
   },
   {
    "duration": 199,
    "start_time": "2024-03-04T07:41:13.695Z"
   },
   {
    "duration": 0,
    "start_time": "2024-03-04T07:41:13.896Z"
   },
   {
    "duration": 0,
    "start_time": "2024-03-04T07:41:13.897Z"
   },
   {
    "duration": 0,
    "start_time": "2024-03-04T07:41:13.899Z"
   },
   {
    "duration": 148,
    "start_time": "2024-03-04T07:41:22.751Z"
   },
   {
    "duration": 145,
    "start_time": "2024-03-04T07:41:25.838Z"
   },
   {
    "duration": 2423,
    "start_time": "2024-03-04T07:42:08.112Z"
   },
   {
    "duration": 1446,
    "start_time": "2024-03-04T07:42:10.537Z"
   },
   {
    "duration": 433,
    "start_time": "2024-03-04T07:42:11.985Z"
   },
   {
    "duration": 69,
    "start_time": "2024-03-04T07:42:12.419Z"
   },
   {
    "duration": 120,
    "start_time": "2024-03-04T07:42:12.491Z"
   },
   {
    "duration": 102,
    "start_time": "2024-03-04T07:42:12.613Z"
   },
   {
    "duration": 6,
    "start_time": "2024-03-04T07:42:12.716Z"
   },
   {
    "duration": 1278,
    "start_time": "2024-03-04T07:42:12.724Z"
   },
   {
    "duration": 1167,
    "start_time": "2024-03-04T07:42:14.004Z"
   },
   {
    "duration": 1175,
    "start_time": "2024-03-04T07:42:15.173Z"
   },
   {
    "duration": 1661,
    "start_time": "2024-03-04T07:42:16.350Z"
   },
   {
    "duration": 13696,
    "start_time": "2024-03-04T07:42:18.013Z"
   },
   {
    "duration": 3,
    "start_time": "2024-03-04T07:42:31.711Z"
   },
   {
    "duration": 54,
    "start_time": "2024-03-04T07:42:31.717Z"
   },
   {
    "duration": 147,
    "start_time": "2024-03-04T07:42:31.773Z"
   },
   {
    "duration": 3818,
    "start_time": "2024-03-04T07:42:31.922Z"
   },
   {
    "duration": 3654,
    "start_time": "2024-03-04T07:42:35.741Z"
   },
   {
    "duration": 3675,
    "start_time": "2024-03-04T07:42:39.397Z"
   },
   {
    "duration": 3,
    "start_time": "2024-03-04T07:42:43.074Z"
   },
   {
    "duration": 136,
    "start_time": "2024-03-04T07:42:43.079Z"
   },
   {
    "duration": 0,
    "start_time": "2024-03-04T07:42:43.217Z"
   },
   {
    "duration": 0,
    "start_time": "2024-03-04T07:42:43.218Z"
   },
   {
    "duration": 0,
    "start_time": "2024-03-04T07:42:43.219Z"
   },
   {
    "duration": 0,
    "start_time": "2024-03-04T07:42:43.220Z"
   },
   {
    "duration": 4,
    "start_time": "2024-03-04T07:43:13.380Z"
   },
   {
    "duration": 11,
    "start_time": "2024-03-04T07:43:14.756Z"
   },
   {
    "duration": 10,
    "start_time": "2024-03-04T07:43:15.884Z"
   },
   {
    "duration": 105,
    "start_time": "2024-03-04T07:43:17.115Z"
   },
   {
    "duration": 10,
    "start_time": "2024-03-04T07:43:21.782Z"
   },
   {
    "duration": 7,
    "start_time": "2024-03-04T07:43:23.793Z"
   },
   {
    "duration": 954,
    "start_time": "2024-03-04T07:43:24.612Z"
   },
   {
    "duration": 5,
    "start_time": "2024-03-04T07:52:55.812Z"
   },
   {
    "duration": 2566,
    "start_time": "2024-03-04T07:53:02.599Z"
   },
   {
    "duration": 1563,
    "start_time": "2024-03-04T07:53:05.167Z"
   },
   {
    "duration": 429,
    "start_time": "2024-03-04T07:53:06.732Z"
   },
   {
    "duration": 45,
    "start_time": "2024-03-04T07:53:07.162Z"
   },
   {
    "duration": 116,
    "start_time": "2024-03-04T07:53:07.209Z"
   },
   {
    "duration": 104,
    "start_time": "2024-03-04T07:53:07.327Z"
   },
   {
    "duration": 5,
    "start_time": "2024-03-04T07:53:07.433Z"
   },
   {
    "duration": 1176,
    "start_time": "2024-03-04T07:53:07.440Z"
   },
   {
    "duration": 1070,
    "start_time": "2024-03-04T07:53:08.618Z"
   },
   {
    "duration": 1154,
    "start_time": "2024-03-04T07:53:09.690Z"
   },
   {
    "duration": 1685,
    "start_time": "2024-03-04T07:53:10.846Z"
   },
   {
    "duration": 14118,
    "start_time": "2024-03-04T07:53:12.533Z"
   },
   {
    "duration": 3,
    "start_time": "2024-03-04T07:53:26.653Z"
   },
   {
    "duration": 16,
    "start_time": "2024-03-04T07:53:26.659Z"
   },
   {
    "duration": 42,
    "start_time": "2024-03-04T07:53:26.676Z"
   },
   {
    "duration": 3773,
    "start_time": "2024-03-04T07:53:26.719Z"
   },
   {
    "duration": 3608,
    "start_time": "2024-03-04T07:53:30.494Z"
   },
   {
    "duration": 3729,
    "start_time": "2024-03-04T07:53:34.104Z"
   },
   {
    "duration": 5,
    "start_time": "2024-03-04T07:53:37.834Z"
   },
   {
    "duration": 59,
    "start_time": "2024-03-04T07:53:37.840Z"
   },
   {
    "duration": 186,
    "start_time": "2024-03-04T07:53:37.902Z"
   },
   {
    "duration": 11,
    "start_time": "2024-03-04T07:53:38.090Z"
   },
   {
    "duration": 7,
    "start_time": "2024-03-04T07:53:38.103Z"
   },
   {
    "duration": 981,
    "start_time": "2024-03-04T07:53:38.112Z"
   },
   {
    "duration": 5,
    "start_time": "2024-03-04T10:31:52.088Z"
   },
   {
    "duration": 2636,
    "start_time": "2024-03-04T10:34:38.568Z"
   },
   {
    "duration": 1508,
    "start_time": "2024-03-04T10:34:41.207Z"
   },
   {
    "duration": 465,
    "start_time": "2024-03-04T10:34:42.717Z"
   },
   {
    "duration": 46,
    "start_time": "2024-03-04T10:34:43.186Z"
   },
   {
    "duration": 129,
    "start_time": "2024-03-04T10:34:43.235Z"
   },
   {
    "duration": 110,
    "start_time": "2024-03-04T10:34:43.366Z"
   },
   {
    "duration": 5,
    "start_time": "2024-03-04T10:34:43.488Z"
   },
   {
    "duration": 1316,
    "start_time": "2024-03-04T10:34:43.494Z"
   },
   {
    "duration": 1145,
    "start_time": "2024-03-04T10:34:44.812Z"
   },
   {
    "duration": 1247,
    "start_time": "2024-03-04T10:34:45.958Z"
   },
   {
    "duration": 1774,
    "start_time": "2024-03-04T10:34:47.207Z"
   },
   {
    "duration": 14833,
    "start_time": "2024-03-04T10:34:48.987Z"
   },
   {
    "duration": 3,
    "start_time": "2024-03-04T10:35:03.821Z"
   },
   {
    "duration": 127,
    "start_time": "2024-03-04T10:35:03.827Z"
   },
   {
    "duration": 0,
    "start_time": "2024-03-04T10:35:03.955Z"
   },
   {
    "duration": 0,
    "start_time": "2024-03-04T10:35:03.957Z"
   },
   {
    "duration": 0,
    "start_time": "2024-03-04T10:35:03.958Z"
   },
   {
    "duration": 0,
    "start_time": "2024-03-04T10:35:03.959Z"
   },
   {
    "duration": 0,
    "start_time": "2024-03-04T10:35:03.960Z"
   },
   {
    "duration": 0,
    "start_time": "2024-03-04T10:35:03.961Z"
   },
   {
    "duration": 0,
    "start_time": "2024-03-04T10:35:03.962Z"
   },
   {
    "duration": 0,
    "start_time": "2024-03-04T10:35:03.963Z"
   },
   {
    "duration": 0,
    "start_time": "2024-03-04T10:35:03.964Z"
   },
   {
    "duration": 0,
    "start_time": "2024-03-04T10:35:03.965Z"
   },
   {
    "duration": 10,
    "start_time": "2024-03-04T10:35:26.323Z"
   },
   {
    "duration": 11,
    "start_time": "2024-03-04T10:35:50.275Z"
   },
   {
    "duration": 10,
    "start_time": "2024-03-04T10:36:20.346Z"
   },
   {
    "duration": 10,
    "start_time": "2024-03-04T10:36:30.178Z"
   },
   {
    "duration": 3,
    "start_time": "2024-03-04T10:37:21.281Z"
   },
   {
    "duration": 5,
    "start_time": "2024-03-04T10:38:34.432Z"
   },
   {
    "duration": 5,
    "start_time": "2024-03-04T10:38:40.200Z"
   },
   {
    "duration": 9578,
    "start_time": "2024-03-04T10:38:42.823Z"
   },
   {
    "duration": 5,
    "start_time": "2024-03-04T10:39:40.879Z"
   },
   {
    "duration": 24213,
    "start_time": "2024-03-04T10:39:43.279Z"
   },
   {
    "duration": 23324,
    "start_time": "2024-03-04T10:40:15.870Z"
   },
   {
    "duration": 24053,
    "start_time": "2024-03-04T10:40:43.037Z"
   },
   {
    "duration": 5,
    "start_time": "2024-03-04T10:44:29.586Z"
   },
   {
    "duration": 50487,
    "start_time": "2024-03-04T10:44:33.355Z"
   },
   {
    "duration": 4,
    "start_time": "2024-03-04T10:45:33.413Z"
   },
   {
    "duration": 33403,
    "start_time": "2024-03-04T10:45:36.387Z"
   },
   {
    "duration": 2678,
    "start_time": "2024-03-04T10:46:30.088Z"
   },
   {
    "duration": 1553,
    "start_time": "2024-03-04T10:46:32.769Z"
   },
   {
    "duration": 482,
    "start_time": "2024-03-04T10:46:34.324Z"
   },
   {
    "duration": 42,
    "start_time": "2024-03-04T10:46:34.808Z"
   },
   {
    "duration": 136,
    "start_time": "2024-03-04T10:46:34.853Z"
   },
   {
    "duration": 102,
    "start_time": "2024-03-04T10:46:34.990Z"
   },
   {
    "duration": 5,
    "start_time": "2024-03-04T10:46:35.094Z"
   },
   {
    "duration": 1314,
    "start_time": "2024-03-04T10:46:35.100Z"
   },
   {
    "duration": 1147,
    "start_time": "2024-03-04T10:46:36.416Z"
   },
   {
    "duration": 1275,
    "start_time": "2024-03-04T10:46:37.564Z"
   },
   {
    "duration": 1842,
    "start_time": "2024-03-04T10:46:38.841Z"
   },
   {
    "duration": 14606,
    "start_time": "2024-03-04T10:46:40.684Z"
   },
   {
    "duration": 4,
    "start_time": "2024-03-04T10:46:55.292Z"
   },
   {
    "duration": 6,
    "start_time": "2024-03-04T10:46:55.300Z"
   },
   {
    "duration": 12,
    "start_time": "2024-03-04T10:46:55.308Z"
   },
   {
    "duration": 2604,
    "start_time": "2024-03-04T10:47:47.041Z"
   },
   {
    "duration": 1442,
    "start_time": "2024-03-04T10:47:49.647Z"
   },
   {
    "duration": 466,
    "start_time": "2024-03-04T10:47:51.091Z"
   },
   {
    "duration": 56,
    "start_time": "2024-03-04T10:47:51.559Z"
   },
   {
    "duration": 123,
    "start_time": "2024-03-04T10:47:51.617Z"
   },
   {
    "duration": 105,
    "start_time": "2024-03-04T10:47:51.742Z"
   },
   {
    "duration": 6,
    "start_time": "2024-03-04T10:47:51.849Z"
   },
   {
    "duration": 1285,
    "start_time": "2024-03-04T10:47:51.856Z"
   },
   {
    "duration": 1150,
    "start_time": "2024-03-04T10:47:53.143Z"
   },
   {
    "duration": 1274,
    "start_time": "2024-03-04T10:47:54.297Z"
   },
   {
    "duration": 1778,
    "start_time": "2024-03-04T10:47:55.572Z"
   },
   {
    "duration": 14835,
    "start_time": "2024-03-04T10:47:57.352Z"
   },
   {
    "duration": 4,
    "start_time": "2024-03-04T10:48:12.189Z"
   },
   {
    "duration": 8,
    "start_time": "2024-03-04T10:48:12.194Z"
   },
   {
    "duration": 14,
    "start_time": "2024-03-04T10:48:12.204Z"
   },
   {
    "duration": 12768,
    "start_time": "2024-03-04T10:48:12.220Z"
   },
   {
    "duration": 12698,
    "start_time": "2024-03-04T10:48:24.990Z"
   },
   {
    "duration": 12908,
    "start_time": "2024-03-04T10:48:37.690Z"
   },
   {
    "duration": 88,
    "start_time": "2024-03-04T10:48:50.601Z"
   },
   {
    "duration": 116,
    "start_time": "2024-03-04T10:48:50.691Z"
   },
   {
    "duration": 85,
    "start_time": "2024-03-04T10:48:50.809Z"
   },
   {
    "duration": 192,
    "start_time": "2024-03-04T10:48:50.896Z"
   },
   {
    "duration": 9,
    "start_time": "2024-03-04T10:48:51.091Z"
   },
   {
    "duration": 1109,
    "start_time": "2024-03-04T10:48:51.101Z"
   },
   {
    "duration": 1056,
    "start_time": "2024-03-04T10:49:34.271Z"
   },
   {
    "duration": 1034,
    "start_time": "2024-03-04T10:49:43.800Z"
   },
   {
    "duration": 1025,
    "start_time": "2024-03-04T10:49:51.686Z"
   },
   {
    "duration": 5,
    "start_time": "2024-03-04T11:04:27.154Z"
   },
   {
    "duration": 124,
    "start_time": "2024-03-04T11:04:30.674Z"
   },
   {
    "duration": 2674,
    "start_time": "2024-03-04T11:04:38.375Z"
   },
   {
    "duration": 1472,
    "start_time": "2024-03-04T11:04:41.051Z"
   },
   {
    "duration": 477,
    "start_time": "2024-03-04T11:04:42.525Z"
   },
   {
    "duration": 45,
    "start_time": "2024-03-04T11:04:43.004Z"
   },
   {
    "duration": 138,
    "start_time": "2024-03-04T11:04:43.051Z"
   },
   {
    "duration": 114,
    "start_time": "2024-03-04T11:04:43.191Z"
   },
   {
    "duration": 5,
    "start_time": "2024-03-04T11:04:43.307Z"
   },
   {
    "duration": 1402,
    "start_time": "2024-03-04T11:04:43.314Z"
   },
   {
    "duration": 1158,
    "start_time": "2024-03-04T11:04:44.718Z"
   },
   {
    "duration": 1235,
    "start_time": "2024-03-04T11:04:45.887Z"
   },
   {
    "duration": 1821,
    "start_time": "2024-03-04T11:04:47.124Z"
   },
   {
    "duration": 14899,
    "start_time": "2024-03-04T11:04:48.946Z"
   },
   {
    "duration": 3,
    "start_time": "2024-03-04T11:05:03.847Z"
   },
   {
    "duration": 5,
    "start_time": "2024-03-04T11:05:03.852Z"
   },
   {
    "duration": 8,
    "start_time": "2024-03-04T11:05:03.858Z"
   },
   {
    "duration": 13521,
    "start_time": "2024-03-04T11:05:03.867Z"
   },
   {
    "duration": 13501,
    "start_time": "2024-03-04T11:05:17.390Z"
   },
   {
    "duration": 12701,
    "start_time": "2024-03-04T11:05:30.893Z"
   },
   {
    "duration": 92,
    "start_time": "2024-03-04T11:05:43.597Z"
   },
   {
    "duration": 199,
    "start_time": "2024-03-04T11:05:43.691Z"
   },
   {
    "duration": 17,
    "start_time": "2024-03-04T11:05:43.986Z"
   },
   {
    "duration": 184,
    "start_time": "2024-03-04T11:05:44.005Z"
   },
   {
    "duration": 97,
    "start_time": "2024-03-04T11:05:44.194Z"
   },
   {
    "duration": 1076,
    "start_time": "2024-03-04T11:05:44.293Z"
   },
   {
    "duration": 1008,
    "start_time": "2024-03-04T11:10:28.199Z"
   },
   {
    "duration": 1000,
    "start_time": "2024-03-04T11:10:42.639Z"
   },
   {
    "duration": 1009,
    "start_time": "2024-03-04T11:15:09.462Z"
   },
   {
    "duration": 1056,
    "start_time": "2024-03-04T11:15:15.708Z"
   },
   {
    "duration": 1050,
    "start_time": "2024-03-04T11:15:44.540Z"
   },
   {
    "duration": 115,
    "start_time": "2024-03-04T12:05:00.917Z"
   },
   {
    "duration": 3,
    "start_time": "2024-03-04T12:05:04.172Z"
   },
   {
    "duration": 2,
    "start_time": "2024-03-04T12:05:05.948Z"
   },
   {
    "duration": 3,
    "start_time": "2024-03-04T12:05:09.564Z"
   },
   {
    "duration": 9,
    "start_time": "2024-03-04T12:06:28.556Z"
   },
   {
    "duration": 3,
    "start_time": "2024-03-04T12:07:05.987Z"
   },
   {
    "duration": 4,
    "start_time": "2024-03-04T12:07:12.946Z"
   },
   {
    "duration": 3,
    "start_time": "2024-03-04T12:39:02.087Z"
   },
   {
    "duration": 8,
    "start_time": "2024-03-04T12:39:22.710Z"
   },
   {
    "duration": 3,
    "start_time": "2024-03-04T12:39:38.526Z"
   },
   {
    "duration": 16,
    "start_time": "2024-03-04T12:39:39.078Z"
   },
   {
    "duration": 3,
    "start_time": "2024-03-04T12:39:56.582Z"
   },
   {
    "duration": 14,
    "start_time": "2024-03-04T12:39:57.167Z"
   },
   {
    "duration": 3,
    "start_time": "2024-03-04T12:40:37.164Z"
   },
   {
    "duration": 16,
    "start_time": "2024-03-04T12:40:37.741Z"
   },
   {
    "duration": 3,
    "start_time": "2024-03-04T12:42:17.372Z"
   },
   {
    "duration": 16,
    "start_time": "2024-03-04T12:42:18.339Z"
   },
   {
    "duration": 3,
    "start_time": "2024-03-04T12:42:24.665Z"
   },
   {
    "duration": 10,
    "start_time": "2024-03-04T12:42:25.429Z"
   },
   {
    "duration": 3,
    "start_time": "2024-03-04T12:42:33.740Z"
   },
   {
    "duration": 8,
    "start_time": "2024-03-04T12:42:34.172Z"
   },
   {
    "duration": 3,
    "start_time": "2024-03-04T12:42:48.043Z"
   },
   {
    "duration": 8,
    "start_time": "2024-03-04T12:42:49.675Z"
   },
   {
    "duration": 8,
    "start_time": "2024-03-04T12:43:50.649Z"
   },
   {
    "duration": 5,
    "start_time": "2024-03-04T12:43:53.186Z"
   },
   {
    "duration": 21,
    "start_time": "2024-03-04T12:43:54.593Z"
   },
   {
    "duration": 4,
    "start_time": "2024-03-04T12:44:12.233Z"
   },
   {
    "duration": 16,
    "start_time": "2024-03-04T12:44:13.473Z"
   },
   {
    "duration": 3,
    "start_time": "2024-03-04T12:44:16.850Z"
   },
   {
    "duration": 9,
    "start_time": "2024-03-04T12:44:17.690Z"
   },
   {
    "duration": 118,
    "start_time": "2024-03-04T12:44:22.986Z"
   },
   {
    "duration": 7,
    "start_time": "2024-03-04T12:44:28.683Z"
   },
   {
    "duration": 106,
    "start_time": "2024-03-04T12:44:41.901Z"
   },
   {
    "duration": 58,
    "start_time": "2024-03-04T12:48:10.515Z"
   },
   {
    "duration": 19,
    "start_time": "2024-03-04T12:48:23.342Z"
   },
   {
    "duration": 6,
    "start_time": "2024-03-04T12:48:30.559Z"
   },
   {
    "duration": 8,
    "start_time": "2024-03-04T12:50:38.165Z"
   },
   {
    "duration": 4,
    "start_time": "2024-03-04T12:50:55.853Z"
   },
   {
    "duration": 4,
    "start_time": "2024-03-04T12:52:12.235Z"
   },
   {
    "duration": 10,
    "start_time": "2024-03-04T12:56:16.174Z"
   },
   {
    "duration": 8,
    "start_time": "2024-03-04T12:56:22.723Z"
   },
   {
    "duration": 9,
    "start_time": "2024-03-04T12:56:26.300Z"
   },
   {
    "duration": 8,
    "start_time": "2024-03-04T12:56:28.747Z"
   },
   {
    "duration": 9,
    "start_time": "2024-03-04T12:56:37.657Z"
   },
   {
    "duration": 4,
    "start_time": "2024-03-04T12:56:41.232Z"
   },
   {
    "duration": 107,
    "start_time": "2024-03-04T12:56:54.816Z"
   },
   {
    "duration": 104,
    "start_time": "2024-03-04T12:57:08.291Z"
   },
   {
    "duration": 91,
    "start_time": "2024-03-04T12:58:56.569Z"
   },
   {
    "duration": 110,
    "start_time": "2024-03-04T12:59:08.440Z"
   },
   {
    "duration": 3486,
    "start_time": "2024-03-04T14:24:43.078Z"
   },
   {
    "duration": 1564,
    "start_time": "2024-03-04T14:24:46.566Z"
   },
   {
    "duration": 806,
    "start_time": "2024-03-04T14:24:48.132Z"
   },
   {
    "duration": 43,
    "start_time": "2024-03-04T14:24:48.940Z"
   },
   {
    "duration": 112,
    "start_time": "2024-03-04T14:24:48.985Z"
   },
   {
    "duration": 92,
    "start_time": "2024-03-04T14:24:49.099Z"
   },
   {
    "duration": 4,
    "start_time": "2024-03-04T14:24:49.192Z"
   },
   {
    "duration": 1189,
    "start_time": "2024-03-04T14:24:49.198Z"
   },
   {
    "duration": 1107,
    "start_time": "2024-03-04T14:24:50.389Z"
   },
   {
    "duration": 1177,
    "start_time": "2024-03-04T14:24:51.499Z"
   },
   {
    "duration": 1760,
    "start_time": "2024-03-04T14:24:52.678Z"
   },
   {
    "duration": 14013,
    "start_time": "2024-03-04T14:24:54.440Z"
   },
   {
    "duration": 3,
    "start_time": "2024-03-04T14:25:08.455Z"
   },
   {
    "duration": 25,
    "start_time": "2024-03-04T14:25:08.459Z"
   },
   {
    "duration": 24,
    "start_time": "2024-03-04T14:25:08.486Z"
   },
   {
    "duration": 12558,
    "start_time": "2024-03-04T14:25:08.512Z"
   },
   {
    "duration": 12398,
    "start_time": "2024-03-04T14:25:21.072Z"
   },
   {
    "duration": 12196,
    "start_time": "2024-03-04T14:25:33.472Z"
   },
   {
    "duration": 6,
    "start_time": "2024-03-04T14:25:45.672Z"
   },
   {
    "duration": 15,
    "start_time": "2024-03-04T14:25:45.766Z"
   },
   {
    "duration": 184,
    "start_time": "2024-03-04T14:25:45.783Z"
   },
   {
    "duration": 104,
    "start_time": "2024-03-04T14:25:45.969Z"
   },
   {
    "duration": 14,
    "start_time": "2024-03-04T14:25:46.165Z"
   },
   {
    "duration": 1027,
    "start_time": "2024-03-04T14:25:46.181Z"
   },
   {
    "duration": 3,
    "start_time": "2024-03-04T14:25:47.210Z"
   },
   {
    "duration": 12,
    "start_time": "2024-03-04T14:25:47.215Z"
   },
   {
    "duration": 18,
    "start_time": "2024-03-04T14:25:47.228Z"
   },
   {
    "duration": 23,
    "start_time": "2024-03-04T14:25:47.249Z"
   },
   {
    "duration": 107,
    "start_time": "2024-03-04T14:25:47.274Z"
   },
   {
    "duration": 0,
    "start_time": "2024-03-04T14:25:47.383Z"
   },
   {
    "duration": 3,
    "start_time": "2024-03-04T14:34:36.731Z"
   },
   {
    "duration": 70,
    "start_time": "2024-03-04T14:35:20.386Z"
   },
   {
    "duration": 4,
    "start_time": "2024-03-04T14:35:26.857Z"
   },
   {
    "duration": 6,
    "start_time": "2024-03-04T14:39:17.223Z"
   },
   {
    "duration": 7,
    "start_time": "2024-03-04T14:39:33.068Z"
   },
   {
    "duration": 8,
    "start_time": "2024-03-04T14:40:52.475Z"
   },
   {
    "duration": 17,
    "start_time": "2024-03-04T14:41:17.187Z"
   },
   {
    "duration": 15,
    "start_time": "2024-03-04T14:42:11.897Z"
   },
   {
    "duration": 5,
    "start_time": "2024-03-04T15:06:55.904Z"
   },
   {
    "duration": 3,
    "start_time": "2024-03-04T15:07:18.398Z"
   },
   {
    "duration": 4,
    "start_time": "2024-03-04T15:12:21.440Z"
   },
   {
    "duration": 4,
    "start_time": "2024-03-04T15:21:16.022Z"
   },
   {
    "duration": 5,
    "start_time": "2024-03-04T15:29:21.573Z"
   },
   {
    "duration": 26,
    "start_time": "2024-03-04T15:29:46.852Z"
   },
   {
    "duration": 8,
    "start_time": "2024-03-04T15:30:40.676Z"
   },
   {
    "duration": 16,
    "start_time": "2024-03-04T15:30:52.451Z"
   },
   {
    "duration": 16,
    "start_time": "2024-03-04T15:30:56.188Z"
   },
   {
    "duration": 16,
    "start_time": "2024-03-04T15:30:58.483Z"
   },
   {
    "duration": 1162,
    "start_time": "2024-03-04T15:31:16.283Z"
   },
   {
    "duration": 1157,
    "start_time": "2024-03-04T15:31:52.610Z"
   },
   {
    "duration": 1164,
    "start_time": "2024-03-04T15:31:59.210Z"
   },
   {
    "duration": 88,
    "start_time": "2024-03-04T16:57:19.181Z"
   },
   {
    "duration": 86,
    "start_time": "2024-03-04T16:58:45.461Z"
   },
   {
    "duration": 6,
    "start_time": "2024-03-04T16:59:04.746Z"
   },
   {
    "duration": 1194,
    "start_time": "2024-03-04T16:59:07.505Z"
   },
   {
    "duration": 7,
    "start_time": "2024-03-04T16:59:19.025Z"
   },
   {
    "duration": 1189,
    "start_time": "2024-03-04T16:59:20.129Z"
   },
   {
    "duration": 5,
    "start_time": "2024-03-04T16:59:47.744Z"
   },
   {
    "duration": 1184,
    "start_time": "2024-03-04T16:59:49.647Z"
   },
   {
    "duration": 5,
    "start_time": "2024-03-04T17:00:41.823Z"
   },
   {
    "duration": 1201,
    "start_time": "2024-03-04T17:00:44.054Z"
   },
   {
    "duration": 5,
    "start_time": "2024-03-04T17:01:17.078Z"
   },
   {
    "duration": 1189,
    "start_time": "2024-03-04T17:01:18.407Z"
   },
   {
    "duration": 4,
    "start_time": "2024-03-04T17:02:56.269Z"
   },
   {
    "duration": 1176,
    "start_time": "2024-03-04T17:02:57.283Z"
   },
   {
    "duration": 5,
    "start_time": "2024-03-04T17:03:05.540Z"
   },
   {
    "duration": 1217,
    "start_time": "2024-03-04T17:03:06.987Z"
   },
   {
    "duration": 5,
    "start_time": "2024-03-04T17:03:34.899Z"
   },
   {
    "duration": 1194,
    "start_time": "2024-03-04T17:03:36.115Z"
   },
   {
    "duration": 5,
    "start_time": "2024-03-04T17:03:42.770Z"
   },
   {
    "duration": 1162,
    "start_time": "2024-03-04T17:03:44.634Z"
   },
   {
    "duration": 1179,
    "start_time": "2024-03-04T17:03:48.307Z"
   },
   {
    "duration": 1171,
    "start_time": "2024-03-04T17:03:50.179Z"
   },
   {
    "duration": 5,
    "start_time": "2024-03-04T17:04:41.145Z"
   },
   {
    "duration": 1180,
    "start_time": "2024-03-04T17:04:42.160Z"
   },
   {
    "duration": 1158,
    "start_time": "2024-03-04T17:04:43.342Z"
   },
   {
    "duration": 1221,
    "start_time": "2024-03-04T17:04:44.502Z"
   },
   {
    "duration": 6,
    "start_time": "2024-03-04T17:05:46.401Z"
   },
   {
    "duration": 1199,
    "start_time": "2024-03-04T17:05:47.800Z"
   },
   {
    "duration": 5,
    "start_time": "2024-03-04T17:06:20.833Z"
   },
   {
    "duration": 1173,
    "start_time": "2024-03-04T17:06:21.671Z"
   },
   {
    "duration": 7,
    "start_time": "2024-03-04T17:06:59.751Z"
   },
   {
    "duration": 1199,
    "start_time": "2024-03-04T17:07:03.007Z"
   },
   {
    "duration": 5,
    "start_time": "2024-03-04T17:09:56.683Z"
   },
   {
    "duration": 2477,
    "start_time": "2024-03-04T17:14:15.047Z"
   },
   {
    "duration": 1379,
    "start_time": "2024-03-04T17:14:17.526Z"
   },
   {
    "duration": 436,
    "start_time": "2024-03-04T17:14:18.907Z"
   },
   {
    "duration": 52,
    "start_time": "2024-03-04T17:14:19.345Z"
   },
   {
    "duration": 126,
    "start_time": "2024-03-04T17:14:19.399Z"
   },
   {
    "duration": 105,
    "start_time": "2024-03-04T17:14:19.527Z"
   },
   {
    "duration": 5,
    "start_time": "2024-03-04T17:14:19.634Z"
   },
   {
    "duration": 1233,
    "start_time": "2024-03-04T17:14:19.640Z"
   },
   {
    "duration": 1080,
    "start_time": "2024-03-04T17:14:20.875Z"
   },
   {
    "duration": 1134,
    "start_time": "2024-03-04T17:14:21.957Z"
   },
   {
    "duration": 1621,
    "start_time": "2024-03-04T17:14:23.092Z"
   },
   {
    "duration": 13743,
    "start_time": "2024-03-04T17:14:24.714Z"
   },
   {
    "duration": 3,
    "start_time": "2024-03-04T17:14:38.465Z"
   },
   {
    "duration": 18,
    "start_time": "2024-03-04T17:14:38.470Z"
   },
   {
    "duration": 20,
    "start_time": "2024-03-04T17:14:38.489Z"
   },
   {
    "duration": 12364,
    "start_time": "2024-03-04T17:14:38.510Z"
   },
   {
    "duration": 12108,
    "start_time": "2024-03-04T17:14:50.965Z"
   },
   {
    "duration": 12693,
    "start_time": "2024-03-04T17:15:03.075Z"
   },
   {
    "duration": 90,
    "start_time": "2024-03-04T17:15:15.776Z"
   },
   {
    "duration": 24,
    "start_time": "2024-03-04T17:15:15.868Z"
   },
   {
    "duration": 171,
    "start_time": "2024-03-04T17:15:15.895Z"
   },
   {
    "duration": 197,
    "start_time": "2024-03-04T17:15:16.069Z"
   },
   {
    "duration": 8,
    "start_time": "2024-03-04T17:15:16.267Z"
   },
   {
    "duration": 1039,
    "start_time": "2024-03-04T17:15:16.277Z"
   },
   {
    "duration": 3,
    "start_time": "2024-03-04T17:15:17.317Z"
   },
   {
    "duration": 45,
    "start_time": "2024-03-04T17:15:17.321Z"
   },
   {
    "duration": 12,
    "start_time": "2024-03-04T17:15:17.368Z"
   },
   {
    "duration": 12,
    "start_time": "2024-03-04T17:15:17.384Z"
   },
   {
    "duration": 1342,
    "start_time": "2024-03-04T17:15:17.397Z"
   },
   {
    "duration": 0,
    "start_time": "2024-03-04T17:15:18.740Z"
   },
   {
    "duration": 0,
    "start_time": "2024-03-04T17:15:18.741Z"
   },
   {
    "duration": 5,
    "start_time": "2024-03-04T17:15:34.364Z"
   },
   {
    "duration": 1254,
    "start_time": "2024-03-04T17:15:35.676Z"
   },
   {
    "duration": 1203,
    "start_time": "2024-03-04T17:15:39.379Z"
   },
   {
    "duration": 1232,
    "start_time": "2024-03-04T17:15:41.835Z"
   },
   {
    "duration": 5,
    "start_time": "2024-03-04T17:15:53.731Z"
   },
   {
    "duration": 1179,
    "start_time": "2024-03-04T17:15:56.659Z"
   },
   {
    "duration": 1239,
    "start_time": "2024-03-04T17:16:00.267Z"
   },
   {
    "duration": 1200,
    "start_time": "2024-03-04T17:16:02.507Z"
   },
   {
    "duration": 1209,
    "start_time": "2024-03-04T17:18:59.568Z"
   },
   {
    "duration": 1190,
    "start_time": "2024-03-04T17:19:30.439Z"
   },
   {
    "duration": 5,
    "start_time": "2024-03-04T17:20:21.494Z"
   },
   {
    "duration": 5,
    "start_time": "2024-03-04T17:30:28.482Z"
   },
   {
    "duration": 1245,
    "start_time": "2024-03-04T17:30:29.582Z"
   },
   {
    "duration": 1273,
    "start_time": "2024-03-04T17:30:30.829Z"
   },
   {
    "duration": 1253,
    "start_time": "2024-03-04T17:30:32.113Z"
   },
   {
    "duration": 2345,
    "start_time": "2024-03-04T18:06:51.401Z"
   },
   {
    "duration": 1406,
    "start_time": "2024-03-04T18:06:53.748Z"
   },
   {
    "duration": 426,
    "start_time": "2024-03-04T18:06:55.156Z"
   },
   {
    "duration": 43,
    "start_time": "2024-03-04T18:06:55.585Z"
   },
   {
    "duration": 116,
    "start_time": "2024-03-04T18:06:55.629Z"
   },
   {
    "duration": 98,
    "start_time": "2024-03-04T18:06:55.746Z"
   },
   {
    "duration": 5,
    "start_time": "2024-03-04T18:06:55.846Z"
   },
   {
    "duration": 1225,
    "start_time": "2024-03-04T18:06:55.852Z"
   },
   {
    "duration": 1021,
    "start_time": "2024-03-04T18:06:57.079Z"
   },
   {
    "duration": 1103,
    "start_time": "2024-03-04T18:06:58.102Z"
   },
   {
    "duration": 1633,
    "start_time": "2024-03-04T18:06:59.207Z"
   },
   {
    "duration": 13446,
    "start_time": "2024-03-04T18:07:00.842Z"
   },
   {
    "duration": 5,
    "start_time": "2024-03-04T18:07:14.289Z"
   },
   {
    "duration": 7,
    "start_time": "2024-03-04T18:07:14.296Z"
   },
   {
    "duration": 23,
    "start_time": "2024-03-04T18:07:14.304Z"
   },
   {
    "duration": 12240,
    "start_time": "2024-03-04T18:07:14.328Z"
   },
   {
    "duration": 12397,
    "start_time": "2024-03-04T18:07:26.570Z"
   },
   {
    "duration": 11600,
    "start_time": "2024-03-04T18:07:38.969Z"
   },
   {
    "duration": 93,
    "start_time": "2024-03-04T18:07:50.575Z"
   },
   {
    "duration": 32,
    "start_time": "2024-03-04T18:07:50.670Z"
   },
   {
    "duration": 172,
    "start_time": "2024-03-04T18:07:50.704Z"
   },
   {
    "duration": 188,
    "start_time": "2024-03-04T18:07:50.879Z"
   },
   {
    "duration": 99,
    "start_time": "2024-03-04T18:07:51.069Z"
   },
   {
    "duration": 917,
    "start_time": "2024-03-04T18:07:51.170Z"
   },
   {
    "duration": 3,
    "start_time": "2024-03-04T18:07:52.089Z"
   },
   {
    "duration": 40,
    "start_time": "2024-03-04T18:07:52.094Z"
   },
   {
    "duration": 27,
    "start_time": "2024-03-04T18:07:52.136Z"
   },
   {
    "duration": 17,
    "start_time": "2024-03-04T18:07:52.166Z"
   },
   {
    "duration": 1202,
    "start_time": "2024-03-04T18:07:52.184Z"
   },
   {
    "duration": 1178,
    "start_time": "2024-03-04T18:07:53.388Z"
   },
   {
    "duration": 1188,
    "start_time": "2024-03-04T18:07:54.568Z"
   },
   {
    "duration": 6,
    "start_time": "2024-03-04T18:14:58.191Z"
   },
   {
    "duration": 1299,
    "start_time": "2024-03-04T18:15:00.630Z"
   },
   {
    "duration": 1360,
    "start_time": "2024-03-04T18:15:45.925Z"
   },
   {
    "duration": 14,
    "start_time": "2024-03-04T18:16:56.619Z"
   },
   {
    "duration": 12,
    "start_time": "2024-03-04T18:17:33.171Z"
   },
   {
    "duration": 12,
    "start_time": "2024-03-04T18:18:27.273Z"
   },
   {
    "duration": 12,
    "start_time": "2024-03-04T18:18:43.050Z"
   },
   {
    "duration": 13,
    "start_time": "2024-03-04T18:18:59.737Z"
   },
   {
    "duration": 13,
    "start_time": "2024-03-04T18:19:06.497Z"
   },
   {
    "duration": 2343,
    "start_time": "2024-03-04T18:19:27.308Z"
   },
   {
    "duration": 1480,
    "start_time": "2024-03-04T18:19:29.654Z"
   },
   {
    "duration": 431,
    "start_time": "2024-03-04T18:19:31.138Z"
   },
   {
    "duration": 46,
    "start_time": "2024-03-04T18:19:31.571Z"
   },
   {
    "duration": 386,
    "start_time": "2024-03-04T18:19:31.619Z"
   },
   {
    "duration": 226,
    "start_time": "2024-03-04T18:19:32.007Z"
   },
   {
    "duration": 5,
    "start_time": "2024-03-04T18:19:32.235Z"
   },
   {
    "duration": 1319,
    "start_time": "2024-03-04T18:19:32.242Z"
   },
   {
    "duration": 1017,
    "start_time": "2024-03-04T18:19:33.565Z"
   },
   {
    "duration": 1144,
    "start_time": "2024-03-04T18:19:34.583Z"
   },
   {
    "duration": 1711,
    "start_time": "2024-03-04T18:19:35.729Z"
   },
   {
    "duration": 13580,
    "start_time": "2024-03-04T18:19:37.442Z"
   },
   {
    "duration": 4,
    "start_time": "2024-03-04T18:19:51.023Z"
   },
   {
    "duration": 49,
    "start_time": "2024-03-04T18:19:51.029Z"
   },
   {
    "duration": 59,
    "start_time": "2024-03-04T18:19:51.080Z"
   },
   {
    "duration": 12445,
    "start_time": "2024-03-04T18:19:51.140Z"
   },
   {
    "duration": 12800,
    "start_time": "2024-03-04T18:20:03.667Z"
   },
   {
    "duration": 11997,
    "start_time": "2024-03-04T18:20:16.468Z"
   },
   {
    "duration": 99,
    "start_time": "2024-03-04T18:20:28.467Z"
   },
   {
    "duration": 32,
    "start_time": "2024-03-04T18:20:28.568Z"
   },
   {
    "duration": 176,
    "start_time": "2024-03-04T18:20:28.602Z"
   },
   {
    "duration": 186,
    "start_time": "2024-03-04T18:20:28.781Z"
   },
   {
    "duration": 96,
    "start_time": "2024-03-04T18:20:28.970Z"
   },
   {
    "duration": 928,
    "start_time": "2024-03-04T18:20:29.067Z"
   },
   {
    "duration": 3,
    "start_time": "2024-03-04T18:20:29.996Z"
   },
   {
    "duration": 65,
    "start_time": "2024-03-04T18:20:30.001Z"
   },
   {
    "duration": 44,
    "start_time": "2024-03-04T18:20:30.069Z"
   },
   {
    "duration": 57,
    "start_time": "2024-03-04T18:20:30.115Z"
   },
   {
    "duration": 1269,
    "start_time": "2024-03-04T18:20:30.174Z"
   },
   {
    "duration": 1215,
    "start_time": "2024-03-04T18:20:31.444Z"
   },
   {
    "duration": 1180,
    "start_time": "2024-03-04T18:20:32.665Z"
   },
   {
    "duration": 2347,
    "start_time": "2024-03-04T18:23:27.606Z"
   },
   {
    "duration": 1520,
    "start_time": "2024-03-04T18:23:29.956Z"
   },
   {
    "duration": 421,
    "start_time": "2024-03-04T18:23:31.478Z"
   },
   {
    "duration": 26,
    "start_time": "2024-03-04T18:23:31.901Z"
   },
   {
    "duration": 57,
    "start_time": "2024-03-04T18:23:31.929Z"
   },
   {
    "duration": 109,
    "start_time": "2024-03-04T18:23:31.988Z"
   },
   {
    "duration": 98,
    "start_time": "2024-03-04T18:23:32.099Z"
   },
   {
    "duration": 5,
    "start_time": "2024-03-04T18:23:32.199Z"
   },
   {
    "duration": 1240,
    "start_time": "2024-03-04T18:23:32.206Z"
   },
   {
    "duration": 1057,
    "start_time": "2024-03-04T18:23:33.449Z"
   },
   {
    "duration": 1172,
    "start_time": "2024-03-04T18:23:34.508Z"
   },
   {
    "duration": 1765,
    "start_time": "2024-03-04T18:23:35.681Z"
   },
   {
    "duration": 13618,
    "start_time": "2024-03-04T18:23:37.447Z"
   },
   {
    "duration": 4,
    "start_time": "2024-03-04T18:23:51.067Z"
   },
   {
    "duration": 27,
    "start_time": "2024-03-04T18:23:51.072Z"
   },
   {
    "duration": 53,
    "start_time": "2024-03-04T18:23:51.100Z"
   },
   {
    "duration": 12220,
    "start_time": "2024-03-04T18:23:51.155Z"
   },
   {
    "duration": 12408,
    "start_time": "2024-03-04T18:24:03.466Z"
   },
   {
    "duration": 11989,
    "start_time": "2024-03-04T18:24:15.877Z"
   },
   {
    "duration": 5,
    "start_time": "2024-03-04T18:24:27.868Z"
   },
   {
    "duration": 120,
    "start_time": "2024-03-04T18:24:27.874Z"
   },
   {
    "duration": 171,
    "start_time": "2024-03-04T18:24:27.996Z"
   },
   {
    "duration": 104,
    "start_time": "2024-03-04T18:24:28.169Z"
   },
   {
    "duration": 97,
    "start_time": "2024-03-04T18:24:28.275Z"
   },
   {
    "duration": 1006,
    "start_time": "2024-03-04T18:24:28.374Z"
   },
   {
    "duration": 3,
    "start_time": "2024-03-04T18:24:29.381Z"
   },
   {
    "duration": 23,
    "start_time": "2024-03-04T18:24:29.385Z"
   },
   {
    "duration": 21,
    "start_time": "2024-03-04T18:24:29.411Z"
   },
   {
    "duration": 16,
    "start_time": "2024-03-04T18:24:29.433Z"
   },
   {
    "duration": 1237,
    "start_time": "2024-03-04T18:24:29.450Z"
   },
   {
    "duration": 1240,
    "start_time": "2024-03-04T18:24:30.689Z"
   },
   {
    "duration": 1191,
    "start_time": "2024-03-04T18:24:31.931Z"
   },
   {
    "duration": 2416,
    "start_time": "2024-03-04T18:30:15.312Z"
   },
   {
    "duration": 1409,
    "start_time": "2024-03-04T18:30:17.731Z"
   },
   {
    "duration": 409,
    "start_time": "2024-03-04T18:30:19.141Z"
   },
   {
    "duration": 29,
    "start_time": "2024-03-04T18:30:19.553Z"
   },
   {
    "duration": 42,
    "start_time": "2024-03-04T18:30:19.584Z"
   },
   {
    "duration": 123,
    "start_time": "2024-03-04T18:30:19.627Z"
   },
   {
    "duration": 100,
    "start_time": "2024-03-04T18:30:19.751Z"
   },
   {
    "duration": 5,
    "start_time": "2024-03-04T18:30:19.866Z"
   },
   {
    "duration": 1207,
    "start_time": "2024-03-04T18:30:19.873Z"
   },
   {
    "duration": 1046,
    "start_time": "2024-03-04T18:30:21.083Z"
   },
   {
    "duration": 1153,
    "start_time": "2024-03-04T18:30:22.131Z"
   },
   {
    "duration": 1620,
    "start_time": "2024-03-04T18:30:23.286Z"
   },
   {
    "duration": 13666,
    "start_time": "2024-03-04T18:30:24.907Z"
   },
   {
    "duration": 3,
    "start_time": "2024-03-04T18:30:38.574Z"
   },
   {
    "duration": 29,
    "start_time": "2024-03-04T18:30:38.579Z"
   },
   {
    "duration": 30,
    "start_time": "2024-03-04T18:30:38.609Z"
   },
   {
    "duration": 12035,
    "start_time": "2024-03-04T18:30:38.641Z"
   },
   {
    "duration": 11893,
    "start_time": "2024-03-04T18:30:50.678Z"
   },
   {
    "duration": 12093,
    "start_time": "2024-03-04T18:31:02.573Z"
   },
   {
    "duration": 7,
    "start_time": "2024-03-04T18:31:14.668Z"
   },
   {
    "duration": 117,
    "start_time": "2024-03-04T18:31:14.677Z"
   },
   {
    "duration": 106,
    "start_time": "2024-03-04T18:31:14.867Z"
   },
   {
    "duration": 190,
    "start_time": "2024-03-04T18:31:14.975Z"
   },
   {
    "duration": 98,
    "start_time": "2024-03-04T18:31:15.168Z"
   },
   {
    "duration": 980,
    "start_time": "2024-03-04T18:31:15.268Z"
   },
   {
    "duration": 3,
    "start_time": "2024-03-04T18:31:16.250Z"
   },
   {
    "duration": 22,
    "start_time": "2024-03-04T18:31:16.254Z"
   },
   {
    "duration": 15,
    "start_time": "2024-03-04T18:31:16.279Z"
   },
   {
    "duration": 12,
    "start_time": "2024-03-04T18:31:16.295Z"
   },
   {
    "duration": 1219,
    "start_time": "2024-03-04T18:31:16.308Z"
   },
   {
    "duration": 1204,
    "start_time": "2024-03-04T18:31:17.529Z"
   },
   {
    "duration": 1209,
    "start_time": "2024-03-04T18:31:18.734Z"
   },
   {
    "duration": 7,
    "start_time": "2024-03-04T19:55:09.495Z"
   },
   {
    "duration": 3414,
    "start_time": "2024-03-04T19:55:25.020Z"
   },
   {
    "duration": 1391,
    "start_time": "2024-03-04T19:55:28.436Z"
   },
   {
    "duration": 709,
    "start_time": "2024-03-04T19:55:29.828Z"
   },
   {
    "duration": 20,
    "start_time": "2024-03-04T19:55:30.539Z"
   },
   {
    "duration": 80,
    "start_time": "2024-03-04T19:55:30.560Z"
   },
   {
    "duration": 95,
    "start_time": "2024-03-04T19:55:30.641Z"
   },
   {
    "duration": 89,
    "start_time": "2024-03-04T19:55:30.737Z"
   },
   {
    "duration": 9,
    "start_time": "2024-03-04T19:55:30.827Z"
   },
   {
    "duration": 1099,
    "start_time": "2024-03-04T19:55:30.837Z"
   },
   {
    "duration": 882,
    "start_time": "2024-03-04T19:55:31.938Z"
   },
   {
    "duration": 951,
    "start_time": "2024-03-04T19:55:32.821Z"
   },
   {
    "duration": 1366,
    "start_time": "2024-03-04T19:55:33.774Z"
   },
   {
    "duration": 12356,
    "start_time": "2024-03-04T19:55:35.142Z"
   },
   {
    "duration": 3,
    "start_time": "2024-03-04T19:55:47.501Z"
   },
   {
    "duration": 5,
    "start_time": "2024-03-04T19:55:47.506Z"
   },
   {
    "duration": 14,
    "start_time": "2024-03-04T19:55:47.513Z"
   },
   {
    "duration": 10676,
    "start_time": "2024-03-04T19:55:47.528Z"
   },
   {
    "duration": 7796,
    "start_time": "2024-03-04T19:55:58.206Z"
   },
   {
    "duration": 8205,
    "start_time": "2024-03-04T19:56:06.004Z"
   },
   {
    "duration": 90,
    "start_time": "2024-03-04T19:56:14.212Z"
   },
   {
    "duration": 12,
    "start_time": "2024-03-04T19:56:14.303Z"
   },
   {
    "duration": 90,
    "start_time": "2024-03-04T19:56:14.321Z"
   },
   {
    "duration": 9,
    "start_time": "2024-03-04T19:56:14.502Z"
   },
   {
    "duration": 8,
    "start_time": "2024-03-04T19:56:14.602Z"
   },
   {
    "duration": 882,
    "start_time": "2024-03-04T19:56:14.611Z"
   },
   {
    "duration": 7,
    "start_time": "2024-03-04T19:56:15.494Z"
   },
   {
    "duration": 7,
    "start_time": "2024-03-04T19:56:15.502Z"
   },
   {
    "duration": 6,
    "start_time": "2024-03-04T19:56:15.511Z"
   },
   {
    "duration": 15,
    "start_time": "2024-03-04T19:56:15.518Z"
   },
   {
    "duration": 555,
    "start_time": "2024-03-04T19:56:15.534Z"
   },
   {
    "duration": 557,
    "start_time": "2024-03-04T19:56:16.091Z"
   },
   {
    "duration": 559,
    "start_time": "2024-03-04T19:56:16.649Z"
   },
   {
    "duration": 4,
    "start_time": "2024-03-04T19:57:05.794Z"
   },
   {
    "duration": 45,
    "start_time": "2024-03-05T04:33:57.672Z"
   },
   {
    "duration": 3254,
    "start_time": "2024-03-05T04:34:01.422Z"
   },
   {
    "duration": 1607,
    "start_time": "2024-03-05T04:34:04.678Z"
   },
   {
    "duration": 747,
    "start_time": "2024-03-05T04:34:06.287Z"
   },
   {
    "duration": 23,
    "start_time": "2024-03-05T04:34:07.035Z"
   },
   {
    "duration": 40,
    "start_time": "2024-03-05T04:34:07.060Z"
   },
   {
    "duration": 112,
    "start_time": "2024-03-05T04:34:07.101Z"
   },
   {
    "duration": 85,
    "start_time": "2024-03-05T04:34:07.215Z"
   },
   {
    "duration": 5,
    "start_time": "2024-03-05T04:34:07.301Z"
   },
   {
    "duration": 1153,
    "start_time": "2024-03-05T04:34:07.307Z"
   },
   {
    "duration": 990,
    "start_time": "2024-03-05T04:34:08.461Z"
   },
   {
    "duration": 1099,
    "start_time": "2024-03-05T04:34:09.452Z"
   },
   {
    "duration": 1646,
    "start_time": "2024-03-05T04:34:10.552Z"
   },
   {
    "duration": 12926,
    "start_time": "2024-03-05T04:34:12.199Z"
   },
   {
    "duration": 115,
    "start_time": "2024-03-05T04:34:25.128Z"
   },
   {
    "duration": 0,
    "start_time": "2024-03-05T04:34:25.244Z"
   },
   {
    "duration": 0,
    "start_time": "2024-03-05T04:34:25.245Z"
   },
   {
    "duration": 0,
    "start_time": "2024-03-05T04:34:25.247Z"
   },
   {
    "duration": 0,
    "start_time": "2024-03-05T04:34:25.248Z"
   },
   {
    "duration": 0,
    "start_time": "2024-03-05T04:34:25.249Z"
   },
   {
    "duration": 0,
    "start_time": "2024-03-05T04:34:25.250Z"
   },
   {
    "duration": 0,
    "start_time": "2024-03-05T04:34:25.251Z"
   },
   {
    "duration": 0,
    "start_time": "2024-03-05T04:34:25.252Z"
   },
   {
    "duration": 0,
    "start_time": "2024-03-05T04:34:25.266Z"
   },
   {
    "duration": 0,
    "start_time": "2024-03-05T04:34:25.267Z"
   },
   {
    "duration": 0,
    "start_time": "2024-03-05T04:34:25.268Z"
   },
   {
    "duration": 0,
    "start_time": "2024-03-05T04:34:25.270Z"
   },
   {
    "duration": 0,
    "start_time": "2024-03-05T04:34:25.272Z"
   },
   {
    "duration": 0,
    "start_time": "2024-03-05T04:34:25.273Z"
   },
   {
    "duration": 0,
    "start_time": "2024-03-05T04:34:25.274Z"
   },
   {
    "duration": 0,
    "start_time": "2024-03-05T04:34:25.276Z"
   },
   {
    "duration": 0,
    "start_time": "2024-03-05T04:34:25.278Z"
   },
   {
    "duration": 0,
    "start_time": "2024-03-05T04:34:25.416Z"
   },
   {
    "duration": 0,
    "start_time": "2024-03-05T04:34:25.417Z"
   },
   {
    "duration": 23928,
    "start_time": "2024-03-05T04:34:48.519Z"
   },
   {
    "duration": 2510,
    "start_time": "2024-03-05T04:36:21.590Z"
   },
   {
    "duration": 112,
    "start_time": "2024-03-05T04:38:28.188Z"
   },
   {
    "duration": 2853,
    "start_time": "2024-03-05T04:38:33.555Z"
   },
   {
    "duration": 69,
    "start_time": "2024-03-05T04:39:08.468Z"
   },
   {
    "duration": 74,
    "start_time": "2024-03-05T04:39:12.819Z"
   },
   {
    "duration": 6081,
    "start_time": "2024-03-05T04:39:17.315Z"
   },
   {
    "duration": 71,
    "start_time": "2024-03-05T04:39:36.040Z"
   },
   {
    "duration": 5234,
    "start_time": "2024-03-05T04:39:44.547Z"
   },
   {
    "duration": 7047,
    "start_time": "2024-03-05T04:40:53.193Z"
   },
   {
    "duration": 2532,
    "start_time": "2024-03-05T04:42:08.233Z"
   },
   {
    "duration": 4821,
    "start_time": "2024-03-05T04:43:11.072Z"
   },
   {
    "duration": 2511,
    "start_time": "2024-03-05T04:46:12.998Z"
   },
   {
    "duration": 4927,
    "start_time": "2024-03-05T04:47:56.469Z"
   },
   {
    "duration": 88,
    "start_time": "2024-03-05T05:00:51.178Z"
   },
   {
    "duration": 2316,
    "start_time": "2024-03-05T05:13:55.104Z"
   },
   {
    "duration": 1272,
    "start_time": "2024-03-05T05:13:57.422Z"
   },
   {
    "duration": 418,
    "start_time": "2024-03-05T05:13:58.696Z"
   },
   {
    "duration": 23,
    "start_time": "2024-03-05T05:13:59.116Z"
   },
   {
    "duration": 42,
    "start_time": "2024-03-05T05:13:59.140Z"
   },
   {
    "duration": 107,
    "start_time": "2024-03-05T05:13:59.183Z"
   },
   {
    "duration": 85,
    "start_time": "2024-03-05T05:13:59.291Z"
   },
   {
    "duration": 5,
    "start_time": "2024-03-05T05:13:59.377Z"
   },
   {
    "duration": 1139,
    "start_time": "2024-03-05T05:13:59.383Z"
   },
   {
    "duration": 974,
    "start_time": "2024-03-05T05:14:00.524Z"
   },
   {
    "duration": 1112,
    "start_time": "2024-03-05T05:14:01.500Z"
   },
   {
    "duration": 1546,
    "start_time": "2024-03-05T05:14:02.613Z"
   },
   {
    "duration": 13314,
    "start_time": "2024-03-05T05:14:04.161Z"
   },
   {
    "duration": 3,
    "start_time": "2024-03-05T05:14:17.476Z"
   },
   {
    "duration": 8,
    "start_time": "2024-03-05T05:14:17.481Z"
   },
   {
    "duration": 10,
    "start_time": "2024-03-05T05:14:17.490Z"
   },
   {
    "duration": 13465,
    "start_time": "2024-03-05T05:14:17.501Z"
   },
   {
    "duration": 12898,
    "start_time": "2024-03-05T05:14:30.967Z"
   },
   {
    "duration": 12899,
    "start_time": "2024-03-05T05:14:43.867Z"
   },
   {
    "duration": 4,
    "start_time": "2024-03-05T05:14:56.768Z"
   },
   {
    "duration": 100,
    "start_time": "2024-03-05T05:14:56.774Z"
   },
   {
    "duration": 188,
    "start_time": "2024-03-05T05:14:56.876Z"
   },
   {
    "duration": 197,
    "start_time": "2024-03-05T05:14:57.067Z"
   },
   {
    "duration": 9,
    "start_time": "2024-03-05T05:14:57.267Z"
   },
   {
    "duration": 998,
    "start_time": "2024-03-05T05:14:57.278Z"
   },
   {
    "duration": 2,
    "start_time": "2024-03-05T05:14:58.278Z"
   },
   {
    "duration": 6,
    "start_time": "2024-03-05T05:14:58.282Z"
   },
   {
    "duration": 3,
    "start_time": "2024-03-05T05:14:58.291Z"
   },
   {
    "duration": 6,
    "start_time": "2024-03-05T05:14:58.295Z"
   },
   {
    "duration": 863,
    "start_time": "2024-03-05T05:14:58.302Z"
   },
   {
    "duration": 803,
    "start_time": "2024-03-05T05:14:59.166Z"
   },
   {
    "duration": 796,
    "start_time": "2024-03-05T05:14:59.970Z"
   },
   {
    "duration": 4,
    "start_time": "2024-03-05T05:20:11.769Z"
   },
   {
    "duration": 766,
    "start_time": "2024-03-05T05:20:14.817Z"
   },
   {
    "duration": 89,
    "start_time": "2024-03-05T05:22:19.217Z"
   },
   {
    "duration": 5,
    "start_time": "2024-03-05T05:22:25.951Z"
   },
   {
    "duration": 802,
    "start_time": "2024-03-05T05:22:29.456Z"
   },
   {
    "duration": 4,
    "start_time": "2024-03-05T05:23:20.502Z"
   },
   {
    "duration": 764,
    "start_time": "2024-03-05T05:23:22.381Z"
   },
   {
    "duration": 6,
    "start_time": "2024-03-05T05:26:01.572Z"
   },
   {
    "duration": 791,
    "start_time": "2024-03-05T05:26:03.795Z"
   },
   {
    "duration": 739,
    "start_time": "2024-03-05T05:26:30.347Z"
   },
   {
    "duration": 789,
    "start_time": "2024-03-05T05:26:36.001Z"
   },
   {
    "duration": 4,
    "start_time": "2024-03-05T05:26:55.868Z"
   },
   {
    "duration": 763,
    "start_time": "2024-03-05T05:26:59.292Z"
   },
   {
    "duration": 5,
    "start_time": "2024-03-05T05:27:12.724Z"
   },
   {
    "duration": 796,
    "start_time": "2024-03-05T05:27:16.134Z"
   },
   {
    "duration": 5,
    "start_time": "2024-03-05T05:27:27.706Z"
   },
   {
    "duration": 730,
    "start_time": "2024-03-05T05:27:30.634Z"
   },
   {
    "duration": 5,
    "start_time": "2024-03-05T05:27:39.820Z"
   },
   {
    "duration": 769,
    "start_time": "2024-03-05T05:27:44.977Z"
   },
   {
    "duration": 5,
    "start_time": "2024-03-05T05:27:57.867Z"
   },
   {
    "duration": 773,
    "start_time": "2024-03-05T05:28:00.378Z"
   },
   {
    "duration": 4,
    "start_time": "2024-03-05T05:28:39.429Z"
   },
   {
    "duration": 817,
    "start_time": "2024-03-05T05:28:42.329Z"
   },
   {
    "duration": 812,
    "start_time": "2024-03-05T05:28:47.345Z"
   },
   {
    "duration": 792,
    "start_time": "2024-03-05T05:28:50.380Z"
   },
   {
    "duration": 6,
    "start_time": "2024-03-05T05:31:09.856Z"
   },
   {
    "duration": 770,
    "start_time": "2024-03-05T05:31:13.079Z"
   },
   {
    "duration": 85,
    "start_time": "2024-03-05T05:31:40.360Z"
   },
   {
    "duration": 5,
    "start_time": "2024-03-05T05:31:44.727Z"
   },
   {
    "duration": 797,
    "start_time": "2024-03-05T05:31:48.918Z"
   },
   {
    "duration": 4,
    "start_time": "2024-03-05T05:32:11.559Z"
   },
   {
    "duration": 735,
    "start_time": "2024-03-05T05:32:13.886Z"
   },
   {
    "duration": 5,
    "start_time": "2024-03-05T05:33:10.710Z"
   },
   {
    "duration": 776,
    "start_time": "2024-03-05T05:33:14.781Z"
   },
   {
    "duration": 5,
    "start_time": "2024-03-05T05:33:30.862Z"
   },
   {
    "duration": 802,
    "start_time": "2024-03-05T05:33:33.134Z"
   },
   {
    "duration": 4,
    "start_time": "2024-03-05T05:33:49.669Z"
   },
   {
    "duration": 764,
    "start_time": "2024-03-05T05:33:52.053Z"
   },
   {
    "duration": 81,
    "start_time": "2024-03-05T05:34:05.374Z"
   },
   {
    "duration": 5,
    "start_time": "2024-03-05T05:34:18.053Z"
   },
   {
    "duration": 772,
    "start_time": "2024-03-05T05:34:22.349Z"
   },
   {
    "duration": 5,
    "start_time": "2024-03-05T05:34:37.261Z"
   },
   {
    "duration": 778,
    "start_time": "2024-03-05T05:34:40.325Z"
   },
   {
    "duration": 5,
    "start_time": "2024-03-05T05:37:07.059Z"
   },
   {
    "duration": 785,
    "start_time": "2024-03-05T05:37:09.474Z"
   },
   {
    "duration": 7,
    "start_time": "2024-03-05T05:37:22.163Z"
   },
   {
    "duration": 5,
    "start_time": "2024-03-05T05:37:25.131Z"
   },
   {
    "duration": 813,
    "start_time": "2024-03-05T05:37:28.786Z"
   },
   {
    "duration": 2416,
    "start_time": "2024-03-05T05:37:39.384Z"
   },
   {
    "duration": 1372,
    "start_time": "2024-03-05T05:37:41.803Z"
   },
   {
    "duration": 400,
    "start_time": "2024-03-05T05:37:43.176Z"
   },
   {
    "duration": 24,
    "start_time": "2024-03-05T05:37:43.578Z"
   },
   {
    "duration": 38,
    "start_time": "2024-03-05T05:37:43.603Z"
   },
   {
    "duration": 137,
    "start_time": "2024-03-05T05:37:43.642Z"
   },
   {
    "duration": 84,
    "start_time": "2024-03-05T05:37:43.781Z"
   },
   {
    "duration": 4,
    "start_time": "2024-03-05T05:37:43.867Z"
   },
   {
    "duration": 1106,
    "start_time": "2024-03-05T05:37:43.872Z"
   },
   {
    "duration": 991,
    "start_time": "2024-03-05T05:37:44.980Z"
   },
   {
    "duration": 1070,
    "start_time": "2024-03-05T05:37:45.972Z"
   },
   {
    "duration": 1537,
    "start_time": "2024-03-05T05:37:47.043Z"
   },
   {
    "duration": 13237,
    "start_time": "2024-03-05T05:37:48.581Z"
   },
   {
    "duration": 3,
    "start_time": "2024-03-05T05:38:01.819Z"
   },
   {
    "duration": 11,
    "start_time": "2024-03-05T05:38:01.824Z"
   },
   {
    "duration": 37,
    "start_time": "2024-03-05T05:38:01.836Z"
   },
   {
    "duration": 12892,
    "start_time": "2024-03-05T05:38:01.874Z"
   },
   {
    "duration": 12701,
    "start_time": "2024-03-05T05:38:14.767Z"
   },
   {
    "duration": 12403,
    "start_time": "2024-03-05T05:38:27.470Z"
   },
   {
    "duration": 93,
    "start_time": "2024-03-05T05:38:39.877Z"
   },
   {
    "duration": 116,
    "start_time": "2024-03-05T05:38:39.974Z"
   },
   {
    "duration": 173,
    "start_time": "2024-03-05T05:38:40.093Z"
   },
   {
    "duration": 105,
    "start_time": "2024-03-05T05:38:40.268Z"
   },
   {
    "duration": 91,
    "start_time": "2024-03-05T05:38:40.375Z"
   },
   {
    "duration": 946,
    "start_time": "2024-03-05T05:38:40.468Z"
   },
   {
    "duration": 2,
    "start_time": "2024-03-05T05:38:41.416Z"
   },
   {
    "duration": 8,
    "start_time": "2024-03-05T05:38:41.419Z"
   },
   {
    "duration": 7,
    "start_time": "2024-03-05T05:38:41.429Z"
   },
   {
    "duration": 5,
    "start_time": "2024-03-05T05:38:41.437Z"
   },
   {
    "duration": 794,
    "start_time": "2024-03-05T05:38:41.443Z"
   },
   {
    "duration": 745,
    "start_time": "2024-03-05T05:38:42.238Z"
   },
   {
    "duration": 797,
    "start_time": "2024-03-05T05:38:42.985Z"
   },
   {
    "duration": 2364,
    "start_time": "2024-03-05T05:39:36.338Z"
   },
   {
    "duration": 1344,
    "start_time": "2024-03-05T05:39:38.704Z"
   },
   {
    "duration": 392,
    "start_time": "2024-03-05T05:39:40.049Z"
   },
   {
    "duration": 26,
    "start_time": "2024-03-05T05:39:40.443Z"
   },
   {
    "duration": 43,
    "start_time": "2024-03-05T05:39:40.471Z"
   },
   {
    "duration": 124,
    "start_time": "2024-03-05T05:39:40.516Z"
   },
   {
    "duration": 91,
    "start_time": "2024-03-05T05:39:40.642Z"
   },
   {
    "duration": 4,
    "start_time": "2024-03-05T05:39:40.734Z"
   },
   {
    "duration": 1140,
    "start_time": "2024-03-05T05:39:40.739Z"
   },
   {
    "duration": 1000,
    "start_time": "2024-03-05T05:39:41.882Z"
   },
   {
    "duration": 1102,
    "start_time": "2024-03-05T05:39:42.883Z"
   },
   {
    "duration": 1518,
    "start_time": "2024-03-05T05:39:43.986Z"
   },
   {
    "duration": 13217,
    "start_time": "2024-03-05T05:39:45.505Z"
   },
   {
    "duration": 3,
    "start_time": "2024-03-05T05:39:58.724Z"
   },
   {
    "duration": 8,
    "start_time": "2024-03-05T05:39:58.729Z"
   },
   {
    "duration": 5,
    "start_time": "2024-03-05T05:39:58.738Z"
   },
   {
    "duration": 13425,
    "start_time": "2024-03-05T05:39:58.744Z"
   },
   {
    "duration": 13295,
    "start_time": "2024-03-05T05:40:12.171Z"
   },
   {
    "duration": 12405,
    "start_time": "2024-03-05T05:40:25.468Z"
   },
   {
    "duration": 7,
    "start_time": "2024-03-05T05:40:37.966Z"
   },
   {
    "duration": 15,
    "start_time": "2024-03-05T05:40:38.064Z"
   },
   {
    "duration": 188,
    "start_time": "2024-03-05T05:40:38.081Z"
   },
   {
    "duration": 101,
    "start_time": "2024-03-05T05:40:38.274Z"
   },
   {
    "duration": 97,
    "start_time": "2024-03-05T05:40:38.377Z"
   },
   {
    "duration": 920,
    "start_time": "2024-03-05T05:40:38.566Z"
   },
   {
    "duration": 2,
    "start_time": "2024-03-05T05:40:39.488Z"
   },
   {
    "duration": 7,
    "start_time": "2024-03-05T05:40:39.492Z"
   },
   {
    "duration": 3,
    "start_time": "2024-03-05T05:40:39.502Z"
   },
   {
    "duration": 5,
    "start_time": "2024-03-05T05:40:39.506Z"
   },
   {
    "duration": 930,
    "start_time": "2024-03-05T05:40:39.512Z"
   },
   {
    "duration": 0,
    "start_time": "2024-03-05T05:40:40.444Z"
   },
   {
    "duration": 0,
    "start_time": "2024-03-05T05:40:40.445Z"
   },
   {
    "duration": 2334,
    "start_time": "2024-03-05T05:41:58.612Z"
   },
   {
    "duration": 1387,
    "start_time": "2024-03-05T05:42:00.948Z"
   },
   {
    "duration": 393,
    "start_time": "2024-03-05T05:42:02.336Z"
   },
   {
    "duration": 23,
    "start_time": "2024-03-05T05:42:02.731Z"
   },
   {
    "duration": 45,
    "start_time": "2024-03-05T05:42:02.755Z"
   },
   {
    "duration": 107,
    "start_time": "2024-03-05T05:42:02.801Z"
   },
   {
    "duration": 87,
    "start_time": "2024-03-05T05:42:02.910Z"
   },
   {
    "duration": 4,
    "start_time": "2024-03-05T05:42:02.999Z"
   },
   {
    "duration": 1138,
    "start_time": "2024-03-05T05:42:03.005Z"
   },
   {
    "duration": 974,
    "start_time": "2024-03-05T05:42:04.145Z"
   },
   {
    "duration": 1091,
    "start_time": "2024-03-05T05:42:05.121Z"
   },
   {
    "duration": 1564,
    "start_time": "2024-03-05T05:42:06.214Z"
   },
   {
    "duration": 13206,
    "start_time": "2024-03-05T05:42:07.779Z"
   },
   {
    "duration": 4,
    "start_time": "2024-03-05T05:42:20.986Z"
   },
   {
    "duration": 19,
    "start_time": "2024-03-05T05:42:20.991Z"
   },
   {
    "duration": 25,
    "start_time": "2024-03-05T05:42:21.011Z"
   },
   {
    "duration": 13330,
    "start_time": "2024-03-05T05:42:21.037Z"
   },
   {
    "duration": 12503,
    "start_time": "2024-03-05T05:42:34.369Z"
   },
   {
    "duration": 12702,
    "start_time": "2024-03-05T05:42:46.873Z"
   },
   {
    "duration": 6,
    "start_time": "2024-03-05T05:42:59.667Z"
   },
   {
    "duration": 34,
    "start_time": "2024-03-05T05:42:59.765Z"
   },
   {
    "duration": 171,
    "start_time": "2024-03-05T05:42:59.803Z"
   },
   {
    "duration": 189,
    "start_time": "2024-03-05T05:42:59.977Z"
   },
   {
    "duration": 100,
    "start_time": "2024-03-05T05:43:00.169Z"
   },
   {
    "duration": 957,
    "start_time": "2024-03-05T05:43:00.272Z"
   },
   {
    "duration": 3,
    "start_time": "2024-03-05T05:43:01.230Z"
   },
   {
    "duration": 62,
    "start_time": "2024-03-05T05:43:01.235Z"
   },
   {
    "duration": 44,
    "start_time": "2024-03-05T05:43:01.300Z"
   },
   {
    "duration": 34,
    "start_time": "2024-03-05T05:43:01.346Z"
   },
   {
    "duration": 888,
    "start_time": "2024-03-05T05:43:01.382Z"
   },
   {
    "duration": 777,
    "start_time": "2024-03-05T05:43:02.272Z"
   },
   {
    "duration": 812,
    "start_time": "2024-03-05T05:43:03.051Z"
   },
   {
    "duration": 67,
    "start_time": "2024-03-05T05:44:37.721Z"
   },
   {
    "duration": 2409,
    "start_time": "2024-03-05T05:45:00.413Z"
   },
   {
    "duration": 1286,
    "start_time": "2024-03-05T05:45:02.825Z"
   },
   {
    "duration": 395,
    "start_time": "2024-03-05T05:45:04.113Z"
   },
   {
    "duration": 25,
    "start_time": "2024-03-05T05:45:04.510Z"
   },
   {
    "duration": 48,
    "start_time": "2024-03-05T05:45:04.536Z"
   },
   {
    "duration": 105,
    "start_time": "2024-03-05T05:45:04.586Z"
   },
   {
    "duration": 94,
    "start_time": "2024-03-05T05:45:04.693Z"
   },
   {
    "duration": 5,
    "start_time": "2024-03-05T05:45:04.788Z"
   },
   {
    "duration": 1154,
    "start_time": "2024-03-05T05:45:04.794Z"
   },
   {
    "duration": 997,
    "start_time": "2024-03-05T05:45:05.950Z"
   },
   {
    "duration": 1100,
    "start_time": "2024-03-05T05:45:06.949Z"
   },
   {
    "duration": 1622,
    "start_time": "2024-03-05T05:45:08.051Z"
   },
   {
    "duration": 13154,
    "start_time": "2024-03-05T05:45:09.674Z"
   },
   {
    "duration": 4,
    "start_time": "2024-03-05T05:45:22.830Z"
   },
   {
    "duration": 5,
    "start_time": "2024-03-05T05:45:22.836Z"
   },
   {
    "duration": 22,
    "start_time": "2024-03-05T05:45:22.843Z"
   },
   {
    "duration": 13104,
    "start_time": "2024-03-05T05:45:22.867Z"
   },
   {
    "duration": 12997,
    "start_time": "2024-03-05T05:45:35.972Z"
   },
   {
    "duration": 13402,
    "start_time": "2024-03-05T05:45:48.971Z"
   },
   {
    "duration": 93,
    "start_time": "2024-03-05T05:46:02.375Z"
   },
   {
    "duration": 109,
    "start_time": "2024-03-05T05:46:02.471Z"
   },
   {
    "duration": 106,
    "start_time": "2024-03-05T05:46:02.666Z"
   },
   {
    "duration": 18,
    "start_time": "2024-03-05T05:46:02.864Z"
   },
   {
    "duration": 99,
    "start_time": "2024-03-05T05:46:02.966Z"
   },
   {
    "duration": 882,
    "start_time": "2024-03-05T05:46:03.067Z"
   },
   {
    "duration": 3,
    "start_time": "2024-03-05T05:46:03.951Z"
   },
   {
    "duration": 16,
    "start_time": "2024-03-05T05:46:03.955Z"
   },
   {
    "duration": 4,
    "start_time": "2024-03-05T05:46:03.973Z"
   },
   {
    "duration": 12,
    "start_time": "2024-03-05T05:46:03.978Z"
   },
   {
    "duration": 780,
    "start_time": "2024-03-05T05:46:03.991Z"
   },
   {
    "duration": 748,
    "start_time": "2024-03-05T05:46:04.772Z"
   },
   {
    "duration": 777,
    "start_time": "2024-03-05T05:46:05.521Z"
   },
   {
    "duration": 37872,
    "start_time": "2024-03-05T07:19:42.278Z"
   },
   {
    "duration": 3056,
    "start_time": "2024-03-05T07:20:41.755Z"
   },
   {
    "duration": 3298,
    "start_time": "2024-03-05T07:23:37.567Z"
   },
   {
    "duration": 1643,
    "start_time": "2024-03-05T07:23:43.655Z"
   },
   {
    "duration": 5008,
    "start_time": "2024-03-05T07:23:49.801Z"
   },
   {
    "duration": 5790,
    "start_time": "2024-03-05T07:24:27.081Z"
   },
   {
    "duration": 2947,
    "start_time": "2024-03-05T07:24:41.605Z"
   },
   {
    "duration": 8556,
    "start_time": "2024-03-05T07:24:59.055Z"
   },
   {
    "duration": 8512,
    "start_time": "2024-03-05T07:25:27.890Z"
   },
   {
    "duration": 5479,
    "start_time": "2024-03-05T07:38:30.381Z"
   },
   {
    "duration": 98,
    "start_time": "2024-03-05T07:40:26.943Z"
   },
   {
    "duration": 34623,
    "start_time": "2024-03-05T07:47:06.036Z"
   },
   {
    "duration": 56,
    "start_time": "2024-03-05T07:47:40.661Z"
   },
   {
    "duration": 1570,
    "start_time": "2024-03-05T07:47:40.719Z"
   },
   {
    "duration": 24,
    "start_time": "2024-03-05T07:47:42.291Z"
   },
   {
    "duration": 42,
    "start_time": "2024-03-05T07:47:42.317Z"
   },
   {
    "duration": 122,
    "start_time": "2024-03-05T07:47:42.361Z"
   },
   {
    "duration": 113,
    "start_time": "2024-03-05T07:47:42.485Z"
   },
   {
    "duration": 5,
    "start_time": "2024-03-05T07:47:42.600Z"
   },
   {
    "duration": 1263,
    "start_time": "2024-03-05T07:47:42.607Z"
   },
   {
    "duration": 1022,
    "start_time": "2024-03-05T07:47:43.872Z"
   },
   {
    "duration": 1073,
    "start_time": "2024-03-05T07:47:44.896Z"
   },
   {
    "duration": 1810,
    "start_time": "2024-03-05T07:47:45.971Z"
   },
   {
    "duration": 13739,
    "start_time": "2024-03-05T07:47:47.782Z"
   },
   {
    "duration": 4,
    "start_time": "2024-03-05T07:48:01.523Z"
   },
   {
    "duration": 65,
    "start_time": "2024-03-05T07:48:01.529Z"
   },
   {
    "duration": 111,
    "start_time": "2024-03-05T07:48:01.596Z"
   },
   {
    "duration": 14496,
    "start_time": "2024-03-05T07:48:01.708Z"
   },
   {
    "duration": 13990,
    "start_time": "2024-03-05T07:48:16.205Z"
   },
   {
    "duration": 32483,
    "start_time": "2024-06-10T10:30:25.055Z"
   },
   {
    "duration": 46,
    "start_time": "2024-06-10T10:30:57.540Z"
   },
   {
    "duration": 597,
    "start_time": "2024-06-10T10:30:57.587Z"
   },
   {
    "duration": 23,
    "start_time": "2024-06-10T10:30:58.187Z"
   },
   {
    "duration": 44,
    "start_time": "2024-06-10T10:30:58.212Z"
   },
   {
    "duration": 94,
    "start_time": "2024-06-10T10:30:58.259Z"
   },
   {
    "duration": 74,
    "start_time": "2024-06-10T10:30:58.365Z"
   },
   {
    "duration": 4,
    "start_time": "2024-06-10T10:30:58.440Z"
   },
   {
    "duration": 1179,
    "start_time": "2024-06-10T10:30:58.446Z"
   },
   {
    "duration": 993,
    "start_time": "2024-06-10T10:30:59.627Z"
   },
   {
    "duration": 1029,
    "start_time": "2024-06-10T10:31:00.622Z"
   },
   {
    "duration": 1680,
    "start_time": "2024-06-10T10:31:01.652Z"
   },
   {
    "duration": 13298,
    "start_time": "2024-06-10T10:31:03.333Z"
   },
   {
    "duration": 170,
    "start_time": "2024-06-10T10:31:16.632Z"
   },
   {
    "duration": 0,
    "start_time": "2024-06-10T10:31:16.804Z"
   },
   {
    "duration": 0,
    "start_time": "2024-06-10T10:31:16.805Z"
   },
   {
    "duration": 0,
    "start_time": "2024-06-10T10:31:16.806Z"
   },
   {
    "duration": 1,
    "start_time": "2024-06-10T10:31:16.807Z"
   },
   {
    "duration": 0,
    "start_time": "2024-06-10T10:31:16.808Z"
   },
   {
    "duration": 0,
    "start_time": "2024-06-10T10:31:16.809Z"
   },
   {
    "duration": 0,
    "start_time": "2024-06-10T10:31:16.810Z"
   },
   {
    "duration": 0,
    "start_time": "2024-06-10T10:31:16.811Z"
   },
   {
    "duration": 0,
    "start_time": "2024-06-10T10:31:16.812Z"
   },
   {
    "duration": 0,
    "start_time": "2024-06-10T10:31:16.813Z"
   },
   {
    "duration": 1,
    "start_time": "2024-06-10T10:31:16.814Z"
   },
   {
    "duration": 0,
    "start_time": "2024-06-10T10:31:16.816Z"
   },
   {
    "duration": 0,
    "start_time": "2024-06-10T10:31:16.817Z"
   },
   {
    "duration": 0,
    "start_time": "2024-06-10T10:31:16.817Z"
   },
   {
    "duration": 0,
    "start_time": "2024-06-10T10:31:16.819Z"
   },
   {
    "duration": 0,
    "start_time": "2024-06-10T10:31:16.820Z"
   },
   {
    "duration": 0,
    "start_time": "2024-06-10T10:31:16.821Z"
   },
   {
    "duration": 0,
    "start_time": "2024-06-10T10:31:16.822Z"
   },
   {
    "duration": 0,
    "start_time": "2024-06-10T10:31:16.823Z"
   },
   {
    "duration": 4,
    "start_time": "2024-06-10T10:31:47.036Z"
   },
   {
    "duration": 6,
    "start_time": "2024-06-10T10:31:48.517Z"
   },
   {
    "duration": 4,
    "start_time": "2024-06-10T10:31:49.837Z"
   },
   {
    "duration": 13332,
    "start_time": "2024-06-10T10:31:51.139Z"
   },
   {
    "duration": 14195,
    "start_time": "2024-06-10T10:32:04.473Z"
   },
   {
    "duration": 13502,
    "start_time": "2024-06-10T10:32:18.670Z"
   }
  ],
  "kernelspec": {
   "display_name": "Python 3 (ipykernel)",
   "language": "python",
   "name": "python3"
  },
  "language_info": {
   "codemirror_mode": {
    "name": "ipython",
    "version": 3
   },
   "file_extension": ".py",
   "mimetype": "text/x-python",
   "name": "python",
   "nbconvert_exporter": "python",
   "pygments_lexer": "ipython3",
   "version": "3.9.5"
  },
  "toc": {
   "base_numbering": 1,
   "nav_menu": {
    "height": "1033.46px",
    "width": "281.992px"
   },
   "number_sections": true,
   "sideBar": true,
   "skip_h1_title": true,
   "title_cell": "Table of Contents",
   "title_sidebar": "Contents",
   "toc_cell": false,
   "toc_position": {
    "height": "calc(100% - 180px)",
    "left": "10px",
    "top": "150px",
    "width": "499.188px"
   },
   "toc_section_display": true,
   "toc_window_display": true
  }
 },
 "nbformat": 4,
 "nbformat_minor": 2
}
